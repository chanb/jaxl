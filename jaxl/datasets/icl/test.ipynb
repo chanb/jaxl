{
 "cells": [
  {
   "cell_type": "code",
   "execution_count": 1,
   "metadata": {},
   "outputs": [],
   "source": [
    "from jaxl.datasets.icl.stream_block import get_dataset\n",
    "from jaxl.datasets.wrappers import DatasetWrapper\n",
    "from jaxl.utils import parse_dict"
   ]
  },
  {
   "cell_type": "code",
   "execution_count": 2,
   "metadata": {},
   "outputs": [],
   "source": [
    "dataset = DatasetWrapper(get_dataset(\n",
    "    8,\n",
    "    0.0,\n",
    "    0.0,\n",
    "    num_dims=4,\n",
    "))"
   ]
  },
  {
   "cell_type": "code",
   "execution_count": 3,
   "metadata": {},
   "outputs": [],
   "source": [
    "loader_kwargs = {\n",
    "    \"dataset_config\": {\n",
    "        \"dataset_kwargs\": {\n",
    "            \"tf_type\": \"prepare_seqs_for_transformer\",\n",
    "            \"num_workers\": -1,\n",
    "        }\n",
    "    },\n",
    "    \"batch_size\": 32,\n",
    "}\n",
    "\n",
    "dataloader = dataset.get_dataloader(parse_dict(loader_kwargs))"
   ]
  },
  {
   "cell_type": "code",
   "execution_count": 4,
   "metadata": {},
   "outputs": [],
   "source": [
    "samples = next(iter(dataloader))"
   ]
  },
  {
   "cell_type": "code",
   "execution_count": 38,
   "metadata": {},
   "outputs": [],
   "source": [
    "idx = 8"
   ]
  },
  {
   "cell_type": "code",
   "execution_count": 39,
   "metadata": {},
   "outputs": [
    {
     "data": {
      "text/plain": [
       "array([[-0.51001835,  0.15824148, -0.45724198, -0.71117556],\n",
       "       [-0.51001835,  0.15824148, -0.45724198, -0.71117556],\n",
       "       [-0.51001835,  0.15824148, -0.45724198, -0.71117556],\n",
       "       [-0.51001835,  0.15824148, -0.45724198, -0.71117556],\n",
       "       [-0.51001835,  0.15824148, -0.45724198, -0.71117556],\n",
       "       [-0.51001835,  0.15824148, -0.45724198, -0.71117556],\n",
       "       [-0.51001835,  0.15824148, -0.45724198, -0.71117556],\n",
       "       [-0.51001835,  0.15824148, -0.45724198, -0.71117556]],\n",
       "      dtype=float32)"
      ]
     },
     "execution_count": 39,
     "metadata": {},
     "output_type": "execute_result"
    }
   ],
   "source": [
    "samples[\"context_inputs\"][idx]"
   ]
  },
  {
   "cell_type": "code",
   "execution_count": 40,
   "metadata": {},
   "outputs": [
    {
     "data": {
      "text/plain": [
       "array([[1, 0],\n",
       "       [1, 0],\n",
       "       [1, 0],\n",
       "       [1, 0],\n",
       "       [1, 0],\n",
       "       [1, 0],\n",
       "       [1, 0],\n",
       "       [1, 0]], dtype=int32)"
      ]
     },
     "execution_count": 40,
     "metadata": {},
     "output_type": "execute_result"
    }
   ],
   "source": [
    "samples[\"context_outputs\"][idx]"
   ]
  },
  {
   "cell_type": "code",
   "execution_count": 41,
   "metadata": {},
   "outputs": [
    {
     "data": {
      "text/plain": [
       "(array([[ 0.08758508, -0.8217702 , -0.55696297,  0.082552  ]],\n",
       "       dtype=float32),\n",
       " array([1, 0], dtype=int32))"
      ]
     },
     "execution_count": 41,
     "metadata": {},
     "output_type": "execute_result"
    }
   ],
   "source": [
    "samples[\"queries\"][idx], samples[\"outputs\"][idx]"
   ]
  },
  {
   "cell_type": "code",
   "execution_count": null,
   "metadata": {},
   "outputs": [],
   "source": []
  }
 ],
 "metadata": {
  "kernelspec": {
   "display_name": ".venv",
   "language": "python",
   "name": "python3"
  },
  "language_info": {
   "codemirror_mode": {
    "name": "ipython",
    "version": 3
   },
   "file_extension": ".py",
   "mimetype": "text/x-python",
   "name": "python",
   "nbconvert_exporter": "python",
   "pygments_lexer": "ipython3",
   "version": "3.9.18"
  }
 },
 "nbformat": 4,
 "nbformat_minor": 2
}
