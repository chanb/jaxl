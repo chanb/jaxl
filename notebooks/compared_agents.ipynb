{
 "cells": [
  {
   "cell_type": "code",
   "execution_count": 5,
   "metadata": {},
   "outputs": [],
   "source": [
    "from orbax.checkpoint import PyTreeCheckpointer\n",
    "\n",
    "import _pickle as pickle\n",
    "import jax\n",
    "import json\n",
    "import logging\n",
    "import os\n",
    "import timeit\n",
    "\n",
    "from jaxl.buffers import get_buffer\n",
    "from jaxl.constants import *\n",
    "from jaxl.models import (\n",
    "    get_model,\n",
    "    get_policy,\n",
    "    policy_output_dim,\n",
    ")\n",
    "from jaxl.envs import get_environment\n",
    "from jaxl.envs.rollouts import EvaluationRollout\n",
    "from jaxl.utils import set_seed, parse_dict"
   ]
  },
  {
   "cell_type": "code",
   "execution_count": 6,
   "metadata": {},
   "outputs": [],
   "source": [
    "run_seed = None\n",
    "set_seed(run_seed)"
   ]
  },
  {
   "cell_type": "code",
   "execution_count": 7,
   "metadata": {},
   "outputs": [],
   "source": [
    "rl_trained_path = \"/Users/chanb/research/personal/jaxl/jaxl/logs/inverted_pendulum/reinforce/05-30-23_11_06_49-d9afde67-e3fd-4d7c-8df9-4be90167d3a3\"\n",
    "bc_trained_path = \"/Users/chanb/research/personal/jaxl/jaxl/logs/inverted_pendulum/behavioural_cloning/05-30-23_13_08_07-449d4f3c-f440-4308-8ffd-d859614c602e\"\n",
    "\n",
    "num_episodes = 100\n",
    "buffer_size = 100000"
   ]
  },
  {
   "cell_type": "code",
   "execution_count": 8,
   "metadata": {},
   "outputs": [],
   "source": [
    "rl_config_path = os.path.join(rl_trained_path, \"config.json\")\n",
    "with open(rl_config_path, \"r\") as f:\n",
    "    rl_config_dict = json.load(f)\n",
    "    rl_config_dict[\"learner_config\"][\"buffer_config\"][\"buffer_size\"] = buffer_size\n",
    "    rl_config_dict[\"learner_config\"][\"buffer_config\"][\"buffer_type\"] = CONST_DEFAULT\n",
    "    rl_config = parse_dict(rl_config_dict)\n",
    "env_seed = rl_config.learner_config.seeds.env_seed\n",
    "\n",
    "bc_config_path = os.path.join(bc_trained_path, \"config.json\")\n",
    "with open(bc_config_path, \"r\") as f:\n",
    "    bc_config_dict = json.load(f)\n",
    "    bc_config_dict[\"learner_config\"][\"policy_distribution\"] = CONST_DETERMINISTIC\n",
    "    bc_config = parse_dict(bc_config_dict)"
   ]
  },
  {
   "cell_type": "code",
   "execution_count": 9,
   "metadata": {},
   "outputs": [
    {
     "ename": "TypeError",
     "evalue": "PRNG key seed must be an integer; got Traced<ShapedArray(float32[])>with<DynamicJaxprTrace(level=1/0)>",
     "output_type": "error",
     "traceback": [
      "\u001b[0;31m---------------------------------------------------------------------------\u001b[0m",
      "\u001b[0;31mTypeError\u001b[0m                                 Traceback (most recent call last)",
      "Cell \u001b[0;32mIn[9], line 26\u001b[0m\n\u001b[1;32m     23\u001b[0m     learner_dict \u001b[39m=\u001b[39m pickle\u001b[39m.\u001b[39mload(f)\n\u001b[1;32m     24\u001b[0m     rl_obs_rms \u001b[39m=\u001b[39m learner_dict[CONST_OBS_RMS]\n\u001b[0;32m---> 26\u001b[0m rl_rollout \u001b[39m=\u001b[39m EvaluationRollout(env, seed\u001b[39m=\u001b[39;49mrun_seed)\n\u001b[1;32m     27\u001b[0m rl_rollout\u001b[39m.\u001b[39mrollout(rl_policy_params, policy, rl_obs_rms, num_episodes, rl_buffer)\n",
      "File \u001b[0;32m~/research/personal/jaxl/jaxl/envs/rollouts.py:113\u001b[0m, in \u001b[0;36mEvaluationRollout.__init__\u001b[0;34m(self, env, seed)\u001b[0m\n\u001b[1;32m    111\u001b[0m \u001b[39mdef\u001b[39;00m \u001b[39m__init__\u001b[39m(\u001b[39mself\u001b[39m, env: DefaultGymWrapper, seed: \u001b[39mint\u001b[39m \u001b[39m=\u001b[39m \u001b[39m0\u001b[39m):\n\u001b[1;32m    112\u001b[0m     \u001b[39msuper\u001b[39m()\u001b[39m.\u001b[39m\u001b[39m__init__\u001b[39m(env)\n\u001b[0;32m--> 113\u001b[0m     \u001b[39mself\u001b[39m\u001b[39m.\u001b[39m_reset_key \u001b[39m=\u001b[39m jrandom\u001b[39m.\u001b[39msplit(jrandom\u001b[39m.\u001b[39;49mPRNGKey(seed), \u001b[39m1\u001b[39m)[\u001b[39m0\u001b[39m]\n",
      "File \u001b[0;32m~/research/personal/jaxl/.venv/lib/python3.9/site-packages/jax/_src/random.py:137\u001b[0m, in \u001b[0;36mPRNGKey\u001b[0;34m(seed)\u001b[0m\n\u001b[1;32m    134\u001b[0m \u001b[39mif\u001b[39;00m np\u001b[39m.\u001b[39mndim(seed):\n\u001b[1;32m    135\u001b[0m   \u001b[39mraise\u001b[39;00m \u001b[39mTypeError\u001b[39;00m(\u001b[39m\"\u001b[39m\u001b[39mPRNGKey accepts a scalar seed, but was given an array of\u001b[39m\u001b[39m\"\u001b[39m\n\u001b[1;32m    136\u001b[0m                   \u001b[39mf\u001b[39m\u001b[39m\"\u001b[39m\u001b[39mshape \u001b[39m\u001b[39m{\u001b[39;00mnp\u001b[39m.\u001b[39mshape(seed)\u001b[39m}\u001b[39;00m\u001b[39m != (). Use jax.vmap for batching\u001b[39m\u001b[39m\"\u001b[39m)\n\u001b[0;32m--> 137\u001b[0m key \u001b[39m=\u001b[39m prng\u001b[39m.\u001b[39;49mseed_with_impl(impl, seed)\n\u001b[1;32m    138\u001b[0m \u001b[39mreturn\u001b[39;00m _return_prng_keys(\u001b[39mTrue\u001b[39;00m, key)\n",
      "File \u001b[0;32m~/research/personal/jaxl/.venv/lib/python3.9/site-packages/jax/_src/prng.py:320\u001b[0m, in \u001b[0;36mseed_with_impl\u001b[0;34m(impl, seed)\u001b[0m\n\u001b[1;32m    319\u001b[0m \u001b[39mdef\u001b[39;00m \u001b[39mseed_with_impl\u001b[39m(impl: PRNGImpl, seed: Union[\u001b[39mint\u001b[39m, Array]) \u001b[39m-\u001b[39m\u001b[39m>\u001b[39m PRNGKeyArrayImpl:\n\u001b[0;32m--> 320\u001b[0m   \u001b[39mreturn\u001b[39;00m random_seed(seed, impl\u001b[39m=\u001b[39;49mimpl)\n",
      "File \u001b[0;32m~/research/personal/jaxl/.venv/lib/python3.9/site-packages/jax/_src/prng.py:734\u001b[0m, in \u001b[0;36mrandom_seed\u001b[0;34m(seeds, impl)\u001b[0m\n\u001b[1;32m    732\u001b[0m \u001b[39melse\u001b[39;00m:\n\u001b[1;32m    733\u001b[0m   seeds_arr \u001b[39m=\u001b[39m jnp\u001b[39m.\u001b[39masarray(seeds)\n\u001b[0;32m--> 734\u001b[0m \u001b[39mreturn\u001b[39;00m random_seed_p\u001b[39m.\u001b[39;49mbind(seeds_arr, impl\u001b[39m=\u001b[39;49mimpl)\n",
      "File \u001b[0;32m~/research/personal/jaxl/.venv/lib/python3.9/site-packages/jax/_src/core.py:380\u001b[0m, in \u001b[0;36mPrimitive.bind\u001b[0;34m(self, *args, **params)\u001b[0m\n\u001b[1;32m    377\u001b[0m \u001b[39mdef\u001b[39;00m \u001b[39mbind\u001b[39m(\u001b[39mself\u001b[39m, \u001b[39m*\u001b[39margs, \u001b[39m*\u001b[39m\u001b[39m*\u001b[39mparams):\n\u001b[1;32m    378\u001b[0m   \u001b[39massert\u001b[39;00m (\u001b[39mnot\u001b[39;00m config\u001b[39m.\u001b[39mjax_enable_checks \u001b[39mor\u001b[39;00m\n\u001b[1;32m    379\u001b[0m           \u001b[39mall\u001b[39m(\u001b[39misinstance\u001b[39m(arg, Tracer) \u001b[39mor\u001b[39;00m valid_jaxtype(arg) \u001b[39mfor\u001b[39;00m arg \u001b[39min\u001b[39;00m args)), args\n\u001b[0;32m--> 380\u001b[0m   \u001b[39mreturn\u001b[39;00m \u001b[39mself\u001b[39;49m\u001b[39m.\u001b[39;49mbind_with_trace(find_top_trace(args), args, params)\n",
      "File \u001b[0;32m~/research/personal/jaxl/.venv/lib/python3.9/site-packages/jax/_src/core.py:383\u001b[0m, in \u001b[0;36mPrimitive.bind_with_trace\u001b[0;34m(self, trace, args, params)\u001b[0m\n\u001b[1;32m    382\u001b[0m \u001b[39mdef\u001b[39;00m \u001b[39mbind_with_trace\u001b[39m(\u001b[39mself\u001b[39m, trace, args, params):\n\u001b[0;32m--> 383\u001b[0m   out \u001b[39m=\u001b[39m trace\u001b[39m.\u001b[39;49mprocess_primitive(\u001b[39mself\u001b[39;49m, \u001b[39mmap\u001b[39;49m(trace\u001b[39m.\u001b[39;49mfull_raise, args), params)\n\u001b[1;32m    384\u001b[0m   \u001b[39mreturn\u001b[39;00m \u001b[39mmap\u001b[39m(full_lower, out) \u001b[39mif\u001b[39;00m \u001b[39mself\u001b[39m\u001b[39m.\u001b[39mmultiple_results \u001b[39melse\u001b[39;00m full_lower(out)\n",
      "File \u001b[0;32m~/research/personal/jaxl/.venv/lib/python3.9/site-packages/jax/_src/core.py:790\u001b[0m, in \u001b[0;36mEvalTrace.process_primitive\u001b[0;34m(self, primitive, tracers, params)\u001b[0m\n\u001b[1;32m    789\u001b[0m \u001b[39mdef\u001b[39;00m \u001b[39mprocess_primitive\u001b[39m(\u001b[39mself\u001b[39m, primitive, tracers, params):\n\u001b[0;32m--> 790\u001b[0m   \u001b[39mreturn\u001b[39;00m primitive\u001b[39m.\u001b[39;49mimpl(\u001b[39m*\u001b[39;49mtracers, \u001b[39m*\u001b[39;49m\u001b[39m*\u001b[39;49mparams)\n",
      "File \u001b[0;32m~/research/personal/jaxl/.venv/lib/python3.9/site-packages/jax/_src/prng.py:746\u001b[0m, in \u001b[0;36mrandom_seed_impl\u001b[0;34m(seeds, impl)\u001b[0m\n\u001b[1;32m    744\u001b[0m \u001b[39m@random_seed_p\u001b[39m\u001b[39m.\u001b[39mdef_impl\n\u001b[1;32m    745\u001b[0m \u001b[39mdef\u001b[39;00m \u001b[39mrandom_seed_impl\u001b[39m(seeds, \u001b[39m*\u001b[39m, impl):\n\u001b[0;32m--> 746\u001b[0m   base_arr \u001b[39m=\u001b[39m random_seed_impl_base(seeds, impl\u001b[39m=\u001b[39;49mimpl)\n\u001b[1;32m    747\u001b[0m   \u001b[39mreturn\u001b[39;00m PRNGKeyArrayImpl(impl, base_arr)\n",
      "File \u001b[0;32m~/research/personal/jaxl/.venv/lib/python3.9/site-packages/jax/_src/prng.py:751\u001b[0m, in \u001b[0;36mrandom_seed_impl_base\u001b[0;34m(seeds, impl)\u001b[0m\n\u001b[1;32m    749\u001b[0m \u001b[39mdef\u001b[39;00m \u001b[39mrandom_seed_impl_base\u001b[39m(seeds, \u001b[39m*\u001b[39m, impl):\n\u001b[1;32m    750\u001b[0m   seed \u001b[39m=\u001b[39m iterated_vmap_unary(seeds\u001b[39m.\u001b[39mndim, impl\u001b[39m.\u001b[39mseed)\n\u001b[0;32m--> 751\u001b[0m   \u001b[39mreturn\u001b[39;00m seed(seeds)\n",
      "File \u001b[0;32m~/research/personal/jaxl/.venv/lib/python3.9/site-packages/jax/_src/prng.py:980\u001b[0m, in \u001b[0;36mthreefry_seed\u001b[0;34m(seed)\u001b[0m\n\u001b[1;32m    968\u001b[0m \u001b[39mdef\u001b[39;00m \u001b[39mthreefry_seed\u001b[39m(seed: typing\u001b[39m.\u001b[39mArray) \u001b[39m-\u001b[39m\u001b[39m>\u001b[39m typing\u001b[39m.\u001b[39mArray:\n\u001b[1;32m    969\u001b[0m \u001b[39m  \u001b[39m\u001b[39m\"\"\"Create a single raw threefry PRNG key from an integer seed.\u001b[39;00m\n\u001b[1;32m    970\u001b[0m \n\u001b[1;32m    971\u001b[0m \u001b[39m  Args:\u001b[39;00m\n\u001b[0;32m   (...)\u001b[0m\n\u001b[1;32m    978\u001b[0m \u001b[39m    first padding out with zeros).\u001b[39;00m\n\u001b[1;32m    979\u001b[0m \u001b[39m  \"\"\"\u001b[39;00m\n\u001b[0;32m--> 980\u001b[0m   \u001b[39mreturn\u001b[39;00m _threefry_seed(seed)\n",
      "    \u001b[0;31m[... skipping hidden 12 frame]\u001b[0m\n",
      "File \u001b[0;32m~/research/personal/jaxl/.venv/lib/python3.9/site-packages/jax/_src/prng.py:987\u001b[0m, in \u001b[0;36m_threefry_seed\u001b[0;34m(seed)\u001b[0m\n\u001b[1;32m    985\u001b[0m   \u001b[39mraise\u001b[39;00m \u001b[39mTypeError\u001b[39;00m(\u001b[39mf\u001b[39m\u001b[39m\"\u001b[39m\u001b[39mPRNG key seed must be a scalar; got \u001b[39m\u001b[39m{\u001b[39;00mseed\u001b[39m!r}\u001b[39;00m\u001b[39m.\u001b[39m\u001b[39m\"\u001b[39m)\n\u001b[1;32m    986\u001b[0m \u001b[39mif\u001b[39;00m \u001b[39mnot\u001b[39;00m np\u001b[39m.\u001b[39missubdtype(seed\u001b[39m.\u001b[39mdtype, np\u001b[39m.\u001b[39minteger):\n\u001b[0;32m--> 987\u001b[0m   \u001b[39mraise\u001b[39;00m \u001b[39mTypeError\u001b[39;00m(\u001b[39mf\u001b[39m\u001b[39m\"\u001b[39m\u001b[39mPRNG key seed must be an integer; got \u001b[39m\u001b[39m{\u001b[39;00mseed\u001b[39m!r}\u001b[39;00m\u001b[39m\"\u001b[39m)\n\u001b[1;32m    988\u001b[0m convert \u001b[39m=\u001b[39m \u001b[39mlambda\u001b[39;00m k: lax\u001b[39m.\u001b[39mreshape(lax\u001b[39m.\u001b[39mconvert_element_type(k, np\u001b[39m.\u001b[39muint32), [\u001b[39m1\u001b[39m])\n\u001b[1;32m    989\u001b[0m k1 \u001b[39m=\u001b[39m convert(\n\u001b[1;32m    990\u001b[0m     lax\u001b[39m.\u001b[39mshift_right_logical(seed, lax_internal\u001b[39m.\u001b[39m_const(seed, \u001b[39m32\u001b[39m)))\n",
      "\u001b[0;31mTypeError\u001b[0m: PRNG key seed must be an integer; got Traced<ShapedArray(float32[])>with<DynamicJaxprTrace(level=1/0)>"
     ]
    }
   ],
   "source": [
    "h_state_dim = (1,)\n",
    "if hasattr(rl_config.model_config, \"h_state_dim\"):\n",
    "    h_state_dim = rl_config.model_config.h_state_dim\n",
    "\n",
    "env = get_environment(rl_config.learner_config.env_config)\n",
    "rl_buffer = get_buffer(\n",
    "    rl_config.learner_config.buffer_config,\n",
    "    rl_config.learner_config.seeds.buffer_seed,\n",
    "    env,\n",
    "    h_state_dim,\n",
    ")\n",
    "\n",
    "input_dim = rl_buffer.input_dim\n",
    "output_dim = policy_output_dim(rl_buffer.output_dim, rl_config.learner_config)\n",
    "model = get_model(input_dim, output_dim, rl_config.model_config)\n",
    "policy = get_policy(model, rl_config.learner_config)\n",
    "\n",
    "rl_model_path = os.path.join(rl_trained_path, \"termination_model\")\n",
    "checkpointer = PyTreeCheckpointer()\n",
    "model_dict = checkpointer.restore(rl_model_path)\n",
    "rl_policy_params = model_dict[CONST_MODEL][CONST_POLICY]\n",
    "with open(os.path.join(rl_model_path, \"learner_dict.pkl\"), \"rb\") as f:\n",
    "    learner_dict = pickle.load(f)\n",
    "    rl_obs_rms = learner_dict[CONST_OBS_RMS]\n",
    "\n",
    "rl_rollout = EvaluationRollout(env, seed=env_seed)\n",
    "rl_rollout.rollout(rl_policy_params, policy, rl_obs_rms, num_episodes, rl_buffer)"
   ]
  },
  {
   "cell_type": "code",
   "execution_count": null,
   "metadata": {},
   "outputs": [],
   "source": [
    "h_state_dim = (1,)\n",
    "if hasattr(rl_config.model_config, \"h_state_dim\"):\n",
    "    h_state_dim = bc_config.model_config.h_state_dim\n",
    "\n",
    "env = get_environment(rl_config.learner_config.env_config)\n",
    "bc_buffer = get_buffer(\n",
    "    rl_config.learner_config.buffer_config,\n",
    "    rl_config.learner_config.seeds.buffer_seed,\n",
    "    env,\n",
    "    h_state_dim,\n",
    ")\n",
    "\n",
    "input_dim = bc_buffer.input_dim\n",
    "output_dim = policy_output_dim(bc_buffer.output_dim, rl_config.learner_config)\n",
    "model = get_model(input_dim, output_dim, rl_config.model_config)\n",
    "policy = get_policy(model, rl_config.learner_config)\n",
    "\n",
    "bc_model_path = os.path.join(bc_trained_path, \"termination_model\")\n",
    "checkpointer = PyTreeCheckpointer()\n",
    "model_dict = checkpointer.restore(bc_model_path)\n",
    "bc_policy_params = model_dict[CONST_MODEL][CONST_POLICY]\n",
    "with open(os.path.join(bc_model_path, \"learner_dict.pkl\"), \"rb\") as f:\n",
    "    learner_dict = pickle.load(f)\n",
    "    bc_obs_rms = learner_dict[CONST_OBS_RMS]\n",
    "\n",
    "bc_rollout = EvaluationRollout(env, seed=env_seed)\n",
    "bc_rollout.rollout(bc_policy_params, policy, bc_obs_rms, num_episodes, bc_buffer)"
   ]
  },
  {
   "cell_type": "code",
   "execution_count": null,
   "metadata": {},
   "outputs": [],
   "source": []
  }
 ],
 "metadata": {
  "kernelspec": {
   "display_name": ".venv",
   "language": "python",
   "name": "python3"
  },
  "language_info": {
   "codemirror_mode": {
    "name": "ipython",
    "version": 3
   },
   "file_extension": ".py",
   "mimetype": "text/x-python",
   "name": "python",
   "nbconvert_exporter": "python",
   "pygments_lexer": "ipython3",
   "version": "3.9.16"
  },
  "orig_nbformat": 4
 },
 "nbformat": 4,
 "nbformat_minor": 2
}
