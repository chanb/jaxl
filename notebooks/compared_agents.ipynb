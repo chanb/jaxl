{
 "cells": [
  {
   "cell_type": "code",
   "execution_count": 1,
   "metadata": {},
   "outputs": [],
   "source": [
    "from orbax.checkpoint import PyTreeCheckpointer\n",
    "\n",
    "import _pickle as pickle\n",
    "import jax\n",
    "import json\n",
    "import logging\n",
    "import os\n",
    "import timeit\n",
    "\n",
    "from jaxl.buffers import get_buffer\n",
    "from jaxl.constants import *\n",
    "from jaxl.models import (\n",
    "    get_model,\n",
    "    get_policy,\n",
    "    policy_output_dim,\n",
    ")\n",
    "from jaxl.envs import get_environment\n",
    "from jaxl.envs.rollouts import EvaluationRollout\n",
    "from jaxl.utils import set_seed, parse_dict"
   ]
  },
  {
   "cell_type": "code",
   "execution_count": 2,
   "metadata": {},
   "outputs": [],
   "source": [
    "run_seed = None\n",
    "set_seed(run_seed)"
   ]
  },
  {
   "cell_type": "code",
   "execution_count": 3,
   "metadata": {},
   "outputs": [],
   "source": [
    "rl_trained_path = \"/Users/chanb/research/personal/jaxl/jaxl/logs/inverted_pendulum/reinforce/05-30-23_11_06_49-d9afde67-e3fd-4d7c-8df9-4be90167d3a3\"\n",
    "bc_trained_path = \"/Users/chanb/research/personal/jaxl/jaxl/logs/inverted_pendulum/behavioural_cloning/05-30-23_13_08_07-449d4f3c-f440-4308-8ffd-d859614c602e\"\n",
    "\n",
    "num_episodes = 100\n",
    "buffer_size = 100000"
   ]
  },
  {
   "cell_type": "code",
   "execution_count": 4,
   "metadata": {},
   "outputs": [],
   "source": [
    "rl_config_path = os.path.join(rl_trained_path, \"config.json\")\n",
    "with open(rl_config_path, \"r\") as f:\n",
    "    rl_config_dict = json.load(f)\n",
    "    rl_config_dict[\"learner_config\"][\"buffer_config\"][\"buffer_size\"] = buffer_size\n",
    "    rl_config_dict[\"learner_config\"][\"buffer_config\"][\"buffer_type\"] = CONST_DEFAULT\n",
    "    rl_config = parse_dict(rl_config_dict)\n",
    "env_seed = rl_config.learner_config.seeds.env_seed\n",
    "\n",
    "bc_config_path = os.path.join(bc_trained_path, \"config.json\")\n",
    "with open(bc_config_path, \"r\") as f:\n",
    "    bc_config_dict = json.load(f)\n",
    "    bc_config_dict[\"learner_config\"][\"policy_distribution\"] = CONST_DETERMINISTIC\n",
    "    bc_config = parse_dict(bc_config_dict)"
   ]
  },
  {
   "cell_type": "code",
   "execution_count": 5,
   "metadata": {},
   "outputs": [],
   "source": [
    "h_state_dim = (1,)\n",
    "if hasattr(rl_config.model_config, \"h_state_dim\"):\n",
    "    h_state_dim = rl_config.model_config.h_state_dim\n",
    "\n",
    "env = get_environment(rl_config.learner_config.env_config)\n",
    "rl_buffer = get_buffer(\n",
    "    rl_config.learner_config.buffer_config,\n",
    "    rl_config.learner_config.seeds.buffer_seed,\n",
    "    env,\n",
    "    h_state_dim,\n",
    ")\n",
    "\n",
    "input_dim = rl_buffer.input_dim\n",
    "output_dim = policy_output_dim(rl_buffer.output_dim, rl_config.learner_config)\n",
    "model = get_model(input_dim, output_dim, rl_config.model_config)\n",
    "policy = get_policy(model, rl_config.learner_config)\n",
    "\n",
    "rl_model_path = os.path.join(rl_trained_path, \"termination_model\")\n",
    "checkpointer = PyTreeCheckpointer()\n",
    "model_dict = checkpointer.restore(rl_model_path)\n",
    "rl_policy_params = model_dict[CONST_MODEL][CONST_POLICY]\n",
    "with open(os.path.join(rl_model_path, \"learner_dict.pkl\"), \"rb\") as f:\n",
    "    learner_dict = pickle.load(f)\n",
    "    rl_obs_rms = learner_dict[CONST_OBS_RMS]\n",
    "\n",
    "rl_rollout = EvaluationRollout(env, seed=env_seed)\n",
    "rl_rollout.rollout(rl_policy_params, policy, rl_obs_rms, num_episodes, rl_buffer)"
   ]
  },
  {
   "cell_type": "code",
   "execution_count": null,
   "metadata": {},
   "outputs": [],
   "source": [
    "h_state_dim = (1,)\n",
    "if hasattr(rl_config.model_config, \"h_state_dim\"):\n",
    "    h_state_dim = bc_config.model_config.h_state_dim\n",
    "\n",
    "env = get_environment(rl_config.learner_config.env_config)\n",
    "bc_buffer = get_buffer(\n",
    "    rl_config.learner_config.buffer_config,\n",
    "    rl_config.learner_config.seeds.buffer_seed,\n",
    "    env,\n",
    "    h_state_dim,\n",
    ")\n",
    "\n",
    "input_dim = bc_buffer.input_dim\n",
    "output_dim = policy_output_dim(bc_buffer.output_dim, rl_config.learner_config)\n",
    "model = get_model(input_dim, output_dim, rl_config.model_config)\n",
    "policy = get_policy(model, rl_config.learner_config)\n",
    "\n",
    "bc_model_path = os.path.join(bc_trained_path, \"termination_model\")\n",
    "checkpointer = PyTreeCheckpointer()\n",
    "model_dict = checkpointer.restore(bc_model_path)\n",
    "bc_policy_params = model_dict[CONST_MODEL][CONST_POLICY]\n",
    "with open(os.path.join(bc_model_path, \"learner_dict.pkl\"), \"rb\") as f:\n",
    "    learner_dict = pickle.load(f)\n",
    "    bc_obs_rms = learner_dict[CONST_OBS_RMS]\n",
    "\n",
    "bc_rollout = EvaluationRollout(env, seed=env_seed)\n",
    "bc_rollout.rollout(bc_policy_params, policy, bc_obs_rms, num_episodes, bc_buffer)"
   ]
  },
  {
   "cell_type": "code",
   "execution_count": null,
   "metadata": {},
   "outputs": [],
   "source": []
  }
 ],
 "metadata": {
  "kernelspec": {
   "display_name": ".venv",
   "language": "python",
   "name": "python3"
  },
  "language_info": {
   "codemirror_mode": {
    "name": "ipython",
    "version": 3
   },
   "file_extension": ".py",
   "mimetype": "text/x-python",
   "name": "python",
   "nbconvert_exporter": "python",
   "pygments_lexer": "ipython3",
   "version": "3.9.16"
  },
  "orig_nbformat": 4
 },
 "nbformat": 4,
 "nbformat_minor": 2
}
