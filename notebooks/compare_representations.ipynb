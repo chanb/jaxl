{
 "cells": [
  {
   "cell_type": "code",
   "execution_count": null,
   "metadata": {},
   "outputs": [],
   "source": [
    "from gymnasium.experimental.wrappers import RecordVideoV0\n",
    "from orbax.checkpoint import PyTreeCheckpointer\n",
    "\n",
    "import _pickle as pickle\n",
    "import jax\n",
    "import json\n",
    "import logging\n",
    "import matplotlib.pyplot as plt\n",
    "import numpy as np\n",
    "import os\n",
    "import timeit\n",
    "\n",
    "from jaxl.buffers import get_buffer\n",
    "from jaxl.constants import *\n",
    "from jaxl.models import (\n",
    "    get_model,\n",
    "    get_policy,\n",
    "    policy_output_dim,\n",
    ")\n",
    "from jaxl.models.policies import MultitaskPolicy\n",
    "from jaxl.envs import get_environment\n",
    "from jaxl.envs.rollouts import EvaluationRollout\n",
    "from jaxl.utils import set_seed, parse_dict, set_dict_value, get_dict_value, l2_norm"
   ]
  },
  {
   "cell_type": "code",
   "execution_count": null,
   "metadata": {},
   "outputs": [],
   "source": [
    "run_seed = None\n",
    "set_seed(run_seed)"
   ]
  },
  {
   "cell_type": "code",
   "execution_count": null,
   "metadata": {},
   "outputs": [],
   "source": [
    "def get_env(agent_path):\n",
    "    agent_config_path = os.path.join(agent_path, \"config.json\")\n",
    "    with open(agent_config_path, \"r\") as f:\n",
    "        agent_config_dict = json.load(f)\n",
    "    return agent_config_dict[\"learner_config\"][\"env_config\"]"
   ]
  },
  {
   "cell_type": "code",
   "execution_count": null,
   "metadata": {},
   "outputs": [],
   "source": [
    "runs_dir = \"/Users/chanb/research/personal/jaxl/data/inverted_double_pendulum/test_mtbc/gravity-representation_sensitivity/runs/0\"\n",
    "buffer_config = {\n",
    "    \"buffer_type\": \"default\",\n",
    "    \"load_buffer\": \"/Users/chanb/research/personal/jaxl/data/inverted_double_pendulum/expert_data/gravity//gravity_-8.249612491943623-06-09-23_15_21_56-296b3f54-5c33-43f3-97dd-3b7eb184bc99.gzip\",\n",
    "}\n",
    "buffer_config = parse_dict(buffer_config)\n",
    "buffer = get_buffer(buffer_config, 42)"
   ]
  },
  {
   "cell_type": "code",
   "execution_count": null,
   "metadata": {},
   "outputs": [],
   "source": [
    "def get_config(agent_path):\n",
    "    agent_config_path = os.path.join(agent_path, \"config.json\")\n",
    "    with open(agent_config_path, \"r\") as f:\n",
    "        agent_config_dict = json.load(f)\n",
    "        (multitask, num_models) = get_dict_value(agent_config_dict, \"num_models\")\n",
    "        set_dict_value(agent_config_dict, \"vmap_all\", False)\n",
    "        agent_config = parse_dict(agent_config_dict)\n",
    "    return agent_config, {\n",
    "        \"multitask\": multitask,\n",
    "        \"num_models\": num_models,\n",
    "    }"
   ]
  },
  {
   "cell_type": "code",
   "execution_count": null,
   "metadata": {},
   "outputs": [],
   "source": [
    "models = {}\n",
    "\n",
    "checkpointer = PyTreeCheckpointer()\n",
    "for root, dirnames, _ in os.walk(runs_dir):\n",
    "    for dirname in dirnames:\n",
    "        if dirname != \"termination_model\":\n",
    "            continue\n",
    "        agent_model_path = os.path.join(root, dirname)\n",
    "        agent_config, _ = get_config(root)\n",
    "        learner_config = agent_config.learner_config\n",
    "\n",
    "        model_dict = checkpointer.restore(agent_model_path)\n",
    "        models[os.path.basename(os.path.dirname(root))] = {\n",
    "            \"model\": get_model(\n",
    "                buffer.input_dim, buffer.output_dim, agent_config.model_config\n",
    "            ),\n",
    "            \"model_dict\": model_dict,\n",
    "        }"
   ]
  },
  {
   "cell_type": "code",
   "execution_count": null,
   "metadata": {},
   "outputs": [],
   "source": [
    "models.keys()"
   ]
  },
  {
   "cell_type": "code",
   "execution_count": null,
   "metadata": {},
   "outputs": [],
   "source": [
    "for key, model in models.items():\n",
    "    print(key)\n",
    "    print(\n",
    "        l2_norm(model[\"model_dict\"][CONST_MODEL][CONST_POLICY][CONST_ENCODER]),\n",
    "        l2_norm(model[\"model_dict\"][CONST_MODEL][CONST_POLICY][CONST_PREDICTOR]),\n",
    "    )"
   ]
  },
  {
   "cell_type": "code",
   "execution_count": null,
   "metadata": {},
   "outputs": [],
   "source": [
    "obss, h_states, acts, *_ = buffer.sample(256)"
   ]
  },
  {
   "cell_type": "code",
   "execution_count": null,
   "metadata": {},
   "outputs": [],
   "source": [
    "latent_preds = {}\n",
    "act_preds = {}\n",
    "for key, model in models.items():\n",
    "    latent_preds[key] = model[\"model\"].encode(\n",
    "        model[\"model_dict\"][CONST_MODEL][CONST_POLICY][CONST_ENCODER],\n",
    "        obss,\n",
    "        h_states,\n",
    "    )[0]\n",
    "    act_preds[key] = model[\"model\"].forward(\n",
    "        model[\"model_dict\"][CONST_MODEL][CONST_POLICY], obss, h_states\n",
    "    )[0]"
   ]
  },
  {
   "cell_type": "code",
   "execution_count": null,
   "metadata": {},
   "outputs": [],
   "source": [
    "act_diffs = []\n",
    "for key_1, preds_1 in act_preds.items():\n",
    "    act_diffs.append([])\n",
    "    for key_2, preds_2 in act_preds.items():\n",
    "        act_diffs[-1].append(np.sum((preds_1 - preds_2) ** 2))"
   ]
  },
  {
   "cell_type": "code",
   "execution_count": null,
   "metadata": {},
   "outputs": [],
   "source": [
    "fig, ax = plt.subplots(figsize=(30, 5))\n",
    "\n",
    "# Hide axes\n",
    "collabel = list(act_preds.keys())\n",
    "rowlabel = list(act_preds.keys())\n",
    "ax.axis(\"off\")\n",
    "ax.table(act_diffs, loc=\"center\", colLabels=collabel, rowLabels=rowlabel)\n",
    "fig.tight_layout()"
   ]
  },
  {
   "cell_type": "code",
   "execution_count": null,
   "metadata": {},
   "outputs": [],
   "source": [
    "latent_diffs = []\n",
    "for key_1, preds_1 in latent_preds.items():\n",
    "    latent_diffs.append([])\n",
    "    for key_2, preds_2 in latent_preds.items():\n",
    "        latent_diffs[-1].append(np.sum((preds_1 - preds_2) ** 2))"
   ]
  },
  {
   "cell_type": "code",
   "execution_count": null,
   "metadata": {},
   "outputs": [],
   "source": [
    "fig, ax = plt.subplots(figsize=(30, 5))\n",
    "\n",
    "# Hide axes\n",
    "collabel = list(latent_preds.keys())\n",
    "rowlabel = list(latent_preds.keys())\n",
    "ax.axis(\"off\")\n",
    "ax.table(latent_diffs, loc=\"center\", colLabels=collabel, rowLabels=rowlabel)\n",
    "fig.tight_layout()"
   ]
  }
 ],
 "metadata": {
  "kernelspec": {
   "display_name": ".venv",
   "language": "python",
   "name": "python3"
  },
  "language_info": {
   "codemirror_mode": {
    "name": "ipython",
    "version": 3
   },
   "file_extension": ".py",
   "mimetype": "text/x-python",
   "name": "python",
   "nbconvert_exporter": "python",
   "pygments_lexer": "ipython3",
   "version": "3.9.17"
  },
  "orig_nbformat": 4
 },
 "nbformat": 4,
 "nbformat_minor": 2
}
