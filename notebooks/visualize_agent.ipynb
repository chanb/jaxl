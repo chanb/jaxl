{
 "cells": [
  {
   "attachments": {},
   "cell_type": "markdown",
   "metadata": {},
   "source": [
    "# Visualize Trained Agents"
   ]
  },
  {
   "cell_type": "code",
   "execution_count": null,
   "metadata": {},
   "outputs": [],
   "source": [
    "from gymnasium.experimental.wrappers import RecordVideoV0\n",
    "from orbax.checkpoint import PyTreeCheckpointer\n",
    "\n",
    "import _pickle as pickle\n",
    "import jax\n",
    "import json\n",
    "import logging\n",
    "import matplotlib.pyplot as plt\n",
    "import numpy as np\n",
    "import os\n",
    "import timeit\n",
    "\n",
    "from jaxl.buffers import get_buffer\n",
    "from jaxl.constants import *\n",
    "from jaxl.models import (\n",
    "    get_model,\n",
    "    get_policy,\n",
    "    policy_output_dim,\n",
    ")\n",
    "from jaxl.models.policies import MultitaskPolicy\n",
    "from jaxl.envs import get_environment\n",
    "from jaxl.envs.rollouts import EvaluationRollout\n",
    "from jaxl.utils import set_seed, parse_dict"
   ]
  },
  {
   "cell_type": "code",
   "execution_count": null,
   "metadata": {},
   "outputs": [],
   "source": [
    "run_seed = None\n",
    "set_seed(run_seed)"
   ]
  },
  {
   "cell_type": "code",
   "execution_count": null,
   "metadata": {},
   "outputs": [],
   "source": [
    "def get_trained_parameters(rl_trained_path):\n",
    "    rl_config_path = os.path.join(rl_trained_path, \"config.json\")\n",
    "    with open(rl_config_path, \"r\") as f:\n",
    "        rl_config_dict = json.load(f)\n",
    "    return rl_config_dict[\"learner_config\"][\"env_config\"][\"env_kwargs\"]"
   ]
  },
  {
   "cell_type": "code",
   "execution_count": null,
   "metadata": {},
   "outputs": [],
   "source": [
    "rl_trained_path = \"/mnt/HDD/research/mtil/inverted_double_pendulum/expert_models/gravity/runs/0/gravity_-8.249612491943623/06-09-23_15_21_56-296b3f54-5c33-43f3-97dd-3b7eb184bc99\"\n",
    "trained_env_parameters = get_trained_parameters(rl_trained_path)\n",
    "\n",
    "num_episodes = 100\n",
    "env_seed = 9999\n",
    "buffer_size = 0\n",
    "record_video = False\n",
    "gravities = [\n",
    "    trained_env_parameters[\"gravity\"],\n",
    "    -0.01,\n",
    "    -1.0,\n",
    "    -5.0,\n",
    "    -9.81,\n",
    "    -13.0,\n",
    "    -15.0,\n",
    "    -30.0,\n",
    "]"
   ]
  },
  {
   "cell_type": "code",
   "execution_count": null,
   "metadata": {},
   "outputs": [],
   "source": [
    "def get_config(rl_trained_path, gravity):\n",
    "    rl_config_path = os.path.join(rl_trained_path, \"config.json\")\n",
    "    with open(rl_config_path, \"r\") as f:\n",
    "        rl_config_dict = json.load(f)\n",
    "        rl_config_dict[\"learner_config\"][\"env_config\"][\"env_kwargs\"][\n",
    "            \"render_mode\"\n",
    "        ] = \"rgb_array\"\n",
    "        if gravity != \"default\":\n",
    "            rl_config_dict[\"learner_config\"][\"env_config\"][\"env_kwargs\"][\n",
    "                \"gravity\"\n",
    "            ] = gravity\n",
    "        rl_config = parse_dict(rl_config_dict)\n",
    "    return rl_config"
   ]
  },
  {
   "cell_type": "code",
   "execution_count": null,
   "metadata": {},
   "outputs": [],
   "source": [
    "episodic_returns_per_variant = {}\n",
    "\n",
    "for gravity in gravities:\n",
    "    rl_config = get_config(rl_trained_path, gravity)\n",
    "    h_state_dim = (1,)\n",
    "    if hasattr(rl_config.model_config, \"h_state_dim\"):\n",
    "        h_state_dim = rl_config.model_config.h_state_dim\n",
    "\n",
    "    env = get_environment(rl_config.learner_config.env_config)\n",
    "\n",
    "    if record_video:\n",
    "        env = RecordVideoV0(env, f\"gravity_{gravity}-videos\")\n",
    "        # env = RecordVideoV0(env, f\"gravity_{gravity}-videos\", episode_trigger=lambda x: True)\n",
    "\n",
    "    input_dim = env.observation_space.shape\n",
    "    output_dim = policy_output_dim(env.action_space.shape, rl_config.learner_config)\n",
    "    model = get_model(input_dim, output_dim, rl_config.model_config.policy)\n",
    "    policy = get_policy(model, rl_config.learner_config)\n",
    "\n",
    "    rl_model_path = os.path.join(rl_trained_path, \"termination_model\")\n",
    "    checkpointer = PyTreeCheckpointer()\n",
    "    model_dict = checkpointer.restore(rl_model_path)\n",
    "    rl_policy_params = model_dict[CONST_MODEL][CONST_POLICY]\n",
    "    with open(os.path.join(rl_model_path, \"learner_dict.pkl\"), \"rb\") as f:\n",
    "        learner_dict = pickle.load(f)\n",
    "        rl_obs_rms = learner_dict[CONST_OBS_RMS]\n",
    "\n",
    "    rl_rollout = EvaluationRollout(env, seed=env_seed)\n",
    "    rl_rollout.rollout(rl_policy_params, policy, rl_obs_rms, num_episodes, None)\n",
    "\n",
    "    episodic_returns_per_variant[gravity] = rl_rollout.episodic_returns"
   ]
  },
  {
   "cell_type": "code",
   "execution_count": null,
   "metadata": {},
   "outputs": [],
   "source": [
    "fig, ax = plt.subplots(1, figsize=(10, 5))\n",
    "ax.boxplot(episodic_returns_per_variant.values())\n",
    "ax.set_xticks(\n",
    "    range(1, len(episodic_returns_per_variant) + 1),\n",
    "    [val if val else \"default\" for val in episodic_returns_per_variant.keys()],\n",
    ")\n",
    "ax.set_title(\"Returns Across 100 Episodes\")\n",
    "ax.set_xlabel(\"Gravity\")\n",
    "ax.set_ylabel(\"Return\")\n",
    "fig.show()"
   ]
  },
  {
   "cell_type": "code",
   "execution_count": null,
   "metadata": {},
   "outputs": [],
   "source": [
    "from pprint import pprint\n",
    "\n",
    "pprint(\n",
    "    [\n",
    "        (key, np.mean(val), np.std(val))\n",
    "        for key, val in episodic_returns_per_variant.items()\n",
    "    ]\n",
    ")"
   ]
  },
  {
   "cell_type": "code",
   "execution_count": null,
   "metadata": {},
   "outputs": [],
   "source": [
    "fig, ax = plt.subplots(1, figsize=(10, 5))\n",
    "\n",
    "means = []\n",
    "stds = []\n",
    "for val in episodic_returns_per_variant.values():\n",
    "    means.append(np.mean(val))\n",
    "    stds.append(np.std(val))\n",
    "means = np.array(means)\n",
    "stds = np.array(stds)\n",
    "\n",
    "sort_idxes = np.argsort(gravities)\n",
    "gravities = np.array(gravities)\n",
    "ax.plot(gravities[sort_idxes], means[sort_idxes], marker=\"x\")\n",
    "ax.fill_between(\n",
    "    gravities[sort_idxes],\n",
    "    means[sort_idxes] + stds[sort_idxes],\n",
    "    means[sort_idxes] - stds[sort_idxes],\n",
    "    alpha=0.1,\n",
    ")\n",
    "ax.set_title(\"Returns Across 100 Episodes\")\n",
    "ax.set_xlabel(\"Gravity\")\n",
    "ax.set_ylabel(\"Return\")\n",
    "fig.show()"
   ]
  },
  {
   "cell_type": "code",
   "execution_count": null,
   "metadata": {},
   "outputs": [],
   "source": []
  }
 ],
 "metadata": {
  "kernelspec": {
   "display_name": ".venv",
   "language": "python",
   "name": "python3"
  },
  "language_info": {
   "codemirror_mode": {
    "name": "ipython",
    "version": 3
   },
   "file_extension": ".py",
   "mimetype": "text/x-python",
   "name": "python",
   "nbconvert_exporter": "python",
   "pygments_lexer": "ipython3",
   "version": "3.9.16"
  },
  "orig_nbformat": 4
 },
 "nbformat": 4,
 "nbformat_minor": 2
}
