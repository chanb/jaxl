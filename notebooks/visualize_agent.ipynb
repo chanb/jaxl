{
 "cells": [
  {
   "attachments": {},
   "cell_type": "markdown",
   "metadata": {},
   "source": [
    "# Visualize Trained Agents"
   ]
  },
  {
   "cell_type": "code",
   "execution_count": 1,
   "metadata": {},
   "outputs": [],
   "source": [
    "from orbax.checkpoint import PyTreeCheckpointer\n",
    "\n",
    "import _pickle as pickle\n",
    "import jax\n",
    "import json\n",
    "import logging\n",
    "import matplotlib.pyplot as plt\n",
    "import numpy as np\n",
    "import os\n",
    "import timeit\n",
    "\n",
    "from jaxl.buffers import get_buffer\n",
    "from jaxl.constants import *\n",
    "from jaxl.models import (\n",
    "    get_model,\n",
    "    get_policy,\n",
    "    policy_output_dim,\n",
    ")\n",
    "from jaxl.models.policies import MultitaskPolicy\n",
    "from jaxl.envs import get_environment\n",
    "from jaxl.envs.rollouts import EvaluationRollout\n",
    "from jaxl.utils import set_seed, parse_dict"
   ]
  },
  {
   "cell_type": "code",
   "execution_count": 2,
   "metadata": {},
   "outputs": [],
   "source": [
    "run_seed = None\n",
    "set_seed(run_seed)"
   ]
  },
  {
   "cell_type": "code",
   "execution_count": 3,
   "metadata": {},
   "outputs": [],
   "source": [
    "rl_trained_path = \"/home/chanb/Documents/research/personal/jaxl/jaxl/logs/inverted_double_pendulum/ppo/06-07-23_18_51_32-7a91e450-3b0a-40f1-9b45-e39f10be0b29\"\n",
    "\n",
    "num_episodes = 10\n",
    "env_seed = 9999\n",
    "buffer_size = 0"
   ]
  },
  {
   "cell_type": "code",
   "execution_count": 4,
   "metadata": {},
   "outputs": [],
   "source": [
    "rl_config_path = os.path.join(rl_trained_path, \"config.json\")\n",
    "with open(rl_config_path, \"r\") as f:\n",
    "    rl_config_dict = json.load(f)\n",
    "    rl_config_dict[\"learner_config\"][\"env_config\"][\"env_kwargs\"][\n",
    "        \"render_mode\"\n",
    "    ] = \"rgb_array\"\n",
    "    rl_config_dict[\"learner_config\"][\"env_config\"][\"env_kwargs\"][\n",
    "        \"gravity\"\n",
    "    ] = -1.0\n",
    "    rl_config = parse_dict(rl_config_dict)"
   ]
  },
  {
   "cell_type": "code",
   "execution_count": 5,
   "metadata": {},
   "outputs": [],
   "source": [
    "from gymnasium.experimental.wrappers import RecordVideoV0"
   ]
  },
  {
   "cell_type": "code",
   "execution_count": 6,
   "metadata": {},
   "outputs": [
    {
     "name": "stderr",
     "output_type": "stream",
     "text": [
      "/home/chanb/Documents/research/personal/jaxl/.venv/lib/python3.9/site-packages/gymnasium/experimental/wrappers/rendering.py:169: UserWarning: \u001b[33mWARN: Overwriting existing videos at /home/chanb/Documents/research/personal/jaxl/notebooks/videos folder (try specifying a different `video_folder` for the `RecordVideo` wrapper if this is not desired)\u001b[0m\n",
      "  logger.warn(\n",
      "WARNING:jax._src.xla_bridge:No GPU/TPU found, falling back to CPU. (Set TF_CPP_MIN_LOG_LEVEL=0 and rerun for more info.)\n"
     ]
    },
    {
     "name": "stdout",
     "output_type": "stream",
     "text": [
      "/tmp/tmp6q174xs_\n",
      "Moviepy - Building video /home/chanb/Documents/research/personal/jaxl/notebooks/videos/rl-video-episode-0.mp4.\n",
      "Moviepy - Writing video /home/chanb/Documents/research/personal/jaxl/notebooks/videos/rl-video-episode-0.mp4\n",
      "\n"
     ]
    },
    {
     "name": "stderr",
     "output_type": "stream",
     "text": [
      "                                                               \r"
     ]
    },
    {
     "name": "stdout",
     "output_type": "stream",
     "text": [
      "Moviepy - Done !\n",
      "Moviepy - video ready /home/chanb/Documents/research/personal/jaxl/notebooks/videos/rl-video-episode-0.mp4\n",
      "Moviepy - Building video /home/chanb/Documents/research/personal/jaxl/notebooks/videos/rl-video-episode-1.mp4.\n",
      "Moviepy - Writing video /home/chanb/Documents/research/personal/jaxl/notebooks/videos/rl-video-episode-1.mp4\n",
      "\n"
     ]
    },
    {
     "name": "stderr",
     "output_type": "stream",
     "text": [
      "                                                             \r"
     ]
    },
    {
     "name": "stdout",
     "output_type": "stream",
     "text": [
      "Moviepy - Done !\n",
      "Moviepy - video ready /home/chanb/Documents/research/personal/jaxl/notebooks/videos/rl-video-episode-1.mp4\n",
      "Moviepy - Building video /home/chanb/Documents/research/personal/jaxl/notebooks/videos/rl-video-episode-2.mp4.\n",
      "Moviepy - Writing video /home/chanb/Documents/research/personal/jaxl/notebooks/videos/rl-video-episode-2.mp4\n",
      "\n"
     ]
    },
    {
     "name": "stderr",
     "output_type": "stream",
     "text": [
      "                                                               \r"
     ]
    },
    {
     "name": "stdout",
     "output_type": "stream",
     "text": [
      "Moviepy - Done !\n",
      "Moviepy - video ready /home/chanb/Documents/research/personal/jaxl/notebooks/videos/rl-video-episode-2.mp4\n",
      "Moviepy - Building video /home/chanb/Documents/research/personal/jaxl/notebooks/videos/rl-video-episode-3.mp4.\n",
      "Moviepy - Writing video /home/chanb/Documents/research/personal/jaxl/notebooks/videos/rl-video-episode-3.mp4\n",
      "\n"
     ]
    },
    {
     "name": "stderr",
     "output_type": "stream",
     "text": [
      "                                                               \r"
     ]
    },
    {
     "name": "stdout",
     "output_type": "stream",
     "text": [
      "Moviepy - Done !\n",
      "Moviepy - video ready /home/chanb/Documents/research/personal/jaxl/notebooks/videos/rl-video-episode-3.mp4\n",
      "Moviepy - Building video /home/chanb/Documents/research/personal/jaxl/notebooks/videos/rl-video-episode-4.mp4.\n",
      "Moviepy - Writing video /home/chanb/Documents/research/personal/jaxl/notebooks/videos/rl-video-episode-4.mp4\n",
      "\n"
     ]
    },
    {
     "name": "stderr",
     "output_type": "stream",
     "text": [
      "                                                               \r"
     ]
    },
    {
     "name": "stdout",
     "output_type": "stream",
     "text": [
      "Moviepy - Done !\n",
      "Moviepy - video ready /home/chanb/Documents/research/personal/jaxl/notebooks/videos/rl-video-episode-4.mp4\n",
      "Moviepy - Building video /home/chanb/Documents/research/personal/jaxl/notebooks/videos/rl-video-episode-5.mp4.\n",
      "Moviepy - Writing video /home/chanb/Documents/research/personal/jaxl/notebooks/videos/rl-video-episode-5.mp4\n",
      "\n"
     ]
    },
    {
     "name": "stderr",
     "output_type": "stream",
     "text": [
      "                                                             \r"
     ]
    },
    {
     "name": "stdout",
     "output_type": "stream",
     "text": [
      "Moviepy - Done !\n",
      "Moviepy - video ready /home/chanb/Documents/research/personal/jaxl/notebooks/videos/rl-video-episode-5.mp4\n",
      "Moviepy - Building video /home/chanb/Documents/research/personal/jaxl/notebooks/videos/rl-video-episode-6.mp4.\n",
      "Moviepy - Writing video /home/chanb/Documents/research/personal/jaxl/notebooks/videos/rl-video-episode-6.mp4\n",
      "\n"
     ]
    },
    {
     "name": "stderr",
     "output_type": "stream",
     "text": [
      "                                                              \r"
     ]
    },
    {
     "name": "stdout",
     "output_type": "stream",
     "text": [
      "Moviepy - Done !\n",
      "Moviepy - video ready /home/chanb/Documents/research/personal/jaxl/notebooks/videos/rl-video-episode-6.mp4\n",
      "Moviepy - Building video /home/chanb/Documents/research/personal/jaxl/notebooks/videos/rl-video-episode-7.mp4.\n",
      "Moviepy - Writing video /home/chanb/Documents/research/personal/jaxl/notebooks/videos/rl-video-episode-7.mp4\n",
      "\n"
     ]
    },
    {
     "name": "stderr",
     "output_type": "stream",
     "text": [
      "                                                               \r"
     ]
    },
    {
     "name": "stdout",
     "output_type": "stream",
     "text": [
      "Moviepy - Done !\n",
      "Moviepy - video ready /home/chanb/Documents/research/personal/jaxl/notebooks/videos/rl-video-episode-7.mp4\n",
      "Moviepy - Building video /home/chanb/Documents/research/personal/jaxl/notebooks/videos/rl-video-episode-8.mp4.\n",
      "Moviepy - Writing video /home/chanb/Documents/research/personal/jaxl/notebooks/videos/rl-video-episode-8.mp4\n",
      "\n"
     ]
    },
    {
     "name": "stderr",
     "output_type": "stream",
     "text": [
      "                                                               \r"
     ]
    },
    {
     "name": "stdout",
     "output_type": "stream",
     "text": [
      "Moviepy - Done !\n",
      "Moviepy - video ready /home/chanb/Documents/research/personal/jaxl/notebooks/videos/rl-video-episode-8.mp4\n"
     ]
    }
   ],
   "source": [
    "h_state_dim = (1,)\n",
    "if hasattr(rl_config.model_config, \"h_state_dim\"):\n",
    "    h_state_dim = rl_config.model_config.h_state_dim\n",
    "\n",
    "env = get_environment(rl_config.learner_config.env_config)\n",
    "env = RecordVideoV0(env, \"videos\", episode_trigger=lambda x: True)\n",
    "\n",
    "input_dim = env.observation_space.shape\n",
    "output_dim = policy_output_dim(env.action_space.shape, rl_config.learner_config)\n",
    "model = get_model(input_dim, output_dim, rl_config.model_config.policy)\n",
    "policy = get_policy(model, rl_config.learner_config)\n",
    "\n",
    "rl_model_path = os.path.join(rl_trained_path, \"termination_model\")\n",
    "checkpointer = PyTreeCheckpointer()\n",
    "model_dict = checkpointer.restore(rl_model_path)\n",
    "rl_policy_params = model_dict[CONST_MODEL][CONST_POLICY]\n",
    "with open(os.path.join(rl_model_path, \"learner_dict.pkl\"), \"rb\") as f:\n",
    "    learner_dict = pickle.load(f)\n",
    "    rl_obs_rms = learner_dict[CONST_OBS_RMS]\n",
    "\n",
    "rl_rollout = EvaluationRollout(env, seed=env_seed)\n",
    "rl_rollout.rollout(rl_policy_params, policy, rl_obs_rms, num_episodes, None)"
   ]
  },
  {
   "cell_type": "code",
   "execution_count": null,
   "metadata": {},
   "outputs": [],
   "source": []
  }
 ],
 "metadata": {
  "kernelspec": {
   "display_name": ".venv",
   "language": "python",
   "name": "python3"
  },
  "language_info": {
   "codemirror_mode": {
    "name": "ipython",
    "version": 3
   },
   "file_extension": ".py",
   "mimetype": "text/x-python",
   "name": "python",
   "nbconvert_exporter": "python",
   "pygments_lexer": "ipython3",
   "version": "3.9.16"
  },
  "orig_nbformat": 4
 },
 "nbformat": 4,
 "nbformat_minor": 2
}
