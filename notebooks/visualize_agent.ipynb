{
 "cells": [
  {
   "attachments": {},
   "cell_type": "markdown",
   "metadata": {},
   "source": [
    "# Visualize Trained Agents"
   ]
  },
  {
   "cell_type": "code",
   "execution_count": null,
   "metadata": {},
   "outputs": [],
   "source": [
    "from gymnasium.experimental.wrappers import RecordVideoV0\n",
    "from orbax.checkpoint import PyTreeCheckpointer\n",
    "\n",
    "import _pickle as pickle\n",
    "import jax\n",
    "import json\n",
    "import logging\n",
    "import matplotlib.pyplot as plt\n",
    "import numpy as np\n",
    "import os\n",
    "import timeit\n",
    "\n",
    "from jaxl.buffers import get_buffer\n",
    "from jaxl.constants import *\n",
    "from jaxl.models import (\n",
    "    get_model,\n",
    "    get_policy,\n",
    "    policy_output_dim,\n",
    ")\n",
    "from jaxl.models.policies import MultitaskPolicy\n",
    "from jaxl.envs import get_environment\n",
    "from jaxl.envs.rollouts import EvaluationRollout\n",
    "from jaxl.utils import set_seed, parse_dict, set_dict_value, get_dict_value"
   ]
  },
  {
   "cell_type": "code",
   "execution_count": null,
   "metadata": {},
   "outputs": [],
   "source": [
    "run_seed = None\n",
    "set_seed(run_seed)"
   ]
  },
  {
   "cell_type": "code",
   "execution_count": null,
   "metadata": {},
   "outputs": [],
   "source": [
    "def get_env(agent_path):\n",
    "    agent_config_path = os.path.join(agent_path, \"config.json\")\n",
    "    with open(agent_config_path, \"r\") as f:\n",
    "        agent_config_dict = json.load(f)\n",
    "    return agent_config_dict[\"learner_config\"][\"env_config\"]"
   ]
  },
  {
   "cell_type": "code",
   "execution_count": null,
   "metadata": {},
   "outputs": [],
   "source": [
    "# Gravity = -8.249612491943623\n",
    "# agent_path = \"/mnt/HDD/research/mtil/inverted_double_pendulum/expert_models/gravity/runs/0/gravity_-8.249612491943623/06-09-23_15_21_56-296b3f54-5c33-43f3-97dd-3b7eb184bc99\"\n",
    "# agent_path = \"/Users/chanb/research/personal/jaxl/data/inverted_double_pendulum/expert_models/gravity/runs/0/gravity_-8.249612491943623/06-09-23_15_21_56-296b3f54-5c33-43f3-97dd-3b7eb184bc99\"\n",
    "\n",
    "# Gravity = -0.1\n",
    "agent_path = \"/Users/chanb/research/personal/jaxl/data/inverted_double_pendulum/expert_models/gravity/runs/0/gravity_-0.1/06-20-23_17_58_19-e1219127-8e43-4dd8-a05c-64e71ae09489\"\n",
    "trained_env_parameters = get_env(agent_path)\n",
    "\n",
    "# Gravity = -8.249612491943623\n",
    "# agent_path = \"/Users/chanb/research/personal/jaxl/data/inverted_double_pendulum/expert_models/gravity/runs/0/gravity_-8.249612491943623/06-09-23_15_21_56-296b3f54-5c33-43f3-97dd-3b7eb184bc99\"\n",
    "# agent_path = \"/Users/chanb/research/personal/jaxl/data/inverted_double_pendulum/test_mtbc/gravity-num_tasks_analysis/runs/0/num_tasks_32/06-13-23_20_40_42-1ef9b350-bd18-4fba-b1ad-6e5cbb3dd1ab\"\n",
    "# agent_path = \"/Users/chanb/research/personal/jaxl/jaxl/logs/inverted_double_pendulum/bc/06-20-23_16_10_06-d21f35f1-8568-46de-8bcc-64a53c1747cd\"\n",
    "# agent_path = \"/Users/chanb/research/personal/jaxl/jaxl/logs/inverted_double_pendulum/test_mtbc/06-20-23_18_22_22-1b5ce9fd-4d72-40f6-80ff-c9c67aed08ee\"\n",
    "\n",
    "# Gravity = -0.1\n",
    "# agent_path = \"/Users/chanb/research/personal/jaxl/jaxl/logs/inverted_double_pendulum/test_mtbc-gravity_-0.1/06-21-23_09_41_09-d11d4ba1-1242-47af-addd-c7db5eacb69b\"\n",
    "agent_path = \"/Users/chanb/research/personal/jaxl/jaxl/logs/inverted_double_pendulum/bc-gravity_-0.1/06-21-23_09_41_54-041a7fce-7123-4037-9a87-c99a8f620e65\"\n",
    "    \n",
    "num_episodes = 100\n",
    "env_seed = 9999\n",
    "buffer_size = 0\n",
    "record_video = False\n",
    "gravities = [\n",
    "    trained_env_parameters[\"env_kwargs\"][\"gravity\"],\n",
    "    -0.01,\n",
    "    -1.0,\n",
    "    -5.0,\n",
    "    -9.81,\n",
    "    -13.0,\n",
    "    -15.0,\n",
    "    -30.0,\n",
    "]"
   ]
  },
  {
   "cell_type": "code",
   "execution_count": null,
   "metadata": {},
   "outputs": [],
   "source": [
    "def get_config(agent_path, gravity):\n",
    "    agent_config_path = os.path.join(agent_path, \"config.json\")\n",
    "    with open(agent_config_path, \"r\") as f:\n",
    "        agent_config_dict = json.load(f)\n",
    "        agent_config_dict[\"learner_config\"][\"env_config\"] = trained_env_parameters\n",
    "        agent_config_dict[\"learner_config\"][\"env_config\"][\"env_kwargs\"][\n",
    "            \"render_mode\"\n",
    "        ] = \"rgb_array\"\n",
    "        agent_config_dict[\"learner_config\"][\"env_config\"][\"env_kwargs\"][\n",
    "            \"gravity\"\n",
    "        ] = gravity\n",
    "        if \"policy_distribution\" not in agent_config_dict[\"learner_config\"]:\n",
    "            agent_config_dict[\"learner_config\"][\n",
    "                \"policy_distribution\"\n",
    "            ] = CONST_DETERMINISTIC\n",
    "        set_dict_value(agent_config_dict, \"vmap_all\", False)\n",
    "        (multitask, num_models) = get_dict_value(agent_config_dict, \"num_models\")\n",
    "        agent_config = parse_dict(agent_config_dict)\n",
    "    return agent_config, {\n",
    "        \"multitask\": multitask,\n",
    "        \"num_models\": num_models,\n",
    "    }"
   ]
  },
  {
   "cell_type": "code",
   "execution_count": null,
   "metadata": {},
   "outputs": [],
   "source": [
    "episodic_returns_per_variant = {}\n",
    "\n",
    "for gravity in gravities:\n",
    "    agent_config, aux = get_config(agent_path, gravity)\n",
    "    env = get_environment(agent_config.learner_config.env_config)\n",
    "\n",
    "    if record_video:\n",
    "        env = RecordVideoV0(env, f\"gravity_{gravity}-videos\")\n",
    "        # env = RecordVideoV0(env, f\"gravity_{gravity}-videos\", episode_trigger=lambda x: True)\n",
    "\n",
    "    input_dim = env.observation_space.shape\n",
    "    output_dim = policy_output_dim(env.action_space.shape, agent_config.learner_config)\n",
    "    model = get_model(\n",
    "        input_dim,\n",
    "        output_dim,\n",
    "        getattr(agent_config.model_config, \"policy\", agent_config.model_config),\n",
    "    )\n",
    "    policy = get_policy(model, agent_config.learner_config)\n",
    "    if aux[\"multitask\"]:\n",
    "        policy = MultitaskPolicy(policy, model, aux[\"num_models\"])\n",
    "\n",
    "    agent_model_path = os.path.join(agent_path, \"termination_model\")\n",
    "    checkpointer = PyTreeCheckpointer()\n",
    "    model_dict = checkpointer.restore(agent_model_path)\n",
    "    agent_policy_params = model_dict[CONST_MODEL][CONST_POLICY]\n",
    "    with open(os.path.join(agent_model_path, \"learner_dict.pkl\"), \"rb\") as f:\n",
    "        learner_dict = pickle.load(f)\n",
    "        agent_obs_rms = learner_dict[CONST_OBS_RMS]\n",
    "\n",
    "    agent_rollout = EvaluationRollout(env, seed=env_seed)\n",
    "    agent_rollout.rollout(\n",
    "        agent_policy_params, policy, agent_obs_rms, num_episodes, None\n",
    "    )\n",
    "\n",
    "    episodic_returns_per_variant[gravity] = agent_rollout.episodic_returns"
   ]
  },
  {
   "cell_type": "code",
   "execution_count": null,
   "metadata": {},
   "outputs": [],
   "source": [
    "fig, ax = plt.subplots(1, figsize=(10, 5))\n",
    "ax.boxplot(episodic_returns_per_variant.values())\n",
    "ax.set_xticks(\n",
    "    range(1, len(episodic_returns_per_variant) + 1),\n",
    "    [val if val else \"default\" for val in episodic_returns_per_variant.keys()],\n",
    ")\n",
    "ax.set_title(f\"Returns Across {num_episodes} Episodes\")\n",
    "ax.set_xlabel(\"Gravity\")\n",
    "ax.set_ylabel(\"Return\")\n",
    "fig.show()"
   ]
  },
  {
   "cell_type": "code",
   "execution_count": null,
   "metadata": {},
   "outputs": [],
   "source": [
    "from pprint import pprint\n",
    "\n",
    "pprint(\n",
    "    [\n",
    "        (key, np.mean(val), np.std(val))\n",
    "        for key, val in episodic_returns_per_variant.items()\n",
    "    ]\n",
    ")"
   ]
  },
  {
   "cell_type": "code",
   "execution_count": null,
   "metadata": {},
   "outputs": [],
   "source": [
    "fig, ax = plt.subplots(1, figsize=(10, 5))\n",
    "\n",
    "means = []\n",
    "stds = []\n",
    "for val in episodic_returns_per_variant.values():\n",
    "    means.append(np.mean(val))\n",
    "    stds.append(np.std(val))\n",
    "means = np.array(means)\n",
    "stds = np.array(stds)\n",
    "\n",
    "sort_idxes = np.argsort(gravities)\n",
    "gravities = np.array(gravities)\n",
    "ax.plot(gravities[sort_idxes], means[sort_idxes], marker=\"x\")\n",
    "ax.fill_between(\n",
    "    gravities[sort_idxes],\n",
    "    means[sort_idxes] + stds[sort_idxes],\n",
    "    means[sort_idxes] - stds[sort_idxes],\n",
    "    alpha=0.1,\n",
    ")\n",
    "ax.set_title(f\"Returns Across {num_episodes} Episodes\")\n",
    "ax.axvline(gravities[0], label=\"trained parameter: {:.2f}\".format(gravities[0]), linestyle=\"--\", linewidth=1)\n",
    "ax.set_xlabel(\"Gravity\")\n",
    "ax.set_ylabel(\"Return\")\n",
    "ax.legend()\n",
    "fig.show()"
   ]
  },
  {
   "cell_type": "code",
   "execution_count": null,
   "metadata": {},
   "outputs": [],
   "source": [
    "print(gravities[sort_idxes])\n",
    "print(means[sort_idxes])"
   ]
  },
  {
   "attachments": {},
   "cell_type": "markdown",
   "metadata": {},
   "source": [
    "### Gravity = -0.1\n",
    "#### PPO\n",
    "```\n",
    "[-3.00e+01 -1.50e+01 -1.30e+01 -9.81e+00 -5.00e+00 -1.00e+00 -1.00e-01\n",
    " -1.00e-02]\n",
    "[  90.67406679  164.65052897  192.39404472  238.24816655  364.15402817\n",
    " 1073.90771963 3504.90991557 4115.21913926]\n",
    "```\n",
    "\n",
    "#### MTBC\n",
    "```\n",
    "[-3.00e+01 -1.50e+01 -1.30e+01 -9.81e+00 -5.00e+00 -1.00e+00 -1.00e-01\n",
    " -1.00e-02]\n",
    "[  84.5687924   168.33623149  185.48593724  242.48130892  361.57098085\n",
    " 1016.78342278 3336.88995492 4130.62514417]\n",
    "```\n",
    "\n",
    "#### BC\n",
    "```\n",
    "[-3.00e+01 -1.50e+01 -1.30e+01 -9.81e+00 -5.00e+00 -1.00e+00 -1.00e-01\n",
    " -1.00e-02]\n",
    "[  88.3836091   173.41462282  190.96280719  234.48176652  354.85274471\n",
    "  956.50828755 3364.56354645 4215.37381229]\n",
    "```"
   ]
  },
  {
   "attachments": {},
   "cell_type": "markdown",
   "metadata": {},
   "source": []
  }
 ],
 "metadata": {
  "kernelspec": {
   "display_name": ".venv",
   "language": "python",
   "name": "python3"
  },
  "language_info": {
   "codemirror_mode": {
    "name": "ipython",
    "version": 3
   },
   "file_extension": ".py",
   "mimetype": "text/x-python",
   "name": "python",
   "nbconvert_exporter": "python",
   "pygments_lexer": "ipython3",
   "version": "3.9.17"
  },
  "orig_nbformat": 4
 },
 "nbformat": 4,
 "nbformat_minor": 2
}
