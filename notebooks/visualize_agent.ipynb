{
 "cells": [
  {
   "attachments": {},
   "cell_type": "markdown",
   "metadata": {},
   "source": [
    "# Visualize Trained Agents"
   ]
  },
  {
   "cell_type": "code",
   "execution_count": null,
   "metadata": {},
   "outputs": [],
   "source": [
    "from orbax.checkpoint import PyTreeCheckpointer\n",
    "\n",
    "import _pickle as pickle\n",
    "import jax\n",
    "import json\n",
    "import logging\n",
    "import matplotlib.pyplot as plt\n",
    "import numpy as np\n",
    "import os\n",
    "import timeit\n",
    "\n",
    "from jaxl.buffers import get_buffer\n",
    "from jaxl.constants import *\n",
    "from jaxl.models import (\n",
    "    get_model,\n",
    "    get_policy,\n",
    "    policy_output_dim,\n",
    ")\n",
    "from jaxl.models.policies import MultitaskPolicy\n",
    "from jaxl.envs import get_environment\n",
    "from jaxl.envs.rollouts import EvaluationRollout\n",
    "from jaxl.utils import set_seed, parse_dict"
   ]
  },
  {
   "cell_type": "code",
   "execution_count": null,
   "metadata": {},
   "outputs": [],
   "source": [
    "run_seed = None\n",
    "set_seed(run_seed)"
   ]
  },
  {
   "cell_type": "code",
   "execution_count": null,
   "metadata": {},
   "outputs": [],
   "source": [
    "rl_trained_path = \"/Users/chanb/research/personal/jaxl/jaxl/logs/inverted_double_pendulum/ppo/06-07-23_13_30_37-77f2ee17-4bad-45aa-9446-6dbe1964dbbe\"\n",
    "\n",
    "num_episodes = 10\n",
    "env_seed = 9999\n",
    "buffer_size = 0"
   ]
  },
  {
   "cell_type": "code",
   "execution_count": null,
   "metadata": {},
   "outputs": [],
   "source": [
    "rl_config_path = os.path.join(rl_trained_path, \"config.json\")\n",
    "with open(rl_config_path, \"r\") as f:\n",
    "    rl_config_dict = json.load(f)\n",
    "    rl_config_dict[\"learner_config\"][\"env_config\"][\"env_kwargs\"][\n",
    "        \"render_mode\"\n",
    "    ] = \"rgb_array\"\n",
    "    rl_config = parse_dict(rl_config_dict)"
   ]
  },
  {
   "cell_type": "code",
   "execution_count": null,
   "metadata": {},
   "outputs": [],
   "source": [
    "from gymnasium.experimental.wrappers import RecordVideoV0"
   ]
  },
  {
   "cell_type": "code",
   "execution_count": null,
   "metadata": {},
   "outputs": [],
   "source": [
    "h_state_dim = (1,)\n",
    "if hasattr(rl_config.model_config, \"h_state_dim\"):\n",
    "    h_state_dim = rl_config.model_config.h_state_dim\n",
    "\n",
    "env = get_environment(rl_config.learner_config.env_config)\n",
    "env = RecordVideoV0(env, \"videos\")\n",
    "\n",
    "input_dim = env.observation_space.shape\n",
    "output_dim = policy_output_dim(env.action_space.shape, rl_config.learner_config)\n",
    "model = get_model(input_dim, output_dim, rl_config.model_config.policy)\n",
    "policy = get_policy(model, rl_config.learner_config)\n",
    "\n",
    "rl_model_path = os.path.join(rl_trained_path, \"termination_model\")\n",
    "checkpointer = PyTreeCheckpointer()\n",
    "model_dict = checkpointer.restore(rl_model_path)\n",
    "rl_policy_params = model_dict[CONST_MODEL][CONST_POLICY]\n",
    "with open(os.path.join(rl_model_path, \"learner_dict.pkl\"), \"rb\") as f:\n",
    "    learner_dict = pickle.load(f)\n",
    "    rl_obs_rms = learner_dict[CONST_OBS_RMS]\n",
    "\n",
    "rl_rollout = EvaluationRollout(env, seed=env_seed)\n",
    "rl_rollout.rollout(rl_policy_params, policy, rl_obs_rms, num_episodes, None)"
   ]
  },
  {
   "cell_type": "code",
   "execution_count": null,
   "metadata": {},
   "outputs": [],
   "source": []
  }
 ],
 "metadata": {
  "kernelspec": {
   "display_name": ".venv",
   "language": "python",
   "name": "python3"
  },
  "language_info": {
   "codemirror_mode": {
    "name": "ipython",
    "version": 3
   },
   "file_extension": ".py",
   "mimetype": "text/x-python",
   "name": "python",
   "nbconvert_exporter": "python",
   "pygments_lexer": "ipython3",
   "version": "3.9.17"
  },
  "orig_nbformat": 4
 },
 "nbformat": 4,
 "nbformat_minor": 2
}
