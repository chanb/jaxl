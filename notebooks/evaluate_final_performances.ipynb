{
 "cells": [
  {
   "attachments": {},
   "cell_type": "markdown",
   "metadata": {},
   "source": [
    "# Evaluate trained policies at checkpoints"
   ]
  },
  {
   "cell_type": "code",
   "execution_count": null,
   "metadata": {},
   "outputs": [],
   "source": [
    "from gymnasium.experimental.wrappers import RecordVideoV0\n",
    "from pprint import pprint\n",
    "\n",
    "import matplotlib.pyplot as plt\n",
    "import notebook_utils\n",
    "import numpy as np\n",
    "import os\n",
    "\n",
    "from jaxl.constants import *\n",
    "from jaxl.envs import get_environment\n",
    "from jaxl.envs.rollouts import EvaluationRollout\n",
    "from jaxl.utils import set_seed"
   ]
  },
  {
   "cell_type": "code",
   "execution_count": null,
   "metadata": {},
   "outputs": [],
   "source": [
    "run_seed = None\n",
    "set_seed(run_seed)"
   ]
  },
  {
   "cell_type": "code",
   "execution_count": null,
   "metadata": {},
   "outputs": [],
   "source": [
    "# runs_dir = \"/Users/chanb/research/personal/jaxl/data/hyperparam_search/hopper_cont/search_expert/runs\"\n",
    "# runs_dir = \"/Users/chanb/research/personal/jaxl/data/hyperparam_search/hopper_disc/search_expert/runs\"\n",
    "# runs_dir = \"/Users/chanb/research/personal/jaxl/data/hyperparam_search/pendulum_disc/search_expert/runs/\"\n",
    "runs_dir = runs_dir = \"/Users/chanb/research/personal/jaxl/data/hyperparam_search/cheetah_disc/search_expert/runs/1\"\n",
    "\n",
    "num_episodes = 10\n",
    "env_seed = 9999\n",
    "record_video = True"
   ]
  },
  {
   "cell_type": "code",
   "execution_count": null,
   "metadata": {},
   "outputs": [],
   "source": [
    "episodic_returns_per_variant = {}\n",
    "\n",
    "for run_path, _, filenames in os.walk(runs_dir):\n",
    "    for filename in filenames:\n",
    "        if filename != \"config.json\" or not os.path.isdir(os.path.join(run_path, \"termination_model\")):\n",
    "            continue\n",
    "        agent_path = run_path\n",
    "\n",
    "        agent_config, aux = notebook_utils.get_config(agent_path)\n",
    "        env = get_environment(agent_config.learner_config.env_config)\n",
    "\n",
    "        variant = os.path.basename(os.path.dirname(agent_path))\n",
    "\n",
    "        _, policy = notebook_utils.get_agent(env, agent_config, aux)\n",
    "        agent_policy_params, agent_obs_rms = notebook_utils.restore_agent_state(\n",
    "            os.path.join(agent_path, \"termination_model\")\n",
    "        )\n",
    "\n",
    "        model_id = f\"{variant}-final\"\n",
    "        if record_video:\n",
    "            env = RecordVideoV0(\n",
    "                env, f\"videos/model_id_{model_id}-videos\", disable_logger=True\n",
    "            )\n",
    "\n",
    "        agent_rollout = EvaluationRollout(env, seed=env_seed)\n",
    "        agent_rollout.rollout(\n",
    "            agent_policy_params, policy, agent_obs_rms, num_episodes, None, False\n",
    "        )\n",
    "\n",
    "        episodic_returns_per_variant[model_id] = agent_rollout.episodic_returns\n",
    "        print(env.get_config()[\"modified_attributes\"])"
   ]
  },
  {
   "cell_type": "code",
   "execution_count": null,
   "metadata": {},
   "outputs": [],
   "source": [
    "pprint(\n",
    "    [\n",
    "        (key, np.mean(val), np.std(val))\n",
    "        for key, val in episodic_returns_per_variant.items()\n",
    "    ]\n",
    ")"
   ]
  },
  {
   "cell_type": "code",
   "execution_count": null,
   "metadata": {},
   "outputs": [],
   "source": [
    "fig, ax = plt.subplots(1, figsize=(10, 5))\n",
    "\n",
    "model_ids = [int(key.split(\"-\")[1]) for key in episodic_returns_per_variant.keys()]\n",
    "means = []\n",
    "stds = []\n",
    "for val in episodic_returns_per_variant.values():\n",
    "    means.append(np.mean(val))\n",
    "    stds.append(np.std(val))\n",
    "means = np.array(means)\n",
    "stds = np.array(stds)\n",
    "\n",
    "sort_idxes = np.argsort(model_ids)\n",
    "model_ids = np.array(model_ids)\n",
    "ax.plot(model_ids[sort_idxes], means[sort_idxes], marker=\"x\")\n",
    "ax.fill_between(\n",
    "    model_ids[sort_idxes],\n",
    "    means[sort_idxes] + stds[sort_idxes],\n",
    "    means[sort_idxes] - stds[sort_idxes],\n",
    "    alpha=0.1,\n",
    ")\n",
    "ax.set_title(f\"Returns Across {num_episodes} Episodes\")\n",
    "ax.set_xlabel(\"Variant\")\n",
    "ax.set_ylabel(\"Return\")\n",
    "ax.legend()\n",
    "fig.show()"
   ]
  },
  {
   "cell_type": "code",
   "execution_count": null,
   "metadata": {},
   "outputs": [],
   "source": []
  }
 ],
 "metadata": {
  "kernelspec": {
   "display_name": ".venv",
   "language": "python",
   "name": "python3"
  },
  "language_info": {
   "codemirror_mode": {
    "name": "ipython",
    "version": 3
   },
   "file_extension": ".py",
   "mimetype": "text/x-python",
   "name": "python",
   "nbconvert_exporter": "python",
   "pygments_lexer": "ipython3",
   "version": "3.9.17"
  },
  "orig_nbformat": 4
 },
 "nbformat": 4,
 "nbformat_minor": 2
}
