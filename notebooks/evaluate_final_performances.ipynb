{
 "cells": [
  {
   "attachments": {},
   "cell_type": "markdown",
   "metadata": {},
   "source": [
    "# Evaluate final performances from different runs"
   ]
  },
  {
   "cell_type": "code",
   "execution_count": 1,
   "metadata": {},
   "outputs": [],
   "source": [
    "from gymnasium.experimental.wrappers import RecordVideoV0\n",
    "from orbax.checkpoint import PyTreeCheckpointer, CheckpointManager\n",
    "\n",
    "import _pickle as pickle\n",
    "import jax\n",
    "import json\n",
    "import logging\n",
    "import matplotlib.pyplot as plt\n",
    "import numpy as np\n",
    "import os\n",
    "import timeit\n",
    "\n",
    "from jaxl.buffers import get_buffer\n",
    "from jaxl.constants import *\n",
    "from jaxl.models import (\n",
    "    get_model,\n",
    "    get_policy,\n",
    "    policy_output_dim,\n",
    ")\n",
    "from jaxl.models.policies import MultitaskPolicy\n",
    "from jaxl.envs import get_environment\n",
    "from jaxl.envs.rollouts import EvaluationRollout\n",
    "from jaxl.utils import (\n",
    "    set_seed,\n",
    "    parse_dict,\n",
    "    set_dict_value,\n",
    "    get_dict_value,\n",
    "    RunningMeanStd,\n",
    ")"
   ]
  },
  {
   "cell_type": "code",
   "execution_count": 2,
   "metadata": {},
   "outputs": [],
   "source": [
    "run_seed = None\n",
    "set_seed(run_seed)"
   ]
  },
  {
   "cell_type": "code",
   "execution_count": 3,
   "metadata": {},
   "outputs": [],
   "source": [
    "def get_env(agent_path):\n",
    "    agent_config_path = os.path.join(agent_path, \"config.json\")\n",
    "    with open(agent_config_path, \"r\") as f:\n",
    "        agent_config_dict = json.load(f)\n",
    "    return agent_config_dict[\"learner_config\"][\"env_config\"]"
   ]
  },
  {
   "cell_type": "code",
   "execution_count": 4,
   "metadata": {},
   "outputs": [],
   "source": [
    "# agent_path = \"/Users/chanb/research/personal/jaxl/data/hyperparam_search/hopper_cont/search_expert/runs/1/variant-138/07-12-23_16_41_59-34de64b8-6a08-4292-88c9-fe12358710d7\"\n",
    "# runs_dir = \"/Users/chanb/research/personal/jaxl/data/hyperparam_search/hopper_cont/search_expert/runs\"\n",
    "\n",
    "# agent_path = \"/Users/chanb/research/personal/jaxl/data/hyperparam_search/hopper_disc/search_expert/runs/0/variant-14/07-12-23_16_20_52-884602c9-a9b9-4844-9d08-7fb71bc08abf\"\n",
    "# runs_dir = \"/Users/chanb/research/personal/jaxl/data/hyperparam_search/hopper_disc/search_expert/runs\"\n",
    "\n",
    "# agent_path = runs_dir = \"/Users/chanb/research/personal/mtil_results/data/search_expert/pendulum/discrete/runs/0/variant-20/07-19-23_09_45_28-3f727c34-d48c-426c-b8c9-b1f39a43997a\"\n",
    "# agent_path = runs_dir = \"/Users/chanb/research/personal/mtil_results/data/search_expert/pendulum/continuous/runs/0/variant-68/07-19-23_09_34_42-e626f409-3ee3-4f7e-a86c-1f3aeefd876f\"\n",
    "# agent_path = runs_dir = \"/Users/chanb/research/personal/mtil_results/data/search_expert/cheetah/discrete/runs/0/variant-71/07-19-23_08_19_57-c49d4632-446b-401c-8d5a-05805f605f93\"\n",
    "# agent_path = runs_dir = \"/Users/chanb/research/personal/mtil_results/data/search_expert/cheetah/continuous/runs/0/variant-46/07-19-23_07_45_39-8cee976a-eeea-4423-b49b-2b8c154bf9c2\"\n",
    "\n",
    "# Walker run\n",
    "# agent_path = runs_dir = \"/Users/chanb/research/personal/mtil_results/data/search_expert/walker-run/discrete/runs/0/variant-19/07-19-23_08_51_26-ad429b0c-ac8c-4e5d-b54c-954ff04a8326\"\n",
    "# agent_path = runs_dir = \"/Users/chanb/research/personal/mtil_results/data/search_expert/walker-run/continuous/runs/0/variant-43/07-19-23_08_34_12-233bdacb-b391-45a8-abd3-b4302793c811\"\n",
    "\n",
    "# Walker walk\n",
    "# agent_path = runs_dir = \"/Users/chanb/research/personal/mtil_results/data/search_expert/walker/discrete/runs/0/variant-23/07-20-23_00_17_47-83e8809d-83d1-4469-89ff-9568df858294\"\n",
    "# agent_path = runs_dir = \"/Users/chanb/research/personal/mtil_results/data/search_expert/walker/continuous/runs/0/variant-10/07-19-23_23_48_24-f58e40b4-a9c6-44bc-b0e6-3ce4e6eaacfb\"\n",
    "\n",
    "# agent_path = runs_dir = \"/Users/chanb/research/personal/mtil_results/preliminary/all_sweep-single_seed-single_env_seed/walker/continuous/runs/0/variant-10/07-19-23_23_48_24-f58e40b4-a9c6-44bc-b0e6-3ce4e6eaacfb\"\n",
    "agent_path = (\n",
    "    runs_dir\n",
    ") = \"/Users/chanb/research/personal/jaxl/jaxl/logs/cartpole_discrete/ppo-08-01-23_11_54_01-3bc5e73c-574d-4123-9337-13f4033308d3\"\n",
    "trained_env_parameters = get_env(agent_path)\n",
    "\n",
    "\n",
    "num_episodes = 100\n",
    "env_seed = 9999\n",
    "buffer_size = 0\n",
    "record_video = True"
   ]
  },
  {
   "cell_type": "code",
   "execution_count": 5,
   "metadata": {},
   "outputs": [],
   "source": [
    "def get_config(agent_path):\n",
    "    agent_config_path = os.path.join(agent_path, \"config.json\")\n",
    "    with open(agent_config_path, \"r\") as f:\n",
    "        agent_config_dict = json.load(f)\n",
    "        agent_config_dict[\"learner_config\"][\"env_config\"] = trained_env_parameters\n",
    "        agent_config_dict[\"learner_config\"][\"env_config\"][\"env_kwargs\"][\n",
    "            \"render_mode\"\n",
    "        ] = \"rgb_array\"\n",
    "        if \"policy_distribution\" not in agent_config_dict[\"learner_config\"]:\n",
    "            agent_config_dict[\"learner_config\"][\n",
    "                \"policy_distribution\"\n",
    "            ] = CONST_DETERMINISTIC\n",
    "        set_dict_value(agent_config_dict, \"vmap_all\", False)\n",
    "        (multitask, num_models) = get_dict_value(agent_config_dict, \"num_models\")\n",
    "        agent_config = parse_dict(agent_config_dict)\n",
    "    return agent_config, {\n",
    "        \"multitask\": multitask,\n",
    "        \"num_models\": num_models,\n",
    "    }"
   ]
  },
  {
   "cell_type": "code",
   "execution_count": 6,
   "metadata": {},
   "outputs": [
    {
     "name": "stderr",
     "output_type": "stream",
     "text": [
      "/Users/chanb/research/personal/jaxl/.venv/lib/python3.9/site-packages/gymnasium/spaces/box.py:130: UserWarning: \u001b[33mWARN: Box bound precision lowered by casting to float32\u001b[0m\n",
      "  gym.logger.warn(f\"Box bound precision lowered by casting to {self.dtype}\")\n"
     ]
    }
   ],
   "source": [
    "# Build agent and policy\n",
    "agent_config, aux = get_config(agent_path)\n",
    "env = get_environment(agent_config.learner_config.env_config)\n",
    "\n",
    "input_dim = env.observation_space.shape\n",
    "output_dim = policy_output_dim(env.act_dim, agent_config.learner_config)\n",
    "model = get_model(\n",
    "    input_dim,\n",
    "    output_dim,\n",
    "    getattr(agent_config.model_config, \"policy\", agent_config.model_config),\n",
    ")\n",
    "policy = get_policy(model, agent_config.learner_config)\n",
    "if aux[\"multitask\"]:\n",
    "    policy = MultitaskPolicy(policy, model, aux[\"num_models\"])"
   ]
  },
  {
   "cell_type": "code",
   "execution_count": 7,
   "metadata": {},
   "outputs": [
    {
     "name": "stderr",
     "output_type": "stream",
     "text": [
      "  0%|          | 0/100 [00:00<?, ?it/s]2023-08-01 12:58:17.062 Python[48907:18027013] ApplePersistenceIgnoreState: Existing state will not be touched. New state will be written to /var/folders/h6/qs8bwp4d7bg67j4vbv960hdh0000gn/T/org.python.python.savedState\n",
      " 64%|██████▍   | 64/100 [01:12<00:40,  1.13s/it]\n"
     ]
    },
    {
     "ename": "KeyboardInterrupt",
     "evalue": "",
     "output_type": "error",
     "traceback": [
      "\u001b[0;31m---------------------------------------------------------------------------\u001b[0m",
      "\u001b[0;31mKeyboardInterrupt\u001b[0m                         Traceback (most recent call last)",
      "Cell \u001b[0;32mIn[7], line 32\u001b[0m\n\u001b[1;32m     29\u001b[0m     agent_obs_rms\u001b[39m.\u001b[39mset_state(params[CONST_OBS_RMS])\n\u001b[1;32m     31\u001b[0m agent_rollout \u001b[39m=\u001b[39m EvaluationRollout(env, seed\u001b[39m=\u001b[39menv_seed)\n\u001b[0;32m---> 32\u001b[0m agent_rollout\u001b[39m.\u001b[39;49mrollout(\n\u001b[1;32m     33\u001b[0m     agent_policy_params, policy, agent_obs_rms, num_episodes, \u001b[39mNone\u001b[39;49;00m\n\u001b[1;32m     34\u001b[0m )\n\u001b[1;32m     36\u001b[0m episodic_returns_per_variant[model_id] \u001b[39m=\u001b[39m agent_rollout\u001b[39m.\u001b[39mepisodic_returns\n",
      "File \u001b[0;32m~/research/personal/jaxl/jaxl/envs/rollouts.py:185\u001b[0m, in \u001b[0;36mEvaluationRollout.rollout\u001b[0;34m(self, params, policy, obs_rms, num_episodes, buffer, use_tqdm)\u001b[0m\n\u001b[1;32m    181\u001b[0m \u001b[39mif\u001b[39;00m \u001b[39misinstance\u001b[39m(\u001b[39mself\u001b[39m\u001b[39m.\u001b[39m_env\u001b[39m.\u001b[39maction_space, spaces\u001b[39m.\u001b[39mBox):\n\u001b[1;32m    182\u001b[0m     env_act \u001b[39m=\u001b[39m np\u001b[39m.\u001b[39mclip(\n\u001b[1;32m    183\u001b[0m         act, \u001b[39mself\u001b[39m\u001b[39m.\u001b[39m_env\u001b[39m.\u001b[39maction_space\u001b[39m.\u001b[39mlow, \u001b[39mself\u001b[39m\u001b[39m.\u001b[39m_env\u001b[39m.\u001b[39maction_space\u001b[39m.\u001b[39mhigh\n\u001b[1;32m    184\u001b[0m     )\n\u001b[0;32m--> 185\u001b[0m next_obs, rew, terminated, truncated, info \u001b[39m=\u001b[39m \u001b[39mself\u001b[39;49m\u001b[39m.\u001b[39;49m_env\u001b[39m.\u001b[39;49mstep(env_act)\n\u001b[1;32m    186\u001b[0m \u001b[39mself\u001b[39m\u001b[39m.\u001b[39m_episodic_returns[\u001b[39m-\u001b[39m\u001b[39m1\u001b[39m] \u001b[39m+\u001b[39m\u001b[39m=\u001b[39m \u001b[39mfloat\u001b[39m(rew)\n\u001b[1;32m    187\u001b[0m \u001b[39mself\u001b[39m\u001b[39m.\u001b[39m_episode_lengths[\u001b[39m-\u001b[39m\u001b[39m1\u001b[39m] \u001b[39m+\u001b[39m\u001b[39m=\u001b[39m \u001b[39m1\u001b[39m\n",
      "File \u001b[0;32m~/research/personal/jaxl/.venv/lib/python3.9/site-packages/gymnasium/experimental/wrappers/rendering.py:234\u001b[0m, in \u001b[0;36mRecordVideoV0.step\u001b[0;34m(self, action)\u001b[0m\n\u001b[1;32m    232\u001b[0m     \u001b[39mself\u001b[39m\u001b[39m.\u001b[39mstart_recording(\u001b[39mf\u001b[39m\u001b[39m\"\u001b[39m\u001b[39m{\u001b[39;00m\u001b[39mself\u001b[39m\u001b[39m.\u001b[39mname_prefix\u001b[39m}\u001b[39;00m\u001b[39m-step-\u001b[39m\u001b[39m{\u001b[39;00m\u001b[39mself\u001b[39m\u001b[39m.\u001b[39mstep_id\u001b[39m}\u001b[39;00m\u001b[39m\"\u001b[39m)\n\u001b[1;32m    233\u001b[0m \u001b[39mif\u001b[39;00m \u001b[39mself\u001b[39m\u001b[39m.\u001b[39mrecording:\n\u001b[0;32m--> 234\u001b[0m     \u001b[39mself\u001b[39;49m\u001b[39m.\u001b[39;49m_capture_frame()\n\u001b[1;32m    236\u001b[0m     \u001b[39mif\u001b[39;00m \u001b[39mlen\u001b[39m(\u001b[39mself\u001b[39m\u001b[39m.\u001b[39mrecorded_frames) \u001b[39m>\u001b[39m \u001b[39mself\u001b[39m\u001b[39m.\u001b[39mvideo_length:\n\u001b[1;32m    237\u001b[0m         \u001b[39mself\u001b[39m\u001b[39m.\u001b[39mstop_recording()\n",
      "File \u001b[0;32m~/research/personal/jaxl/.venv/lib/python3.9/site-packages/gymnasium/experimental/wrappers/rendering.py:189\u001b[0m, in \u001b[0;36mRecordVideoV0._capture_frame\u001b[0;34m(self)\u001b[0m\n\u001b[1;32m    186\u001b[0m \u001b[39mdef\u001b[39;00m \u001b[39m_capture_frame\u001b[39m(\u001b[39mself\u001b[39m):\n\u001b[1;32m    187\u001b[0m     \u001b[39massert\u001b[39;00m \u001b[39mself\u001b[39m\u001b[39m.\u001b[39mrecording, \u001b[39m\"\u001b[39m\u001b[39mCannot capture a frame, recording wasn\u001b[39m\u001b[39m'\u001b[39m\u001b[39mt started.\u001b[39m\u001b[39m\"\u001b[39m\n\u001b[0;32m--> 189\u001b[0m     frame \u001b[39m=\u001b[39m \u001b[39mself\u001b[39;49m\u001b[39m.\u001b[39;49menv\u001b[39m.\u001b[39;49mrender()\n\u001b[1;32m    190\u001b[0m     \u001b[39mif\u001b[39;00m \u001b[39misinstance\u001b[39m(frame, List):\n\u001b[1;32m    191\u001b[0m         \u001b[39mif\u001b[39;00m \u001b[39mlen\u001b[39m(frame) \u001b[39m==\u001b[39m \u001b[39m0\u001b[39m:  \u001b[39m# render was called\u001b[39;00m\n",
      "File \u001b[0;32m~/research/personal/jaxl/.venv/lib/python3.9/site-packages/gymnasium/core.py:418\u001b[0m, in \u001b[0;36mWrapper.render\u001b[0;34m(self)\u001b[0m\n\u001b[1;32m    416\u001b[0m \u001b[39mdef\u001b[39;00m \u001b[39mrender\u001b[39m(\u001b[39mself\u001b[39m) \u001b[39m-\u001b[39m\u001b[39m>\u001b[39m RenderFrame \u001b[39m|\u001b[39m \u001b[39mlist\u001b[39m[RenderFrame] \u001b[39m|\u001b[39m \u001b[39mNone\u001b[39;00m:\n\u001b[1;32m    417\u001b[0m \u001b[39m    \u001b[39m\u001b[39m\"\"\"Uses the :meth:`render` of the :attr:`env` that can be overwritten to change the returned data.\"\"\"\u001b[39;00m\n\u001b[0;32m--> 418\u001b[0m     \u001b[39mreturn\u001b[39;00m \u001b[39mself\u001b[39;49m\u001b[39m.\u001b[39;49menv\u001b[39m.\u001b[39;49mrender()\n",
      "File \u001b[0;32m~/research/personal/jaxl/.venv/lib/python3.9/site-packages/gymnasium/wrappers/order_enforcing.py:70\u001b[0m, in \u001b[0;36mOrderEnforcing.render\u001b[0;34m(self, *args, **kwargs)\u001b[0m\n\u001b[1;32m     65\u001b[0m \u001b[39mif\u001b[39;00m \u001b[39mnot\u001b[39;00m \u001b[39mself\u001b[39m\u001b[39m.\u001b[39m_disable_render_order_enforcing \u001b[39mand\u001b[39;00m \u001b[39mnot\u001b[39;00m \u001b[39mself\u001b[39m\u001b[39m.\u001b[39m_has_reset:\n\u001b[1;32m     66\u001b[0m     \u001b[39mraise\u001b[39;00m ResetNeeded(\n\u001b[1;32m     67\u001b[0m         \u001b[39m\"\u001b[39m\u001b[39mCannot call `env.render()` before calling `env.reset()`, if this is a intended action, \u001b[39m\u001b[39m\"\u001b[39m\n\u001b[1;32m     68\u001b[0m         \u001b[39m\"\u001b[39m\u001b[39mset `disable_render_order_enforcing=True` on the OrderEnforcer wrapper.\u001b[39m\u001b[39m\"\u001b[39m\n\u001b[1;32m     69\u001b[0m     )\n\u001b[0;32m---> 70\u001b[0m \u001b[39mreturn\u001b[39;00m \u001b[39mself\u001b[39;49m\u001b[39m.\u001b[39;49menv\u001b[39m.\u001b[39;49mrender(\u001b[39m*\u001b[39;49margs, \u001b[39m*\u001b[39;49m\u001b[39m*\u001b[39;49mkwargs)\n",
      "File \u001b[0;32m~/research/personal/jaxl/.venv/lib/python3.9/site-packages/gymnasium/wrappers/env_checker.py:65\u001b[0m, in \u001b[0;36mPassiveEnvChecker.render\u001b[0;34m(self, *args, **kwargs)\u001b[0m\n\u001b[1;32m     63\u001b[0m     \u001b[39mreturn\u001b[39;00m env_render_passive_checker(\u001b[39mself\u001b[39m\u001b[39m.\u001b[39menv, \u001b[39m*\u001b[39margs, \u001b[39m*\u001b[39m\u001b[39m*\u001b[39mkwargs)\n\u001b[1;32m     64\u001b[0m \u001b[39melse\u001b[39;00m:\n\u001b[0;32m---> 65\u001b[0m     \u001b[39mreturn\u001b[39;00m \u001b[39mself\u001b[39;49m\u001b[39m.\u001b[39;49menv\u001b[39m.\u001b[39;49mrender(\u001b[39m*\u001b[39;49margs, \u001b[39m*\u001b[39;49m\u001b[39m*\u001b[39;49mkwargs)\n",
      "File \u001b[0;32m~/research/personal/jaxl/jaxl/envs/dmc/parameterized_env.py:204\u001b[0m, in \u001b[0;36mParameterizedDMCEnv.render\u001b[0;34m(self)\u001b[0m\n\u001b[1;32m    203\u001b[0m \u001b[39mdef\u001b[39;00m \u001b[39mrender\u001b[39m(\u001b[39mself\u001b[39m):\n\u001b[0;32m--> 204\u001b[0m     \u001b[39mreturn\u001b[39;00m \u001b[39mself\u001b[39;49m\u001b[39m.\u001b[39;49menv\u001b[39m.\u001b[39;49mphysics\u001b[39m.\u001b[39;49mrender(\n\u001b[1;32m    205\u001b[0m         camera_id\u001b[39m=\u001b[39;49m\u001b[39mself\u001b[39;49m\u001b[39m.\u001b[39;49mcamera_id, height\u001b[39m=\u001b[39;49m\u001b[39mself\u001b[39;49m\u001b[39m.\u001b[39;49mheight, width\u001b[39m=\u001b[39;49m\u001b[39mself\u001b[39;49m\u001b[39m.\u001b[39;49mwidth\n\u001b[1;32m    206\u001b[0m     )\n",
      "File \u001b[0;32m~/research/personal/jaxl/.venv/lib/python3.9/site-packages/dm_control/mujoco/engine.py:229\u001b[0m, in \u001b[0;36mPhysics.render\u001b[0;34m(self, height, width, camera_id, overlays, depth, segmentation, scene_option, render_flag_overrides, scene_callback)\u001b[0m\n\u001b[1;32m    191\u001b[0m \u001b[39m\u001b[39m\u001b[39m\"\"\"Returns a camera view as a NumPy array of pixel values.\u001b[39;00m\n\u001b[1;32m    192\u001b[0m \n\u001b[1;32m    193\u001b[0m \u001b[39mArgs:\u001b[39;00m\n\u001b[0;32m   (...)\u001b[0m\n\u001b[1;32m    221\u001b[0m \u001b[39m  The rendered RGB, depth or segmentation image.\u001b[39;00m\n\u001b[1;32m    222\u001b[0m \u001b[39m\"\"\"\u001b[39;00m\n\u001b[1;32m    223\u001b[0m camera \u001b[39m=\u001b[39m Camera(\n\u001b[1;32m    224\u001b[0m     physics\u001b[39m=\u001b[39m\u001b[39mself\u001b[39m,\n\u001b[1;32m    225\u001b[0m     height\u001b[39m=\u001b[39mheight,\n\u001b[1;32m    226\u001b[0m     width\u001b[39m=\u001b[39mwidth,\n\u001b[1;32m    227\u001b[0m     camera_id\u001b[39m=\u001b[39mcamera_id,\n\u001b[1;32m    228\u001b[0m     scene_callback\u001b[39m=\u001b[39mscene_callback)\n\u001b[0;32m--> 229\u001b[0m image \u001b[39m=\u001b[39m camera\u001b[39m.\u001b[39;49mrender(\n\u001b[1;32m    230\u001b[0m     overlays\u001b[39m=\u001b[39;49moverlays, depth\u001b[39m=\u001b[39;49mdepth, segmentation\u001b[39m=\u001b[39;49msegmentation,\n\u001b[1;32m    231\u001b[0m     scene_option\u001b[39m=\u001b[39;49mscene_option, render_flag_overrides\u001b[39m=\u001b[39;49mrender_flag_overrides)\n\u001b[1;32m    232\u001b[0m camera\u001b[39m.\u001b[39m_scene\u001b[39m.\u001b[39mfree()  \u001b[39m# pylint: disable=protected-access\u001b[39;00m\n\u001b[1;32m    233\u001b[0m \u001b[39mreturn\u001b[39;00m image\n",
      "File \u001b[0;32m~/research/personal/jaxl/.venv/lib/python3.9/site-packages/dm_control/mujoco/engine.py:891\u001b[0m, in \u001b[0;36mCamera.render\u001b[0;34m(self, overlays, depth, segmentation, scene_option, render_flag_overrides)\u001b[0m\n\u001b[1;32m    889\u001b[0m \u001b[39mwith\u001b[39;00m \u001b[39mself\u001b[39m\u001b[39m.\u001b[39mscene\u001b[39m.\u001b[39moverride_flags(render_flag_overrides):\n\u001b[1;32m    890\u001b[0m   \u001b[39mwith\u001b[39;00m \u001b[39mself\u001b[39m\u001b[39m.\u001b[39m_physics\u001b[39m.\u001b[39mcontexts\u001b[39m.\u001b[39mgl\u001b[39m.\u001b[39mmake_current() \u001b[39mas\u001b[39;00m ctx:\n\u001b[0;32m--> 891\u001b[0m     ctx\u001b[39m.\u001b[39;49mcall(\u001b[39mself\u001b[39;49m\u001b[39m.\u001b[39;49m_render_on_gl_thread, depth\u001b[39m=\u001b[39;49mdepth, overlays\u001b[39m=\u001b[39;49moverlays)\n\u001b[1;32m    893\u001b[0m \u001b[39mif\u001b[39;00m depth:\n\u001b[1;32m    894\u001b[0m   \u001b[39m# Get the distances to the near and far clipping planes.\u001b[39;00m\n\u001b[1;32m    895\u001b[0m   extent \u001b[39m=\u001b[39m \u001b[39mself\u001b[39m\u001b[39m.\u001b[39m_physics\u001b[39m.\u001b[39mmodel\u001b[39m.\u001b[39mstat\u001b[39m.\u001b[39mextent\n",
      "File \u001b[0;32m~/research/personal/jaxl/.venv/lib/python3.9/site-packages/dm_control/_render/executor/render_executor.py:138\u001b[0m, in \u001b[0;36mPassthroughRenderExecutor.call\u001b[0;34m(self, func, *args, **kwargs)\u001b[0m\n\u001b[1;32m    136\u001b[0m \u001b[39mdef\u001b[39;00m \u001b[39mcall\u001b[39m(\u001b[39mself\u001b[39m, func, \u001b[39m*\u001b[39margs, \u001b[39m*\u001b[39m\u001b[39m*\u001b[39mkwargs):\n\u001b[1;32m    137\u001b[0m   \u001b[39mself\u001b[39m\u001b[39m.\u001b[39m_check_locked()\n\u001b[0;32m--> 138\u001b[0m   \u001b[39mreturn\u001b[39;00m func(\u001b[39m*\u001b[39;49margs, \u001b[39m*\u001b[39;49m\u001b[39m*\u001b[39;49mkwargs)\n",
      "File \u001b[0;32m~/research/personal/jaxl/.venv/lib/python3.9/site-packages/dm_control/mujoco/engine.py:813\u001b[0m, in \u001b[0;36mCamera._render_on_gl_thread\u001b[0;34m(self, depth, overlays)\u001b[0m\n\u001b[1;32m    810\u001b[0m     overlay\u001b[39m.\u001b[39mdraw(\u001b[39mself\u001b[39m\u001b[39m.\u001b[39m_physics\u001b[39m.\u001b[39mcontexts\u001b[39m.\u001b[39mmujoco\u001b[39m.\u001b[39mptr, \u001b[39mself\u001b[39m\u001b[39m.\u001b[39m_rect)\n\u001b[1;32m    812\u001b[0m \u001b[39m# Read the contents of either the RGB or depth buffer.\u001b[39;00m\n\u001b[0;32m--> 813\u001b[0m mujoco\u001b[39m.\u001b[39;49mmjr_readPixels(\u001b[39mself\u001b[39;49m\u001b[39m.\u001b[39;49m_rgb_buffer \u001b[39mif\u001b[39;49;00m \u001b[39mnot\u001b[39;49;00m depth \u001b[39melse\u001b[39;49;00m \u001b[39mNone\u001b[39;49;00m,\n\u001b[1;32m    814\u001b[0m                       \u001b[39mself\u001b[39;49m\u001b[39m.\u001b[39;49m_depth_buffer \u001b[39mif\u001b[39;49;00m depth \u001b[39melse\u001b[39;49;00m \u001b[39mNone\u001b[39;49;00m, \u001b[39mself\u001b[39;49m\u001b[39m.\u001b[39;49m_rect,\n\u001b[1;32m    815\u001b[0m                       \u001b[39mself\u001b[39;49m\u001b[39m.\u001b[39;49m_physics\u001b[39m.\u001b[39;49mcontexts\u001b[39m.\u001b[39;49mmujoco\u001b[39m.\u001b[39;49mptr)\n",
      "\u001b[0;31mKeyboardInterrupt\u001b[0m: "
     ]
    }
   ],
   "source": [
    "episodic_returns_per_variant = {}\n",
    "\n",
    "for run_path, _, filenames in os.walk(runs_dir):\n",
    "    for filename in filenames:\n",
    "        if filename != \"config.json\":\n",
    "            continue\n",
    "        agent_path = run_path\n",
    "\n",
    "        variant = os.path.basename(os.path.dirname(agent_path))\n",
    "\n",
    "        model_id = f\"{variant}-final\"\n",
    "        if record_video:\n",
    "            env = RecordVideoV0(\n",
    "                env,\n",
    "                f\"videos/eval_final/model_id_{model_id}-videos\",\n",
    "                disable_logger=True,\n",
    "            )\n",
    "\n",
    "        checkpoint_manager = CheckpointManager(\n",
    "            os.path.join(agent_path, \"models\"),\n",
    "            PyTreeCheckpointer(),\n",
    "        )\n",
    "        params = checkpoint_manager.restore(checkpoint_manager.latest_step())\n",
    "        model_dict = params[CONST_MODEL_DICT]\n",
    "        agent_policy_params = model_dict[CONST_MODEL][CONST_POLICY]\n",
    "        agent_obs_rms = False\n",
    "        if CONST_OBS_RMS in params:\n",
    "            agent_obs_rms = RunningMeanStd()\n",
    "            agent_obs_rms.set_state(params[CONST_OBS_RMS])\n",
    "\n",
    "        agent_rollout = EvaluationRollout(env, seed=env_seed)\n",
    "        agent_rollout.rollout(\n",
    "            agent_policy_params, policy, agent_obs_rms, num_episodes, None\n",
    "        )\n",
    "\n",
    "        episodic_returns_per_variant[model_id] = agent_rollout.episodic_returns"
   ]
  },
  {
   "cell_type": "code",
   "execution_count": null,
   "metadata": {},
   "outputs": [],
   "source": [
    "if hasattr(env, \"get_config\"):\n",
    "    print(env.get_config())"
   ]
  },
  {
   "cell_type": "code",
   "execution_count": null,
   "metadata": {},
   "outputs": [],
   "source": [
    "from pprint import pprint\n",
    "\n",
    "pprint(\n",
    "    [\n",
    "        (key, np.mean(val), np.std(val))\n",
    "        for key, val in episodic_returns_per_variant.items()\n",
    "    ]\n",
    ")"
   ]
  },
  {
   "cell_type": "code",
   "execution_count": null,
   "metadata": {},
   "outputs": [],
   "source": [
    "fig, ax = plt.subplots(1, figsize=(10, 5))\n",
    "\n",
    "model_ids = list(episodic_returns_per_variant.keys())\n",
    "means = []\n",
    "stds = []\n",
    "for val in episodic_returns_per_variant.values():\n",
    "    means.append(np.mean(val))\n",
    "    stds.append(np.std(val))\n",
    "means = np.array(means)\n",
    "stds = np.array(stds)\n",
    "\n",
    "print(means, stds)\n",
    "sort_idxes = np.argsort(model_ids)\n",
    "model_ids = np.array(model_ids)\n",
    "ax.plot(model_ids[sort_idxes], means[sort_idxes], marker=\"x\")\n",
    "ax.fill_between(\n",
    "    model_ids[sort_idxes],\n",
    "    means[sort_idxes] + stds[sort_idxes],\n",
    "    means[sort_idxes] - stds[sort_idxes],\n",
    "    alpha=0.1,\n",
    ")\n",
    "ax.set_title(f\"Returns Across {num_episodes} Episodes\")\n",
    "ax.set_xlabel(\"Iteration\")\n",
    "ax.set_ylabel(\"Return\")\n",
    "ax.legend()\n",
    "fig.show()"
   ]
  },
  {
   "cell_type": "code",
   "execution_count": null,
   "metadata": {},
   "outputs": [],
   "source": []
  }
 ],
 "metadata": {
  "kernelspec": {
   "display_name": ".venv",
   "language": "python",
   "name": "python3"
  },
  "language_info": {
   "codemirror_mode": {
    "name": "ipython",
    "version": 3
   },
   "file_extension": ".py",
   "mimetype": "text/x-python",
   "name": "python",
   "nbconvert_exporter": "python",
   "pygments_lexer": "ipython3",
   "version": "3.9.17"
  },
  "orig_nbformat": 4
 },
 "nbformat": 4,
 "nbformat_minor": 2
}
