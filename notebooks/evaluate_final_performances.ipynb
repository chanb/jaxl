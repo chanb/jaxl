{
 "cells": [
  {
   "attachments": {},
   "cell_type": "markdown",
   "metadata": {},
   "source": [
    "# Evaluate final performances from different runs"
   ]
  },
  {
   "cell_type": "code",
   "execution_count": 1,
   "metadata": {},
   "outputs": [],
   "source": [
    "from gymnasium.experimental.wrappers import RecordVideoV0\n",
    "from orbax.checkpoint import PyTreeCheckpointer, CheckpointManager\n",
    "\n",
    "import _pickle as pickle\n",
    "import jax\n",
    "import json\n",
    "import logging\n",
    "import matplotlib.pyplot as plt\n",
    "import numpy as np\n",
    "import os\n",
    "import timeit\n",
    "\n",
    "from jaxl.buffers import get_buffer\n",
    "from jaxl.constants import *\n",
    "from jaxl.models import (\n",
    "    get_model,\n",
    "    get_policy,\n",
    "    policy_output_dim,\n",
    ")\n",
    "from jaxl.models.policies import MultitaskPolicy\n",
    "from jaxl.envs import get_environment\n",
    "from jaxl.envs.rollouts import EvaluationRollout\n",
    "from jaxl.utils import (\n",
    "    set_seed,\n",
    "    parse_dict,\n",
    "    set_dict_value,\n",
    "    get_dict_value,\n",
    "    RunningMeanStd,\n",
    ")"
   ]
  },
  {
   "cell_type": "code",
   "execution_count": 2,
   "metadata": {},
   "outputs": [],
   "source": [
    "run_seed = None\n",
    "set_seed(run_seed)"
   ]
  },
  {
   "cell_type": "code",
   "execution_count": 3,
   "metadata": {},
   "outputs": [],
   "source": [
    "def get_env(agent_path):\n",
    "    agent_config_path = os.path.join(agent_path, \"config.json\")\n",
    "    with open(agent_config_path, \"r\") as f:\n",
    "        agent_config_dict = json.load(f)\n",
    "    return agent_config_dict[\"learner_config\"][\"env_config\"]"
   ]
  },
  {
   "cell_type": "code",
   "execution_count": 4,
   "metadata": {},
   "outputs": [],
   "source": [
    "# agent_path = \"/Users/chanb/research/personal/jaxl/data/hyperparam_search/hopper_cont/search_expert/runs/1/variant-138/07-12-23_16_41_59-34de64b8-6a08-4292-88c9-fe12358710d7\"\n",
    "# runs_dir = \"/Users/chanb/research/personal/jaxl/data/hyperparam_search/hopper_cont/search_expert/runs\"\n",
    "\n",
    "# agent_path = \"/Users/chanb/research/personal/jaxl/data/hyperparam_search/hopper_disc/search_expert/runs/0/variant-14/07-12-23_16_20_52-884602c9-a9b9-4844-9d08-7fb71bc08abf\"\n",
    "# runs_dir = \"/Users/chanb/research/personal/jaxl/data/hyperparam_search/hopper_disc/search_expert/runs\"\n",
    "\n",
    "# agent_path = runs_dir = \"/Users/chanb/research/personal/mtil_results/data/search_expert/pendulum/discrete/runs/0/variant-20/07-19-23_09_45_28-3f727c34-d48c-426c-b8c9-b1f39a43997a\"\n",
    "# agent_path = runs_dir = \"/Users/chanb/research/personal/mtil_results/data/search_expert/pendulum/continuous/runs/0/variant-68/07-19-23_09_34_42-e626f409-3ee3-4f7e-a86c-1f3aeefd876f\"\n",
    "# agent_path = runs_dir = \"/Users/chanb/research/personal/mtil_results/data/search_expert/cheetah/discrete/runs/0/variant-71/07-19-23_08_19_57-c49d4632-446b-401c-8d5a-05805f605f93\"\n",
    "# agent_path = runs_dir = \"/Users/chanb/research/personal/mtil_results/data/search_expert/cheetah/continuous/runs/0/variant-46/07-19-23_07_45_39-8cee976a-eeea-4423-b49b-2b8c154bf9c2\"\n",
    "\n",
    "# Walker run\n",
    "# agent_path = runs_dir = \"/Users/chanb/research/personal/mtil_results/data/search_expert/walker-run/discrete/runs/0/variant-19/07-19-23_08_51_26-ad429b0c-ac8c-4e5d-b54c-954ff04a8326\"\n",
    "# agent_path = runs_dir = \"/Users/chanb/research/personal/mtil_results/data/search_expert/walker-run/continuous/runs/0/variant-43/07-19-23_08_34_12-233bdacb-b391-45a8-abd3-b4302793c811\"\n",
    "\n",
    "# Walker walk\n",
    "# agent_path = runs_dir = \"/Users/chanb/research/personal/mtil_results/data/search_expert/walker/discrete/runs/0/variant-23/07-20-23_00_17_47-83e8809d-83d1-4469-89ff-9568df858294\"\n",
    "# agent_path = runs_dir = \"/Users/chanb/research/personal/mtil_results/data/search_expert/walker/continuous/runs/0/variant-10/07-19-23_23_48_24-f58e40b4-a9c6-44bc-b0e6-3ce4e6eaacfb\"\n",
    "\n",
    "# agent_path = runs_dir = \"/Users/chanb/research/personal/mtil_results/preliminary/all_sweep-single_seed-single_env_seed/walker/continuous/runs/0/variant-10/07-19-23_23_48_24-f58e40b4-a9c6-44bc-b0e6-3ce4e6eaacfb\"\n",
    "agent_path = (\n",
    "    runs_dir\n",
    ") = \"/Users/chanb/research/personal/jaxl/jaxl/logs/pendulum_discrete/ppo-same_hyper/07-29-23_12_31_33-0e9cdf80-41eb-4565-a393-9d2ac1d9d15c\"\n",
    "trained_env_parameters = get_env(agent_path)\n",
    "\n",
    "\n",
    "num_episodes = 100\n",
    "env_seed = 9999\n",
    "buffer_size = 0\n",
    "record_video = True"
   ]
  },
  {
   "cell_type": "code",
   "execution_count": 5,
   "metadata": {},
   "outputs": [],
   "source": [
    "def get_config(agent_path):\n",
    "    agent_config_path = os.path.join(agent_path, \"config.json\")\n",
    "    with open(agent_config_path, \"r\") as f:\n",
    "        agent_config_dict = json.load(f)\n",
    "        agent_config_dict[\"learner_config\"][\"env_config\"] = trained_env_parameters\n",
    "        agent_config_dict[\"learner_config\"][\"env_config\"][\"env_kwargs\"][\n",
    "            \"render_mode\"\n",
    "        ] = \"rgb_array\"\n",
    "        if \"policy_distribution\" not in agent_config_dict[\"learner_config\"]:\n",
    "            agent_config_dict[\"learner_config\"][\n",
    "                \"policy_distribution\"\n",
    "            ] = CONST_DETERMINISTIC\n",
    "        set_dict_value(agent_config_dict, \"vmap_all\", False)\n",
    "        (multitask, num_models) = get_dict_value(agent_config_dict, \"num_models\")\n",
    "        agent_config = parse_dict(agent_config_dict)\n",
    "    return agent_config, {\n",
    "        \"multitask\": multitask,\n",
    "        \"num_models\": num_models,\n",
    "    }"
   ]
  },
  {
   "cell_type": "code",
   "execution_count": 6,
   "metadata": {},
   "outputs": [],
   "source": [
    "# Build agent and policy\n",
    "agent_config, aux = get_config(agent_path)\n",
    "env = get_environment(agent_config.learner_config.env_config)\n",
    "\n",
    "input_dim = env.observation_space.shape\n",
    "output_dim = policy_output_dim(env.act_dim, agent_config.learner_config)\n",
    "model = get_model(\n",
    "    input_dim,\n",
    "    output_dim,\n",
    "    getattr(agent_config.model_config, \"policy\", agent_config.model_config),\n",
    ")\n",
    "policy = get_policy(model, agent_config.learner_config)\n",
    "if aux[\"multitask\"]:\n",
    "    policy = MultitaskPolicy(policy, model, aux[\"num_models\"])"
   ]
  },
  {
   "cell_type": "code",
   "execution_count": 7,
   "metadata": {},
   "outputs": [
    {
     "name": "stderr",
     "output_type": "stream",
     "text": [
      "100%|██████████| 100/100 [00:14<00:00,  6.86it/s]\n"
     ]
    }
   ],
   "source": [
    "episodic_returns_per_variant = {}\n",
    "\n",
    "for run_path, _, filenames in os.walk(runs_dir):\n",
    "    for filename in filenames:\n",
    "        if filename != \"config.json\":\n",
    "            continue\n",
    "        agent_path = run_path\n",
    "\n",
    "        variant = os.path.basename(os.path.dirname(agent_path))\n",
    "\n",
    "        model_id = f\"{variant}-final\"\n",
    "        if record_video:\n",
    "            env = RecordVideoV0(\n",
    "                env,\n",
    "                f\"videos/eval_final/model_id_{model_id}-videos\",\n",
    "                disable_logger=True,\n",
    "            )\n",
    "\n",
    "        checkpoint_manager = CheckpointManager(\n",
    "            os.path.join(agent_path, \"models\"),\n",
    "            PyTreeCheckpointer(),\n",
    "        )\n",
    "        params = checkpoint_manager.restore(checkpoint_manager.latest_step())\n",
    "        model_dict = params[CONST_MODEL_DICT]\n",
    "        agent_policy_params = model_dict[CONST_MODEL][CONST_POLICY]\n",
    "        agent_obs_rms = False\n",
    "        if CONST_OBS_RMS in params:\n",
    "            agent_obs_rms = RunningMeanStd()\n",
    "            agent_obs_rms.set_state(params[CONST_OBS_RMS])\n",
    "\n",
    "        agent_rollout = EvaluationRollout(env, seed=env_seed)\n",
    "        agent_rollout.rollout(\n",
    "            agent_policy_params, policy, agent_obs_rms, num_episodes, None\n",
    "        )\n",
    "\n",
    "        episodic_returns_per_variant[model_id] = agent_rollout.episodic_returns"
   ]
  },
  {
   "cell_type": "code",
   "execution_count": 8,
   "metadata": {},
   "outputs": [
    {
     "name": "stdout",
     "output_type": "stream",
     "text": [
      "{'modified_attributes': {'max_torque': 2.0}}\n"
     ]
    }
   ],
   "source": [
    "if hasattr(env, \"get_config\"):\n",
    "    print(env.get_config())"
   ]
  },
  {
   "cell_type": "code",
   "execution_count": 9,
   "metadata": {},
   "outputs": [
    {
     "name": "stdout",
     "output_type": "stream",
     "text": [
      "[('ppo-same_hyper-final', -183.0344760375588, 101.84499767370693)]\n"
     ]
    }
   ],
   "source": [
    "from pprint import pprint\n",
    "\n",
    "pprint(\n",
    "    [\n",
    "        (key, np.mean(val), np.std(val))\n",
    "        for key, val in episodic_returns_per_variant.items()\n",
    "    ]\n",
    ")"
   ]
  },
  {
   "cell_type": "code",
   "execution_count": 11,
   "metadata": {},
   "outputs": [
    {
     "name": "stderr",
     "output_type": "stream",
     "text": [
      "WARNING:matplotlib.legend:No artists with labels found to put in legend.  Note that artists whose label start with an underscore are ignored when legend() is called with no argument.\n"
     ]
    },
    {
     "name": "stdout",
     "output_type": "stream",
     "text": [
      "[-183.03447604] [101.84499767]\n"
     ]
    },
    {
     "name": "stderr",
     "output_type": "stream",
     "text": [
      "/var/folders/h6/qs8bwp4d7bg67j4vbv960hdh0000gn/T/ipykernel_69951/2015625105.py:26: UserWarning: Matplotlib is currently using module://matplotlib_inline.backend_inline, which is a non-GUI backend, so cannot show the figure.\n",
      "  fig.show()\n"
     ]
    },
    {
     "data": {
      "image/png": "[encoded data removed]",
      "text/plain": [
       "<Figure size 1000x500 with 1 Axes>"
      ]
     },
     "metadata": {},
     "output_type": "display_data"
    }
   ],
   "source": [
    "fig, ax = plt.subplots(1, figsize=(10, 5))\n",
    "\n",
    "model_ids = list(episodic_returns_per_variant.keys())\n",
    "means = []\n",
    "stds = []\n",
    "for val in episodic_returns_per_variant.values():\n",
    "    means.append(np.mean(val))\n",
    "    stds.append(np.std(val))\n",
    "means = np.array(means)\n",
    "stds = np.array(stds)\n",
    "\n",
    "print(means, stds)\n",
    "sort_idxes = np.argsort(model_ids)\n",
    "model_ids = np.array(model_ids)\n",
    "ax.plot(model_ids[sort_idxes], means[sort_idxes], marker=\"x\")\n",
    "ax.fill_between(\n",
    "    model_ids[sort_idxes],\n",
    "    means[sort_idxes] + stds[sort_idxes],\n",
    "    means[sort_idxes] - stds[sort_idxes],\n",
    "    alpha=0.1,\n",
    ")\n",
    "ax.set_title(f\"Returns Across {num_episodes} Episodes\")\n",
    "ax.set_xlabel(\"Iteration\")\n",
    "ax.set_ylabel(\"Return\")\n",
    "ax.legend()\n",
    "fig.show()"
   ]
  },
  {
   "cell_type": "code",
   "execution_count": null,
   "metadata": {},
   "outputs": [],
   "source": []
  }
 ],
 "metadata": {
  "kernelspec": {
   "display_name": ".venv",
   "language": "python",
   "name": "python3"
  },
  "language_info": {
   "codemirror_mode": {
    "name": "ipython",
    "version": 3
   },
   "file_extension": ".py",
   "mimetype": "text/x-python",
   "name": "python",
   "nbconvert_exporter": "python",
   "pygments_lexer": "ipython3",
   "version": "3.9.17"
  },
  "orig_nbformat": 4
 },
 "nbformat": 4,
 "nbformat_minor": 2
}
