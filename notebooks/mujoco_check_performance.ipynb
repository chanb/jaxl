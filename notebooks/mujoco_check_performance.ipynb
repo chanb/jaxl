{
 "cells": [
  {
   "cell_type": "code",
   "execution_count": null,
   "metadata": {},
   "outputs": [],
   "source": [
    "from gymnasium.experimental.wrappers import RecordVideoV0\n",
    "from orbax.checkpoint import PyTreeCheckpointer\n",
    "\n",
    "import _pickle as pickle\n",
    "import jax\n",
    "import json\n",
    "import logging\n",
    "import matplotlib.pyplot as plt\n",
    "import numpy as np\n",
    "import os\n",
    "import timeit\n",
    "\n",
    "from jaxl.buffers import get_buffer\n",
    "from jaxl.constants import *\n",
    "from jaxl.models import (\n",
    "    get_model,\n",
    "    get_policy,\n",
    "    policy_output_dim,\n",
    ")\n",
    "from jaxl.models.policies import MultitaskPolicy\n",
    "from jaxl.envs import get_environment\n",
    "from jaxl.envs.rollouts import EvaluationRollout\n",
    "from jaxl.utils import set_seed, parse_dict, set_dict_value, get_dict_value"
   ]
  },
  {
   "cell_type": "code",
   "execution_count": null,
   "metadata": {},
   "outputs": [],
   "source": [
    "run_seed = None\n",
    "set_seed(run_seed)"
   ]
  },
  {
   "cell_type": "code",
   "execution_count": null,
   "metadata": {},
   "outputs": [],
   "source": [
    "def get_env(agent_path):\n",
    "    agent_config_path = os.path.join(agent_path, \"config.json\")\n",
    "    with open(agent_config_path, \"r\") as f:\n",
    "        agent_config_dict = json.load(f)\n",
    "    return agent_config_dict[\"learner_config\"][\"env_config\"]"
   ]
  },
  {
   "cell_type": "code",
   "execution_count": null,
   "metadata": {},
   "outputs": [],
   "source": [
    "runs_dir = \"/Users/chanb/research/personal/jaxl/jaxl/logs/half_cheetah/ppo\"\n",
    "buffer_config = {\n",
    "    \"buffer_type\": \"default\",\n",
    "    \"load_buffer\": \"/Users/chanb/research/personal/jaxl/jaxl/logs/half_cheetah/ppo/06-27-23_10_59_35-b651bdeb-e751-4e3e-962b-9d599009e77e/termination_buffer.gzip\",\n",
    "}\n",
    "buffer_config = parse_dict(buffer_config)\n",
    "buffer = get_buffer(buffer_config, 42)"
   ]
  },
  {
   "cell_type": "code",
   "execution_count": null,
   "metadata": {},
   "outputs": [],
   "source": [
    "def get_config(agent_path):\n",
    "    agent_config_path = os.path.join(agent_path, \"config.json\")\n",
    "    with open(agent_config_path, \"r\") as f:\n",
    "        agent_config_dict = json.load(f)\n",
    "        (multitask, num_models) = get_dict_value(agent_config_dict, \"num_models\")\n",
    "        set_dict_value(agent_config_dict, \"vmap_all\", False)\n",
    "        agent_config = parse_dict(agent_config_dict)\n",
    "    return agent_config, {\n",
    "        \"multitask\": multitask,\n",
    "        \"num_models\": num_models,\n",
    "    }"
   ]
  },
  {
   "cell_type": "code",
   "execution_count": null,
   "metadata": {},
   "outputs": [],
   "source": [
    "models = {}\n",
    "env_configs = {}\n",
    "\n",
    "checkpointer = PyTreeCheckpointer()\n",
    "for root, dirnames, _ in os.walk(runs_dir):\n",
    "    for dirname in dirnames:\n",
    "        if dirname != \"termination_model\":\n",
    "            continue\n",
    "        agent_model_path = os.path.join(root, dirname)\n",
    "        agent_config, _ = get_config(root)\n",
    "        learner_config = agent_config.learner_config\n",
    "        \n",
    "        model_dict = checkpointer.restore(agent_model_path)\n",
    "        models[os.path.basename(root)] = {\n",
    "            \"model\": get_model(buffer.input_dim, buffer.output_dim, agent_config.model_config),\n",
    "            \"model_dict\": model_dict,\n",
    "        }\n",
    "        env_configs[os.path.basename(root)] = pickle.load(open(os.path.join(root, \"env_config.pkl\"), \"rb\"))"
   ]
  },
  {
   "attachments": {},
   "cell_type": "markdown",
   "metadata": {},
   "source": []
  }
 ],
 "metadata": {
  "kernelspec": {
   "display_name": ".venv",
   "language": "python",
   "name": "python3"
  },
  "language_info": {
   "codemirror_mode": {
    "name": "ipython",
    "version": 3
   },
   "file_extension": ".py",
   "mimetype": "text/x-python",
   "name": "python",
   "nbconvert_exporter": "python",
   "pygments_lexer": "ipython3",
   "version": "3.9.17"
  },
  "orig_nbformat": 4
 },
 "nbformat": 4,
 "nbformat_minor": 2
}
