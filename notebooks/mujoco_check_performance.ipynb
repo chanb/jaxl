{
 "cells": [
  {
   "cell_type": "code",
   "execution_count": 1,
   "metadata": {},
   "outputs": [],
   "source": [
    "from gymnasium.experimental.wrappers import RecordVideoV0\n",
    "from orbax.checkpoint import PyTreeCheckpointer\n",
    "\n",
    "import _pickle as pickle\n",
    "import jax\n",
    "import json\n",
    "import logging\n",
    "import matplotlib.pyplot as plt\n",
    "import numpy as np\n",
    "import os\n",
    "import timeit\n",
    "\n",
    "from jaxl.buffers import get_buffer\n",
    "from jaxl.constants import *\n",
    "from jaxl.models import (\n",
    "    get_model,\n",
    "    get_policy,\n",
    "    policy_output_dim,\n",
    ")\n",
    "from jaxl.models.policies import MultitaskPolicy\n",
    "from jaxl.envs import get_environment\n",
    "from jaxl.envs.rollouts import EvaluationRollout\n",
    "from jaxl.utils import set_seed, parse_dict, set_dict_value, get_dict_value"
   ]
  },
  {
   "cell_type": "code",
   "execution_count": 2,
   "metadata": {},
   "outputs": [],
   "source": [
    "run_seed = None\n",
    "set_seed(run_seed)"
   ]
  },
  {
   "cell_type": "code",
   "execution_count": 3,
   "metadata": {},
   "outputs": [],
   "source": [
    "def get_env(agent_path):\n",
    "    agent_config_path = os.path.join(agent_path, \"config.json\")\n",
    "    with open(agent_config_path, \"r\") as f:\n",
    "        agent_config_dict = json.load(f)\n",
    "    return agent_config_dict[\"learner_config\"][\"env_config\"]"
   ]
  },
  {
   "cell_type": "code",
   "execution_count": 4,
   "metadata": {},
   "outputs": [],
   "source": [
    "runs_dir = \"/Users/chanb/research/personal/jaxl/jaxl/logs/half_cheetah-default/ppo\"\n",
    "buffer_config = {\n",
    "    \"buffer_type\": \"default\",\n",
    "    \"load_buffer\": \"/Users/chanb/research/personal/jaxl/jaxl/logs/half_cheetah/ppo/06-27-23_10_59_35-b651bdeb-e751-4e3e-962b-9d599009e77e/termination_buffer.gzip\",\n",
    "}\n",
    "buffer_config = parse_dict(buffer_config)\n",
    "buffer = get_buffer(buffer_config, 42)"
   ]
  },
  {
   "cell_type": "code",
   "execution_count": 5,
   "metadata": {},
   "outputs": [],
   "source": [
    "def get_config(agent_path):\n",
    "    agent_config_path = os.path.join(agent_path, \"config.json\")\n",
    "    with open(agent_config_path, \"r\") as f:\n",
    "        agent_config_dict = json.load(f)\n",
    "        (multitask, num_models) = get_dict_value(agent_config_dict, \"num_models\")\n",
    "        set_dict_value(agent_config_dict, \"vmap_all\", False)\n",
    "        agent_config = parse_dict(agent_config_dict)\n",
    "\n",
    "    return agent_config, {\n",
    "        \"multitask\": multitask,\n",
    "        \"num_models\": num_models,\n",
    "    }"
   ]
  },
  {
   "cell_type": "code",
   "execution_count": 6,
   "metadata": {},
   "outputs": [],
   "source": [
    "models = {}\n",
    "env_configs = {}\n",
    "\n",
    "checkpointer = PyTreeCheckpointer()\n",
    "for root, dirnames, _ in os.walk(runs_dir):\n",
    "    for dirname in dirnames:\n",
    "        if dirname != \"termination_model\":\n",
    "            continue\n",
    "        agent_model_path = os.path.join(root, dirname)\n",
    "        agent_config, misc = get_config(root)\n",
    "        learner_config = agent_config.learner_config\n",
    "\n",
    "        model_dict = checkpointer.restore(agent_model_path)\n",
    "        models[os.path.basename(root)] = {\n",
    "            \"model\": get_model(\n",
    "                buffer.input_dim,\n",
    "                buffer.output_dim,\n",
    "                getattr(agent_config.model_config, \"policy\", agent_config.model_config),\n",
    "            ),\n",
    "            \"model_dict\": model_dict,\n",
    "        }\n",
    "        env_configs[os.path.basename(root)] = pickle.load(\n",
    "            open(os.path.join(root, \"env_config.pkl\"), \"rb\")\n",
    "        )"
   ]
  },
  {
   "cell_type": "code",
   "execution_count": 10,
   "metadata": {},
   "outputs": [
    {
     "name": "stdout",
     "output_type": "stream",
     "text": [
      "07-06-23_09_18_42-8df3523f-540c-4f9e-87ad-76780b5951c2\n",
      "<mujoco model=\"cheetah\">\n",
      "  <compiler angle=\"radian\" coordinate=\"local\" inertiafromgeom=\"true\" settotalmass=\"14\" />\n",
      "  <default>\n",
      "    <joint armature=\".1\" damping=\".01\" limited=\"true\" solimplimit=\"0 .8 .03\" solreflimit=\".02 1\" stiffness=\"8\" />\n",
      "    <geom conaffinity=\"0\" condim=\"3\" contype=\"1\" friction=\".4 .1 .1\" rgba=\"0.8 0.6 .4 1\" solimp=\"0.0 0.8 0.01\" solref=\"0.02 1\" />\n",
      "    <motor ctrllimited=\"true\" ctrlrange=\"-1 1\" />\n",
      "  </default>\n",
      "  <size nstack=\"300000\" nuser_geom=\"1\" />\n",
      "  <option gravity=\"0 0 -9.81\" timestep=\"0.01\" />\n",
      "  <asset>\n",
      "    <texture builtin=\"gradient\" height=\"100\" rgb1=\"1 1 1\" rgb2=\"0 0 0\" type=\"skybox\" width=\"100\" />\n",
      "    <texture builtin=\"flat\" height=\"1278\" mark=\"cross\" markrgb=\"1 1 1\" name=\"texgeom\" random=\"0.01\" rgb1=\"0.8 0.6 0.4\" rgb2=\"0.8 0.6 0.4\" type=\"cube\" width=\"127\" />\n",
      "    <texture builtin=\"checker\" height=\"100\" name=\"texplane\" rgb1=\"0 0 0\" rgb2=\"0.8 0.8 0.8\" type=\"2d\" width=\"100\" />\n",
      "    <material name=\"MatPlane\" reflectance=\"0.5\" shininess=\"1\" specular=\"1\" texrepeat=\"60 60\" texture=\"texplane\" />\n",
      "    <material name=\"geom\" texture=\"texgeom\" texuniform=\"true\" />\n",
      "  </asset>\n",
      "  <worldbody>\n",
      "    <light cutoff=\"100\" diffuse=\"1 1 1\" dir=\"-0 0 -1.3\" directional=\"true\" exponent=\"1\" pos=\"0 0 1.3\" specular=\".1 .1 .1\" />\n",
      "    <geom conaffinity=\"1\" condim=\"3\" material=\"MatPlane\" name=\"floor\" pos=\"0 0 0\" rgba=\"0.8 0.9 0.8 1\" size=\"40 40 40\" type=\"plane\" />\n",
      "    <body name=\"torso\" pos=\"0 0 .7\">\n",
      "      <camera name=\"track\" mode=\"trackcom\" pos=\"0 -3 0.3\" xyaxes=\"1 0 0 0 0 1\" />\n",
      "      <joint armature=\"0\" axis=\"1 0 0\" damping=\"0\" limited=\"false\" name=\"rootx\" pos=\"0 0 0\" stiffness=\"0\" type=\"slide\" />\n",
      "      <joint armature=\"0\" axis=\"0 0 1\" damping=\"0\" limited=\"false\" name=\"rootz\" pos=\"0 0 0\" stiffness=\"0\" type=\"slide\" />\n",
      "      <joint armature=\"0\" axis=\"0 1 0\" damping=\"0\" limited=\"false\" name=\"rooty\" pos=\"0 0 0\" stiffness=\"0\" type=\"hinge\" />\n",
      "      <geom fromto=\"-.5 0 0 .5 0 0\" name=\"torso\" size=\"0.046\" type=\"capsule\" />\n",
      "      <geom axisangle=\"0 1 0 .87\" name=\"head\" pos=\".6 0 .1\" size=\"0.046 .15\" type=\"capsule\" />\n",
      "      \n",
      "      <body name=\"bthigh\" pos=\"-.5 0 0\">\n",
      "        <joint axis=\"0 1 0\" damping=\"6\" name=\"bthigh\" pos=\"0 0 0\" range=\"-.52 1.05\" stiffness=\"240\" type=\"hinge\" />\n",
      "        <geom axisangle=\"0 1 0 -3.8\" name=\"bthigh\" pos=\".1 0 -.13\" size=\"0.046 .145\" type=\"capsule\" />\n",
      "        <body name=\"bshin\" pos=\".16 0 -.25\">\n",
      "          <joint axis=\"0 1 0\" damping=\"4.5\" name=\"bshin\" pos=\"0 0 0\" range=\"-.785 .785\" stiffness=\"180\" type=\"hinge\" />\n",
      "          <geom axisangle=\"0 1 0 -2.03\" name=\"bshin\" pos=\"-.14 0 -.07\" rgba=\"0.9 0.6 0.6 1\" size=\"0.046 .15\" type=\"capsule\" />\n",
      "          <body name=\"bfoot\" pos=\"-.28 0 -.14\">\n",
      "            <joint axis=\"0 1 0\" damping=\"3\" name=\"bfoot\" pos=\"0 0 0\" range=\"-.4 .785\" stiffness=\"120\" type=\"hinge\" />\n",
      "            <geom axisangle=\"0 1 0 -.27\" name=\"bfoot\" pos=\".03 0 -.097\" rgba=\"0.9 0.6 0.6 1\" size=\"0.046 .094\" type=\"capsule\" />\n",
      "          </body>\n",
      "        </body>\n",
      "      </body>\n",
      "      <body name=\"fthigh\" pos=\".5 0 0\">\n",
      "        <joint axis=\"0 1 0\" damping=\"4.5\" name=\"fthigh\" pos=\"0 0 0\" range=\"-1 .7\" stiffness=\"180\" type=\"hinge\" />\n",
      "        <geom axisangle=\"0 1 0 .52\" name=\"fthigh\" pos=\"-.07 0 -.12\" size=\"0.046 .133\" type=\"capsule\" />\n",
      "        <body name=\"fshin\" pos=\"-.14 0 -.24\">\n",
      "          <joint axis=\"0 1 0\" damping=\"3\" name=\"fshin\" pos=\"0 0 0\" range=\"-1.2 .87\" stiffness=\"120\" type=\"hinge\" />\n",
      "          <geom axisangle=\"0 1 0 -.6\" name=\"fshin\" pos=\".065 0 -.09\" rgba=\"0.9 0.6 0.6 1\" size=\"0.046 .106\" type=\"capsule\" />\n",
      "          <body name=\"ffoot\" pos=\".13 0 -.18\">\n",
      "            <joint axis=\"0 1 0\" damping=\"1.5\" name=\"ffoot\" pos=\"0 0 0\" range=\"-.5 .5\" stiffness=\"60\" type=\"hinge\" />\n",
      "            <geom axisangle=\"0 1 0 -.6\" name=\"ffoot\" pos=\".045 0 -.07\" rgba=\"0.9 0.6 0.6 1\" size=\"0.046 .07\" type=\"capsule\" />\n",
      "          </body>\n",
      "        </body>\n",
      "      </body>\n",
      "    </body>\n",
      "  </worldbody>\n",
      "  <actuator>\n",
      "    <motor gear=\"120\" joint=\"bthigh\" name=\"bthigh\" />\n",
      "    <motor gear=\"90\" joint=\"bshin\" name=\"bshin\" />\n",
      "    <motor gear=\"60\" joint=\"bfoot\" name=\"bfoot\" />\n",
      "    <motor gear=\"120\" joint=\"fthigh\" name=\"fthigh\" />\n",
      "    <motor gear=\"60\" joint=\"fshin\" name=\"fshin\" />\n",
      "    <motor gear=\"30\" joint=\"ffoot\" name=\"ffoot\" />\n",
      "  </actuator>\n",
      "</mujoco>\n"
     ]
    }
   ],
   "source": [
    "from pprint import pprint\n",
    "\n",
    "for key, val in env_configs.items():\n",
    "    print(key)\n",
    "    print(val[\"modified_attributes\"])"
   ]
  },
  {
   "cell_type": "code",
   "execution_count": null,
   "metadata": {},
   "outputs": [],
   "source": []
  }
 ],
 "metadata": {
  "kernelspec": {
   "display_name": ".venv",
   "language": "python",
   "name": "python3"
  },
  "language_info": {
   "codemirror_mode": {
    "name": "ipython",
    "version": 3
   },
   "file_extension": ".py",
   "mimetype": "text/x-python",
   "name": "python",
   "nbconvert_exporter": "python",
   "pygments_lexer": "ipython3",
   "version": "3.9.17"
  },
  "orig_nbformat": 4
 },
 "nbformat": 4,
 "nbformat_minor": 2
}
