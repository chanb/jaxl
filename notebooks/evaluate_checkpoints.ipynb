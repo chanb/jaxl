{
 "cells": [
  {
   "attachments": {},
   "cell_type": "markdown",
   "metadata": {},
   "source": [
    "# Evaluate trained policies at checkpoints and choose the best one"
   ]
  },
  {
   "cell_type": "code",
   "execution_count": null,
   "metadata": {},
   "outputs": [],
   "source": [
    "from pprint import pprint\n",
    "\n",
    "import _pickle as pickle\n",
    "import math\n",
    "import matplotlib\n",
    "%matplotlib widget\n",
    "import matplotlib.cm as cm\n",
    "import matplotlib.pyplot as plt\n",
    "import notebook_utils\n",
    "import numpy as np\n",
    "import os\n",
    "\n",
    "from jaxl.constants import *\n",
    "from jaxl.utils import set_seed"
   ]
  },
  {
   "cell_type": "code",
   "execution_count": null,
   "metadata": {},
   "outputs": [],
   "source": [
    "run_seed = None\n",
    "set_seed(run_seed)"
   ]
  },
  {
   "cell_type": "code",
   "execution_count": null,
   "metadata": {},
   "outputs": [],
   "source": [
    "runs_dir = \"/Users/chanb/research/personal/jaxl/data/expert_models/pendulum_disc/runs\"\n",
    "save_path = \"pendulum_disc.pkl\"\n",
    "\n",
    "num_episodes = 10\n",
    "env_seed = 9999\n",
    "record_video = False"
   ]
  },
  {
   "cell_type": "code",
   "execution_count": null,
   "metadata": {},
   "outputs": [],
   "source": [
    "results = {}\n",
    "\n",
    "if os.path.isfile(save_path):\n",
    "    results = pickle.load(open(save_path, \"rb\"))\n",
    "else:\n",
    "    run_i = 0\n",
    "    for run_path, _, filenames in os.walk(runs_dir):\n",
    "        for filename in filenames:\n",
    "            if filename != \"config.json\":\n",
    "                continue\n",
    "            run_i += 1\n",
    "            if run_i % 10 == 0:\n",
    "                print(f\"Processed {run_i} variants\")\n",
    "            agent_path = run_path\n",
    "            variant = os.path.basename(os.path.dirname(agent_path)).split(\"-\")[1]\n",
    "            results[variant] = notebook_utils.get_episodic_returns_per_checkpoint(\n",
    "                agent_path,\n",
    "                variant,\n",
    "                env_seed,\n",
    "                num_episodes,\n",
    "                None,\n",
    "                record_video,\n",
    "                False,\n",
    "            )\n",
    "\n",
    "    if save_path:\n",
    "        with open(save_path, \"wb\") as f:\n",
    "            pickle.dump(results, f)"
   ]
  },
  {
   "cell_type": "code",
   "execution_count": null,
   "metadata": {},
   "outputs": [],
   "source": [
    "sorted_variants = np.sort([int(variant) for variant in results.keys()])"
   ]
  },
  {
   "cell_type": "code",
   "execution_count": null,
   "metadata": {},
   "outputs": [],
   "source": [
    "modified_attributes = {}\n",
    "best_returns = []\n",
    "\n",
    "for variant_val in results.values():\n",
    "    for attr, attr_val in variant_val[CONST_ENV_CONFIG][\"modified_attributes\"].items():\n",
    "        modified_attributes.setdefault(attr, [])\n",
    "        modified_attributes[attr].append(attr_val)\n",
    "    best_returns.append(np.max(np.mean(list(variant_val[CONST_EPISODIC_RETURNS].values()), axis=-1)))\n"
   ]
  },
  {
   "cell_type": "code",
   "execution_count": null,
   "metadata": {},
   "outputs": [],
   "source": [
    "n_rows = math.ceil(len(modified_attributes) / 3)\n",
    "fig, axes = plt.subplots(n_rows, 3, figsize=(17.5, (5 * n_rows)))\n",
    "\n",
    "for attr_i, (attr, attr_vals) in enumerate(modified_attributes.items()):\n",
    "    row_i = attr_i // 3\n",
    "    col_i = attr_i % 3\n",
    "    sort_idxes = np.argsort(attr_vals)\n",
    "    if n_rows == 1:\n",
    "        axes[col_i].plot(np.array(attr_vals)[sort_idxes], np.array(best_returns)[sort_idxes])\n",
    "        axes[col_i].set_title(f\"Attribute: {attr}\")\n",
    "    else:\n",
    "        axes[row_i, col_i].plot(np.array(attr_vals)[sort_idxes], np.array(best_returns)[sort_idxes])\n",
    "        axes[row_i, col_i].set_title(f\"Attribute: {attr}\")\n",
    "\n",
    "fig.supylabel(\"Best Expected Returns\")\n",
    "fig.tight_layout()"
   ]
  },
  {
   "cell_type": "code",
   "execution_count": null,
   "metadata": {},
   "outputs": [],
   "source": [
    "len(modified_attributes)"
   ]
  },
  {
   "cell_type": "code",
   "execution_count": null,
   "metadata": {},
   "outputs": [],
   "source": [
    "if len(modified_attributes) == 3:\n",
    "    (x_label, y_label, z_label) = list(modified_attributes.keys())\n",
    "\n",
    "    fig = plt.figure()\n",
    "    ax = fig.add_subplot(projection='3d')\n",
    "    c_map = plt.get_cmap(\"jet\")\n",
    "    c_norm = matplotlib.colors.Normalize(vmin=min(best_returns), vmax=max(best_returns))\n",
    "    \n",
    "    ax.scatter(*list(modified_attributes.values()), c=best_returns, cmap=c_map)\n",
    "    ax.set_xlabel(x_label)\n",
    "    ax.set_ylabel(y_label)\n",
    "    ax.set_zlabel(z_label)\n",
    "    fig.colorbar(cm.ScalarMappable(norm=c_norm, cmap=c_map), ax=ax, location=\"top\")"
   ]
  },
  {
   "cell_type": "code",
   "execution_count": null,
   "metadata": {
    "scrolled": true
   },
   "outputs": [],
   "source": [
    "for variant in sorted_variants:\n",
    "    episodic_returns = results[f\"{variant}\"][CONST_EPISODIC_RETURNS]\n",
    "    fig, ax = plt.subplots(1, figsize=(10, 5))\n",
    "\n",
    "    model_ids = list(episodic_returns.keys())\n",
    "    means = []\n",
    "    stds = []\n",
    "    for val in episodic_returns.values():\n",
    "        means.append(np.mean(val))\n",
    "        stds.append(np.std(val))\n",
    "    means = np.array(means)\n",
    "    stds = np.array(stds)\n",
    "\n",
    "    sort_idxes = np.argsort(model_ids)\n",
    "    model_ids = np.array(model_ids)\n",
    "    ax.plot(model_ids[sort_idxes], means[sort_idxes], marker=\"x\")\n",
    "    ax.fill_between(\n",
    "        model_ids[sort_idxes],\n",
    "        means[sort_idxes] + stds[sort_idxes],\n",
    "        means[sort_idxes] - stds[sort_idxes],\n",
    "        alpha=0.1,\n",
    "    )\n",
    "    ax.set_title(f\"Returns Across {num_episodes} Episodes - Variant: {variant}\")\n",
    "    ax.set_xlabel(\"Iteration\")\n",
    "    ax.set_ylabel(\"Return\")\n",
    "    fig.show()"
   ]
  },
  {
   "cell_type": "code",
   "execution_count": null,
   "metadata": {},
   "outputs": [],
   "source": []
  }
 ],
 "metadata": {
  "kernelspec": {
   "display_name": "Python 3 (ipykernel)",
   "language": "python",
   "name": "python3"
  },
  "language_info": {
   "codemirror_mode": {
    "name": "ipython",
    "version": 3
   },
   "file_extension": ".py",
   "mimetype": "text/x-python",
   "name": "python",
   "nbconvert_exporter": "python",
   "pygments_lexer": "ipython3",
   "version": "3.9.17"
  }
 },
 "nbformat": 4,
 "nbformat_minor": 2
}
