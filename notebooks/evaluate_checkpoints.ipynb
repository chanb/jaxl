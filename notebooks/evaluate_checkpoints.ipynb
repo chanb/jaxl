{
 "cells": [
  {
   "attachments": {},
   "cell_type": "markdown",
   "metadata": {},
   "source": [
    "# Evaluate trained policies at checkpoints"
   ]
  },
  {
   "cell_type": "code",
   "execution_count": 1,
   "metadata": {},
   "outputs": [],
   "source": [
    "from gymnasium.experimental.wrappers import RecordVideoV0\n",
    "from orbax.checkpoint import PyTreeCheckpointer\n",
    "\n",
    "import _pickle as pickle\n",
    "import jax\n",
    "import json\n",
    "import logging\n",
    "import matplotlib.pyplot as plt\n",
    "import numpy as np\n",
    "import os\n",
    "import timeit\n",
    "\n",
    "from jaxl.buffers import get_buffer\n",
    "from jaxl.constants import *\n",
    "from jaxl.models import (\n",
    "    get_model,\n",
    "    get_policy,\n",
    "    policy_output_dim,\n",
    ")\n",
    "from jaxl.models.policies import MultitaskPolicy\n",
    "from jaxl.envs import get_environment\n",
    "from jaxl.envs.rollouts import EvaluationRollout\n",
    "from jaxl.utils import set_seed, parse_dict, set_dict_value, get_dict_value"
   ]
  },
  {
   "cell_type": "code",
   "execution_count": 2,
   "metadata": {},
   "outputs": [],
   "source": [
    "run_seed = None\n",
    "set_seed(run_seed)"
   ]
  },
  {
   "cell_type": "code",
   "execution_count": 3,
   "metadata": {},
   "outputs": [],
   "source": [
    "def get_env(agent_path):\n",
    "    agent_config_path = os.path.join(agent_path, \"config.json\")\n",
    "    with open(agent_config_path, \"r\") as f:\n",
    "        agent_config_dict = json.load(f)\n",
    "    return agent_config_dict[\"learner_config\"][\"env_config\"]"
   ]
  },
  {
   "cell_type": "code",
   "execution_count": 4,
   "metadata": {},
   "outputs": [],
   "source": [
    "agent_path = \"/Users/chanb/research/personal/jaxl/jaxl/logs/pendulum/ppo/07-13-23_14_08_03-bc7f3a93-b427-4379-af85-27012a5905b6\"\n",
    "trained_env_parameters = get_env(agent_path)\n",
    "\n",
    "num_episodes = 100\n",
    "env_seed = 9999\n",
    "buffer_size = 0\n",
    "record_video = True\n",
    "load_termination = False"
   ]
  },
  {
   "cell_type": "code",
   "execution_count": 5,
   "metadata": {},
   "outputs": [],
   "source": [
    "def get_config(agent_path):\n",
    "    agent_config_path = os.path.join(agent_path, \"config.json\")\n",
    "    with open(agent_config_path, \"r\") as f:\n",
    "        agent_config_dict = json.load(f)\n",
    "        agent_config_dict[\"learner_config\"][\"env_config\"] = trained_env_parameters\n",
    "        agent_config_dict[\"learner_config\"][\"env_config\"][\"env_kwargs\"][\n",
    "            \"render_mode\"\n",
    "        ] = \"rgb_array\"\n",
    "        if \"policy_distribution\" not in agent_config_dict[\"learner_config\"]:\n",
    "            agent_config_dict[\"learner_config\"][\n",
    "                \"policy_distribution\"\n",
    "            ] = CONST_DETERMINISTIC\n",
    "        set_dict_value(agent_config_dict, \"vmap_all\", False)\n",
    "        (multitask, num_models) = get_dict_value(agent_config_dict, \"num_models\")\n",
    "        agent_config = parse_dict(agent_config_dict)\n",
    "    return agent_config, {\n",
    "        \"multitask\": multitask,\n",
    "        \"num_models\": num_models,\n",
    "    }"
   ]
  },
  {
   "cell_type": "code",
   "execution_count": 6,
   "metadata": {},
   "outputs": [
    {
     "name": "stderr",
     "output_type": "stream",
     "text": [
      "/Users/chanb/research/personal/jaxl/.venv/lib/python3.9/site-packages/gymnasium/experimental/wrappers/rendering.py:169: UserWarning: \u001b[33mWARN: Overwriting existing videos at /Users/chanb/research/personal/jaxl/notebooks/videos/model_id_125-videos folder (try specifying a different `video_folder` for the `RecordVideo` wrapper if this is not desired)\u001b[0m\n",
      "  logger.warn(\n",
      "100%|██████████| 10/10 [00:03<00:00,  2.89it/s]\n",
      "/Users/chanb/research/personal/jaxl/.venv/lib/python3.9/site-packages/gymnasium/experimental/wrappers/rendering.py:169: UserWarning: \u001b[33mWARN: Overwriting existing videos at /Users/chanb/research/personal/jaxl/notebooks/videos/model_id_375-videos folder (try specifying a different `video_folder` for the `RecordVideo` wrapper if this is not desired)\u001b[0m\n",
      "  logger.warn(\n",
      "100%|██████████| 10/10 [00:02<00:00,  3.66it/s]\n",
      "/Users/chanb/research/personal/jaxl/.venv/lib/python3.9/site-packages/gymnasium/experimental/wrappers/rendering.py:169: UserWarning: \u001b[33mWARN: Overwriting existing videos at /Users/chanb/research/personal/jaxl/notebooks/videos/model_id_450-videos folder (try specifying a different `video_folder` for the `RecordVideo` wrapper if this is not desired)\u001b[0m\n",
      "  logger.warn(\n",
      "100%|██████████| 10/10 [00:02<00:00,  3.75it/s]\n",
      "/Users/chanb/research/personal/jaxl/.venv/lib/python3.9/site-packages/gymnasium/experimental/wrappers/rendering.py:169: UserWarning: \u001b[33mWARN: Overwriting existing videos at /Users/chanb/research/personal/jaxl/notebooks/videos/model_id_25-videos folder (try specifying a different `video_folder` for the `RecordVideo` wrapper if this is not desired)\u001b[0m\n",
      "  logger.warn(\n",
      "100%|██████████| 10/10 [00:02<00:00,  3.90it/s]\n",
      "/Users/chanb/research/personal/jaxl/.venv/lib/python3.9/site-packages/gymnasium/experimental/wrappers/rendering.py:169: UserWarning: \u001b[33mWARN: Overwriting existing videos at /Users/chanb/research/personal/jaxl/notebooks/videos/model_id_200-videos folder (try specifying a different `video_folder` for the `RecordVideo` wrapper if this is not desired)\u001b[0m\n",
      "  logger.warn(\n",
      "100%|██████████| 10/10 [00:02<00:00,  3.78it/s]\n",
      "/Users/chanb/research/personal/jaxl/.venv/lib/python3.9/site-packages/gymnasium/experimental/wrappers/rendering.py:169: UserWarning: \u001b[33mWARN: Overwriting existing videos at /Users/chanb/research/personal/jaxl/notebooks/videos/model_id_225-videos folder (try specifying a different `video_folder` for the `RecordVideo` wrapper if this is not desired)\u001b[0m\n",
      "  logger.warn(\n",
      "100%|██████████| 10/10 [00:02<00:00,  3.79it/s]\n",
      "/Users/chanb/research/personal/jaxl/.venv/lib/python3.9/site-packages/gymnasium/experimental/wrappers/rendering.py:169: UserWarning: \u001b[33mWARN: Overwriting existing videos at /Users/chanb/research/personal/jaxl/notebooks/videos/model_id_475-videos folder (try specifying a different `video_folder` for the `RecordVideo` wrapper if this is not desired)\u001b[0m\n",
      "  logger.warn(\n",
      "100%|██████████| 10/10 [00:02<00:00,  3.77it/s]\n",
      "/Users/chanb/research/personal/jaxl/.venv/lib/python3.9/site-packages/gymnasium/experimental/wrappers/rendering.py:169: UserWarning: \u001b[33mWARN: Overwriting existing videos at /Users/chanb/research/personal/jaxl/notebooks/videos/model_id_500-videos folder (try specifying a different `video_folder` for the `RecordVideo` wrapper if this is not desired)\u001b[0m\n",
      "  logger.warn(\n",
      "100%|██████████| 10/10 [00:02<00:00,  3.77it/s]\n",
      "/Users/chanb/research/personal/jaxl/.venv/lib/python3.9/site-packages/gymnasium/experimental/wrappers/rendering.py:169: UserWarning: \u001b[33mWARN: Overwriting existing videos at /Users/chanb/research/personal/jaxl/notebooks/videos/model_id_350-videos folder (try specifying a different `video_folder` for the `RecordVideo` wrapper if this is not desired)\u001b[0m\n",
      "  logger.warn(\n",
      "100%|██████████| 10/10 [00:02<00:00,  3.80it/s]\n",
      "/Users/chanb/research/personal/jaxl/.venv/lib/python3.9/site-packages/gymnasium/experimental/wrappers/rendering.py:169: UserWarning: \u001b[33mWARN: Overwriting existing videos at /Users/chanb/research/personal/jaxl/notebooks/videos/model_id_100-videos folder (try specifying a different `video_folder` for the `RecordVideo` wrapper if this is not desired)\u001b[0m\n",
      "  logger.warn(\n",
      "100%|██████████| 10/10 [00:02<00:00,  3.84it/s]\n",
      "/Users/chanb/research/personal/jaxl/.venv/lib/python3.9/site-packages/gymnasium/experimental/wrappers/rendering.py:169: UserWarning: \u001b[33mWARN: Overwriting existing videos at /Users/chanb/research/personal/jaxl/notebooks/videos/model_id_175-videos folder (try specifying a different `video_folder` for the `RecordVideo` wrapper if this is not desired)\u001b[0m\n",
      "  logger.warn(\n",
      "100%|██████████| 10/10 [00:02<00:00,  3.78it/s]\n",
      "/Users/chanb/research/personal/jaxl/.venv/lib/python3.9/site-packages/gymnasium/experimental/wrappers/rendering.py:169: UserWarning: \u001b[33mWARN: Overwriting existing videos at /Users/chanb/research/personal/jaxl/notebooks/videos/model_id_325-videos folder (try specifying a different `video_folder` for the `RecordVideo` wrapper if this is not desired)\u001b[0m\n",
      "  logger.warn(\n",
      "100%|██████████| 10/10 [00:02<00:00,  3.75it/s]\n",
      "/Users/chanb/research/personal/jaxl/.venv/lib/python3.9/site-packages/gymnasium/experimental/wrappers/rendering.py:169: UserWarning: \u001b[33mWARN: Overwriting existing videos at /Users/chanb/research/personal/jaxl/notebooks/videos/model_id_400-videos folder (try specifying a different `video_folder` for the `RecordVideo` wrapper if this is not desired)\u001b[0m\n",
      "  logger.warn(\n",
      "100%|██████████| 10/10 [00:02<00:00,  3.76it/s]\n",
      "/Users/chanb/research/personal/jaxl/.venv/lib/python3.9/site-packages/gymnasium/experimental/wrappers/rendering.py:169: UserWarning: \u001b[33mWARN: Overwriting existing videos at /Users/chanb/research/personal/jaxl/notebooks/videos/model_id_1-videos folder (try specifying a different `video_folder` for the `RecordVideo` wrapper if this is not desired)\u001b[0m\n",
      "  logger.warn(\n",
      "100%|██████████| 10/10 [00:02<00:00,  3.85it/s]\n",
      "/Users/chanb/research/personal/jaxl/.venv/lib/python3.9/site-packages/gymnasium/experimental/wrappers/rendering.py:169: UserWarning: \u001b[33mWARN: Overwriting existing videos at /Users/chanb/research/personal/jaxl/notebooks/videos/model_id_75-videos folder (try specifying a different `video_folder` for the `RecordVideo` wrapper if this is not desired)\u001b[0m\n",
      "  logger.warn(\n",
      "100%|██████████| 10/10 [00:02<00:00,  3.86it/s]\n",
      "/Users/chanb/research/personal/jaxl/.venv/lib/python3.9/site-packages/gymnasium/experimental/wrappers/rendering.py:169: UserWarning: \u001b[33mWARN: Overwriting existing videos at /Users/chanb/research/personal/jaxl/notebooks/videos/model_id_250-videos folder (try specifying a different `video_folder` for the `RecordVideo` wrapper if this is not desired)\u001b[0m\n",
      "  logger.warn(\n",
      "100%|██████████| 10/10 [00:02<00:00,  3.77it/s]\n",
      "/Users/chanb/research/personal/jaxl/.venv/lib/python3.9/site-packages/gymnasium/experimental/wrappers/rendering.py:169: UserWarning: \u001b[33mWARN: Overwriting existing videos at /Users/chanb/research/personal/jaxl/notebooks/videos/model_id_275-videos folder (try specifying a different `video_folder` for the `RecordVideo` wrapper if this is not desired)\u001b[0m\n",
      "  logger.warn(\n",
      "100%|██████████| 10/10 [00:02<00:00,  3.77it/s]\n",
      "/Users/chanb/research/personal/jaxl/.venv/lib/python3.9/site-packages/gymnasium/experimental/wrappers/rendering.py:169: UserWarning: \u001b[33mWARN: Overwriting existing videos at /Users/chanb/research/personal/jaxl/notebooks/videos/model_id_50-videos folder (try specifying a different `video_folder` for the `RecordVideo` wrapper if this is not desired)\u001b[0m\n",
      "  logger.warn(\n",
      "100%|██████████| 10/10 [00:02<00:00,  3.80it/s]\n",
      "/Users/chanb/research/personal/jaxl/.venv/lib/python3.9/site-packages/gymnasium/experimental/wrappers/rendering.py:169: UserWarning: \u001b[33mWARN: Overwriting existing videos at /Users/chanb/research/personal/jaxl/notebooks/videos/model_id_425-videos folder (try specifying a different `video_folder` for the `RecordVideo` wrapper if this is not desired)\u001b[0m\n",
      "  logger.warn(\n",
      "100%|██████████| 10/10 [00:02<00:00,  3.68it/s]\n",
      "/Users/chanb/research/personal/jaxl/.venv/lib/python3.9/site-packages/gymnasium/experimental/wrappers/rendering.py:169: UserWarning: \u001b[33mWARN: Overwriting existing videos at /Users/chanb/research/personal/jaxl/notebooks/videos/model_id_300-videos folder (try specifying a different `video_folder` for the `RecordVideo` wrapper if this is not desired)\u001b[0m\n",
      "  logger.warn(\n",
      "100%|██████████| 10/10 [00:02<00:00,  3.73it/s]\n",
      "/Users/chanb/research/personal/jaxl/.venv/lib/python3.9/site-packages/gymnasium/experimental/wrappers/rendering.py:169: UserWarning: \u001b[33mWARN: Overwriting existing videos at /Users/chanb/research/personal/jaxl/notebooks/videos/model_id_150-videos folder (try specifying a different `video_folder` for the `RecordVideo` wrapper if this is not desired)\u001b[0m\n",
      "  logger.warn(\n",
      "100%|██████████| 10/10 [00:02<00:00,  3.80it/s]\n"
     ]
    }
   ],
   "source": [
    "episodic_returns_per_variant = {}\n",
    "if load_termination:\n",
    "    checkpoint_paths = [os.path.join(agent_path, \"termination_model\")]\n",
    "else:\n",
    "    checkpoint_paths = os.listdir(os.path.join(agent_path, \"models\"))\n",
    "\n",
    "for checkpoint_path in checkpoint_paths:\n",
    "    agent_config, aux = get_config(agent_path)\n",
    "    env = get_environment(agent_config.learner_config.env_config)\n",
    "\n",
    "    model_id = \"final\" if load_termination else int(checkpoint_path.split(\"-\")[-1])\n",
    "    if record_video:\n",
    "        env = RecordVideoV0(\n",
    "            env, f\"videos/model_id_{model_id}-videos\", disable_logger=True\n",
    "        )\n",
    "\n",
    "    input_dim = env.observation_space.shape\n",
    "    output_dim = policy_output_dim(env.act_dim, agent_config.learner_config)\n",
    "    model = get_model(\n",
    "        input_dim,\n",
    "        output_dim,\n",
    "        getattr(agent_config.model_config, \"policy\", agent_config.model_config),\n",
    "    )\n",
    "    policy = get_policy(model, agent_config.learner_config)\n",
    "    if aux[\"multitask\"]:\n",
    "        policy = MultitaskPolicy(policy, model, aux[\"num_models\"])\n",
    "\n",
    "    agent_model_path = (\n",
    "        checkpoint_path\n",
    "        if load_termination\n",
    "        else os.path.join(agent_path, \"models\", checkpoint_path)\n",
    "    )\n",
    "    checkpointer = PyTreeCheckpointer()\n",
    "    model_dict = checkpointer.restore(agent_model_path)\n",
    "    agent_policy_params = model_dict[CONST_MODEL][CONST_POLICY]\n",
    "    with open(os.path.join(agent_model_path, \"learner_dict.pkl\"), \"rb\") as f:\n",
    "        learner_dict = pickle.load(f)\n",
    "        agent_obs_rms = learner_dict[CONST_OBS_RMS]\n",
    "\n",
    "    agent_rollout = EvaluationRollout(env, seed=env_seed)\n",
    "    agent_rollout.rollout(\n",
    "        agent_policy_params, policy, agent_obs_rms, num_episodes, None\n",
    "    )\n",
    "\n",
    "    episodic_returns_per_variant[model_id] = agent_rollout.episodic_returns"
   ]
  },
  {
   "cell_type": "code",
   "execution_count": 7,
   "metadata": {},
   "outputs": [
    {
     "name": "stdout",
     "output_type": "stream",
     "text": [
      "{'modified_attributes': {'g': 10.292881023563949, 'm': 1.2151893663724196, 'l': 1.051381688035822}}\n"
     ]
    }
   ],
   "source": [
    "if hasattr(env, \"get_config\"):\n",
    "    print(env.get_config())"
   ]
  },
  {
   "cell_type": "code",
   "execution_count": 8,
   "metadata": {},
   "outputs": [
    {
     "name": "stdout",
     "output_type": "stream",
     "text": [
      "[(125, -1361.5880843884545, 193.3762970097084),\n",
      " (375, -397.79973443755534, 438.21786081827094),\n",
      " (450, -388.1512264272055, 242.7815941669568),\n",
      " (25, -1365.1298468531882, 249.99796995234786),\n",
      " (200, -1051.8017875953565, 210.44837928666684),\n",
      " (225, -684.035999025983, 345.32377057559256),\n",
      " (475, -319.9215611096349, 212.81227800752268),\n",
      " (500, -426.7386485980004, 446.3390393545118),\n",
      " (350, -398.52577451311447, 438.6022985739601),\n",
      " (100, -1491.0313550000776, 89.0546188234229),\n",
      " (175, -1036.0150707429489, 76.43015119013927),\n",
      " (325, -398.86218915181036, 438.55177991749514),\n",
      " (400, -397.5182547314945, 437.7124996251592),\n",
      " (1, -1388.605758034318, 248.96029108076985),\n",
      " (75, -1515.3885144357698, 195.02926723178618),\n",
      " (250, -804.1148045914379, 269.96493880527885),\n",
      " (275, -813.001572134056, 388.5734750089411),\n",
      " (50, -1400.2278390687086, 225.65172367280502),\n",
      " (425, -399.8378206277474, 438.84791570562004),\n",
      " (300, -296.85030223900196, 216.01931668116427),\n",
      " (150, -1268.0891792062032, 138.63229153775066)]\n"
     ]
    }
   ],
   "source": [
    "from pprint import pprint\n",
    "\n",
    "pprint(\n",
    "    [\n",
    "        (key, np.mean(val), np.std(val))\n",
    "        for key, val in episodic_returns_per_variant.items()\n",
    "    ]\n",
    ")"
   ]
  },
  {
   "cell_type": "code",
   "execution_count": 9,
   "metadata": {},
   "outputs": [
    {
     "name": "stderr",
     "output_type": "stream",
     "text": [
      "WARNING:matplotlib.legend:No artists with labels found to put in legend.  Note that artists whose label start with an underscore are ignored when legend() is called with no argument.\n",
      "/var/folders/h6/qs8bwp4d7bg67j4vbv960hdh0000gn/T/ipykernel_51447/3652737342.py:25: UserWarning: Matplotlib is currently using module://matplotlib_inline.backend_inline, which is a non-GUI backend, so cannot show the figure.\n",
      "  fig.show()\n"
     ]
    },
    {
     "data": {
      "image/png": "[encoded data removed]",
      "text/plain": [
       "<Figure size 1000x500 with 1 Axes>"
      ]
     },
     "metadata": {},
     "output_type": "display_data"
    }
   ],
   "source": [
    "fig, ax = plt.subplots(1, figsize=(10, 5))\n",
    "\n",
    "model_ids = list(episodic_returns_per_variant.keys())\n",
    "means = []\n",
    "stds = []\n",
    "for val in episodic_returns_per_variant.values():\n",
    "    means.append(np.mean(val))\n",
    "    stds.append(np.std(val))\n",
    "means = np.array(means)\n",
    "stds = np.array(stds)\n",
    "\n",
    "sort_idxes = np.argsort(model_ids)\n",
    "model_ids = np.array(model_ids)\n",
    "ax.plot(model_ids[sort_idxes], means[sort_idxes], marker=\"x\")\n",
    "ax.fill_between(\n",
    "    model_ids[sort_idxes],\n",
    "    means[sort_idxes] + stds[sort_idxes],\n",
    "    means[sort_idxes] - stds[sort_idxes],\n",
    "    alpha=0.1,\n",
    ")\n",
    "ax.set_title(f\"Returns Across {num_episodes} Episodes\")\n",
    "ax.set_xlabel(\"Iteration\")\n",
    "ax.set_ylabel(\"Return\")\n",
    "ax.legend()\n",
    "fig.show()"
   ]
  }
 ],
 "metadata": {
  "kernelspec": {
   "display_name": ".venv",
   "language": "python",
   "name": "python3"
  },
  "language_info": {
   "codemirror_mode": {
    "name": "ipython",
    "version": 3
   },
   "file_extension": ".py",
   "mimetype": "text/x-python",
   "name": "python",
   "nbconvert_exporter": "python",
   "pygments_lexer": "ipython3",
   "version": "3.9.17"
  },
  "orig_nbformat": 4
 },
 "nbformat": 4,
 "nbformat_minor": 2
}
