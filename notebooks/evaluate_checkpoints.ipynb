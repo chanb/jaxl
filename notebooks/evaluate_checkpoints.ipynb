{
 "cells": [
  {
   "attachments": {},
   "cell_type": "markdown",
   "metadata": {},
   "source": [
    "# Evaluate trained policies at checkpoints"
   ]
  },
  {
   "cell_type": "code",
   "execution_count": 10,
   "metadata": {},
   "outputs": [],
   "source": [
    "from gymnasium.experimental.wrappers import RecordVideoV0\n",
    "from orbax.checkpoint import PyTreeCheckpointer\n",
    "\n",
    "import _pickle as pickle\n",
    "import jax\n",
    "import json\n",
    "import logging\n",
    "import matplotlib.pyplot as plt\n",
    "import numpy as np\n",
    "import os\n",
    "import timeit\n",
    "\n",
    "from jaxl.buffers import get_buffer\n",
    "from jaxl.constants import *\n",
    "from jaxl.models import (\n",
    "    get_model,\n",
    "    get_policy,\n",
    "    policy_output_dim,\n",
    ")\n",
    "from jaxl.models.policies import MultitaskPolicy\n",
    "from jaxl.envs import get_environment\n",
    "from jaxl.envs.rollouts import EvaluationRollout\n",
    "from jaxl.utils import set_seed, parse_dict, set_dict_value, get_dict_value"
   ]
  },
  {
   "cell_type": "code",
   "execution_count": 11,
   "metadata": {},
   "outputs": [],
   "source": [
    "run_seed = None\n",
    "set_seed(run_seed)"
   ]
  },
  {
   "cell_type": "code",
   "execution_count": 12,
   "metadata": {},
   "outputs": [],
   "source": [
    "def get_env(agent_path):\n",
    "    agent_config_path = os.path.join(agent_path, \"config.json\")\n",
    "    with open(agent_config_path, \"r\") as f:\n",
    "        agent_config_dict = json.load(f)\n",
    "    return agent_config_dict[\"learner_config\"][\"env_config\"]"
   ]
  },
  {
   "cell_type": "code",
   "execution_count": 13,
   "metadata": {},
   "outputs": [],
   "source": [
    "agent_path = \"/Users/chanb/research/personal/jaxl/jaxl/logs/pendulum/ppo/07-11-23_10_23_35-2087109c-b96d-4b20-9923-9a49ea6ed2c7\"\n",
    "trained_env_parameters = get_env(agent_path)\n",
    "\n",
    "num_episodes = 10\n",
    "env_seed = 9999\n",
    "buffer_size = 0\n",
    "record_video = True\n",
    "load_termination = False"
   ]
  },
  {
   "cell_type": "code",
   "execution_count": 14,
   "metadata": {},
   "outputs": [],
   "source": [
    "def get_config(agent_path):\n",
    "    agent_config_path = os.path.join(agent_path, \"config.json\")\n",
    "    with open(agent_config_path, \"r\") as f:\n",
    "        agent_config_dict = json.load(f)\n",
    "        agent_config_dict[\"learner_config\"][\"env_config\"] = trained_env_parameters\n",
    "        agent_config_dict[\"learner_config\"][\"env_config\"][\"env_kwargs\"][\n",
    "            \"render_mode\"\n",
    "        ] = \"rgb_array\"\n",
    "        if \"policy_distribution\" not in agent_config_dict[\"learner_config\"]:\n",
    "            agent_config_dict[\"learner_config\"][\n",
    "                \"policy_distribution\"\n",
    "            ] = CONST_DETERMINISTIC\n",
    "        set_dict_value(agent_config_dict, \"vmap_all\", False)\n",
    "        (multitask, num_models) = get_dict_value(agent_config_dict, \"num_models\")\n",
    "        agent_config = parse_dict(agent_config_dict)\n",
    "    return agent_config, {\n",
    "        \"multitask\": multitask,\n",
    "        \"num_models\": num_models,\n",
    "    }"
   ]
  },
  {
   "cell_type": "code",
   "execution_count": 15,
   "metadata": {},
   "outputs": [
    {
     "name": "stderr",
     "output_type": "stream",
     "text": [
      "/Users/chanb/research/personal/jaxl/.venv/lib/python3.9/site-packages/gymnasium/experimental/wrappers/rendering.py:169: UserWarning: \u001b[33mWARN: Overwriting existing videos at /Users/chanb/research/personal/jaxl/notebooks/videos/model_id_310-videos folder (try specifying a different `video_folder` for the `RecordVideo` wrapper if this is not desired)\u001b[0m\n",
      "  logger.warn(\n",
      "  0%|          | 0/10 [00:00<?, ?it/s]\n"
     ]
    },
    {
     "ename": "ScopeParamShapeError",
     "evalue": "Initializer expected to generate shape (128, 11) but got shape (128, 17) instead for parameter \"kernel\" in \"/Dense_2\". (https://flax.readthedocs.io/en/latest/api_reference/flax.errors.html#flax.errors.ScopeParamShapeError)",
     "output_type": "error",
     "traceback": [
      "\u001b[0;31m---------------------------------------------------------------------------\u001b[0m",
      "\u001b[0;31mScopeParamShapeError\u001b[0m                      Traceback (most recent call last)",
      "Cell \u001b[0;32mIn[15], line 41\u001b[0m\n\u001b[1;32m     38\u001b[0m     agent_obs_rms \u001b[39m=\u001b[39m learner_dict[CONST_OBS_RMS]\n\u001b[1;32m     40\u001b[0m agent_rollout \u001b[39m=\u001b[39m EvaluationRollout(env, seed\u001b[39m=\u001b[39menv_seed)\n\u001b[0;32m---> 41\u001b[0m agent_rollout\u001b[39m.\u001b[39;49mrollout(\n\u001b[1;32m     42\u001b[0m     agent_policy_params, policy, agent_obs_rms, num_episodes, \u001b[39mNone\u001b[39;49;00m\n\u001b[1;32m     43\u001b[0m )\n\u001b[1;32m     45\u001b[0m episodic_returns_per_variant[model_id] \u001b[39m=\u001b[39m agent_rollout\u001b[39m.\u001b[39mepisodic_returns\n",
      "File \u001b[0;32m~/research/personal/jaxl/jaxl/envs/rollouts.py:165\u001b[0m, in \u001b[0;36mEvaluationRollout.rollout\u001b[0;34m(self, params, policy, obs_rms, num_episodes, buffer)\u001b[0m\n\u001b[1;32m    162\u001b[0m \u001b[39mif\u001b[39;00m obs_rms:\n\u001b[1;32m    163\u001b[0m     normalize_obs \u001b[39m=\u001b[39m obs_rms\u001b[39m.\u001b[39mnormalize(normalize_obs)\n\u001b[0;32m--> 165\u001b[0m act, next_h_state \u001b[39m=\u001b[39m policy\u001b[39m.\u001b[39;49mdeterministic_action(\n\u001b[1;32m    166\u001b[0m     params,\n\u001b[1;32m    167\u001b[0m     normalize_obs,\n\u001b[1;32m    168\u001b[0m     np\u001b[39m.\u001b[39;49marray([\u001b[39mself\u001b[39;49m\u001b[39m.\u001b[39;49m_curr_h_state]),\n\u001b[1;32m    169\u001b[0m )\n\u001b[1;32m    170\u001b[0m act \u001b[39m=\u001b[39m act[\u001b[39m0\u001b[39m]\n\u001b[1;32m    171\u001b[0m next_h_state \u001b[39m=\u001b[39m next_h_state[\u001b[39m0\u001b[39m]\n",
      "    \u001b[0;31m[... skipping hidden 12 frame]\u001b[0m\n",
      "File \u001b[0;32m~/research/personal/jaxl/jaxl/models/policies.py:600\u001b[0m, in \u001b[0;36mSoftmaxPolicy.make_deterministic_action.<locals>.deterministic_action\u001b[0;34m(params, obs, h_state)\u001b[0m\n\u001b[1;32m    582\u001b[0m \u001b[39mdef\u001b[39;00m \u001b[39mdeterministic_action\u001b[39m(\n\u001b[1;32m    583\u001b[0m     params: Union[optax\u001b[39m.\u001b[39mParams, Dict[\u001b[39mstr\u001b[39m, Any]],\n\u001b[1;32m    584\u001b[0m     obs: chex\u001b[39m.\u001b[39mArray,\n\u001b[1;32m    585\u001b[0m     h_state: chex\u001b[39m.\u001b[39mArray,\n\u001b[1;32m    586\u001b[0m ) \u001b[39m-\u001b[39m\u001b[39m>\u001b[39m Tuple[chex\u001b[39m.\u001b[39mArray, chex\u001b[39m.\u001b[39mArray]:\n\u001b[1;32m    587\u001b[0m \u001b[39m    \u001b[39m\u001b[39m\"\"\"\u001b[39;00m\n\u001b[1;32m    588\u001b[0m \u001b[39m    Compute deterministic action.\u001b[39;00m\n\u001b[1;32m    589\u001b[0m \n\u001b[0;32m   (...)\u001b[0m\n\u001b[1;32m    598\u001b[0m \n\u001b[1;32m    599\u001b[0m \u001b[39m    \"\"\"\u001b[39;00m\n\u001b[0;32m--> 600\u001b[0m     act_params, h_state \u001b[39m=\u001b[39m model\u001b[39m.\u001b[39;49mforward(params, obs, h_state)\n\u001b[1;32m    601\u001b[0m     act_max \u001b[39m=\u001b[39m jnp\u001b[39m.\u001b[39margmax(act_params, axis\u001b[39m=\u001b[39m\u001b[39m-\u001b[39m\u001b[39m1\u001b[39m)\n\u001b[1;32m    602\u001b[0m     \u001b[39mreturn\u001b[39;00m act_max, h_state\n",
      "    \u001b[0;31m[... skipping hidden 12 frame]\u001b[0m\n",
      "File \u001b[0;32m~/research/personal/jaxl/jaxl/models/common.py:405\u001b[0m, in \u001b[0;36mMLP.make_forward.<locals>.forward\u001b[0;34m(params, input, carry)\u001b[0m\n\u001b[1;32m    403\u001b[0m \u001b[39m# NOTE: Assume batch size is first dim\u001b[39;00m\n\u001b[1;32m    404\u001b[0m \u001b[39minput\u001b[39m \u001b[39m=\u001b[39m \u001b[39minput\u001b[39m\u001b[39m.\u001b[39mreshape((\u001b[39minput\u001b[39m\u001b[39m.\u001b[39mshape[\u001b[39m0\u001b[39m], \u001b[39m-\u001b[39m\u001b[39m1\u001b[39m))\n\u001b[0;32m--> 405\u001b[0m \u001b[39mreturn\u001b[39;00m \u001b[39mself\u001b[39;49m\u001b[39m.\u001b[39;49mmodel\u001b[39m.\u001b[39;49mapply(params, \u001b[39minput\u001b[39;49m), carry\n",
      "    \u001b[0;31m[... skipping hidden 6 frame]\u001b[0m\n",
      "File \u001b[0;32m~/research/personal/jaxl/jaxl/models/modules.py:18\u001b[0m, in \u001b[0;36mMLPModule.__call__\u001b[0;34m(self, x)\u001b[0m\n\u001b[1;32m     16\u001b[0m \u001b[39mfor\u001b[39;00m layer \u001b[39min\u001b[39;00m \u001b[39mself\u001b[39m\u001b[39m.\u001b[39mlayers[:\u001b[39m-\u001b[39m\u001b[39m1\u001b[39m]:\n\u001b[1;32m     17\u001b[0m     x \u001b[39m=\u001b[39m \u001b[39mself\u001b[39m\u001b[39m.\u001b[39mactivation(nn\u001b[39m.\u001b[39mDense(layer)(x))\n\u001b[0;32m---> 18\u001b[0m x \u001b[39m=\u001b[39m nn\u001b[39m.\u001b[39;49mDense(\u001b[39mself\u001b[39;49m\u001b[39m.\u001b[39;49mlayers[\u001b[39m-\u001b[39;49m\u001b[39m1\u001b[39;49m])(x)\n\u001b[1;32m     19\u001b[0m \u001b[39mreturn\u001b[39;00m x\n",
      "    \u001b[0;31m[... skipping hidden 2 frame]\u001b[0m\n",
      "File \u001b[0;32m~/research/personal/jaxl/.venv/lib/python3.9/site-packages/flax/linen/linear.py:196\u001b[0m, in \u001b[0;36mDense.__call__\u001b[0;34m(self, inputs)\u001b[0m\n\u001b[1;32m    186\u001b[0m \u001b[39m@compact\u001b[39m\n\u001b[1;32m    187\u001b[0m \u001b[39mdef\u001b[39;00m \u001b[39m__call__\u001b[39m(\u001b[39mself\u001b[39m, inputs: Array) \u001b[39m-\u001b[39m\u001b[39m>\u001b[39m Array:\n\u001b[1;32m    188\u001b[0m \u001b[39m  \u001b[39m\u001b[39m\"\"\"Applies a linear transformation to the inputs along the last dimension.\u001b[39;00m\n\u001b[1;32m    189\u001b[0m \n\u001b[1;32m    190\u001b[0m \u001b[39m  Args:\u001b[39;00m\n\u001b[0;32m   (...)\u001b[0m\n\u001b[1;32m    194\u001b[0m \u001b[39m    The transformed input.\u001b[39;00m\n\u001b[1;32m    195\u001b[0m \u001b[39m  \"\"\"\u001b[39;00m\n\u001b[0;32m--> 196\u001b[0m   kernel \u001b[39m=\u001b[39m \u001b[39mself\u001b[39;49m\u001b[39m.\u001b[39;49mparam(\u001b[39m'\u001b[39;49m\u001b[39mkernel\u001b[39;49m\u001b[39m'\u001b[39;49m,\n\u001b[1;32m    197\u001b[0m                       \u001b[39mself\u001b[39;49m\u001b[39m.\u001b[39;49mkernel_init,\n\u001b[1;32m    198\u001b[0m                       (jnp\u001b[39m.\u001b[39;49mshape(inputs)[\u001b[39m-\u001b[39;49m\u001b[39m1\u001b[39;49m], \u001b[39mself\u001b[39;49m\u001b[39m.\u001b[39;49mfeatures),\n\u001b[1;32m    199\u001b[0m                       \u001b[39mself\u001b[39;49m\u001b[39m.\u001b[39;49mparam_dtype)\n\u001b[1;32m    200\u001b[0m   \u001b[39mif\u001b[39;00m \u001b[39mself\u001b[39m\u001b[39m.\u001b[39muse_bias:\n\u001b[1;32m    201\u001b[0m     bias \u001b[39m=\u001b[39m \u001b[39mself\u001b[39m\u001b[39m.\u001b[39mparam(\u001b[39m'\u001b[39m\u001b[39mbias\u001b[39m\u001b[39m'\u001b[39m, \u001b[39mself\u001b[39m\u001b[39m.\u001b[39mbias_init, (\u001b[39mself\u001b[39m\u001b[39m.\u001b[39mfeatures,),\n\u001b[1;32m    202\u001b[0m                       \u001b[39mself\u001b[39m\u001b[39m.\u001b[39mparam_dtype)\n",
      "    \u001b[0;31m[... skipping hidden 1 frame]\u001b[0m\n",
      "File \u001b[0;32m~/research/personal/jaxl/.venv/lib/python3.9/site-packages/flax/core/scope.py:835\u001b[0m, in \u001b[0;36mScope.param\u001b[0;34m(self, name, init_fn, unbox, *init_args)\u001b[0m\n\u001b[1;32m    830\u001b[0m   \u001b[39mfor\u001b[39;00m val, abs_val \u001b[39min\u001b[39;00m \u001b[39mzip\u001b[39m(value_flat, abs_value_flat):\n\u001b[1;32m    831\u001b[0m     \u001b[39m# NOTE: We could check dtype consistency here as well but it's\u001b[39;00m\n\u001b[1;32m    832\u001b[0m     \u001b[39m# usefuleness is less obvious. We might intentionally change the dtype\u001b[39;00m\n\u001b[1;32m    833\u001b[0m     \u001b[39m# for inference to a half float type for example.\u001b[39;00m\n\u001b[1;32m    834\u001b[0m     \u001b[39mif\u001b[39;00m jnp\u001b[39m.\u001b[39mshape(val) \u001b[39m!=\u001b[39m jnp\u001b[39m.\u001b[39mshape(abs_val):\n\u001b[0;32m--> 835\u001b[0m       \u001b[39mraise\u001b[39;00m errors\u001b[39m.\u001b[39mScopeParamShapeError(name, \u001b[39mself\u001b[39m\u001b[39m.\u001b[39mpath_text,\n\u001b[1;32m    836\u001b[0m                                         jnp\u001b[39m.\u001b[39mshape(abs_val), jnp\u001b[39m.\u001b[39mshape(val))\n\u001b[1;32m    837\u001b[0m \u001b[39melse\u001b[39;00m:\n\u001b[1;32m    838\u001b[0m   \u001b[39mif\u001b[39;00m \u001b[39mnot\u001b[39;00m \u001b[39mself\u001b[39m\u001b[39m.\u001b[39mis_mutable_collection(\u001b[39m'\u001b[39m\u001b[39mparams\u001b[39m\u001b[39m'\u001b[39m):\n",
      "\u001b[0;31mScopeParamShapeError\u001b[0m: Initializer expected to generate shape (128, 11) but got shape (128, 17) instead for parameter \"kernel\" in \"/Dense_2\". (https://flax.readthedocs.io/en/latest/api_reference/flax.errors.html#flax.errors.ScopeParamShapeError)"
     ]
    }
   ],
   "source": [
    "episodic_returns_per_variant = {}\n",
    "if load_termination:\n",
    "    checkpoint_paths = [os.path.join(agent_path, \"termination_model\")]\n",
    "else:\n",
    "    checkpoint_paths = os.listdir(os.path.join(agent_path, \"models\"))\n",
    "\n",
    "for checkpoint_path in checkpoint_paths:\n",
    "    agent_config, aux = get_config(agent_path)\n",
    "    env = get_environment(agent_config.learner_config.env_config)\n",
    "\n",
    "    model_id = \"final\" if load_termination else int(checkpoint_path.split(\"-\")[-1])\n",
    "    if record_video:\n",
    "        env = RecordVideoV0(\n",
    "            env, f\"videos/model_id_{model_id}-videos\", disable_logger=True\n",
    "        )\n",
    "\n",
    "    input_dim = env.observation_space.shape\n",
    "    output_dim = policy_output_dim(env.act_dim, agent_config.learner_config)\n",
    "    model = get_model(\n",
    "        input_dim,\n",
    "        output_dim,\n",
    "        getattr(agent_config.model_config, \"policy\", agent_config.model_config),\n",
    "    )\n",
    "    policy = get_policy(model, agent_config.learner_config)\n",
    "    if aux[\"multitask\"]:\n",
    "        policy = MultitaskPolicy(policy, model, aux[\"num_models\"])\n",
    "\n",
    "    agent_model_path = (\n",
    "        checkpoint_path\n",
    "        if load_termination\n",
    "        else os.path.join(agent_path, \"models\", checkpoint_path)\n",
    "    )\n",
    "    checkpointer = PyTreeCheckpointer()\n",
    "    model_dict = checkpointer.restore(agent_model_path)\n",
    "    agent_policy_params = model_dict[CONST_MODEL][CONST_POLICY]\n",
    "    with open(os.path.join(agent_model_path, \"learner_dict.pkl\"), \"rb\") as f:\n",
    "        learner_dict = pickle.load(f)\n",
    "        agent_obs_rms = learner_dict[CONST_OBS_RMS]\n",
    "\n",
    "    agent_rollout = EvaluationRollout(env, seed=env_seed)\n",
    "    agent_rollout.rollout(\n",
    "        agent_policy_params, policy, agent_obs_rms, num_episodes, None\n",
    "    )\n",
    "\n",
    "    episodic_returns_per_variant[model_id] = agent_rollout.episodic_returns"
   ]
  },
  {
   "cell_type": "code",
   "execution_count": null,
   "metadata": {},
   "outputs": [],
   "source": [
    "if hasattr(env, \"get_config\"):\n",
    "    print(env.get_config())"
   ]
  },
  {
   "cell_type": "code",
   "execution_count": null,
   "metadata": {},
   "outputs": [],
   "source": [
    "from pprint import pprint\n",
    "\n",
    "pprint(\n",
    "    [\n",
    "        (key, np.mean(val), np.std(val))\n",
    "        for key, val in episodic_returns_per_variant.items()\n",
    "    ]\n",
    ")"
   ]
  },
  {
   "cell_type": "code",
   "execution_count": null,
   "metadata": {},
   "outputs": [],
   "source": [
    "fig, ax = plt.subplots(1, figsize=(10, 5))\n",
    "\n",
    "model_ids = list(episodic_returns_per_variant.keys())\n",
    "means = []\n",
    "stds = []\n",
    "for val in episodic_returns_per_variant.values():\n",
    "    means.append(np.mean(val))\n",
    "    stds.append(np.std(val))\n",
    "means = np.array(means)\n",
    "stds = np.array(stds)\n",
    "\n",
    "sort_idxes = np.argsort(model_ids)\n",
    "model_ids = np.array(model_ids)\n",
    "ax.plot(model_ids[sort_idxes], means[sort_idxes], marker=\"x\")\n",
    "ax.fill_between(\n",
    "    model_ids[sort_idxes],\n",
    "    means[sort_idxes] + stds[sort_idxes],\n",
    "    means[sort_idxes] - stds[sort_idxes],\n",
    "    alpha=0.1,\n",
    ")\n",
    "ax.set_title(f\"Returns Across {num_episodes} Episodes\")\n",
    "ax.set_xlabel(\"Iteration\")\n",
    "ax.set_ylabel(\"Return\")\n",
    "ax.legend()\n",
    "fig.show()"
   ]
  }
 ],
 "metadata": {
  "kernelspec": {
   "display_name": ".venv",
   "language": "python",
   "name": "python3"
  },
  "language_info": {
   "codemirror_mode": {
    "name": "ipython",
    "version": 3
   },
   "file_extension": ".py",
   "mimetype": "text/x-python",
   "name": "python",
   "nbconvert_exporter": "python",
   "pygments_lexer": "ipython3",
   "version": "3.9.17"
  },
  "orig_nbformat": 4
 },
 "nbformat": 4,
 "nbformat_minor": 2
}
