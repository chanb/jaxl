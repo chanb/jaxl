{
 "cells": [
  {
   "attachments": {},
   "cell_type": "markdown",
   "metadata": {},
   "source": [
    "# Evaluate trained policies at checkpoints"
   ]
  },
  {
   "cell_type": "code",
   "execution_count": 1,
   "metadata": {},
   "outputs": [],
   "source": [
    "from gymnasium.experimental.wrappers import RecordVideoV0\n",
    "from orbax.checkpoint import PyTreeCheckpointer\n",
    "\n",
    "import _pickle as pickle\n",
    "import jax\n",
    "import json\n",
    "import logging\n",
    "import matplotlib.pyplot as plt\n",
    "import numpy as np\n",
    "import os\n",
    "import timeit\n",
    "\n",
    "from jaxl.buffers import get_buffer\n",
    "from jaxl.constants import *\n",
    "from jaxl.models import (\n",
    "    get_model,\n",
    "    get_policy,\n",
    "    policy_output_dim,\n",
    ")\n",
    "from jaxl.models.policies import MultitaskPolicy\n",
    "from jaxl.envs import get_environment\n",
    "from jaxl.envs.rollouts import EvaluationRollout\n",
    "from jaxl.utils import set_seed, parse_dict, set_dict_value, get_dict_value"
   ]
  },
  {
   "cell_type": "code",
   "execution_count": 2,
   "metadata": {},
   "outputs": [],
   "source": [
    "run_seed = None\n",
    "set_seed(run_seed)"
   ]
  },
  {
   "cell_type": "code",
   "execution_count": 3,
   "metadata": {},
   "outputs": [],
   "source": [
    "def get_env(agent_path):\n",
    "    agent_config_path = os.path.join(agent_path, \"config.json\")\n",
    "    with open(agent_config_path, \"r\") as f:\n",
    "        agent_config_dict = json.load(f)\n",
    "    return agent_config_dict[\"learner_config\"][\"env_config\"]"
   ]
  },
  {
   "cell_type": "code",
   "execution_count": 4,
   "metadata": {},
   "outputs": [],
   "source": [
    "agent_path = \"/Users/chanb/research/personal/jaxl/jaxl/logs/hopper-default/ppo-discrete_control/07-10-23_13_51_36-f4526272-6c5f-4eb5-8c4a-a902a0cd261b\"\n",
    "trained_env_parameters = get_env(agent_path)\n",
    "\n",
    "num_episodes = 100\n",
    "env_seed = 9999\n",
    "buffer_size = 0\n",
    "record_video = True\n",
    "load_termination = True"
   ]
  },
  {
   "cell_type": "code",
   "execution_count": 5,
   "metadata": {},
   "outputs": [],
   "source": [
    "def get_config(agent_path):\n",
    "    agent_config_path = os.path.join(agent_path, \"config.json\")\n",
    "    with open(agent_config_path, \"r\") as f:\n",
    "        agent_config_dict = json.load(f)\n",
    "        agent_config_dict[\"learner_config\"][\"env_config\"] = trained_env_parameters\n",
    "        agent_config_dict[\"learner_config\"][\"env_config\"][\"env_kwargs\"][\n",
    "            \"render_mode\"\n",
    "        ] = \"rgb_array\"\n",
    "        if \"policy_distribution\" not in agent_config_dict[\"learner_config\"]:\n",
    "            agent_config_dict[\"learner_config\"][\n",
    "                \"policy_distribution\"\n",
    "            ] = CONST_DETERMINISTIC\n",
    "        set_dict_value(agent_config_dict, \"vmap_all\", False)\n",
    "        (multitask, num_models) = get_dict_value(agent_config_dict, \"num_models\")\n",
    "        agent_config = parse_dict(agent_config_dict)\n",
    "    return agent_config, {\n",
    "        \"multitask\": multitask,\n",
    "        \"num_models\": num_models,\n",
    "    }"
   ]
  },
  {
   "cell_type": "code",
   "execution_count": 6,
   "metadata": {},
   "outputs": [
    {
     "name": "stderr",
     "output_type": "stream",
     "text": [
      "/Users/chanb/research/personal/jaxl/.venv/lib/python3.9/site-packages/gymnasium/experimental/wrappers/rendering.py:169: UserWarning: \u001b[33mWARN: Overwriting existing videos at /Users/chanb/research/personal/jaxl/notebooks/videos/model_id_final-videos folder (try specifying a different `video_folder` for the `RecordVideo` wrapper if this is not desired)\u001b[0m\n",
      "  logger.warn(\n",
      "  0%|          | 0/100 [00:00<?, ?it/s]2023-07-10 15:45:06.041 Python[86121:6885437] ApplePersistenceIgnoreState: Existing state will not be touched. New state will be written to /var/folders/h6/qs8bwp4d7bg67j4vbv960hdh0000gn/T/org.python.python.savedState\n",
      "  1%|          | 1/100 [00:05<08:41,  5.27s/it]"
     ]
    },
    {
     "name": "stdout",
     "output_type": "stream",
     "text": [
      "Moviepy - Building video /Users/chanb/research/personal/jaxl/notebooks/videos/model_id_final-videos/rl-video-episode-0.mp4.\n",
      "Moviepy - Writing video /Users/chanb/research/personal/jaxl/notebooks/videos/model_id_final-videos/rl-video-episode-0.mp4\n",
      "\n"
     ]
    },
    {
     "name": "stderr",
     "output_type": "stream",
     "text": [
      "  1%|          | 1/100 [00:08<08:41,  5.27s/it]"
     ]
    },
    {
     "name": "stdout",
     "output_type": "stream",
     "text": [
      "Moviepy - Done !\n",
      "Moviepy - video ready /Users/chanb/research/personal/jaxl/notebooks/videos/model_id_final-videos/rl-video-episode-0.mp4\n"
     ]
    },
    {
     "name": "stderr",
     "output_type": "stream",
     "text": [
      "  2%|▏         | 2/100 [00:13<11:28,  7.03s/it]"
     ]
    },
    {
     "name": "stdout",
     "output_type": "stream",
     "text": [
      "Moviepy - Building video /Users/chanb/research/personal/jaxl/notebooks/videos/model_id_final-videos/rl-video-episode-1.mp4.\n",
      "Moviepy - Writing video /Users/chanb/research/personal/jaxl/notebooks/videos/model_id_final-videos/rl-video-episode-1.mp4\n",
      "\n"
     ]
    },
    {
     "name": "stderr",
     "output_type": "stream",
     "text": [
      "  2%|▏         | 2/100 [00:16<11:28,  7.03s/it]"
     ]
    },
    {
     "name": "stdout",
     "output_type": "stream",
     "text": [
      "Moviepy - Done !\n",
      "Moviepy - video ready /Users/chanb/research/personal/jaxl/notebooks/videos/model_id_final-videos/rl-video-episode-1.mp4\n"
     ]
    },
    {
     "name": "stderr",
     "output_type": "stream",
     "text": [
      "  9%|▉         | 9/100 [00:24<03:32,  2.33s/it]"
     ]
    },
    {
     "name": "stdout",
     "output_type": "stream",
     "text": [
      "Moviepy - Building video /Users/chanb/research/personal/jaxl/notebooks/videos/model_id_final-videos/rl-video-episode-8.mp4.\n",
      "Moviepy - Writing video /Users/chanb/research/personal/jaxl/notebooks/videos/model_id_final-videos/rl-video-episode-8.mp4\n",
      "\n"
     ]
    },
    {
     "name": "stderr",
     "output_type": "stream",
     "text": [
      "  9%|▉         | 9/100 [00:27<03:32,  2.33s/it]"
     ]
    },
    {
     "name": "stdout",
     "output_type": "stream",
     "text": [
      "Moviepy - Done !\n",
      "Moviepy - video ready /Users/chanb/research/personal/jaxl/notebooks/videos/model_id_final-videos/rl-video-episode-8.mp4\n"
     ]
    },
    {
     "name": "stderr",
     "output_type": "stream",
     "text": [
      " 28%|██▊       | 28/100 [00:41<02:09,  1.80s/it]"
     ]
    },
    {
     "name": "stdout",
     "output_type": "stream",
     "text": [
      "Moviepy - Building video /Users/chanb/research/personal/jaxl/notebooks/videos/model_id_final-videos/rl-video-episode-27.mp4.\n",
      "Moviepy - Writing video /Users/chanb/research/personal/jaxl/notebooks/videos/model_id_final-videos/rl-video-episode-27.mp4\n",
      "\n"
     ]
    },
    {
     "name": "stderr",
     "output_type": "stream",
     "text": [
      " 28%|██▊       | 28/100 [00:44<02:09,  1.80s/it]"
     ]
    },
    {
     "name": "stdout",
     "output_type": "stream",
     "text": [
      "Moviepy - Done !\n",
      "Moviepy - video ready /Users/chanb/research/personal/jaxl/notebooks/videos/model_id_final-videos/rl-video-episode-27.mp4\n"
     ]
    },
    {
     "name": "stderr",
     "output_type": "stream",
     "text": [
      " 65%|██████▌   | 65/100 [01:04<00:37,  1.07s/it]"
     ]
    },
    {
     "name": "stdout",
     "output_type": "stream",
     "text": [
      "Moviepy - Building video /Users/chanb/research/personal/jaxl/notebooks/videos/model_id_final-videos/rl-video-episode-64.mp4.\n",
      "Moviepy - Writing video /Users/chanb/research/personal/jaxl/notebooks/videos/model_id_final-videos/rl-video-episode-64.mp4\n",
      "\n"
     ]
    },
    {
     "name": "stderr",
     "output_type": "stream",
     "text": [
      " 65%|██████▌   | 65/100 [01:06<00:37,  1.07s/it]"
     ]
    },
    {
     "name": "stdout",
     "output_type": "stream",
     "text": [
      "Moviepy - Done !\n",
      "Moviepy - video ready /Users/chanb/research/personal/jaxl/notebooks/videos/model_id_final-videos/rl-video-episode-64.mp4\n"
     ]
    },
    {
     "name": "stderr",
     "output_type": "stream",
     "text": [
      " 81%|████████  | 81/100 [01:16<00:11,  1.64it/s]"
     ]
    }
   ],
   "source": [
    "episodic_returns_per_variant = {}\n",
    "if load_termination:\n",
    "    checkpoint_paths = [os.path.join(agent_path, \"termination_model\")]\n",
    "else:\n",
    "    checkpoint_paths = os.listdir(os.path.join(agent_path, \"models\"))\n",
    "\n",
    "for checkpoint_path in checkpoint_paths:\n",
    "    agent_config, aux = get_config(agent_path)\n",
    "    env = get_environment(agent_config.learner_config.env_config)\n",
    "\n",
    "    model_id = \"final\" if load_termination else int(checkpoint_path.split(\"-\")[-1])\n",
    "    if record_video:\n",
    "        env = RecordVideoV0(env, f\"videos/model_id_{model_id}-videos\")\n",
    "\n",
    "    input_dim = env.observation_space.shape\n",
    "    output_dim = policy_output_dim(env.act_dim, agent_config.learner_config)\n",
    "    model = get_model(\n",
    "        input_dim,\n",
    "        output_dim,\n",
    "        getattr(agent_config.model_config, \"policy\", agent_config.model_config),\n",
    "    )\n",
    "    policy = get_policy(model, agent_config.learner_config)\n",
    "    if aux[\"multitask\"]:\n",
    "        policy = MultitaskPolicy(policy, model, aux[\"num_models\"])\n",
    "\n",
    "    agent_model_path = (\n",
    "        checkpoint_path\n",
    "        if load_termination\n",
    "        else os.path.join(agent_path, \"models\", checkpoint_path)\n",
    "    )\n",
    "    checkpointer = PyTreeCheckpointer()\n",
    "    model_dict = checkpointer.restore(agent_model_path)\n",
    "    agent_policy_params = model_dict[CONST_MODEL][CONST_POLICY]\n",
    "    with open(os.path.join(agent_model_path, \"learner_dict.pkl\"), \"rb\") as f:\n",
    "        learner_dict = pickle.load(f)\n",
    "        agent_obs_rms = learner_dict[CONST_OBS_RMS]\n",
    "\n",
    "    agent_rollout = EvaluationRollout(env, seed=env_seed)\n",
    "    agent_rollout.rollout(\n",
    "        agent_policy_params, policy, agent_obs_rms, num_episodes, None\n",
    "    )\n",
    "\n",
    "    episodic_returns_per_variant[model_id] = agent_rollout.episodic_returns"
   ]
  },
  {
   "cell_type": "code",
   "execution_count": null,
   "metadata": {},
   "outputs": [],
   "source": [
    "from pprint import pprint\n",
    "\n",
    "pprint(\n",
    "    [\n",
    "        (key, np.mean(val), np.std(val))\n",
    "        for key, val in episodic_returns_per_variant.items()\n",
    "    ]\n",
    ")"
   ]
  },
  {
   "cell_type": "code",
   "execution_count": null,
   "metadata": {},
   "outputs": [],
   "source": [
    "fig, ax = plt.subplots(1, figsize=(10, 5))\n",
    "\n",
    "model_ids = list(episodic_returns_per_variant.keys())\n",
    "means = []\n",
    "stds = []\n",
    "for val in episodic_returns_per_variant.values():\n",
    "    means.append(np.mean(val))\n",
    "    stds.append(np.std(val))\n",
    "means = np.array(means)\n",
    "stds = np.array(stds)\n",
    "\n",
    "sort_idxes = np.argsort(model_ids)\n",
    "model_ids = np.array(model_ids)\n",
    "ax.plot(model_ids[sort_idxes], means[sort_idxes], marker=\"x\")\n",
    "ax.fill_between(\n",
    "    model_ids[sort_idxes],\n",
    "    means[sort_idxes] + stds[sort_idxes],\n",
    "    means[sort_idxes] - stds[sort_idxes],\n",
    "    alpha=0.1,\n",
    ")\n",
    "ax.set_title(f\"Returns Across {num_episodes} Episodes\")\n",
    "ax.set_xlabel(\"Iteration\")\n",
    "ax.set_ylabel(\"Return\")\n",
    "ax.legend()\n",
    "fig.show()"
   ]
  }
 ],
 "metadata": {
  "kernelspec": {
   "display_name": ".venv",
   "language": "python",
   "name": "python3"
  },
  "language_info": {
   "codemirror_mode": {
    "name": "ipython",
    "version": 3
   },
   "file_extension": ".py",
   "mimetype": "text/x-python",
   "name": "python",
   "nbconvert_exporter": "python",
   "pygments_lexer": "ipython3",
   "version": "3.9.17"
  },
  "orig_nbformat": 4
 },
 "nbformat": 4,
 "nbformat_minor": 2
}
