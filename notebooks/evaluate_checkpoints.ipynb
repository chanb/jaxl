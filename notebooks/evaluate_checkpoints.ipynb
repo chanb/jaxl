{
 "cells": [
  {
   "attachments": {},
   "cell_type": "markdown",
   "metadata": {},
   "source": [
    "# Evaluate trained policies at checkpoints and choose the best one"
   ]
  },
  {
   "cell_type": "code",
   "execution_count": null,
   "metadata": {},
   "outputs": [],
   "source": [
    "from pprint import pprint\n",
    "\n",
    "import _pickle as pickle\n",
    "import matplotlib.pyplot as plt\n",
    "import notebook_utils\n",
    "import numpy as np\n",
    "import os\n",
    "\n",
    "from jaxl.constants import *\n",
    "from jaxl.utils import set_seed"
   ]
  },
  {
   "cell_type": "code",
   "execution_count": null,
   "metadata": {},
   "outputs": [],
   "source": [
    "run_seed = None\n",
    "set_seed(run_seed)"
   ]
  },
  {
   "cell_type": "code",
   "execution_count": null,
   "metadata": {},
   "outputs": [],
   "source": [
    "runs_dir = \"/Users/chanb/research/personal/jaxl/data/expert_models/pendulum_cont/runs\"\n",
    "save_path = \"pendulum_cont.pkl\"\n",
    "\n",
    "num_episodes = 10\n",
    "env_seed = 9999\n",
    "record_video = False"
   ]
  },
  {
   "cell_type": "code",
   "execution_count": null,
   "metadata": {},
   "outputs": [],
   "source": [
    "results = {}\n",
    "\n",
    "run_i = 0\n",
    "for run_path, _, filenames in os.walk(runs_dir):\n",
    "    for filename in filenames:\n",
    "        if filename != \"config.json\":\n",
    "            continue\n",
    "        run_i += 1\n",
    "        if run_i % 10 == 0:\n",
    "            print(f\"Processed {run_i} variants\")\n",
    "        agent_path = run_path\n",
    "        variant = os.path.basename(os.path.dirname(agent_path)).split(\"-\")[1]\n",
    "        results[variant] = notebook_utils.get_episodic_returns_per_checkpoint(\n",
    "            agent_path,\n",
    "            variant,\n",
    "            env_seed,\n",
    "            num_episodes,\n",
    "            None,\n",
    "            record_video,\n",
    "            False,\n",
    "        )\n",
    "\n",
    "if save_path:\n",
    "    with open(save_path, \"wb\") as f:\n",
    "        pickle.dump(results, f)"
   ]
  },
  {
   "cell_type": "code",
   "execution_count": null,
   "metadata": {},
   "outputs": [],
   "source": [
    "fig, ax = plt.subplots(1, figsize=(10, 5))\n",
    "\n",
    "model_ids = list(episodic_returns_per_variant.keys())\n",
    "means = []\n",
    "stds = []\n",
    "for val in episodic_returns_per_variant.values():\n",
    "    means.append(np.mean(val))\n",
    "    stds.append(np.std(val))\n",
    "means = np.array(means)\n",
    "stds = np.array(stds)\n",
    "\n",
    "sort_idxes = np.argsort(model_ids)\n",
    "model_ids = np.array(model_ids)\n",
    "ax.plot(model_ids[sort_idxes], means[sort_idxes], marker=\"x\")\n",
    "ax.fill_between(\n",
    "    model_ids[sort_idxes],\n",
    "    means[sort_idxes] + stds[sort_idxes],\n",
    "    means[sort_idxes] - stds[sort_idxes],\n",
    "    alpha=0.1,\n",
    ")\n",
    "ax.set_title(f\"Returns Across {num_episodes} Episodes\")\n",
    "ax.set_xlabel(\"Iteration\")\n",
    "ax.set_ylabel(\"Return\")\n",
    "ax.legend()\n",
    "fig.show()"
   ]
  }
 ],
 "metadata": {
  "kernelspec": {
   "display_name": ".venv",
   "language": "python",
   "name": "python3"
  },
  "language_info": {
   "codemirror_mode": {
    "name": "ipython",
    "version": 3
   },
   "file_extension": ".py",
   "mimetype": "text/x-python",
   "name": "python",
   "nbconvert_exporter": "python",
   "pygments_lexer": "ipython3",
   "version": "3.9.17"
  },
  "orig_nbformat": 4
 },
 "nbformat": 4,
 "nbformat_minor": 2
}
