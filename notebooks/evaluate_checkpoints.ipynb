{
 "cells": [
  {
   "attachments": {},
   "cell_type": "markdown",
   "metadata": {},
   "source": [
    "# Evaluate trained policies at checkpoints"
   ]
  },
  {
   "cell_type": "code",
   "execution_count": 1,
   "metadata": {},
   "outputs": [],
   "source": [
    "from gymnasium.experimental.wrappers import RecordVideoV0\n",
    "from orbax.checkpoint import PyTreeCheckpointer, CheckpointManager\n",
    "\n",
    "import _pickle as pickle\n",
    "import jax\n",
    "import json\n",
    "import logging\n",
    "import matplotlib.pyplot as plt\n",
    "import numpy as np\n",
    "import os\n",
    "import timeit\n",
    "\n",
    "from jaxl.buffers import get_buffer\n",
    "from jaxl.constants import *\n",
    "from jaxl.models import (\n",
    "    get_model,\n",
    "    get_policy,\n",
    "    policy_output_dim,\n",
    ")\n",
    "from jaxl.models.policies import MultitaskPolicy\n",
    "from jaxl.envs import get_environment\n",
    "from jaxl.envs.rollouts import EvaluationRollout\n",
    "from jaxl.utils import (\n",
    "    set_seed,\n",
    "    parse_dict,\n",
    "    set_dict_value,\n",
    "    get_dict_value,\n",
    "    RunningMeanStd,\n",
    ")"
   ]
  },
  {
   "cell_type": "code",
   "execution_count": 2,
   "metadata": {},
   "outputs": [],
   "source": [
    "run_seed = None\n",
    "set_seed(run_seed)"
   ]
  },
  {
   "cell_type": "code",
   "execution_count": 3,
   "metadata": {},
   "outputs": [],
   "source": [
    "def get_env(agent_path):\n",
    "    agent_config_path = os.path.join(agent_path, \"config.json\")\n",
    "    with open(agent_config_path, \"r\") as f:\n",
    "        agent_config_dict = json.load(f)\n",
    "    return agent_config_dict[\"learner_config\"][\"env_config\"]"
   ]
  },
  {
   "cell_type": "code",
   "execution_count": 4,
   "metadata": {},
   "outputs": [],
   "source": [
    "agent_path = \"/Users/chanb/research/personal/mtil_results/data_from_pretrain/experts/cheetah/discrete/runs/0/variant-93/07-27-23_04_24_54-3d3edfc9-2dc4-4d7d-b813-aa543828e429\"\n",
    "trained_env_parameters = get_env(agent_path)\n",
    "\n",
    "agent_path = \"/Users/chanb/research/personal/jaxl/jaxl/logs/cheetah_discrete/bc-1000/07-27-23_14_09_37-ecacb78c-3795-4195-92e9-ce0b74071982\"\n",
    "policy_type = CONST_SOFTMAX\n",
    "\n",
    "num_episodes = 10\n",
    "env_seed = 10\n",
    "buffer_size = 0\n",
    "record_video = True"
   ]
  },
  {
   "cell_type": "code",
   "execution_count": 5,
   "metadata": {},
   "outputs": [],
   "source": [
    "def get_config(agent_path):\n",
    "    agent_config_path = os.path.join(agent_path, \"config.json\")\n",
    "    with open(agent_config_path, \"r\") as f:\n",
    "        agent_config_dict = json.load(f)\n",
    "        agent_config_dict[\"learner_config\"][\"env_config\"] = trained_env_parameters\n",
    "        agent_config_dict[\"learner_config\"][\"env_config\"][\"env_kwargs\"][\n",
    "            \"render_mode\"\n",
    "        ] = \"rgb_array\"\n",
    "        if \"policy_distribution\" not in agent_config_dict[\"learner_config\"]:\n",
    "            agent_config_dict[\"learner_config\"][\"policy_distribution\"] = policy_type\n",
    "        set_dict_value(agent_config_dict, \"vmap_all\", False)\n",
    "        (multitask, num_models) = get_dict_value(agent_config_dict, \"num_models\")\n",
    "        agent_config = parse_dict(agent_config_dict)\n",
    "    return agent_config, {\n",
    "        \"multitask\": multitask,\n",
    "        \"num_models\": num_models,\n",
    "    }"
   ]
  },
  {
   "cell_type": "code",
   "execution_count": 6,
   "metadata": {},
   "outputs": [
    {
     "name": "stderr",
     "output_type": "stream",
     "text": [
      "/Users/chanb/research/personal/jaxl/.venv/lib/python3.9/site-packages/gymnasium/spaces/box.py:130: UserWarning: \u001b[33mWARN: Box bound precision lowered by casting to float32\u001b[0m\n",
      "  gym.logger.warn(f\"Box bound precision lowered by casting to {self.dtype}\")\n"
     ]
    }
   ],
   "source": [
    "# Build agent and policy\n",
    "agent_config, aux = get_config(agent_path)\n",
    "env = get_environment(agent_config.learner_config.env_config)\n",
    "\n",
    "input_dim = env.observation_space.shape\n",
    "output_dim = policy_output_dim(env.act_dim, agent_config.learner_config)\n",
    "model = get_model(\n",
    "    input_dim,\n",
    "    output_dim,\n",
    "    getattr(agent_config.model_config, \"policy\", agent_config.model_config),\n",
    ")\n",
    "policy = get_policy(model, agent_config.learner_config)\n",
    "if aux[\"multitask\"]:\n",
    "    policy = MultitaskPolicy(policy, model, aux[\"num_models\"])\n",
    "env.close()"
   ]
  },
  {
   "cell_type": "code",
   "execution_count": 7,
   "metadata": {},
   "outputs": [
    {
     "name": "stderr",
     "output_type": "stream",
     "text": [
      "/Users/chanb/research/personal/jaxl/.venv/lib/python3.9/site-packages/gymnasium/experimental/wrappers/rendering.py:169: UserWarning: \u001b[33mWARN: Overwriting existing videos at /Users/chanb/research/personal/jaxl/notebooks/videos/eval_checkpoints/model_id_1-videos folder (try specifying a different `video_folder` for the `RecordVideo` wrapper if this is not desired)\u001b[0m\n",
      "  logger.warn(\n",
      "  0%|          | 0/10 [00:00<?, ?it/s]2023-07-27 14:06:47.455 Python[84575:14773520] ApplePersistenceIgnoreState: Existing state will not be touched. New state will be written to /var/folders/h6/qs8bwp4d7bg67j4vbv960hdh0000gn/T/org.python.python.savedState\n",
      "100%|██████████| 10/10 [00:25<00:00,  2.54s/it]\n",
      "/Users/chanb/research/personal/jaxl/.venv/lib/python3.9/site-packages/gymnasium/spaces/box.py:130: UserWarning: \u001b[33mWARN: Box bound precision lowered by casting to float32\u001b[0m\n",
      "  gym.logger.warn(f\"Box bound precision lowered by casting to {self.dtype}\")\n",
      "100%|██████████| 10/10 [00:25<00:00,  2.56s/it]\n",
      "/Users/chanb/research/personal/jaxl/.venv/lib/python3.9/site-packages/gymnasium/spaces/box.py:130: UserWarning: \u001b[33mWARN: Box bound precision lowered by casting to float32\u001b[0m\n",
      "  gym.logger.warn(f\"Box bound precision lowered by casting to {self.dtype}\")\n",
      "100%|██████████| 10/10 [00:25<00:00,  2.54s/it]\n"
     ]
    }
   ],
   "source": [
    "episodic_returns_per_variant = {}\n",
    "checkpoint_manager = CheckpointManager(\n",
    "    os.path.join(agent_path, \"models\"),\n",
    "    PyTreeCheckpointer(),\n",
    ")\n",
    "for checkpoint_step in checkpoint_manager.all_steps():\n",
    "    env = get_environment(agent_config.learner_config.env_config)\n",
    "    if record_video:\n",
    "        env = RecordVideoV0(\n",
    "            env,\n",
    "            f\"videos/eval_checkpoints/model_id_{checkpoint_step}-videos\",\n",
    "            disable_logger=True,  # , episode_trigger=lambda x: True\n",
    "        )\n",
    "    params = checkpoint_manager.restore(checkpoint_step)\n",
    "    model_dict = params[CONST_MODEL_DICT]\n",
    "    agent_policy_params = model_dict[CONST_MODEL][CONST_POLICY]\n",
    "    agent_obs_rms = False\n",
    "    if CONST_OBS_RMS in params:\n",
    "        agent_obs_rms = RunningMeanStd()\n",
    "        agent_obs_rms.set_state(params[CONST_OBS_RMS])\n",
    "\n",
    "    agent_rollout = EvaluationRollout(env, seed=env_seed)\n",
    "    agent_rollout.rollout(\n",
    "        agent_policy_params, policy, agent_obs_rms, num_episodes, None\n",
    "    )\n",
    "\n",
    "    episodic_returns_per_variant[checkpoint_step] = agent_rollout.episodic_returns\n",
    "    env.close()"
   ]
  },
  {
   "cell_type": "code",
   "execution_count": 8,
   "metadata": {},
   "outputs": [
    {
     "name": "stdout",
     "output_type": "stream",
     "text": [
      "{'xml': '<mujoco model=\"cheetah\">\\n  <include file=\"./common/skybox.xml\" />\\n  <include file=\"./common/visual.xml\" />\\n  <include file=\"./common/materials.xml\" />\\n\\n  <compiler settotalmass=\"14\" />\\n\\n  <default>\\n    <default class=\"cheetah\">\\n      <joint limited=\"true\" damping=\".01\" armature=\".1\" stiffness=\"8\" type=\"hinge\" axis=\"0 1 0\" />\\n      <geom contype=\"1\" conaffinity=\"1\" condim=\"3\" friction=\".4 .1 .1\" material=\"self\" />\\n    </default>\\n    <default class=\"free\">\\n      <joint limited=\"false\" damping=\"0\" armature=\"0\" stiffness=\"0\" />\\n    </default>\\n    <motor ctrllimited=\"true\" ctrlrange=\"-1 1\" />\\n  </default>\\n\\n  <statistic center=\"0 0 .7\" extent=\"2\" />\\n\\n  <option timestep=\"0.01\" />\\n\\n  <worldbody>\\n    <geom name=\"ground\" type=\"plane\" conaffinity=\"1\" pos=\"98 0 0\" size=\"100 .8 .5\" material=\"grid\" />\\n    <body name=\"torso\" pos=\"0 0 .7\" childclass=\"cheetah\">\\n      <light name=\"light\" pos=\"0 0 2\" mode=\"trackcom\" />\\n      <camera name=\"side\" pos=\"0 -3 0\" quat=\"0.707 0.707 0 0\" mode=\"trackcom\" />\\n      <camera name=\"back\" pos=\"-1.8 -1.3 0.8\" xyaxes=\"0.45 -0.9 0 0.3 0.15 0.94\" mode=\"trackcom\" />\\n      <joint name=\"rootx\" type=\"slide\" axis=\"1 0 0\" class=\"free\" />\\n      <joint name=\"rootz\" type=\"slide\" axis=\"0 0 1\" class=\"free\" />\\n      <joint name=\"rooty\" type=\"hinge\" axis=\"0 1 0\" class=\"free\" />\\n      <geom name=\"torso\" type=\"capsule\" fromto=\"-.5 0 0 .5 0 0\" size=\"0.046\" />\\n      <geom name=\"head\" type=\"capsule\" pos=\".6 0 .1\" euler=\"0 50 0\" size=\"0.046 .15\" />\\n      <body name=\"bthigh\" pos=\"-.5 0 0\">\\n        <joint name=\"bthigh\" range=\"-30 60\" stiffness=\"247.782981099351\" damping=\"5.301779431148699\" />\\n        <geom name=\"bthigh\" type=\"capsule\" pos=\".1 0 -.13\" euler=\"0 -218 0\" size=\"0.046 .145\" />\\n        <body name=\"bshin\" pos=\".16 0 -.25\">\\n          <joint name=\"bshin\" range=\"-50 50\" stiffness=\"180\" damping=\"4.5\" />\\n          <geom name=\"bshin\" type=\"capsule\" pos=\"-.14 0 -.07\" euler=\"0 -116 0\" size=\"0.046 .15\" />\\n          <body name=\"bfoot\" pos=\"-.28 0 -.14\">\\n            <joint name=\"bfoot\" range=\"-230 50\" stiffness=\"120\" damping=\"3\" />\\n            <geom name=\"bfoot\" type=\"capsule\" pos=\".03 0 -.097\" euler=\"0 -15 0\" size=\"0.04555671205892598 0.06924159537236457\" />\\n          </body>\\n        </body>\\n      </body>\\n      <body name=\"fthigh\" pos=\".5 0 0\">\\n        <joint name=\"fthigh\" range=\"-57 .40\" stiffness=\"233.55269632010388\" damping=\"5.644237505145318\" />\\n        <geom name=\"fthigh\" type=\"capsule\" pos=\"-.07 0 -.12\" euler=\"0 30 0\" size=\"0.046 .133\" />\\n        <body name=\"fshin\" pos=\"-.14 0 -.24\">\\n          <joint name=\"fshin\" range=\"-70 50\" stiffness=\"120\" damping=\"3\" />\\n          <geom name=\"fshin\" type=\"capsule\" pos=\".065 0 -.09\" euler=\"0 -34 0\" size=\"0.046 .106\" />\\n          <body name=\"ffoot\" pos=\".13 0 -.18\">\\n            <joint name=\"ffoot\" range=\"-28 28\" stiffness=\"60\" damping=\"1.5\" />\\n            <geom name=\"ffoot\" type=\"capsule\" pos=\".045 0 -.07\" euler=\"0 -34 0\" size=\"0.042413034769012384 0.07399369610907228\" />\\n          </body>\\n        </body>\\n      </body>\\n    </body>\\n  </worldbody>\\n\\n  <sensor>\\n    <subtreelinvel name=\"torso_subtreelinvel\" body=\"torso\" />\\n  </sensor>\\n\\n  <actuator>\\n    <motor name=\"bthigh\" joint=\"bthigh\" gear=\"120\" />\\n    <motor name=\"bshin\" joint=\"bshin\" gear=\"90\" />\\n    <motor name=\"bfoot\" joint=\"bfoot\" gear=\"60\" />\\n    <motor name=\"fthigh\" joint=\"fthigh\" gear=\"90\" />\\n    <motor name=\"fshin\" joint=\"fshin\" gear=\"60\" />\\n    <motor name=\"ffoot\" joint=\"ffoot\" gear=\"30\" />\\n  </actuator>\\n</mujoco>', 'modified_attributes': {'joint': {'bthigh': {'stiffness': array([247.7829811])}, 'fthigh': {'stiffness': array([233.55269632])}}, 'geom': {'ffoot': {'size': array([0.04241303, 0.0739937 ])}, 'bfoot': {'size': array([0.04555671, 0.0692416 ])}}}}\n"
     ]
    }
   ],
   "source": [
    "if hasattr(env, \"get_config\"):\n",
    "    print(env.get_config())"
   ]
  },
  {
   "cell_type": "code",
   "execution_count": 9,
   "metadata": {},
   "outputs": [
    {
     "name": "stdout",
     "output_type": "stream",
     "text": [
      "[(1, 57.18623274800366, 21.59571214777245),\n",
      " (1000, 85.34859945930961, 28.539797889296317),\n",
      " (2000, 31.07812883744823, 17.635771671760818)]\n"
     ]
    }
   ],
   "source": [
    "from pprint import pprint\n",
    "\n",
    "pprint(\n",
    "    [\n",
    "        (key, np.mean(val), np.std(val))\n",
    "        for key, val in episodic_returns_per_variant.items()\n",
    "    ]\n",
    ")"
   ]
  },
  {
   "cell_type": "code",
   "execution_count": 10,
   "metadata": {},
   "outputs": [
    {
     "name": "stderr",
     "output_type": "stream",
     "text": [
      "WARNING:matplotlib.legend:No artists with labels found to put in legend.  Note that artists whose label start with an underscore are ignored when legend() is called with no argument.\n",
      "/var/folders/h6/qs8bwp4d7bg67j4vbv960hdh0000gn/T/ipykernel_84575/3652737342.py:25: UserWarning: Matplotlib is currently using module://matplotlib_inline.backend_inline, which is a non-GUI backend, so cannot show the figure.\n",
      "  fig.show()\n"
     ]
    },
    {
     "data": {
      "image/png": "[encoded data removed]",
      "text/plain": [
       "<Figure size 1000x500 with 1 Axes>"
      ]
     },
     "metadata": {},
     "output_type": "display_data"
    }
   ],
   "source": [
    "fig, ax = plt.subplots(1, figsize=(10, 5))\n",
    "\n",
    "model_ids = list(episodic_returns_per_variant.keys())\n",
    "means = []\n",
    "stds = []\n",
    "for val in episodic_returns_per_variant.values():\n",
    "    means.append(np.mean(val))\n",
    "    stds.append(np.std(val))\n",
    "means = np.array(means)\n",
    "stds = np.array(stds)\n",
    "\n",
    "sort_idxes = np.argsort(model_ids)\n",
    "model_ids = np.array(model_ids)\n",
    "ax.plot(model_ids[sort_idxes], means[sort_idxes], marker=\"x\")\n",
    "ax.fill_between(\n",
    "    model_ids[sort_idxes],\n",
    "    means[sort_idxes] + stds[sort_idxes],\n",
    "    means[sort_idxes] - stds[sort_idxes],\n",
    "    alpha=0.1,\n",
    ")\n",
    "ax.set_title(f\"Returns Across {num_episodes} Episodes\")\n",
    "ax.set_xlabel(\"Iteration\")\n",
    "ax.set_ylabel(\"Return\")\n",
    "ax.legend()\n",
    "fig.show()"
   ]
  },
  {
   "cell_type": "code",
   "execution_count": null,
   "metadata": {},
   "outputs": [],
   "source": []
  }
 ],
 "metadata": {
  "kernelspec": {
   "display_name": ".venv",
   "language": "python",
   "name": "python3"
  },
  "language_info": {
   "codemirror_mode": {
    "name": "ipython",
    "version": 3
   },
   "file_extension": ".py",
   "mimetype": "text/x-python",
   "name": "python",
   "nbconvert_exporter": "python",
   "pygments_lexer": "ipython3",
   "version": "3.9.17"
  },
  "orig_nbformat": 4
 },
 "nbformat": 4,
 "nbformat_minor": 2
}
