{
 "cells": [
  {
   "attachments": {},
   "cell_type": "markdown",
   "metadata": {},
   "source": [
    "# Evalute how robust the trained policy is in different environment variation"
   ]
  },
  {
   "cell_type": "code",
   "execution_count": null,
   "metadata": {},
   "outputs": [],
   "source": [
    "from gymnasium.experimental.wrappers import RecordVideoV0\n",
    "from orbax.checkpoint import PyTreeCheckpointer\n",
    "from pprint import pprint\n",
    "\n",
    "import _pickle as pickle\n",
    "import jax\n",
    "import json\n",
    "import logging\n",
    "import matplotlib.pyplot as plt\n",
    "import numpy as np\n",
    "import os\n",
    "import timeit\n",
    "\n",
    "from jaxl.buffers import get_buffer\n",
    "from jaxl.constants import *\n",
    "from jaxl.models import (\n",
    "    get_model,\n",
    "    get_policy,\n",
    "    policy_output_dim,\n",
    ")\n",
    "from jaxl.models.policies import MultitaskPolicy\n",
    "from jaxl.envs import get_environment\n",
    "from jaxl.envs.rollouts import EvaluationRollout\n",
    "from jaxl.utils import set_seed, parse_dict, set_dict_value, get_dict_value"
   ]
  },
  {
   "cell_type": "code",
   "execution_count": null,
   "metadata": {},
   "outputs": [],
   "source": [
    "run_seed = None\n",
    "set_seed(run_seed)"
   ]
  },
  {
   "cell_type": "code",
   "execution_count": null,
   "metadata": {},
   "outputs": [],
   "source": [
    "def get_env(agent_path):\n",
    "    agent_config_path = os.path.join(agent_path, \"config.json\")\n",
    "    with open(agent_config_path, \"r\") as f:\n",
    "        agent_config_dict = json.load(f)\n",
    "    return agent_config_dict[\"learner_config\"][\"env_config\"]"
   ]
  },
  {
   "cell_type": "code",
   "execution_count": null,
   "metadata": {},
   "outputs": [],
   "source": [
    "agent_to_load_env_path = \"/Users/chanb/research/personal/jaxl/jaxl/logs/hopper-default/ppo-discrete_control/07-10-23_07_58_53-7d0e3ac1-196d-43a6-bd5e-17ec441700e1\"\n",
    "trained_env_parameters = get_env(agent_to_load_env_path)\n",
    "\n",
    "agent_path = \"/Users/chanb/research/personal/jaxl/jaxl/logs/hopper-default/ppo-discrete_control/07-10-23_07_58_53-7d0e3ac1-196d-43a6-bd5e-17ec441700e1\"\n",
    "\n",
    "num_episodes = 10\n",
    "env_seed = 9999\n",
    "buffer_size = 0\n",
    "record_video = True"
   ]
  },
  {
   "cell_type": "code",
   "execution_count": null,
   "metadata": {},
   "outputs": [],
   "source": [
    "def get_config(agent_path, seed, use_default=False):\n",
    "    agent_config_path = os.path.join(agent_path, \"config.json\")\n",
    "    with open(agent_config_path, \"r\") as f:\n",
    "        agent_config_dict = json.load(f)\n",
    "        agent_config_dict[\"learner_config\"][\"env_config\"] = trained_env_parameters\n",
    "        agent_config_dict[\"learner_config\"][\"env_config\"][\"env_kwargs\"][\n",
    "            \"render_mode\"\n",
    "        ] = \"rgb_array\"\n",
    "        agent_config_dict[\"learner_config\"][\"env_config\"][\"env_kwargs\"][\"seed\"] = seed\n",
    "        agent_config_dict[\"learner_config\"][\"env_config\"][\"env_kwargs\"][\n",
    "            \"use_default\"\n",
    "        ] = use_default\n",
    "        if \"policy_distribution\" not in agent_config_dict[\"learner_config\"]:\n",
    "            agent_config_dict[\"learner_config\"][\n",
    "                \"policy_distribution\"\n",
    "            ] = CONST_DETERMINISTIC\n",
    "        set_dict_value(agent_config_dict, \"vmap_all\", False)\n",
    "        (multitask, num_models) = get_dict_value(agent_config_dict, \"num_models\")\n",
    "        agent_config = parse_dict(agent_config_dict)\n",
    "    return agent_config, {\n",
    "        \"multitask\": multitask,\n",
    "        \"num_models\": num_models,\n",
    "    }"
   ]
  },
  {
   "cell_type": "code",
   "execution_count": null,
   "metadata": {},
   "outputs": [],
   "source": [
    "episodic_returns_per_variant = {}\n",
    "env_configs = {}\n",
    "checkpointer = PyTreeCheckpointer()\n",
    "\n",
    "default_seed = trained_env_parameters[\"env_kwargs\"][\"seed\"]\n",
    "\n",
    "seeds = [default_seed, *np.random.randint(0, 2**32 - 1, 10)]\n",
    "for env_i, seed in enumerate(seeds):\n",
    "    agent_config, aux = get_config(agent_path, seed, use_default=(env_i == 0))\n",
    "    env = get_environment(agent_config.learner_config.env_config)\n",
    "    env_configs[np.log2(seed)] = (\n",
    "        env.get_config() if hasattr(env, \"get_config\") else None\n",
    "    )\n",
    "\n",
    "    if record_video:\n",
    "        env = RecordVideoV0(env, f\"env_seed_{seed}-videos\")\n",
    "\n",
    "    if env_i == 0:\n",
    "        input_dim = env.observation_space.shape\n",
    "        output_dim = policy_output_dim(env.act_dim, agent_config.learner_config)\n",
    "        model = get_model(\n",
    "            input_dim,\n",
    "            output_dim,\n",
    "            getattr(agent_config.model_config, \"policy\", agent_config.model_config),\n",
    "        )\n",
    "        policy = get_policy(model, agent_config.learner_config)\n",
    "        if aux[\"multitask\"]:\n",
    "            policy = MultitaskPolicy(policy, model, aux[\"num_models\"])\n",
    "\n",
    "        agent_model_path = os.path.join(agent_path, \"termination_model\")\n",
    "        model_dict = checkpointer.restore(agent_model_path)\n",
    "        agent_policy_params = model_dict[CONST_MODEL][CONST_POLICY]\n",
    "        with open(os.path.join(agent_model_path, \"learner_dict.pkl\"), \"rb\") as f:\n",
    "            learner_dict = pickle.load(f)\n",
    "            agent_obs_rms = learner_dict[CONST_OBS_RMS]\n",
    "\n",
    "    agent_rollout = EvaluationRollout(env, seed=env_seed)\n",
    "    agent_rollout.rollout(\n",
    "        agent_policy_params, policy, agent_obs_rms, num_episodes, None\n",
    "    )\n",
    "\n",
    "    episodic_returns_per_variant[np.log2(seed)] = agent_rollout.episodic_returns"
   ]
  },
  {
   "cell_type": "code",
   "execution_count": null,
   "metadata": {},
   "outputs": [],
   "source": [
    "pprint({seed: env_configs[seed][\"modified_attributes\"] for seed in env_configs})"
   ]
  },
  {
   "cell_type": "code",
   "execution_count": null,
   "metadata": {},
   "outputs": [],
   "source": [
    "fig, ax = plt.subplots(1, figsize=(10, 5))\n",
    "ax.boxplot(episodic_returns_per_variant.values())\n",
    "ax.set_xticks(\n",
    "    range(1, len(episodic_returns_per_variant) + 1),\n",
    "    [\"{:.2f}\".format(val) for val in episodic_returns_per_variant.keys()],\n",
    ")\n",
    "ax.set_title(f\"Returns Across {num_episodes} Episodes\")\n",
    "ax.set_xlabel(\"Seed in Log-scale\")\n",
    "ax.set_ylabel(\"Return\")\n",
    "fig.show()"
   ]
  },
  {
   "cell_type": "code",
   "execution_count": null,
   "metadata": {},
   "outputs": [],
   "source": [
    "pprint(\n",
    "    [\n",
    "        (key, np.mean(val), np.std(val))\n",
    "        for key, val in episodic_returns_per_variant.items()\n",
    "    ]\n",
    ")"
   ]
  },
  {
   "cell_type": "code",
   "execution_count": null,
   "metadata": {},
   "outputs": [],
   "source": [
    "fig, ax = plt.subplots(1, figsize=(10, 5))\n",
    "\n",
    "means = []\n",
    "stds = []\n",
    "for val in episodic_returns_per_variant.values():\n",
    "    means.append(np.mean(val))\n",
    "    stds.append(np.std(val))\n",
    "means = np.array(means)\n",
    "stds = np.array(stds)\n",
    "\n",
    "sort_idxes = np.argsort(seeds)\n",
    "seeds = np.log2(np.array(seeds))\n",
    "ax.plot(seeds[sort_idxes], means[sort_idxes], marker=\"x\")\n",
    "ax.fill_between(\n",
    "    seeds[sort_idxes],\n",
    "    means[sort_idxes] + stds[sort_idxes],\n",
    "    means[sort_idxes] - stds[sort_idxes],\n",
    "    alpha=0.1,\n",
    ")\n",
    "ax.set_title(f\"Returns Across {num_episodes} Episodes\")\n",
    "ax.axvline(\n",
    "    seeds[0],\n",
    "    label=\"trained parameter: {:.2f}\".format(seeds[0]),\n",
    "    linestyle=\"--\",\n",
    "    linewidth=1,\n",
    ")\n",
    "ax.set_xlabel(\"Seed in Log-scale\")\n",
    "ax.set_ylabel(\"Return\")\n",
    "ax.legend()\n",
    "fig.show()"
   ]
  },
  {
   "cell_type": "code",
   "execution_count": null,
   "metadata": {},
   "outputs": [],
   "source": [
    "print(seeds)\n",
    "print(means)"
   ]
  }
 ],
 "metadata": {
  "kernelspec": {
   "display_name": ".venv",
   "language": "python",
   "name": "python3"
  },
  "language_info": {
   "codemirror_mode": {
    "name": "ipython",
    "version": 3
   },
   "file_extension": ".py",
   "mimetype": "text/x-python",
   "name": "python",
   "nbconvert_exporter": "python",
   "pygments_lexer": "ipython3",
   "version": "3.9.17"
  },
  "orig_nbformat": 4
 },
 "nbformat": 4,
 "nbformat_minor": 2
}
