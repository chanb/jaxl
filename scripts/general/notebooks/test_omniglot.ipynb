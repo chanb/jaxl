{
 "cells": [
  {
   "cell_type": "code",
   "execution_count": null,
   "metadata": {},
   "outputs": [],
   "source": [
    "import matplotlib.pyplot as plt\n",
    "import numpy as np\n",
    "import torchvision.datasets as torch_datasets\n",
    "\n",
    "from jaxl.datasets.omniglot import MultitaskOmniglotBursty, MultitaskOmniglotNWayKShot, MultitaskOmniglotBurstyAllSplit\n",
    "from jaxl.datasets.wrappers import ContextDataset, FixedLengthContextDataset\n",
    "\n",
    "import jaxl.transforms as jaxl_transforms"
   ]
  },
  {
   "cell_type": "code",
   "execution_count": null,
   "metadata": {},
   "outputs": [],
   "source": [
    "# dataset = ContextDataset(\n",
    "#     MultitaskOmniglotBursty(\n",
    "#         dataset=torch_datasets.Omniglot(\n",
    "#             \"/home/bryanpu1/projects/icl/data\",\n",
    "#             background=True,\n",
    "#             download=False,\n",
    "#             transform=jaxl_transforms.DefaultPILToImageTransform(),\n",
    "#             target_transform=None,\n",
    "#         ),\n",
    "#         num_sequences=20,\n",
    "#         sequence_length=16,\n",
    "#         p_bursty=0.5,\n",
    "#         min_num_per_class=1,\n",
    "#     ),\n",
    "#     context_len=15,\n",
    "#     include_query_class=False,\n",
    "# )\n",
    "\n",
    "# dataset = FixedLengthContextDataset(\n",
    "#     MultitaskOmniglotBursty(\n",
    "#         dataset=torch_datasets.Omniglot(\n",
    "#             \"/home/bryanpu1/projects/icl/data\",\n",
    "#             background=True,\n",
    "#             download=False,\n",
    "#             transform=jaxl_transforms.DefaultPILToImageTransform(),\n",
    "#             target_transform=None,\n",
    "#         ),\n",
    "#         num_sequences=20,\n",
    "#         sequence_length=16,\n",
    "#         p_bursty=0.5,\n",
    "#         min_num_per_class=3,\n",
    "#     ),\n",
    "#     context_len=15,\n",
    "# )\n",
    "\n",
    "# dataset = FixedLengthContextDataset(\n",
    "#     MultitaskOmniglotNWayKShot(\n",
    "#         dataset=torch_datasets.Omniglot(\n",
    "#             \"/home/bryanpu1/projects/icl/data\",\n",
    "#             background=True,\n",
    "#             download=False,\n",
    "#             transform=jaxl_transforms.DefaultPILToImageTransform(),\n",
    "#             target_transform=None,\n",
    "#         ),\n",
    "#         num_sequences=20,\n",
    "#         sequence_length=9,\n",
    "#         k_way=4\n",
    "#     ),\n",
    "#     context_len=8,\n",
    "# )\n",
    "\n",
    "dataset = FixedLengthContextDataset(\n",
    "    MultitaskOmniglotBurstyAllSplit(\n",
    "        train_dataset=torch_datasets.Omniglot(\n",
    "            \"/home/bryanpu1/projects/icl/data\",\n",
    "            background=True,\n",
    "            download=False,\n",
    "            transform=jaxl_transforms.DefaultPILToImageTransform(),\n",
    "            target_transform=None,\n",
    "        ),\n",
    "        test_dataset=torch_datasets.Omniglot(\n",
    "            \"/home/bryanpu1/projects/icl/data\",\n",
    "            background=False,\n",
    "            download=False,\n",
    "            transform=jaxl_transforms.DefaultPILToImageTransform(),\n",
    "            target_transform=None,\n",
    "        ),\n",
    "        num_holdout=10,\n",
    "        train=True,\n",
    "        num_sequences=20,\n",
    "        sequence_length=16,\n",
    "        p_bursty=0.5,\n",
    "        min_num_per_class=3,\n",
    "    ),\n",
    "    context_len=15,\n",
    ")"
   ]
  },
  {
   "cell_type": "code",
   "execution_count": null,
   "metadata": {},
   "outputs": [],
   "source": [
    "ci, co, q, o = dataset[0]"
   ]
  },
  {
   "cell_type": "code",
   "execution_count": null,
   "metadata": {},
   "outputs": [],
   "source": [
    "q.shape"
   ]
  },
  {
   "cell_type": "code",
   "execution_count": null,
   "metadata": {},
   "outputs": [],
   "source": [
    "ci_2, co_2, q_2, o_2 = dataset[0]"
   ]
  },
  {
   "cell_type": "code",
   "execution_count": null,
   "metadata": {},
   "outputs": [],
   "source": [
    "print(np.allclose(ci, ci_2))\n",
    "print(np.allclose(co, co_2))\n",
    "print(np.allclose(q, q_2))\n",
    "print(np.allclose(o, o_2))"
   ]
  },
  {
   "cell_type": "code",
   "execution_count": null,
   "metadata": {},
   "outputs": [],
   "source": [
    "np.argmax(o, axis=-1), np.argmax(co, axis=-1)"
   ]
  },
  {
   "cell_type": "code",
   "execution_count": null,
   "metadata": {},
   "outputs": [],
   "source": [
    "ci_2, co_2, q_2, o_2 = dataset[4]"
   ]
  },
  {
   "cell_type": "code",
   "execution_count": null,
   "metadata": {},
   "outputs": [],
   "source": [
    "np.argmax(o_2, axis=-1), np.argmax(co_2, axis=-1)"
   ]
  },
  {
   "cell_type": "code",
   "execution_count": null,
   "metadata": {},
   "outputs": [],
   "source": [
    "ci.shape, co.shape, q.shape, o.shape"
   ]
  },
  {
   "cell_type": "code",
   "execution_count": null,
   "metadata": {},
   "outputs": [],
   "source": [
    "# dataset._data[\"is_bursty\"]"
   ]
  },
  {
   "cell_type": "code",
   "execution_count": null,
   "metadata": {},
   "outputs": [],
   "source": [
    "fig, ax = plt.subplots(2, 8)\n",
    "\n",
    "for idx, (img, output) in enumerate(zip(ci, co)):\n",
    "    row_i = idx // 8\n",
    "    col_i = idx % 8\n",
    "    ax[row_i, col_i].imshow(img[0])\n",
    "    ax[row_i, col_i].set_title(np.argmax(output))\n",
    "    ax[row_i, col_i].axis('off')\n",
    "ax[0, -1].axis('off')\n",
    "ax[1, -1].axis('off')\n",
    "ax[1, -1].imshow(q[0, 0])\n",
    "ax[1, -1].set_title(np.argmax(o, axis=-1))\n",
    "plt.show()"
   ]
  },
  {
   "cell_type": "code",
   "execution_count": null,
   "metadata": {},
   "outputs": [],
   "source": [
    "fig, ax = plt.subplots(2, 8)\n",
    "\n",
    "for idx, (img, output) in enumerate(zip(ci_2, co_2)):\n",
    "    row_i = idx // 8\n",
    "    col_i = idx % 8\n",
    "    ax[row_i, col_i].imshow(img[0])\n",
    "    ax[row_i, col_i].set_title(np.argmax(output))\n",
    "    ax[row_i, col_i].axis('off')\n",
    "ax[0, -1].axis('off')\n",
    "ax[1, -1].axis('off')\n",
    "ax[1, -1].imshow(q_2[0, 0])\n",
    "ax[1, -1].set_title(np.argmax(o_2, axis=-1))\n",
    "plt.show()"
   ]
  },
  {
   "cell_type": "code",
   "execution_count": null,
   "metadata": {},
   "outputs": [],
   "source": [
    "print(len(dataset))\n",
    "# print(dataset._data[\"is_bursty\"])"
   ]
  },
  {
   "cell_type": "code",
   "execution_count": null,
   "metadata": {},
   "outputs": [],
   "source": [
    "for ii in range(len(dataset)):\n",
    "    ci, co, q, o = dataset[ii]\n",
    "\n",
    "    fig, ax = plt.subplots(2, 8)\n",
    "\n",
    "    for idx, (img, output) in enumerate(zip(ci, co)):\n",
    "        row_i = idx // 8\n",
    "        col_i = idx % 8\n",
    "        ax[row_i, col_i].imshow(img[0])\n",
    "        ax[row_i, col_i].set_title(np.argmax(output))\n",
    "        ax[row_i, col_i].axis('off')\n",
    "    ax[0, -1].axis('off')\n",
    "    ax[1, -1].axis('off')\n",
    "    ax[1, -1].imshow(q[0, 0])\n",
    "    ax[1, -1].set_title(np.argmax(o, axis=-1))\n",
    "    plt.show()\n",
    "\n",
    "    if ii >= 30:\n",
    "        break"
   ]
  },
  {
   "cell_type": "code",
   "execution_count": null,
   "metadata": {},
   "outputs": [],
   "source": []
  },
  {
   "cell_type": "code",
   "execution_count": null,
   "metadata": {},
   "outputs": [],
   "source": []
  },
  {
   "cell_type": "code",
   "execution_count": null,
   "metadata": {},
   "outputs": [],
   "source": []
  }
 ],
 "metadata": {
  "kernelspec": {
   "display_name": "icl",
   "language": "python",
   "name": "python3"
  },
  "language_info": {
   "codemirror_mode": {
    "name": "ipython",
    "version": 3
   },
   "file_extension": ".py",
   "mimetype": "text/x-python",
   "name": "python",
   "nbconvert_exporter": "python",
   "pygments_lexer": "ipython3",
   "version": "3.9.18"
  }
 },
 "nbformat": 4,
 "nbformat_minor": 2
}
