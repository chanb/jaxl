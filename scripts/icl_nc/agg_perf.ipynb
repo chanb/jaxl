{
 "cells": [
  {
   "cell_type": "code",
   "execution_count": null,
   "metadata": {},
   "outputs": [],
   "source": [
    "import _pickle as pickle\n",
    "import matplotlib.pyplot as plt\n",
    "import numpy as np\n",
    "import os\n",
    "import seaborn as sns\n",
    "\n",
    "from cycler import cycler\n",
    "from pprint import pprint\n",
    "\n",
    "from jaxl.plot_utils import set_size\n",
    "\n",
    "\n",
    "sns.set_style(\"darkgrid\")\n",
    "sns.set_palette(\"colorblind\")\n",
    "\n",
    "# But with fonts from the document body\n",
    "# XXX: For paper plotting\n",
    "# plt.rcParams.update(pgf_with_latex)\n",
    "\n",
    "linestyle_cycler = cycler(color=sns.color_palette()[:4]) + cycler(\n",
    "    linestyle=[\"-\", \"--\", \":\", \"-.\"]\n",
    ")\n",
    "plt.rc(\"axes\", prop_cycle=linestyle_cycler)"
   ]
  },
  {
   "cell_type": "code",
   "execution_count": null,
   "metadata": {},
   "outputs": [],
   "source": [
    "doc_width_pt = 750.0"
   ]
  },
  {
   "cell_type": "code",
   "execution_count": null,
   "metadata": {},
   "outputs": [],
   "source": [
    "icl_res_path = \"/home/bryanpu1/projects/jaxl/scripts/icl_nc/context_len_16-num_blocks_8-standard_mnist-test-errors.pkl\"\n",
    "\n",
    "baseline_paths = [\n",
    "    \"/home/bryanpu1/projects/jaxl/scripts/icl_nc/cnn-dim_10-standard_mnist-test-baseline-errors.pkl\",\n",
    "    \"/home/bryanpu1/projects/jaxl/scripts/icl_nc/cnn-dim_2-deeper-standard_mnist-test-baseline-errors.pkl\",\n",
    "]"
   ]
  },
  {
   "cell_type": "code",
   "execution_count": null,
   "metadata": {},
   "outputs": [],
   "source": [
    "icl_res = pickle.load(open(icl_res_path, \"rb\"))"
   ]
  },
  {
   "cell_type": "code",
   "execution_count": null,
   "metadata": {},
   "outputs": [],
   "source": [
    "ncols = 1\n",
    "nrows = 1\n",
    "fig, axes = plt.subplots(\n",
    "    nrows,\n",
    "    ncols,\n",
    "    figsize=set_size(doc_width_pt, 0.95, (nrows, ncols), True),\n",
    "    layout=\"constrained\",\n",
    ")\n",
    "\n",
    "axes.plot(\n",
    "    list(icl_res.keys()),\n",
    "    [np.mean(errors) for errors in icl_res.values()],\n",
    "    label=\"ICL Transformer\"\n",
    ")\n",
    "\n",
    "for baseline_path, color in zip(baseline_paths, [\"blue\", \"red\"]):\n",
    "    baseline_name = os.path.basename(baseline_path).split(\"-standard_mnist-\")[0]\n",
    "    baseline_res = pickle.load(open(baseline_path, \"rb\"))\n",
    "    axes.axhline(\n",
    "        np.mean(baseline_res),\n",
    "        label=\"Baseline: {}\".format(baseline_name),\n",
    "        linestyle=\"--\",\n",
    "        c=color,\n",
    "    )\n",
    "\n",
    "axes.set_ylabel(\"0-1 Loss\")\n",
    "axes.set_xlabel(\"Context Length\")\n",
    "axes.set_title(\"MNIST Test Error\")\n",
    "axes.legend()\n",
    "\n",
    "plt.show()\n",
    "plt.close()"
   ]
  },
  {
   "cell_type": "code",
   "execution_count": null,
   "metadata": {},
   "outputs": [],
   "source": []
  }
 ],
 "metadata": {
  "kernelspec": {
   "display_name": "jaxl_cudnn12",
   "language": "python",
   "name": "python3"
  },
  "language_info": {
   "codemirror_mode": {
    "name": "ipython",
    "version": 3
   },
   "file_extension": ".py",
   "mimetype": "text/x-python",
   "name": "python",
   "nbconvert_exporter": "python",
   "pygments_lexer": "ipython3",
   "version": "3.9.18"
  }
 },
 "nbformat": 4,
 "nbformat_minor": 2
}
