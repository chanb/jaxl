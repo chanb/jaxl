{
 "cells": [
  {
   "cell_type": "markdown",
   "metadata": {},
   "source": [
    "# Evaluate ICL Model on the One-hot Classification Dataset\n",
    "## Hypothesis\n",
    "In-context learning emerges when there is a large number of classes such that we cannot fit all samples to the context.\n",
    "\n",
    "## Dataset\n",
    "- Input space: One-hot encoding of the class with some noise on the non-zero entry (e.g. $[1.3, 0, \\dots, 0]^\\intercal$)\n",
    "- Output space: Class labels with one-hot encoding\n",
    "- Number of tasks: 50000\n",
    "- Number of data per task: 30\n",
    "- Number of classes: 2000"
   ]
  },
  {
   "cell_type": "code",
   "execution_count": null,
   "metadata": {
    "vscode": {
     "languageId": "plaintext"
    }
   },
   "outputs": [],
   "source": []
  }
 ],
 "metadata": {
  "language_info": {
   "name": "python"
  }
 },
 "nbformat": 4,
 "nbformat_minor": 2
}
