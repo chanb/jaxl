{
 "cells": [
  {
   "cell_type": "markdown",
   "metadata": {},
   "source": [
    "# Check Neural Collapse in Standard Training"
   ]
  },
  {
   "cell_type": "code",
   "execution_count": 2,
   "metadata": {},
   "outputs": [],
   "source": [
    "from jaxl.constants import *\n",
    "from jaxl.datasets.mnist import construct_mnist\n",
    "from jaxl.datasets.wrappers import ContextDataset, StandardSupervisedDataset\n",
    "from jaxl.models import get_model\n",
    "from jaxl.models.common import get_activation\n",
    "from jaxl.models.modules import CNNModule, MLPModule\n",
    "from jaxl.plot_utils import set_size\n",
    "from jaxl.utils import parse_dict, get_device\n",
    "\n",
    "import _pickle as pickle\n",
    "import argparse\n",
    "import jax\n",
    "import jax.random as jrandom\n",
    "import json\n",
    "import matplotlib.pyplot as plt\n",
    "import numpy as np\n",
    "import os\n",
    "import torchvision.datasets as torch_datasets\n",
    "\n",
    "from collections import OrderedDict\n",
    "from functools import partial\n",
    "from orbax.checkpoint import PyTreeCheckpointer, CheckpointManager\n",
    "from torch.utils.data import DataLoader\n",
    "from types import SimpleNamespace"
   ]
  },
  {
   "cell_type": "code",
   "execution_count": 3,
   "metadata": {},
   "outputs": [],
   "source": [
    "# device = \"cpu\"\n",
    "device = \"gpu:0,1,2\"\n",
    "get_device(device)"
   ]
  },
  {
   "cell_type": "code",
   "execution_count": 4,
   "metadata": {},
   "outputs": [],
   "source": [
    "doc_width_pt = 750.0\n",
    "\n",
    "# learner_path = \"/Users/chanb/research/personal/jaxl/{}\".format(\n",
    "#     \"jaxl/logs/icl-mnist/context_len_16-num_blocks_8-01-22-24_23_44_06-92243c9f-bd13-4f61-adef-b73ac5fdbc2e\"\n",
    "# )\n",
    "learner_path = \"/home/bryanpu1/projects/jaxl/{}\".format(\n",
    "    \"jaxl/logs/icl-mnist/context_len_16-num_blocks_8-random_label-01-23-24_20_14_30-917f353b-afba-44de-ba8f-5de4242ffa27\"\n",
    ")\n",
    "\n",
    "exp_name = \"-\".join(learner_path.split(\"/\")[-1].split(\"-\")[:-8])"
   ]
  },
  {
   "cell_type": "code",
   "execution_count": 5,
   "metadata": {},
   "outputs": [],
   "source": [
    "def load_model(learner_path: str):\n",
    "    config_path = os.path.join(learner_path, \"config.json\")\n",
    "    with open(config_path, \"r\") as f:\n",
    "        config_dict = json.load(f)\n",
    "        config = parse_dict(config_dict)\n",
    "\n",
    "    model = get_model((1, 28, 28), (10,), config.model_config)\n",
    "\n",
    "    checkpoint_manager = CheckpointManager(\n",
    "        os.path.join(learner_path, \"models\"),\n",
    "        PyTreeCheckpointer(),\n",
    "    )\n",
    "\n",
    "    params = checkpoint_manager.restore(checkpoint_manager.latest_step())\n",
    "    params[CONST_MODEL_DICT][CONST_MODEL][CONST_POSITIONAL_ENCODING] = dict()\n",
    "\n",
    "    return params, model, config"
   ]
  },
  {
   "cell_type": "code",
   "execution_count": 6,
   "metadata": {},
   "outputs": [
    {
     "name": "stderr",
     "output_type": "stream",
     "text": [
      "/home/bryanpu1/.conda/envs/jaxl_cudnn12/lib/python3.9/site-packages/orbax/checkpoint/type_handlers.py:1472: UserWarning: Couldn't find sharding info under RestoreArgs. Populating sharding info from sharding file. Please note restoration time will be slightly increased due to reading from file instead of directly from RestoreArgs.\n",
      "  warnings.warn(\n"
     ]
    }
   ],
   "source": [
    "params, model, config = load_model(learner_path)"
   ]
  },
  {
   "cell_type": "code",
   "execution_count": 7,
   "metadata": {},
   "outputs": [
    {
     "data": {
      "text/plain": [
       "namespace(logging_config=namespace(save_path='./logs/icl-mnist',\n",
       "                                   experiment_name='context_len_16-num_blocks_8-random_label',\n",
       "                                   log_interval=10,\n",
       "                                   checkpoint_interval=100),\n",
       "          model_config=namespace(architecture='icl_gpt',\n",
       "                                 num_contexts=16,\n",
       "                                 num_blocks=8,\n",
       "                                 num_heads=1,\n",
       "                                 embed_dim=32,\n",
       "                                 positional_encoding=namespace(type='default',\n",
       "                                                               kwargs=namespace(embed_dim=32,\n",
       "                                                                                max_len=17)),\n",
       "                                 input_tokenizer=namespace(type='cnn',\n",
       "                                                           kwargs=namespace(features=[32,\n",
       "                                                                                      32],\n",
       "                                                                            kernel_sizes=[[3,\n",
       "                                                                                           3],\n",
       "                                                                                          [3,\n",
       "                                                                                           3]],\n",
       "                                                                            layers=[])),\n",
       "                                 output_tokenizer=namespace(type='mlp',\n",
       "                                                            kwargs=namespace(layers=[10])),\n",
       "                                 query_pred_only=True),\n",
       "          optimizer_config=namespace(optimizer='adam',\n",
       "                                     lr=namespace(scheduler='constant_schedule',\n",
       "                                                  scheduler_kwargs=namespace(value=0.0003)),\n",
       "                                     max_grad_norm=False),\n",
       "          learner_config=namespace(task='in_context_learning',\n",
       "                                   dataset_config=namespace(dataset_name='mnist',\n",
       "                                                            dataset_kwargs=namespace(save_path='../',\n",
       "                                                                                     task_name='multitask_mnist_finegrain',\n",
       "                                                                                     task_config=namespace(num_sequences=500000,\n",
       "                                                                                                           sequence_length=30,\n",
       "                                                                                                           random_label=True,\n",
       "                                                                                                           save_path='./data/icl-mnist-seq_len_30-500k_tasks-random_label.pkl')),\n",
       "                                                            dataset_wrapper=namespace(type='ContextDataset',\n",
       "                                                                                      kwargs=namespace(context_len=16))),\n",
       "                                   seeds=namespace(model_seed=42,\n",
       "                                                   data_seed=42),\n",
       "                                   learner='mle',\n",
       "                                   losses=['categorical', 'l2'],\n",
       "                                   loss_settings=[{'coefficient': 1.0,\n",
       "                                                   'reduction': 'mean',\n",
       "                                                   'is_one_hot': True},\n",
       "                                                  {'coefficient': 0.0}],\n",
       "                                   num_updates_per_epoch=100,\n",
       "                                   batch_size=32,\n",
       "                                   learner_settings=namespace(store_val_preds=False),\n",
       "                                   predictor_type='default'),\n",
       "          train_config=namespace(num_epochs=5000))"
      ]
     },
     "execution_count": 7,
     "metadata": {},
     "output_type": "execute_result"
    }
   ],
   "source": [
    "config"
   ]
  },
  {
   "cell_type": "code",
   "execution_count": 8,
   "metadata": {},
   "outputs": [],
   "source": [
    "num_tasks = 30\n",
    "sequence_length = config.learner_config.dataset_config.dataset_wrapper.kwargs.context_len + 1\n",
    "\n",
    "# train_dataset = ContextDataset(\n",
    "#     construct_mnist(\n",
    "#         save_path=config.learner_config.dataset_config.dataset_kwargs.save_path,\n",
    "#         task_name=config.learner_config.dataset_config.dataset_kwargs.task_name,\n",
    "#         task_config=parse_dict({\n",
    "#             \"num_sequences\": num_tasks,\n",
    "#             \"sequence_length\": sequence_length,\n",
    "#             \"random_label\": False,\n",
    "#             \"save_path\": \"./data/icl-mnist-seq_len_{}-{}_tasks-test-fine_grain.pkl\".format(\n",
    "#                 sequence_length,\n",
    "#                 num_tasks\n",
    "#             )\n",
    "#         }),\n",
    "#         train=True,\n",
    "#     ),\n",
    "#     context_len=config.learner_config.dataset_config.dataset_wrapper.kwargs.context_len,\n",
    "# )\n",
    "\n",
    "train_dataset = StandardSupervisedDataset(construct_mnist(\n",
    "    config.learner_config.dataset_config.dataset_kwargs.save_path,\n",
    "    train=True,\n",
    "))\n",
    "\n",
    "test_queries = StandardSupervisedDataset(construct_mnist(\n",
    "    config.learner_config.dataset_config.dataset_kwargs.save_path,\n",
    "    train=False,\n",
    "))"
   ]
  },
  {
   "cell_type": "code",
   "execution_count": 13,
   "metadata": {},
   "outputs": [],
   "source": [
    "train_dataloader = DataLoader(\n",
    "    train_dataset,\n",
    "    batch_size=100,\n",
    "    shuffle=False,\n",
    "    drop_last=False,\n",
    ")\n",
    "\n",
    "inputs, _, outputs, _ = next(iter(train_dataloader))\n",
    "\n",
    "values, idxes = np.unique(outputs, return_index=True, axis=0)"
   ]
  },
  {
   "cell_type": "code",
   "execution_count": 31,
   "metadata": {},
   "outputs": [],
   "source": [
    "context_inputs = inputs[idxes][:, 0]\n",
    "context_inputs = np.concatenate((\n",
    "    np.zeros((\n",
    "        config.learner_config.dataset_config.dataset_wrapper.kwargs.context_len - context_inputs.shape[0],\n",
    "        *context_inputs.shape[1:]\n",
    "    )),\n",
    "    context_inputs\n",
    "))\n",
    "\n",
    "context_outputs = np.eye(len(values))[values]\n",
    "context_outputs = np.concatenate((\n",
    "    np.zeros((\n",
    "        config.learner_config.dataset_config.dataset_wrapper.kwargs.context_len - context_outputs.shape[0],\n",
    "        *context_outputs.shape[1:]\n",
    "    )),\n",
    "    context_outputs\n",
    "))"
   ]
  },
  {
   "cell_type": "markdown",
   "metadata": {},
   "source": [
    "# Test Performance"
   ]
  },
  {
   "cell_type": "code",
   "execution_count": 32,
   "metadata": {},
   "outputs": [],
   "source": [
    "test_dataloader = DataLoader(\n",
    "    test_queries,\n",
    "    batch_size=32,\n",
    "    shuffle=False,\n",
    "    drop_last=False,\n",
    ")\n",
    "test_loader = iter(test_dataloader)"
   ]
  },
  {
   "cell_type": "code",
   "execution_count": 33,
   "metadata": {},
   "outputs": [],
   "source": [
    "def compute_test_error(test_dataloader, context_inputs, context_outputs):\n",
    "    errors = []\n",
    "    for batch_i, (inputs, _, labels, _) in enumerate(test_dataloader):\n",
    "        queries = inputs.numpy()\n",
    "        labels = labels.numpy()\n",
    "        preds, _ = jax.vmap(model.forward, in_axes=[None, 0, None])(\n",
    "            params[CONST_MODEL_DICT][CONST_MODEL],\n",
    "            queries[:, None],\n",
    "            {\n",
    "                CONST_CONTEXT_INPUT: context_inputs[None],\n",
    "                CONST_CONTEXT_OUTPUT: context_outputs[None],\n",
    "            }\n",
    "        )\n",
    "        output_preds = np.argmax(preds, axis=-1)[:, 0]\n",
    "        errors.append(output_preds != labels)\n",
    "    errors = np.concatenate(errors)\n",
    "    return errors"
   ]
  },
  {
   "cell_type": "code",
   "execution_count": 35,
   "metadata": {},
   "outputs": [
    {
     "data": {
      "image/png": "[encoded data removed]",
      "text/plain": [
       "<Figure size 985.886x246.472 with 16 Axes>"
      ]
     },
     "metadata": {},
     "output_type": "display_data"
    },
    {
     "ename": "KeyboardInterrupt",
     "evalue": "",
     "output_type": "error",
     "traceback": [
      "\u001b[0;31m---------------------------------------------------------------------------\u001b[0m",
      "\u001b[0;31mKeyboardInterrupt\u001b[0m                         Traceback (most recent call last)",
      "\u001b[1;32m/home/bryanpu1/projects/jaxl/scripts/icl_nc/icl_nc_check.ipynb Cell 14\u001b[0m line \u001b[0;36m2\n\u001b[1;32m     <a href='vscode-notebook-cell://ssh-remote%2Bsalient2.cs.ualberta.ca/home/bryanpu1/projects/jaxl/scripts/icl_nc/icl_nc_check.ipynb#X14sdnNjb2RlLXJlbW90ZQ%3D%3D?line=16'>17</a>\u001b[0m     axes[idx \u001b[39m%\u001b[39m \u001b[39m2\u001b[39m, idx \u001b[39m/\u001b[39m\u001b[39m/\u001b[39m \u001b[39m2\u001b[39m]\u001b[39m.\u001b[39mset_title(\u001b[39m\"\u001b[39m\u001b[39mLabel: \u001b[39m\u001b[39m{}\u001b[39;00m\u001b[39m\"\u001b[39m\u001b[39m.\u001b[39mformat(np\u001b[39m.\u001b[39margmax(curr_context_outputs[idx])))\n\u001b[1;32m     <a href='vscode-notebook-cell://ssh-remote%2Bsalient2.cs.ualberta.ca/home/bryanpu1/projects/jaxl/scripts/icl_nc/icl_nc_check.ipynb#X14sdnNjb2RlLXJlbW90ZQ%3D%3D?line=17'>18</a>\u001b[0m plt\u001b[39m.\u001b[39mshow()\n\u001b[0;32m---> <a href='vscode-notebook-cell://ssh-remote%2Bsalient2.cs.ualberta.ca/home/bryanpu1/projects/jaxl/scripts/icl_nc/icl_nc_check.ipynb#X14sdnNjb2RlLXJlbW90ZQ%3D%3D?line=19'>20</a>\u001b[0m errors \u001b[39m=\u001b[39m compute_test_error(test_dataloader, curr_context_inputs, curr_context_outputs)\n\u001b[1;32m     <a href='vscode-notebook-cell://ssh-remote%2Bsalient2.cs.ualberta.ca/home/bryanpu1/projects/jaxl/scripts/icl_nc/icl_nc_check.ipynb#X14sdnNjb2RlLXJlbW90ZQ%3D%3D?line=20'>21</a>\u001b[0m \u001b[39mprint\u001b[39m(\u001b[39m\"\u001b[39m\u001b[39mTest Accuracy: \u001b[39m\u001b[39m{}\u001b[39;00m\u001b[39m%\u001b[39m\u001b[39m\"\u001b[39m\u001b[39m.\u001b[39mformat((\u001b[39m1\u001b[39m \u001b[39m-\u001b[39m np\u001b[39m.\u001b[39mmean(errors)) \u001b[39m*\u001b[39m \u001b[39m100\u001b[39m))\n",
      "\u001b[1;32m/home/bryanpu1/projects/jaxl/scripts/icl_nc/icl_nc_check.ipynb Cell 14\u001b[0m line \u001b[0;36m6\n\u001b[1;32m      <a href='vscode-notebook-cell://ssh-remote%2Bsalient2.cs.ualberta.ca/home/bryanpu1/projects/jaxl/scripts/icl_nc/icl_nc_check.ipynb#X14sdnNjb2RlLXJlbW90ZQ%3D%3D?line=3'>4</a>\u001b[0m queries \u001b[39m=\u001b[39m inputs\u001b[39m.\u001b[39mnumpy()\n\u001b[1;32m      <a href='vscode-notebook-cell://ssh-remote%2Bsalient2.cs.ualberta.ca/home/bryanpu1/projects/jaxl/scripts/icl_nc/icl_nc_check.ipynb#X14sdnNjb2RlLXJlbW90ZQ%3D%3D?line=4'>5</a>\u001b[0m labels \u001b[39m=\u001b[39m labels\u001b[39m.\u001b[39mnumpy()\n\u001b[0;32m----> <a href='vscode-notebook-cell://ssh-remote%2Bsalient2.cs.ualberta.ca/home/bryanpu1/projects/jaxl/scripts/icl_nc/icl_nc_check.ipynb#X14sdnNjb2RlLXJlbW90ZQ%3D%3D?line=5'>6</a>\u001b[0m preds, _ \u001b[39m=\u001b[39m jax\u001b[39m.\u001b[39;49mvmap(model\u001b[39m.\u001b[39;49mforward, in_axes\u001b[39m=\u001b[39;49m[\u001b[39mNone\u001b[39;49;00m, \u001b[39m0\u001b[39;49m, \u001b[39mNone\u001b[39;49;00m])(\n\u001b[1;32m      <a href='vscode-notebook-cell://ssh-remote%2Bsalient2.cs.ualberta.ca/home/bryanpu1/projects/jaxl/scripts/icl_nc/icl_nc_check.ipynb#X14sdnNjb2RlLXJlbW90ZQ%3D%3D?line=6'>7</a>\u001b[0m     params[CONST_MODEL_DICT][CONST_MODEL],\n\u001b[1;32m      <a href='vscode-notebook-cell://ssh-remote%2Bsalient2.cs.ualberta.ca/home/bryanpu1/projects/jaxl/scripts/icl_nc/icl_nc_check.ipynb#X14sdnNjb2RlLXJlbW90ZQ%3D%3D?line=7'>8</a>\u001b[0m     queries[:, \u001b[39mNone\u001b[39;49;00m],\n\u001b[1;32m      <a href='vscode-notebook-cell://ssh-remote%2Bsalient2.cs.ualberta.ca/home/bryanpu1/projects/jaxl/scripts/icl_nc/icl_nc_check.ipynb#X14sdnNjb2RlLXJlbW90ZQ%3D%3D?line=8'>9</a>\u001b[0m     {\n\u001b[1;32m     <a href='vscode-notebook-cell://ssh-remote%2Bsalient2.cs.ualberta.ca/home/bryanpu1/projects/jaxl/scripts/icl_nc/icl_nc_check.ipynb#X14sdnNjb2RlLXJlbW90ZQ%3D%3D?line=9'>10</a>\u001b[0m         CONST_CONTEXT_INPUT: context_inputs[\u001b[39mNone\u001b[39;49;00m],\n\u001b[1;32m     <a href='vscode-notebook-cell://ssh-remote%2Bsalient2.cs.ualberta.ca/home/bryanpu1/projects/jaxl/scripts/icl_nc/icl_nc_check.ipynb#X14sdnNjb2RlLXJlbW90ZQ%3D%3D?line=10'>11</a>\u001b[0m         CONST_CONTEXT_OUTPUT: context_outputs[\u001b[39mNone\u001b[39;49;00m],\n\u001b[1;32m     <a href='vscode-notebook-cell://ssh-remote%2Bsalient2.cs.ualberta.ca/home/bryanpu1/projects/jaxl/scripts/icl_nc/icl_nc_check.ipynb#X14sdnNjb2RlLXJlbW90ZQ%3D%3D?line=11'>12</a>\u001b[0m     }\n\u001b[1;32m     <a href='vscode-notebook-cell://ssh-remote%2Bsalient2.cs.ualberta.ca/home/bryanpu1/projects/jaxl/scripts/icl_nc/icl_nc_check.ipynb#X14sdnNjb2RlLXJlbW90ZQ%3D%3D?line=12'>13</a>\u001b[0m )\n\u001b[1;32m     <a href='vscode-notebook-cell://ssh-remote%2Bsalient2.cs.ualberta.ca/home/bryanpu1/projects/jaxl/scripts/icl_nc/icl_nc_check.ipynb#X14sdnNjb2RlLXJlbW90ZQ%3D%3D?line=13'>14</a>\u001b[0m output_preds \u001b[39m=\u001b[39m np\u001b[39m.\u001b[39margmax(preds, axis\u001b[39m=\u001b[39m\u001b[39m-\u001b[39m\u001b[39m1\u001b[39m)[:, \u001b[39m0\u001b[39m]\n\u001b[1;32m     <a href='vscode-notebook-cell://ssh-remote%2Bsalient2.cs.ualberta.ca/home/bryanpu1/projects/jaxl/scripts/icl_nc/icl_nc_check.ipynb#X14sdnNjb2RlLXJlbW90ZQ%3D%3D?line=14'>15</a>\u001b[0m errors\u001b[39m.\u001b[39mappend(output_preds \u001b[39m!=\u001b[39m labels)\n",
      "    \u001b[0;31m[... skipping hidden 1 frame]\u001b[0m\n",
      "File \u001b[0;32m~/.conda/envs/jaxl_cudnn12/lib/python3.9/site-packages/jax/_src/api.py:1258\u001b[0m, in \u001b[0;36mvmap.<locals>.vmap_f\u001b[0;34m(*args, **kwargs)\u001b[0m\n\u001b[1;32m   1255\u001b[0m in_axes_flat \u001b[39m=\u001b[39m flatten_axes(\u001b[39m\"\u001b[39m\u001b[39mvmap in_axes\u001b[39m\u001b[39m\"\u001b[39m, in_tree, (in_axes, \u001b[39m0\u001b[39m), kws\u001b[39m=\u001b[39m\u001b[39mTrue\u001b[39;00m)\n\u001b[1;32m   1256\u001b[0m axis_size_ \u001b[39m=\u001b[39m (axis_size \u001b[39mif\u001b[39;00m axis_size \u001b[39mis\u001b[39;00m \u001b[39mnot\u001b[39;00m \u001b[39mNone\u001b[39;00m \u001b[39melse\u001b[39;00m\n\u001b[1;32m   1257\u001b[0m               _mapped_axis_size(fun, in_tree, args_flat, in_axes_flat, \u001b[39m\"\u001b[39m\u001b[39mvmap\u001b[39m\u001b[39m\"\u001b[39m))\n\u001b[0;32m-> 1258\u001b[0m out_flat \u001b[39m=\u001b[39m batching\u001b[39m.\u001b[39;49mbatch(\n\u001b[1;32m   1259\u001b[0m     flat_fun, axis_name, axis_size_, in_axes_flat,\n\u001b[1;32m   1260\u001b[0m     \u001b[39mlambda\u001b[39;49;00m: flatten_axes(\u001b[39m\"\u001b[39;49m\u001b[39mvmap out_axes\u001b[39;49m\u001b[39m\"\u001b[39;49m, out_tree(), out_axes),\n\u001b[1;32m   1261\u001b[0m     spmd_axis_name\u001b[39m=\u001b[39;49mspmd_axis_name\n\u001b[1;32m   1262\u001b[0m )\u001b[39m.\u001b[39;49mcall_wrapped(\u001b[39m*\u001b[39;49margs_flat)\n\u001b[1;32m   1263\u001b[0m \u001b[39mreturn\u001b[39;00m tree_unflatten(out_tree(), out_flat)\n",
      "File \u001b[0;32m~/.conda/envs/jaxl_cudnn12/lib/python3.9/site-packages/jax/_src/linear_util.py:191\u001b[0m, in \u001b[0;36mWrappedFun.call_wrapped\u001b[0;34m(self, *args, **kwargs)\u001b[0m\n\u001b[1;32m    188\u001b[0m gen \u001b[39m=\u001b[39m gen_static_args \u001b[39m=\u001b[39m out_store \u001b[39m=\u001b[39m \u001b[39mNone\u001b[39;00m\n\u001b[1;32m    190\u001b[0m \u001b[39mtry\u001b[39;00m:\n\u001b[0;32m--> 191\u001b[0m   ans \u001b[39m=\u001b[39m \u001b[39mself\u001b[39;49m\u001b[39m.\u001b[39;49mf(\u001b[39m*\u001b[39;49margs, \u001b[39m*\u001b[39;49m\u001b[39m*\u001b[39;49m\u001b[39mdict\u001b[39;49m(\u001b[39mself\u001b[39;49m\u001b[39m.\u001b[39;49mparams, \u001b[39m*\u001b[39;49m\u001b[39m*\u001b[39;49mkwargs))\n\u001b[1;32m    192\u001b[0m \u001b[39mexcept\u001b[39;00m:\n\u001b[1;32m    193\u001b[0m   \u001b[39m# Some transformations yield from inside context managers, so we have to\u001b[39;00m\n\u001b[1;32m    194\u001b[0m   \u001b[39m# interrupt them before reraising the exception. Otherwise they will only\u001b[39;00m\n\u001b[1;32m    195\u001b[0m   \u001b[39m# get garbage-collected at some later time, running their cleanup tasks\u001b[39;00m\n\u001b[1;32m    196\u001b[0m   \u001b[39m# only after this exception is handled, which can corrupt the global\u001b[39;00m\n\u001b[1;32m    197\u001b[0m   \u001b[39m# state.\u001b[39;00m\n\u001b[1;32m    198\u001b[0m   \u001b[39mwhile\u001b[39;00m stack:\n",
      "    \u001b[0;31m[... skipping hidden 1 frame]\u001b[0m\n",
      "File \u001b[0;32m~/.conda/envs/jaxl_cudnn12/lib/python3.9/site-packages/jax/_src/pjit.py:257\u001b[0m, in \u001b[0;36m_cpp_pjit.<locals>.cache_miss\u001b[0;34m(*args, **kwargs)\u001b[0m\n\u001b[1;32m    255\u001b[0m \u001b[39m@api_boundary\u001b[39m\n\u001b[1;32m    256\u001b[0m \u001b[39mdef\u001b[39;00m \u001b[39mcache_miss\u001b[39m(\u001b[39m*\u001b[39margs, \u001b[39m*\u001b[39m\u001b[39m*\u001b[39mkwargs):\n\u001b[0;32m--> 257\u001b[0m   outs, out_flat, out_tree, args_flat, jaxpr \u001b[39m=\u001b[39m _python_pjit_helper(\n\u001b[1;32m    258\u001b[0m       fun, infer_params_fn, \u001b[39m*\u001b[39;49margs, \u001b[39m*\u001b[39;49m\u001b[39m*\u001b[39;49mkwargs)\n\u001b[1;32m    259\u001b[0m   executable \u001b[39m=\u001b[39m _read_most_recent_pjit_call_executable(jaxpr)\n\u001b[1;32m    260\u001b[0m   fastpath_data \u001b[39m=\u001b[39m _get_fastpath_data(executable, out_tree, args_flat, out_flat)\n",
      "File \u001b[0;32m~/.conda/envs/jaxl_cudnn12/lib/python3.9/site-packages/jax/_src/pjit.py:168\u001b[0m, in \u001b[0;36m_python_pjit_helper\u001b[0;34m(fun, infer_params_fn, *args, **kwargs)\u001b[0m\n\u001b[1;32m    166\u001b[0m   dispatch\u001b[39m.\u001b[39mcheck_arg(arg)\n\u001b[1;32m    167\u001b[0m \u001b[39mtry\u001b[39;00m:\n\u001b[0;32m--> 168\u001b[0m   out_flat \u001b[39m=\u001b[39m pjit_p\u001b[39m.\u001b[39;49mbind(\u001b[39m*\u001b[39;49margs_flat, \u001b[39m*\u001b[39;49m\u001b[39m*\u001b[39;49mparams)\n\u001b[1;32m    169\u001b[0m \u001b[39mexcept\u001b[39;00m pxla\u001b[39m.\u001b[39mDeviceAssignmentMismatchError \u001b[39mas\u001b[39;00m e:\n\u001b[1;32m    170\u001b[0m   fails, \u001b[39m=\u001b[39m e\u001b[39m.\u001b[39margs\n",
      "File \u001b[0;32m~/.conda/envs/jaxl_cudnn12/lib/python3.9/site-packages/jax/_src/core.py:2735\u001b[0m, in \u001b[0;36mAxisPrimitive.bind\u001b[0;34m(self, *args, **params)\u001b[0m\n\u001b[1;32m   2734\u001b[0m \u001b[39mdef\u001b[39;00m \u001b[39mbind\u001b[39m(\u001b[39mself\u001b[39m, \u001b[39m*\u001b[39margs, \u001b[39m*\u001b[39m\u001b[39m*\u001b[39mparams):\n\u001b[0;32m-> 2735\u001b[0m   top_trace \u001b[39m=\u001b[39m find_top_trace(args)\n\u001b[1;32m   2736\u001b[0m   axis_main \u001b[39m=\u001b[39m \u001b[39mmax\u001b[39m((axis_frame(a)\u001b[39m.\u001b[39mmain_trace \u001b[39mfor\u001b[39;00m a \u001b[39min\u001b[39;00m used_axis_names(\u001b[39mself\u001b[39m, params)),\n\u001b[1;32m   2737\u001b[0m                   default\u001b[39m=\u001b[39m\u001b[39mNone\u001b[39;00m, key\u001b[39m=\u001b[39m\u001b[39mlambda\u001b[39;00m t: \u001b[39mgetattr\u001b[39m(t, \u001b[39m'\u001b[39m\u001b[39mlevel\u001b[39m\u001b[39m'\u001b[39m, \u001b[39m-\u001b[39m\u001b[39m1\u001b[39m))\n\u001b[1;32m   2738\u001b[0m   top_trace \u001b[39m=\u001b[39m (top_trace \u001b[39mif\u001b[39;00m \u001b[39mnot\u001b[39;00m axis_main \u001b[39mor\u001b[39;00m axis_main\u001b[39m.\u001b[39mlevel \u001b[39m<\u001b[39m top_trace\u001b[39m.\u001b[39mlevel\n\u001b[1;32m   2739\u001b[0m                \u001b[39melse\u001b[39;00m axis_main\u001b[39m.\u001b[39mwith_cur_sublevel())\n",
      "File \u001b[0;32m~/.conda/envs/jaxl_cudnn12/lib/python3.9/site-packages/jax/_src/core.py:1352\u001b[0m, in \u001b[0;36mfind_top_trace\u001b[0;34m(xs)\u001b[0m\n\u001b[1;32m   1351\u001b[0m \u001b[39mdef\u001b[39;00m \u001b[39mfind_top_trace\u001b[39m(xs) \u001b[39m-\u001b[39m\u001b[39m>\u001b[39m Trace:\n\u001b[0;32m-> 1352\u001b[0m   top_tracer \u001b[39m=\u001b[39m \u001b[39mmax\u001b[39;49m((x \u001b[39mfor\u001b[39;49;00m x \u001b[39min\u001b[39;49;00m xs \u001b[39mif\u001b[39;49;00m \u001b[39misinstance\u001b[39;49m(x, Tracer)),\n\u001b[1;32m   1353\u001b[0m                     default\u001b[39m=\u001b[39;49m\u001b[39mNone\u001b[39;49;00m, key\u001b[39m=\u001b[39;49mattrgetter(\u001b[39m'\u001b[39;49m\u001b[39m_trace.level\u001b[39;49m\u001b[39m'\u001b[39;49m))\n\u001b[1;32m   1354\u001b[0m   \u001b[39mif\u001b[39;00m top_tracer \u001b[39mis\u001b[39;00m \u001b[39mnot\u001b[39;00m \u001b[39mNone\u001b[39;00m:\n\u001b[1;32m   1355\u001b[0m     top_tracer\u001b[39m.\u001b[39m_assert_live()\n",
      "File \u001b[0;32m~/.conda/envs/jaxl_cudnn12/lib/python3.9/site-packages/jax/_src/core.py:1352\u001b[0m, in \u001b[0;36m<genexpr>\u001b[0;34m(.0)\u001b[0m\n\u001b[1;32m   1351\u001b[0m \u001b[39mdef\u001b[39;00m \u001b[39mfind_top_trace\u001b[39m(xs) \u001b[39m-\u001b[39m\u001b[39m>\u001b[39m Trace:\n\u001b[0;32m-> 1352\u001b[0m   top_tracer \u001b[39m=\u001b[39m \u001b[39mmax\u001b[39m((x \u001b[39mfor\u001b[39;00m x \u001b[39min\u001b[39;00m xs \u001b[39mif\u001b[39;00m \u001b[39misinstance\u001b[39m(x, Tracer)),\n\u001b[1;32m   1353\u001b[0m                     default\u001b[39m=\u001b[39m\u001b[39mNone\u001b[39;00m, key\u001b[39m=\u001b[39mattrgetter(\u001b[39m'\u001b[39m\u001b[39m_trace.level\u001b[39m\u001b[39m'\u001b[39m))\n\u001b[1;32m   1354\u001b[0m   \u001b[39mif\u001b[39;00m top_tracer \u001b[39mis\u001b[39;00m \u001b[39mnot\u001b[39;00m \u001b[39mNone\u001b[39;00m:\n\u001b[1;32m   1355\u001b[0m     top_tracer\u001b[39m.\u001b[39m_assert_live()\n",
      "\u001b[0;31mKeyboardInterrupt\u001b[0m: "
     ]
    }
   ],
   "source": [
    "nrows = 2\n",
    "ncols = sequence_length // 2\n",
    "for seq_len in range(1, len(values)):\n",
    "    curr_context_inputs = np.copy(context_inputs)\n",
    "    curr_context_outputs = np.copy(context_outputs)\n",
    "    curr_context_inputs[:-seq_len] = 0\n",
    "    curr_context_outputs[:-seq_len] = 0\n",
    "    fig, axes = plt.subplots(\n",
    "        nrows,\n",
    "        ncols,\n",
    "        figsize=set_size(doc_width_pt, 0.95, (nrows, ncols), False),\n",
    "        layout=\"constrained\",\n",
    "    )\n",
    "\n",
    "    for idx, img in enumerate(curr_context_inputs):\n",
    "        axes[idx % 2, idx // 2].imshow(img)\n",
    "        axes[idx % 2, idx // 2].set_title(\"Label: {}\".format(np.argmax(curr_context_outputs[idx])))\n",
    "    plt.show()\n",
    "\n",
    "    errors = compute_test_error(test_dataloader, curr_context_inputs, curr_context_outputs)\n",
    "    print(\"Test Accuracy: {}%\".format((1 - np.mean(errors)) * 100))"
   ]
  },
  {
   "cell_type": "markdown",
   "metadata": {},
   "source": [
    "# Check Out-of-task Performance"
   ]
  },
  {
   "cell_type": "code",
   "execution_count": null,
   "metadata": {},
   "outputs": [],
   "source": [
    "# context_inputs, context_outputs, queries, labels = train_dataset[0]\n",
    "# print(\n",
    "#     context_inputs.shape,\n",
    "#     context_outputs.shape,\n",
    "#     queries.shape,\n",
    "#     labels.shape\n",
    "# )\n",
    "\n"
   ]
  },
  {
   "cell_type": "code",
   "execution_count": null,
   "metadata": {},
   "outputs": [],
   "source": [
    "dataset_to_use = train_dataset\n",
    "# dataset_to_use = test_dataset\n",
    "\n",
    "# for sample_idx in np.arange(28, len(dataset_to_use), 29):\n",
    "for sample_idx in np.arange(0, len(dataset_to_use), 29):\n",
    "    context_inputs, context_outputs, queries, labels = dataset_to_use[sample_idx]\n",
    "    outputs, _ = model.forward(\n",
    "        params[CONST_MODEL_DICT][CONST_MODEL],\n",
    "        queries.numpy()[None],\n",
    "        {\n",
    "            CONST_CONTEXT_INPUT: context_inputs[None],\n",
    "            CONST_CONTEXT_OUTPUT: context_outputs[None],\n",
    "        }\n",
    "    )\n",
    "\n",
    "    nrows = 2\n",
    "    ncols = len(context_inputs) // 2\n",
    "    fig, axes = plt.subplots(\n",
    "        nrows,\n",
    "        ncols,\n",
    "        figsize=set_size(doc_width_pt, 0.95, (nrows, ncols), False),\n",
    "        layout=\"constrained\",\n",
    "    )\n",
    "\n",
    "    for idx, img in enumerate(context_inputs):\n",
    "        axes[idx % 2, idx // 2].imshow(img)\n",
    "        axes[idx % 2, idx // 2].set_title(\"Label: {}\".format(np.argmax(context_outputs[idx])))\n",
    "    plt.show()\n",
    "\n",
    "    plt.title(\"Prediction: {} - Label: {}\".format(np.argmax(outputs[0, :dataset_to_use.output_dim[0]]), np.argmax(labels)))\n",
    "    plt.imshow(queries[0])\n",
    "    plt.show()"
   ]
  },
  {
   "cell_type": "code",
   "execution_count": null,
   "metadata": {},
   "outputs": [],
   "source": [
    "assert 0"
   ]
  },
  {
   "cell_type": "markdown",
   "metadata": {},
   "source": [
    "# Check Latent"
   ]
  },
  {
   "cell_type": "code",
   "execution_count": null,
   "metadata": {},
   "outputs": [],
   "source": [
    "def get_latent(params, inputs, carries):\n",
    "    cnn_outs, cnn_states = CNNModule(\n",
    "        config.model_config.features,\n",
    "        config.model_config.kernel_sizes,\n",
    "        get_activation(CONST_RELU),\n",
    "    ).apply(\n",
    "        {\"params\": params[CONST_MODEL_DICT][CONST_MODEL][CONST_CNN][CONST_PARAMS]},\n",
    "        inputs,\n",
    "        capture_intermediates=True,\n",
    "        mutable=[\"cnn_latents\"]\n",
    "    )\n",
    "\n",
    "    cnn_outs = cnn_outs.reshape((len(cnn_outs), -1))\n",
    "\n",
    "    _, mlp_states = MLPModule(\n",
    "        config.model_config.layers,\n",
    "        get_activation(CONST_RELU),\n",
    "        get_activation(CONST_IDENTITY),\n",
    "    ).apply(\n",
    "        {\"params\": params[CONST_MODEL_DICT][CONST_MODEL][CONST_MLP][CONST_PARAMS]},\n",
    "        cnn_outs,\n",
    "        capture_intermediates=True,\n",
    "        mutable=[\"mlp_latents\"]\n",
    "    )\n",
    "\n",
    "    latents = OrderedDict()\n",
    "    for (states, key) in [\n",
    "        (cnn_states, \"cnn_latents\"),\n",
    "        (mlp_states, \"mlp_latents\"),\n",
    "    ]:\n",
    "        for state, state_val in states[key].items():\n",
    "            latents[state] = state_val\n",
    "    return latents"
   ]
  },
  {
   "cell_type": "code",
   "execution_count": null,
   "metadata": {},
   "outputs": [],
   "source": [
    "def plot(mlp_1_latents, labels, step):\n",
    "    os.makedirs(\"./imgs/{}\".format(exp_name), exist_ok=True)\n",
    "    nrows = 1\n",
    "    ncols = 2\n",
    "    fig, axes = plt.subplots(\n",
    "        nrows,\n",
    "        ncols,\n",
    "        figsize=set_size(doc_width_pt, 0.95, (nrows, ncols), False),\n",
    "        layout=\"constrained\",\n",
    "    )\n",
    "\n",
    "    unique_classes = np.unique(labels[\"train\"])\n",
    "\n",
    "    for ax_i, key in enumerate((\"train\", \"test\")):\n",
    "        for class_i in unique_classes:\n",
    "            class_idxes = np.where(labels[key] == class_i)[0]\n",
    "            axes[ax_i].scatter(\n",
    "                mlp_1_latents[key][class_idxes, 0],\n",
    "                mlp_1_latents[key][class_idxes, 1],\n",
    "                label=\"Class {}\".format(class_i) if ax_i == 0 else \"\",\n",
    "                alpha=0.5,\n",
    "                s=1\n",
    "            )\n",
    "        axes[ax_i].set_title(key)\n",
    "    fig.legend()\n",
    "    fig.suptitle(\"Model @ epoch {}\".format(step))\n",
    "    fig.tight_layout()\n",
    "    plt.savefig(\"./imgs/{}/nc-step_{:08d}.png\".format(exp_name, step), format=\"png\", bbox_inches=\"tight\", dpi=600)\n",
    "    plt.close()"
   ]
  },
  {
   "cell_type": "code",
   "execution_count": null,
   "metadata": {},
   "outputs": [],
   "source": [
    "batch_size = 300\n",
    "train_dataloader = DataLoader(\n",
    "    train_dataset,\n",
    "    batch_size=batch_size,\n",
    "    shuffle=False,\n",
    "    drop_last=True,\n",
    ")\n",
    "\n",
    "test_dataloader = DataLoader(\n",
    "    test_dataset,\n",
    "    batch_size=batch_size,\n",
    "    shuffle=False,\n",
    "    drop_last=True,\n",
    ")"
   ]
  },
  {
   "cell_type": "code",
   "execution_count": null,
   "metadata": {},
   "outputs": [],
   "source": [
    "results = {}\n",
    "for (step, params) in all_params:\n",
    "    mlp_1_latents = {\n",
    "        \"train\": [],\n",
    "        \"test\": [],\n",
    "    }\n",
    "    labels = {\n",
    "        \"train\": [],\n",
    "        \"test\": [], \n",
    "    }\n",
    "    all_latents = {\n",
    "        \"train\": {},\n",
    "        \"test\": {}\n",
    "    }\n",
    "\n",
    "    for key, dataloader in ((\"train\", train_dataloader), (\"test\", test_dataloader)):\n",
    "        for batch_i, (inputs, carries, outputs, _) in enumerate(iter(dataloader)):\n",
    "            latents = get_latent(params, inputs, carries)\n",
    "            mlp_1_latents[key].append(latents[\"mlp_{}\".format(len(config.model_config.layers) - 1)][0])\n",
    "            labels[key].append(outputs)\n",
    "            for k in latents:\n",
    "                all_latents[key].setdefault(k, [])\n",
    "                all_latents[key][k].append(latents[k][0])\n",
    "\n",
    "        mlp_1_latents[key] = np.concatenate(mlp_1_latents[key], axis=0)\n",
    "        labels[key] = np.concatenate(labels[key], axis=0)\n",
    "        all_latents[key] = {k: np.concatenate(all_latents[key][k]) for k in all_latents[key]}\n",
    "    plot(mlp_1_latents, labels, step)\n",
    "    results[step] = {\n",
    "        \"latents\": all_latents,\n",
    "        \"labels\": labels,\n",
    "    }"
   ]
  },
  {
   "cell_type": "code",
   "execution_count": null,
   "metadata": {},
   "outputs": [],
   "source": [
    "import imageio\n",
    "\n",
    "with imageio.get_writer(\"./nc-{}.gif\".format(exp_name), mode='I', duration=100) as writer:\n",
    "    img_dir = \"./imgs/{}\".format(exp_name)\n",
    "    for filename in sorted(os.listdir(img_dir)):\n",
    "        if not filename.startswith(\"nc-step\"):\n",
    "            continue\n",
    "        image = imageio.imread(os.path.join(img_dir, filename))\n",
    "        writer.append_data(image)"
   ]
  },
  {
   "cell_type": "markdown",
   "metadata": {},
   "source": [
    "# Check Neural Collapse Properties"
   ]
  },
  {
   "cell_type": "code",
   "execution_count": null,
   "metadata": {},
   "outputs": [],
   "source": [
    "nc_results = {}\n",
    "for step, step_res in results.items():\n",
    "    valid_classes = np.unique(step_res[\"labels\"][\"train\"])\n",
    "    nc_results.setdefault(step, {})\n",
    "    # for phase, phase_latents in step_res[\"latents\"].items():\n",
    "    for phase in [\"train\"]:\n",
    "        phase_latents = step_res[\"latents\"][phase]\n",
    "        for layer, curr_latents in phase_latents.items():\n",
    "            if layer.startswith(\"cnn\"):\n",
    "                continue\n",
    "            nc_results[step].setdefault(layer, {})\n",
    "            nc_results[step][layer][\"global_means\"] = np.mean(curr_latents, axis=0)\n",
    "            offset = (curr_latents - nc_results[step][layer][\"global_means\"][None])[..., None]\n",
    "            nc_results[step][layer][\"train_total_cov\"] = np.mean(offset @ np.transpose(offset, (0, 2, 1)), axis=0)\n",
    "\n",
    "            nc_results[step][layer][\"class_means\"] = {}\n",
    "            for class_i in valid_classes:\n",
    "                class_idxes = np.where(step_res[\"labels\"][phase] == class_i)[0]\n",
    "                nc_results[step][layer][\"class_means\"][class_i] = np.mean(curr_latents[class_idxes], axis=0)\n",
    "            between_class_offset = np.vstack([nc_results[step][layer][\"class_means\"][class_i] - nc_results[step][layer][\"global_means\"] for class_i in valid_classes])[..., None]\n",
    "            nc_results[step][layer][\"between_class_cov\"] = np.mean(between_class_offset @ np.transpose(between_class_offset, (0, 2, 1)), axis=0)\n",
    "            nc_results[step][layer][\"within_class_cov\"] = np.mean(\n",
    "                np.concatenate(\n",
    "                    [curr_latents[np.where(step_res[\"labels\"][phase] == class_i)[0]] - nc_results[step][layer][\"class_means\"][class_i][None] for class_i in valid_classes],\n",
    "                    axis=0\n",
    "                ),\n",
    "                axis=0\n",
    "            )\n",
    "            "
   ]
  },
  {
   "cell_type": "code",
   "execution_count": null,
   "metadata": {},
   "outputs": [],
   "source": [
    "jax.tree_map(lambda x: x.shape, nc_results[step])"
   ]
  },
  {
   "cell_type": "markdown",
   "metadata": {},
   "source": [
    "## NC1"
   ]
  },
  {
   "cell_type": "code",
   "execution_count": null,
   "metadata": {},
   "outputs": [],
   "source": [
    "nrows = len(nc_results[1])\n",
    "ncols = 1\n",
    "fig, axes = plt.subplots(\n",
    "    nrows,\n",
    "    ncols,\n",
    "    figsize=set_size(doc_width_pt, 0.95, (nrows, ncols), False),\n",
    "    layout=\"constrained\",\n",
    ")\n",
    "\n",
    "\n",
    "for ax_i, layer in enumerate(nc_results[1]):\n",
    "    within_class_cov = np.array([nc_results[step][layer][\"within_class_cov\"] for step in nc_results])\n",
    "    for dim_i in range(within_class_cov.shape[1]):\n",
    "        axes[ax_i].plot(\n",
    "            nc_results.keys(),\n",
    "            within_class_cov[:, dim_i],\n",
    "            label=\"dim. {}\".format(dim_i)\n",
    "        )\n",
    "    axes[ax_i].set_title(layer)\n",
    "    axes[ax_i].legend()\n",
    "fig.suptitle(\"NC 1 Condition\")\n",
    "plt.show()\n",
    "plt.close()"
   ]
  },
  {
   "cell_type": "code",
   "execution_count": null,
   "metadata": {},
   "outputs": [],
   "source": []
  }
 ],
 "metadata": {
  "kernelspec": {
   "display_name": ".venv",
   "language": "python",
   "name": "python3"
  },
  "language_info": {
   "codemirror_mode": {
    "name": "ipython",
    "version": 3
   },
   "file_extension": ".py",
   "mimetype": "text/x-python",
   "name": "python",
   "nbconvert_exporter": "python",
   "pygments_lexer": "ipython3",
   "version": "3.9.18"
  }
 },
 "nbformat": 4,
 "nbformat_minor": 2
}
