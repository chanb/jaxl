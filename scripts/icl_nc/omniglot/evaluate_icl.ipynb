{
 "cells": [
  {
   "cell_type": "markdown",
   "metadata": {},
   "source": [
    "# Evaluate ICL Model on the Omniglot Classification Dataset"
   ]
  },
  {
   "cell_type": "code",
   "execution_count": 1,
   "metadata": {},
   "outputs": [],
   "source": [
    "from jaxl.constants import *\n",
    "from jaxl.datasets import get_dataset\n",
    "from jaxl.datasets.wrappers import (\n",
    "    ContextDataset,\n",
    "    StandardSupervisedDataset,\n",
    "    FixedLengthContextDataset,\n",
    "    RepeatedContextDataset,\n",
    ")\n",
    "from jaxl.models import (\n",
    "    load_config,\n",
    "    load_model,\n",
    "    get_model,\n",
    "    get_activation\n",
    ")\n",
    "from jaxl.plot_utils import set_size\n",
    "from jaxl.utils import parse_dict, get_device\n",
    "\n",
    "import _pickle as pickle\n",
    "import copy\n",
    "import jax\n",
    "import jax.random as jrandom\n",
    "import json\n",
    "import matplotlib.pyplot as plt\n",
    "import numpy as np\n",
    "import os\n",
    "import torchvision.datasets as torch_datasets\n",
    "\n",
    "from collections import OrderedDict\n",
    "from functools import partial\n",
    "from orbax.checkpoint import PyTreeCheckpointer, CheckpointManager\n",
    "from sklearn.metrics import confusion_matrix\n",
    "from torch.utils.data import DataLoader\n",
    "from types import SimpleNamespace"
   ]
  },
  {
   "cell_type": "code",
   "execution_count": 2,
   "metadata": {},
   "outputs": [],
   "source": [
    "# device = \"cpu\"\n",
    "device = \"gpu:2\"\n",
    "get_device(device)"
   ]
  },
  {
   "cell_type": "code",
   "execution_count": 3,
   "metadata": {},
   "outputs": [],
   "source": [
    "doc_width_pt = 750.0\n",
    "\n",
    "base_path = \"/home/bryanpu1/projects/icl/jaxl/\"\n",
    "data_path = os.path.join(base_path, \"data\")\n",
    "log_path = os.path.join(base_path, \"jaxl/logs\")\n",
    "project_name = \"icl-omniglot\"\n",
    "run_name = \"context_len_16-num_blocks_8-02-06-24_20_18_16-14a646b2-e6bc-41e9-8b98-c6573a79cd75\"\n",
    "\n",
    "learner_path = os.path.join(\n",
    "    log_path,\n",
    "    project_name,\n",
    "    run_name,\n",
    ")\n",
    "\n",
    "exp_name = \"-\".join(run_name.split(\"-\")[:-8])"
   ]
  },
  {
   "cell_type": "markdown",
   "metadata": {},
   "source": [
    "# Experiment Configuration"
   ]
  },
  {
   "cell_type": "code",
   "execution_count": 4,
   "metadata": {},
   "outputs": [],
   "source": [
    "config_dict, config = load_config(learner_path)"
   ]
  },
  {
   "cell_type": "code",
   "execution_count": 5,
   "metadata": {},
   "outputs": [
    {
     "data": {
      "text/plain": [
       "namespace(logging_config=namespace(save_path='./logs/icl-omniglot',\n",
       "                                   experiment_name='context_len_16-num_blocks_8',\n",
       "                                   log_interval=10,\n",
       "                                   checkpoint_interval=100),\n",
       "          model_config=namespace(architecture='icl_gpt',\n",
       "                                 num_contexts=16,\n",
       "                                 num_blocks=8,\n",
       "                                 num_heads=1,\n",
       "                                 embed_dim=32,\n",
       "                                 positional_encoding=namespace(type='default',\n",
       "                                                               kwargs=namespace(embed_dim=32,\n",
       "                                                                                max_len=17)),\n",
       "                                 input_tokenizer=namespace(type='cnn',\n",
       "                                                           kwargs=namespace(features=[32,\n",
       "                                                                                      32],\n",
       "                                                                            kernel_sizes=[[3,\n",
       "                                                                                           3],\n",
       "                                                                                          [3,\n",
       "                                                                                           3]],\n",
       "                                                                            layers=[])),\n",
       "                                 output_tokenizer=namespace(type='mlp',\n",
       "                                                            kwargs=namespace(layers=[10])),\n",
       "                                 query_pred_only=True),\n",
       "          optimizer_config=namespace(optimizer='adam',\n",
       "                                     lr=namespace(scheduler='constant_schedule',\n",
       "                                                  scheduler_kwargs=namespace(value=0.0003)),\n",
       "                                     max_grad_norm=False),\n",
       "          learner_config=namespace(task='in_context_learning',\n",
       "                                   dataset_config=namespace(dataset_name='omniglot',\n",
       "                                                            dataset_kwargs=namespace(save_path='/home/bryanpu1/projects/icl/data',\n",
       "                                                                                     task_name='multitask_omniglot_finegrain',\n",
       "                                                                                     task_config=namespace(num_sequences=500000,\n",
       "                                                                                                           sequence_length=30,\n",
       "                                                                                                           random_label=False,\n",
       "                                                                                                           save_dir='/home/bryanpu1/projects/icl/data/omniglot_icl')),\n",
       "                                                            dataset_wrapper=namespace(type='ContextDataset',\n",
       "                                                                                      kwargs=namespace(context_len=16)),\n",
       "                                                            num_workers=4),\n",
       "                                   seeds=namespace(model_seed=42,\n",
       "                                                   data_seed=42),\n",
       "                                   learner='mle',\n",
       "                                   losses=['categorical', 'l2'],\n",
       "                                   loss_settings=[{'coefficient': 1.0,\n",
       "                                                   'reduction': 'mean',\n",
       "                                                   'is_one_hot': True},\n",
       "                                                  {'coefficient': 0.0}],\n",
       "                                   num_updates_per_epoch=100,\n",
       "                                   batch_size=32,\n",
       "                                   predictor_type='default'),\n",
       "          train_config=namespace(num_epochs=10000))"
      ]
     },
     "execution_count": 5,
     "metadata": {},
     "output_type": "execute_result"
    }
   ],
   "source": [
    "config"
   ]
  },
  {
   "cell_type": "markdown",
   "metadata": {},
   "source": [
    "# Load Dataset and Model"
   ]
  },
  {
   "cell_type": "code",
   "execution_count": 6,
   "metadata": {},
   "outputs": [
    {
     "name": "stdout",
     "output_type": "stream",
     "text": [
      "Files already downloaded and verified\n",
      "Loading from /home/bryanpu1/projects/icl/data/omniglot_icl/omniglot_finegrain-background_True-num_sequences_500000-sequence_length_30-random_label_False-seed_0.pkl\n"
     ]
    }
   ],
   "source": [
    "train_dataset = get_dataset(\n",
    "    config.learner_config.dataset_config,\n",
    "    config.learner_config.seeds.data_seed,\n",
    ")"
   ]
  },
  {
   "cell_type": "code",
   "execution_count": 7,
   "metadata": {},
   "outputs": [
    {
     "name": "stderr",
     "output_type": "stream",
     "text": [
      "WARNING:absl:Configured `CheckpointManager` using deprecated legacy API. Please follow the instructions at https://orbax.readthedocs.io/en/latest/api_refactor.html to migrate by May 1st, 2024.\n",
      "/home/bryanpu1/.conda/envs/icl/lib/python3.9/site-packages/orbax/checkpoint/type_handlers.py:1475: UserWarning: Couldn't find sharding info under RestoreArgs. Populating sharding info from sharding file. Please note restoration time will be slightly increased due to reading from file instead of directly from RestoreArgs.\n",
      "  warnings.warn(\n"
     ]
    }
   ],
   "source": [
    "params, model = load_model(\n",
    "    train_dataset.input_dim,\n",
    "    train_dataset.output_dim,\n",
    "    learner_path,\n",
    "    -1\n",
    ")"
   ]
  },
  {
   "cell_type": "code",
   "execution_count": 8,
   "metadata": {},
   "outputs": [
    {
     "name": "stdout",
     "output_type": "stream",
     "text": [
      "29 100 30 16\n"
     ]
    }
   ],
   "source": [
    "context_len = config.model_config.num_contexts\n",
    "num_samples_per_task = train_dataset._dataset.sequence_length - 1\n",
    "sequence_length = train_dataset._dataset.sequence_length\n",
    "num_tasks = 100\n",
    "num_workers = 4\n",
    "\n",
    "print(num_samples_per_task, num_tasks, sequence_length, context_len)"
   ]
  },
  {
   "cell_type": "code",
   "execution_count": 9,
   "metadata": {},
   "outputs": [],
   "source": [
    "train_loader = DataLoader(\n",
    "    train_dataset,\n",
    "    batch_size=num_samples_per_task,\n",
    "    shuffle=False,\n",
    "    drop_last=False,\n",
    "    num_workers=num_workers,\n",
    ")"
   ]
  },
  {
   "cell_type": "markdown",
   "metadata": {},
   "source": [
    "# Helper Functions"
   ]
  },
  {
   "cell_type": "code",
   "execution_count": 10,
   "metadata": {},
   "outputs": [],
   "source": [
    "def get_preds_labels(data_loader, num_tasks):\n",
    "    all_preds = []\n",
    "    all_labels = []\n",
    "    all_outputs = []\n",
    "\n",
    "    for batch_i, samples in enumerate(data_loader):\n",
    "        if batch_i >= num_tasks:\n",
    "            break\n",
    "\n",
    "        (context_inputs, context_outputs, queries, one_hot_labels) = samples\n",
    "\n",
    "        outputs, _ = model.forward(\n",
    "            params[CONST_MODEL_DICT][CONST_MODEL],\n",
    "            queries.numpy(),\n",
    "            {\n",
    "                CONST_CONTEXT_INPUT: context_inputs.numpy(),\n",
    "                CONST_CONTEXT_OUTPUT: context_outputs.numpy(),\n",
    "            },\n",
    "        )\n",
    "        preds = np.argmax(outputs, axis=-1)\n",
    "        labels = np.argmax(one_hot_labels, axis=-1)\n",
    "        all_preds.append(preds)\n",
    "        all_labels.append(labels)\n",
    "        all_outputs.append(outputs)\n",
    "\n",
    "    all_outputs = np.concatenate(all_outputs)\n",
    "    all_preds = np.concatenate(all_preds)\n",
    "    all_labels = np.concatenate(all_labels)\n",
    "    return all_preds, all_labels, all_outputs\n",
    "\n",
    "def print_performance(\n",
    "    all_preds, all_labels, sequence_length, context_len, output_dim,\n",
    "):\n",
    "    conf_mat = confusion_matrix(all_labels, all_preds, labels=np.arange(output_dim))\n",
    "    acc = np.trace(conf_mat) / np.sum(conf_mat) * 100\n",
    "    print(\"Pretraining Accuracy: {}\".format(acc))\n",
    "\n",
    "    reshaped_preds = all_preds.reshape((-1, sequence_length - 1))\n",
    "    reshaped_labels = all_labels.reshape((-1, sequence_length - 1))\n",
    "    for curr_context_len in range(context_len):\n",
    "        if curr_context_len < context_len - 1:\n",
    "            curr_preds = reshaped_preds[:, curr_context_len]\n",
    "            curr_labels = reshaped_labels[:, curr_context_len]\n",
    "        else:\n",
    "            curr_preds = reshaped_preds[:, curr_context_len:]\n",
    "            curr_labels = reshaped_labels[:, curr_context_len:]\n",
    "\n",
    "        curr_preds = curr_preds.reshape(-1)\n",
    "        curr_labels = curr_labels.reshape(-1)\n",
    "\n",
    "        curr_conf_mat = confusion_matrix(\n",
    "            curr_labels, curr_preds, labels=np.arange(output_dim)\n",
    "        )\n",
    "        curr_acc = np.trace(curr_conf_mat) / np.sum(curr_conf_mat) * 100\n",
    "        print(\n",
    "            \"Pretraining Accuracy with Context Length {} (Num Samples: {}): {}\".format(\n",
    "                curr_context_len + 1, np.sum(curr_conf_mat), curr_acc\n",
    "            )\n",
    "        )"
   ]
  },
  {
   "cell_type": "markdown",
   "metadata": {},
   "source": [
    "# Check Dataset"
   ]
  },
  {
   "cell_type": "code",
   "execution_count": 14,
   "metadata": {},
   "outputs": [
    {
     "data": {
      "image/png": "[encoded data removed]",
      "text/plain": [
       "<Figure size 985.886x246.472 with 16 Axes>"
      ]
     },
     "metadata": {},
     "output_type": "display_data"
    },
    {
     "data": {
      "image/png": "[encoded data removed]",
      "text/plain": [
       "<Figure size 640x480 with 1 Axes>"
      ]
     },
     "metadata": {},
     "output_type": "display_data"
    },
    {
     "data": {
      "image/png": "[encoded data removed]",
      "text/plain": [
       "<Figure size 985.886x246.472 with 16 Axes>"
      ]
     },
     "metadata": {},
     "output_type": "display_data"
    },
    {
     "data": {
      "image/png": "[encoded data removed]",
      "text/plain": [
       "<Figure size 640x480 with 1 Axes>"
      ]
     },
     "metadata": {},
     "output_type": "display_data"
    }
   ],
   "source": [
    "for task_i in range(2):\n",
    "    ci, co, q, l = train_dataset[task_i * num_samples_per_task + num_samples_per_task - 1]\n",
    "\n",
    "    nrows = 2\n",
    "    ncols = 8\n",
    "    fig, axes = plt.subplots(\n",
    "        nrows,\n",
    "        ncols,\n",
    "        figsize=set_size(doc_width_pt, 0.95, (nrows, ncols), False),\n",
    "        layout=\"constrained\",\n",
    "    )\n",
    "\n",
    "    for idx, (img, label) in enumerate(zip(ci, co)):\n",
    "        axes[idx // ncols, idx % ncols].imshow(img)\n",
    "        axes[idx // ncols, idx % ncols].set_title(np.argmax(label))\n",
    "    plt.show()\n",
    "    plt.close()\n",
    "\n",
    "    plt.imshow(q[0])\n",
    "    plt.title(np.argmax(l))\n",
    "    plt.show()\n",
    "    plt.close()"
   ]
  },
  {
   "cell_type": "markdown",
   "metadata": {},
   "source": [
    "# Get Training Performance"
   ]
  },
  {
   "cell_type": "code",
   "execution_count": 11,
   "metadata": {},
   "outputs": [
    {
     "name": "stderr",
     "output_type": "stream",
     "text": [
      "/home/bryanpu1/.conda/envs/icl/lib/python3.9/multiprocessing/popen_fork.py:66: RuntimeWarning: os.fork() was called. os.fork() is incompatible with multithreaded code, and JAX is multithreaded, so this will likely lead to a deadlock.\n",
      "  self.pid = os.fork()\n",
      "/home/bryanpu1/.conda/envs/icl/lib/python3.9/multiprocessing/popen_fork.py:66: RuntimeWarning: os.fork() was called. os.fork() is incompatible with multithreaded code, and JAX is multithreaded, so this will likely lead to a deadlock.\n",
      "  self.pid = os.fork()\n"
     ]
    }
   ],
   "source": [
    "train_preds, train_labels, train_outputs = get_preds_labels(train_loader, num_tasks)\n",
    "pickle.dump(\n",
    "    [train_preds, train_labels, train_outputs],\n",
    "    open(\"train_prediction_result.pkl\", \"wb\")\n",
    ")\n",
    "\n"
   ]
  },
  {
   "cell_type": "code",
   "execution_count": 12,
   "metadata": {},
   "outputs": [
    {
     "name": "stdout",
     "output_type": "stream",
     "text": [
      "Pretraining Accuracy: 0.2413793103448276\n",
      "Pretraining Accuracy with Context Length 1 (Num Samples: 100): 0.0\n",
      "Pretraining Accuracy with Context Length 2 (Num Samples: 100): 0.0\n",
      "Pretraining Accuracy with Context Length 3 (Num Samples: 100): 0.0\n",
      "Pretraining Accuracy with Context Length 4 (Num Samples: 100): 0.0\n",
      "Pretraining Accuracy with Context Length 5 (Num Samples: 100): 0.0\n",
      "Pretraining Accuracy with Context Length 6 (Num Samples: 100): 0.0\n",
      "Pretraining Accuracy with Context Length 7 (Num Samples: 100): 0.0\n",
      "Pretraining Accuracy with Context Length 8 (Num Samples: 100): 0.0\n",
      "Pretraining Accuracy with Context Length 9 (Num Samples: 100): 2.0\n",
      "Pretraining Accuracy with Context Length 10 (Num Samples: 100): 0.0\n",
      "Pretraining Accuracy with Context Length 11 (Num Samples: 100): 0.0\n",
      "Pretraining Accuracy with Context Length 12 (Num Samples: 100): 2.0\n",
      "Pretraining Accuracy with Context Length 13 (Num Samples: 100): 0.0\n",
      "Pretraining Accuracy with Context Length 14 (Num Samples: 100): 0.0\n",
      "Pretraining Accuracy with Context Length 15 (Num Samples: 100): 0.0\n",
      "Pretraining Accuracy with Context Length 16 (Num Samples: 1400): 0.2142857142857143\n"
     ]
    }
   ],
   "source": [
    "print_performance(\n",
    "    train_preds,\n",
    "    train_labels,\n",
    "    sequence_length,\n",
    "    context_len,\n",
    "    train_dataset.output_dim[0],\n",
    ")"
   ]
  },
  {
   "cell_type": "markdown",
   "metadata": {},
   "source": [
    "# In-distribution Test Data"
   ]
  },
  {
   "cell_type": "code",
   "execution_count": null,
   "metadata": {},
   "outputs": [],
   "source": [
    "num_in_dist_test_tasks = 30\n",
    "in_dist_test_data_seed = 1000"
   ]
  },
  {
   "cell_type": "code",
   "execution_count": null,
   "metadata": {},
   "outputs": [],
   "source": [
    "config.learner_config.dataset_config"
   ]
  },
  {
   "cell_type": "code",
   "execution_count": null,
   "metadata": {},
   "outputs": [],
   "source": [
    "in_dist_test_config_dict = copy.deepcopy(config_dict[\"learner_config\"][\"dataset_config\"])\n",
    "in_dist_test_config_dict[\"dataset_kwargs\"][\"num_sequences\"] = num_in_dist_test_tasks\n",
    "in_dist_test_config = parse_dict(in_dist_test_config_dict)"
   ]
  },
  {
   "cell_type": "code",
   "execution_count": null,
   "metadata": {},
   "outputs": [],
   "source": [
    "in_dist_test_dataset = get_dataset(\n",
    "    in_dist_test_config,\n",
    "    in_dist_test_data_seed,\n",
    ")"
   ]
  },
  {
   "cell_type": "code",
   "execution_count": null,
   "metadata": {},
   "outputs": [],
   "source": [
    "in_dist_test_loader = DataLoader(\n",
    "    in_dist_test_dataset,\n",
    "    batch_size=num_samples_per_task,\n",
    "    shuffle=False,\n",
    "    drop_last=False,\n",
    "    num_workers=num_workers,\n",
    ")"
   ]
  },
  {
   "cell_type": "code",
   "execution_count": null,
   "metadata": {},
   "outputs": [],
   "source": [
    "in_dist_test_preds, in_dist_test_labels, in_dist_test_outputs = get_preds_labels(in_dist_test_loader, num_in_dist_test_tasks)\n",
    "pickle.dump(\n",
    "    [in_dist_test_preds, in_dist_test_labels, in_dist_test_outputs],\n",
    "    open(\"in_dist_test_prediction_result.pkl\", \"wb\")\n",
    ")"
   ]
  },
  {
   "cell_type": "code",
   "execution_count": null,
   "metadata": {},
   "outputs": [],
   "source": [
    "print_performance(\n",
    "    in_dist_test_preds,\n",
    "    in_dist_test_labels,\n",
    "    sequence_length,\n",
    "    context_len,\n",
    "    in_dist_test_dataset.output_dim[0],\n",
    ")"
   ]
  },
  {
   "cell_type": "markdown",
   "metadata": {},
   "source": [
    "# Out-of-class Test Data\n",
    "This checks out-of-class generalization (i.e. heldout classes)"
   ]
  },
  {
   "cell_type": "code",
   "execution_count": null,
   "metadata": {},
   "outputs": [],
   "source": [
    "num_ooc_test_tasks = 30\n",
    "ooc_test_data_seed = 1000"
   ]
  },
  {
   "cell_type": "code",
   "execution_count": null,
   "metadata": {},
   "outputs": [],
   "source": [
    "ooc_test_config_dict = copy.deepcopy(config_dict[\"learner_config\"][\"dataset_config\"])\n",
    "ooc_test_config_dict[\"dataset_kwargs\"][\"split\"] = \"test\"\n",
    "ooc_test_config_dict[\"dataset_kwargs\"][\"num_sequences\"] = num_ooc_test_tasks\n",
    "ooc_test_config = parse_dict(ooc_test_config_dict)"
   ]
  },
  {
   "cell_type": "code",
   "execution_count": null,
   "metadata": {},
   "outputs": [],
   "source": [
    "ooc_test_dataset = get_dataset(\n",
    "    ooc_test_config,\n",
    "    ooc_test_data_seed,\n",
    ")"
   ]
  },
  {
   "cell_type": "code",
   "execution_count": null,
   "metadata": {},
   "outputs": [],
   "source": [
    "ooc_test_loader = DataLoader(\n",
    "    ooc_test_dataset,\n",
    "    batch_size=num_samples_per_task,\n",
    "    shuffle=False,\n",
    "    drop_last=False,\n",
    "    num_workers=num_workers,\n",
    ")"
   ]
  },
  {
   "cell_type": "code",
   "execution_count": null,
   "metadata": {},
   "outputs": [],
   "source": [
    "ooc_test_preds, ooc_test_labels, ooc_test_outputs = get_preds_labels(ooc_test_loader, num_ooc_test_tasks)\n",
    "pickle.dump(\n",
    "    [ooc_test_preds, ooc_test_labels, ooc_test_outputs],\n",
    "    open(\"ooc_test_prediction_result.pkl\", \"wb\")\n",
    ")"
   ]
  },
  {
   "cell_type": "code",
   "execution_count": null,
   "metadata": {},
   "outputs": [],
   "source": [
    "print_performance(\n",
    "    ooc_test_preds,\n",
    "    ooc_test_labels,\n",
    "    sequence_length,\n",
    "    context_len,\n",
    "    ooc_test_dataset.output_dim[0],\n",
    ")"
   ]
  },
  {
   "cell_type": "markdown",
   "metadata": {},
   "source": [
    "# Relabel Test Data\n",
    "Maps the labels to a constrained subset"
   ]
  },
  {
   "cell_type": "code",
   "execution_count": null,
   "metadata": {},
   "outputs": [],
   "source": [
    "num_remap_test_tasks = 30\n",
    "remap_test_data_seed = 1000"
   ]
  },
  {
   "cell_type": "code",
   "execution_count": null,
   "metadata": {},
   "outputs": [],
   "source": [
    "remap_test_config_dict = copy.deepcopy(config_dict[\"learner_config\"][\"dataset_config\"])\n",
    "remap_test_config_dict[\"dataset_kwargs\"][\"split\"] = \"test\"\n",
    "remap_test_config_dict[\"dataset_kwargs\"][\"remap\"] = True\n",
    "remap_test_config_dict[\"dataset_kwargs\"][\"num_sequences\"] = num_remap_test_tasks\n",
    "remap_test_config = parse_dict(remap_test_config_dict)"
   ]
  },
  {
   "cell_type": "code",
   "execution_count": null,
   "metadata": {},
   "outputs": [],
   "source": [
    "remap_test_dataset = get_dataset(\n",
    "    remap_test_config,\n",
    "    remap_test_data_seed,\n",
    ")"
   ]
  },
  {
   "cell_type": "code",
   "execution_count": null,
   "metadata": {},
   "outputs": [],
   "source": [
    "remap_test_loader = DataLoader(\n",
    "    remap_test_dataset,\n",
    "    batch_size=num_samples_per_task,\n",
    "    shuffle=False,\n",
    "    drop_last=False,\n",
    "    num_workers=num_workers,\n",
    ")"
   ]
  },
  {
   "cell_type": "code",
   "execution_count": null,
   "metadata": {},
   "outputs": [],
   "source": [
    "remap_test_preds, remap_test_labels, remap_test_outputs = get_preds_labels(remap_test_loader, num_remap_test_tasks)\n",
    "pickle.dump(\n",
    "    [remap_test_preds, remap_test_labels, remap_test_outputs],\n",
    "    open(\"remap_test_prediction_result.pkl\", \"wb\")\n",
    ")"
   ]
  },
  {
   "cell_type": "code",
   "execution_count": null,
   "metadata": {},
   "outputs": [],
   "source": [
    "print_performance(\n",
    "    remap_test_preds,\n",
    "    remap_test_labels,\n",
    "    sequence_length,\n",
    "    context_len,\n",
    "    remap_test_dataset.output_dim[0],\n",
    ")"
   ]
  }
 ],
 "metadata": {
  "kernelspec": {
   "display_name": "icl",
   "language": "python",
   "name": "python3"
  },
  "language_info": {
   "codemirror_mode": {
    "name": "ipython",
    "version": 3
   },
   "file_extension": ".py",
   "mimetype": "text/x-python",
   "name": "python",
   "nbconvert_exporter": "python",
   "pygments_lexer": "ipython3",
   "version": "3.9.18"
  }
 },
 "nbformat": 4,
 "nbformat_minor": 2
}
