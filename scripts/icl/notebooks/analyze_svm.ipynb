{
 "cells": [
  {
   "cell_type": "code",
   "execution_count": null,
   "metadata": {},
   "outputs": [],
   "source": [
    "import _pickle as pickle\n",
    "import jax\n",
    "import math\n",
    "import matplotlib.pyplot as plt\n",
    "import numpy as np\n",
    "import os\n",
    "\n",
    "from jaxl.constants import *\n",
    "from jaxl.plot_utils import set_size"
   ]
  },
  {
   "cell_type": "code",
   "execution_count": null,
   "metadata": {},
   "outputs": [],
   "source": [
    "doc_width_pt = 500.0\n",
    "baseline_path = \"/home/bryanpu1/projects/jaxl/scripts/icl/results-num_blocks_8-num_tasks_5-seq_len_16-seed_9999-10-08-23_12_36_30/\"\n",
    "\n",
    "context_data = pickle.load(\n",
    "    open(os.path.join(baseline_path, \"context_data.pkl\"), \"rb\")\n",
    ")\n",
    "\n",
    "gt = pickle.load(\n",
    "    open(os.path.join(baseline_path, \"ground_truth.pkl\"), \"rb\")\n",
    ")\n",
    "\n",
    "agent_reprs = pickle.load(\n",
    "    open(os.path.join(baseline_path, \"agent_reprs.pkl\"), \"rb\")\n",
    ")\n",
    "\n",
    "config = pickle.load(\n",
    "    open(os.path.join(baseline_path, \"config.pkl\"), \"rb\")\n",
    ")\n",
    "input_range = config[\"input_range\"]"
   ]
  },
  {
   "cell_type": "markdown",
   "metadata": {},
   "source": [
    "# Visualize Representation SVM\n",
    "Visualize SVM trained in the represnetation space induced by the transformer by mapping the SVM prediction back onto the input space.\n",
    "- `context_reprs` corresponds to the representation induced by feeding in each of the context samples into the query token\n",
    "- `input_token_context_reprs` corresponds to taking the context token directly"
   ]
  },
  {
   "cell_type": "code",
   "execution_count": null,
   "metadata": {},
   "outputs": [],
   "source": [
    "nrows = 1\n",
    "ncols = 2\n",
    "for task_i in context_data:\n",
    "    context_inputs = context_data[task_i][CONST_CONTEXT_INPUT]\n",
    "    context_outputs = context_data[task_i][CONST_CONTEXT_OUTPUT]\n",
    "    train_y = np.argmax(context_outputs, axis=-1)\n",
    "\n",
    "    for agent_path, agent_repr in agent_reprs.items():\n",
    "        print(\"Processing agent {}\".format(agent_path))\n",
    "        fig, axes = plt.subplots(\n",
    "            nrows,\n",
    "            ncols,\n",
    "            figsize=set_size(doc_width_pt, 0.95, (nrows, ncols), False),\n",
    "            layout=\"constrained\",\n",
    "        )\n",
    "        query_input = agent_repr[\"query_reprs\"][task_i]\n",
    "        for ax_i, repr_key in enumerate([\"context_reprs\", \"input_token_context_reprs\"]):\n",
    "            ax = axes[ax_i]\n",
    "            params = agent_repr[\"svms\"][task_i][repr_key][\"primal\"][\"sol\"]\n",
    "            svm_preds = (\n",
    "                (\n",
    "                    np.array(query_input) @ params[:-1]\n",
    "                    + params[-1:]\n",
    "                )\n",
    "                >= 0\n",
    "            ).astype(int)\n",
    "            \n",
    "            for possible_label in [0, 1]:\n",
    "                idxes = np.where(svm_preds == possible_label)\n",
    "                ax.scatter(\n",
    "                    gt[\"inputs\"][idxes][:, 0],\n",
    "                    gt[\"inputs\"][idxes][:, 1],\n",
    "                    label=f\"{possible_label}\" if ax_i == 0 else \"\",\n",
    "                    s=5,\n",
    "                )\n",
    "                idxes = np.where(train_y == possible_label)\n",
    "                ax.scatter(\n",
    "                    context_inputs[idxes][:, 0],\n",
    "                    context_inputs[idxes][:, 1],\n",
    "                    label=f\"{possible_label}\" if ax_i == 0 else \"\",\n",
    "                    s=15,\n",
    "                    marker=\"x\" if possible_label else \"o\",\n",
    "                    c=\"black\"\n",
    "                )\n",
    "            ax.plot(input_range, gt[\"decision_boundary\"][task_i], color=\"black\")\n",
    "            ax.set_xlim(input_range[0] - 0.01, input_range[1] + 0.01)\n",
    "            ax.set_ylim(input_range[0] - 0.01, input_range[1] + 0.01)\n",
    "            ax.set_title(\"{}\".format(repr_key))\n",
    "\n",
    "        fig.legend(\n",
    "            bbox_to_anchor=(0.0, 1.0, 1.0, 0.0),\n",
    "            loc=\"lower center\",\n",
    "            ncols=4,\n",
    "            borderaxespad=0.0,\n",
    "            frameon=True,\n",
    "            fontsize=\"8\",\n",
    "        )\n",
    "        fig.supxlabel(\"$x_1$\")\n",
    "        fig.supylabel(\"$x_2$\")\n",
    "        plt.show()"
   ]
  },
  {
   "cell_type": "markdown",
   "metadata": {},
   "source": [
    "# Finding Support Vectors in Representation Space"
   ]
  },
  {
   "cell_type": "markdown",
   "metadata": {},
   "source": []
  }
 ],
 "metadata": {
  "kernelspec": {
   "display_name": "jaxl",
   "language": "python",
   "name": "python3"
  },
  "language_info": {
   "codemirror_mode": {
    "name": "ipython",
    "version": 3
   },
   "file_extension": ".py",
   "mimetype": "text/x-python",
   "name": "python",
   "nbconvert_exporter": "python",
   "pygments_lexer": "ipython3",
   "version": "3.9.18"
  }
 },
 "nbformat": 4,
 "nbformat_minor": 2
}
