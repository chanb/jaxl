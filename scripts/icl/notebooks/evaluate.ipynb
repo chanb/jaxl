{
 "cells": [
  {
   "cell_type": "code",
   "execution_count": 1,
   "metadata": {},
   "outputs": [],
   "source": [
    "from jaxl.constants import *\n",
    "from jaxl.datasets import get_dataset\n",
    "from jaxl.learning_utils import get_learner\n",
    "from jaxl.utils import parse_dict\n",
    "\n",
    "import json\n",
    "import numpy as np\n",
    "import os\n",
    "\n",
    "from orbax.checkpoint import PyTreeCheckpointer, CheckpointManager"
   ]
  },
  {
   "cell_type": "code",
   "execution_count": 2,
   "metadata": {},
   "outputs": [],
   "source": [
    "# learner_path = \"/Users/chanb/research/personal/jaxl/jaxl/logs/icl-linear_sgd-full_context_20/gpt-no_enc-08-18-23_12_04_06-5f798728-1621-42b1-a08d-1425f60bbe90\"\n",
    "learner_path = \"/Users/chanb/research/personal/jaxl/jaxl/logs/icl-linear_sgd-full_context_20/gpt-pos_enc-08-18-23_12_04_04-b2ae6878-3b72-4971-a34b-7c63bac24143\"\n",
    "test_dataset_seed = 9999"
   ]
  },
  {
   "cell_type": "code",
   "execution_count": 3,
   "metadata": {},
   "outputs": [],
   "source": [
    "config_path = os.path.join(learner_path, \"config.json\")\n",
    "with open(config_path, \"r\") as f:\n",
    "    config_dict = json.load(f)\n",
    "    config = parse_dict(config_dict)\n",
    "    \n",
    "learner = get_learner(\n",
    "    config.learner_config, config.model_config, config.optimizer_config\n",
    ")\n",
    "\n",
    "checkpoint_manager = CheckpointManager(\n",
    "    os.path.join(learner_path, \"models\"),\n",
    "    PyTreeCheckpointer(),\n",
    ")\n",
    "\n",
    "params = checkpoint_manager.restore(checkpoint_manager.latest_step())\n",
    "params[CONST_MODEL_DICT][CONST_MODEL][CONST_POSITIONAL_ENCODING] = dict()\n",
    "model = learner._model"
   ]
  },
  {
   "cell_type": "code",
   "execution_count": 4,
   "metadata": {},
   "outputs": [
    {
     "data": {
      "text/plain": [
       "namespace(dataset_name='multitask_toy_regression',\n",
       "          dataset_kwargs=namespace(basis='polynomial',\n",
       "                                   degree=1,\n",
       "                                   num_sequences=100000,\n",
       "                                   sequence_length=41,\n",
       "                                   noise=0.1,\n",
       "                                   params_bound=[-10.0, 10.0],\n",
       "                                   val_frac=0.0005),\n",
       "          dataset_wrapper=namespace(type='ContextDataset',\n",
       "                                    kwargs=namespace(context_len=20,\n",
       "                                                     skip_step=1)))"
      ]
     },
     "execution_count": 4,
     "metadata": {},
     "output_type": "execute_result"
    }
   ],
   "source": [
    "config.learner_config.dataset_config"
   ]
  },
  {
   "cell_type": "code",
   "execution_count": 5,
   "metadata": {},
   "outputs": [],
   "source": [
    "sequence_len = 80\n",
    "test_config = vars(config.learner_config.dataset_config)\n",
    "test_config[\"dataset_kwargs\"] = vars(test_config[\"dataset_kwargs\"])\n",
    "test_config[\"dataset_kwargs\"][\"sequence_length\"] = sequence_len + 1\n",
    "test_config = parse_dict(test_config)"
   ]
  },
  {
   "cell_type": "code",
   "execution_count": 6,
   "metadata": {},
   "outputs": [],
   "source": [
    "test_dataset = get_dataset(test_config, seed=test_dataset_seed)"
   ]
  },
  {
   "cell_type": "code",
   "execution_count": 7,
   "metadata": {},
   "outputs": [],
   "source": [
    "def get_result(dataset, sequence_length):\n",
    "    context_inputs, context_outputs, queries, outputs = [], [], [], []\n",
    "    for seq_i in range(sequence_length):\n",
    "        context_input, context_output, query, output = dataset[seq_i]\n",
    "        context_inputs.append(context_input)\n",
    "        context_outputs.append(context_output)\n",
    "        queries.append(query)\n",
    "        outputs.append(output)\n",
    "    context_inputs = np.stack(context_inputs)\n",
    "    context_outputs = np.stack(context_outputs)\n",
    "    queries = np.stack(queries)\n",
    "    outputs = np.stack(outputs)\n",
    "\n",
    "    preds, _ = model.forward(\n",
    "        params[CONST_MODEL_DICT][CONST_MODEL],\n",
    "        queries,\n",
    "        {\n",
    "            CONST_CONTEXT_INPUT: context_inputs,\n",
    "            CONST_CONTEXT_OUTPUT: context_outputs,\n",
    "        }\n",
    "    )\n",
    "    return queries, preds, outputs"
   ]
  },
  {
   "cell_type": "code",
   "execution_count": 8,
   "metadata": {},
   "outputs": [],
   "source": [
    "def mse(preds, outputs):\n",
    "    return np.mean((preds - outputs) ** 2)"
   ]
  },
  {
   "cell_type": "code",
   "execution_count": 9,
   "metadata": {},
   "outputs": [
    {
     "name": "stdout",
     "output_type": "stream",
     "text": [
      "(80, 1, 1) (80, 1) (80, 1)\n"
     ]
    }
   ],
   "source": [
    "queries, preds, outputs = get_result(\n",
    "    test_dataset,\n",
    "    sequence_length=sequence_len\n",
    ")\n",
    "loss = mse(preds, outputs)\n",
    "print(queries.shape, preds.shape, outputs.shape)"
   ]
  },
  {
   "cell_type": "code",
   "execution_count": 10,
   "metadata": {},
   "outputs": [
    {
     "data": {
      "text/plain": [
       "Array(0.5003449, dtype=float32)"
      ]
     },
     "execution_count": 10,
     "metadata": {},
     "output_type": "execute_result"
    }
   ],
   "source": [
    "loss"
   ]
  },
  {
   "cell_type": "markdown",
   "metadata": {},
   "source": [
    "# Plotting"
   ]
  },
  {
   "cell_type": "code",
   "execution_count": 11,
   "metadata": {},
   "outputs": [],
   "source": [
    "import matplotlib.pyplot as plt"
   ]
  },
  {
   "cell_type": "code",
   "execution_count": 12,
   "metadata": {},
   "outputs": [
    {
     "data": {
      "text/plain": [
       "<matplotlib.collections.PathCollection at 0x2d4b994c0>"
      ]
     },
     "execution_count": 12,
     "metadata": {},
     "output_type": "execute_result"
    },
    {
     "data": {
      "image/png": "[encoded data removed]",
      "text/plain": [
       "<Figure size 640x480 with 1 Axes>"
      ]
     },
     "metadata": {},
     "output_type": "display_data"
    }
   ],
   "source": [
    "context_len = config.learner_config.dataset_config.dataset_wrapper.kwargs.context_len\n",
    "plt.scatter(queries[context_len:], preds[context_len:])\n",
    "plt.scatter(queries[context_len:], outputs[context_len:])"
   ]
  },
  {
   "cell_type": "code",
   "execution_count": null,
   "metadata": {},
   "outputs": [],
   "source": []
  }
 ],
 "metadata": {
  "kernelspec": {
   "display_name": ".venv",
   "language": "python",
   "name": "python3"
  },
  "language_info": {
   "codemirror_mode": {
    "name": "ipython",
    "version": 3
   },
   "file_extension": ".py",
   "mimetype": "text/x-python",
   "name": "python",
   "nbconvert_exporter": "python",
   "pygments_lexer": "ipython3",
   "version": "3.9.17"
  },
  "orig_nbformat": 4
 },
 "nbformat": 4,
 "nbformat_minor": 2
}
