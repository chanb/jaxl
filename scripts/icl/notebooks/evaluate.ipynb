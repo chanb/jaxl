{
 "cells": [
  {
   "cell_type": "code",
   "execution_count": 1,
   "metadata": {},
   "outputs": [],
   "source": [
    "from jaxl.constants import *\n",
    "from jaxl.datasets import get_dataset\n",
    "from jaxl.learning_utils import get_learner\n",
    "from jaxl.utils import parse_dict\n",
    "\n",
    "import json\n",
    "import numpy as np\n",
    "import os\n",
    "\n",
    "from orbax.checkpoint import PyTreeCheckpointer, CheckpointManager"
   ]
  },
  {
   "cell_type": "code",
   "execution_count": 2,
   "metadata": {},
   "outputs": [],
   "source": [
    "base_dir = \"/Users/chanb/research/personal/jaxl/jaxl\"\n",
    "# learner_path = os.path.join(\n",
    "#     base_dir,\n",
    "#     \"logs/icl-linear_sgd-full_context_20/gpt-no_enc-08-21-23_07_36_59-971a17db-73ed-4f77-b463-5887644e3385\"\n",
    "# )\n",
    "learner_path = os.path.join(\n",
    "    base_dir,\n",
    "    \"logs/icl-linear_sgd-full_context_20/gpt-pos_enc-08-21-23_07_36_58-5473978c-10db-433b-889b-f136405d7a7e\",\n",
    ")\n",
    "# learner_path = \"/Users/chanb/research/personal/jaxl/jaxl/logs/icl-linear_sgd-full_context_20/gpt-low_embed-08-23-23_07_20_59-0876bed6-f8b6-47f6-ab3a-7bba4b2b4308\"\n",
    "test_dataset_seed = 999"
   ]
  },
  {
   "cell_type": "code",
   "execution_count": 3,
   "metadata": {},
   "outputs": [],
   "source": [
    "config_path = os.path.join(learner_path, \"config.json\")\n",
    "with open(config_path, \"r\") as f:\n",
    "    config_dict = json.load(f)\n",
    "    config = parse_dict(config_dict)\n",
    "\n",
    "learner = get_learner(\n",
    "    config.learner_config, config.model_config, config.optimizer_config\n",
    ")\n",
    "\n",
    "checkpoint_manager = CheckpointManager(\n",
    "    os.path.join(learner_path, \"models\"),\n",
    "    PyTreeCheckpointer(),\n",
    ")\n",
    "\n",
    "params = checkpoint_manager.restore(checkpoint_manager.latest_step())\n",
    "params[CONST_MODEL_DICT][CONST_MODEL][CONST_POSITIONAL_ENCODING] = dict()\n",
    "model = learner._model"
   ]
  },
  {
   "cell_type": "code",
   "execution_count": 4,
   "metadata": {},
   "outputs": [
    {
     "data": {
      "text/plain": [
       "namespace(dataset_name='multitask_toy_regression',\n",
       "          dataset_kwargs=namespace(basis='polynomial',\n",
       "                                   degree=1,\n",
       "                                   num_sequences=100000,\n",
       "                                   sequence_length=41,\n",
       "                                   noise=0.1,\n",
       "                                   params_bound=[-10.0, 10.0],\n",
       "                                   val_frac=0.0005),\n",
       "          dataset_wrapper=namespace(type='ContextDataset',\n",
       "                                    kwargs=namespace(context_len=20,\n",
       "                                                     skip_step=1)))"
      ]
     },
     "execution_count": 4,
     "metadata": {},
     "output_type": "execute_result"
    }
   ],
   "source": [
    "config.learner_config.dataset_config"
   ]
  },
  {
   "cell_type": "code",
   "execution_count": 5,
   "metadata": {},
   "outputs": [],
   "source": [
    "sequence_len = 80\n",
    "test_config = vars(config.learner_config.dataset_config)\n",
    "test_config[\"dataset_kwargs\"] = vars(test_config[\"dataset_kwargs\"])\n",
    "test_config[\"dataset_kwargs\"][\"sequence_length\"] = sequence_len + 1\n",
    "test_config[\"dataset_kwargs\"][\"params_bound\"] = [-0.5, 0.5]\n",
    "test_config[\"dataset_kwargs\"][\"inputs_range\"] = [-1.0, 1.0]\n",
    "test_config = parse_dict(test_config)"
   ]
  },
  {
   "cell_type": "code",
   "execution_count": 6,
   "metadata": {},
   "outputs": [],
   "source": [
    "test_dataset = get_dataset(test_config, seed=test_dataset_seed)"
   ]
  },
  {
   "cell_type": "code",
   "execution_count": 7,
   "metadata": {},
   "outputs": [],
   "source": [
    "def get_result(dataset, sequence_length):\n",
    "    context_inputs, context_outputs, queries, outputs = [], [], [], []\n",
    "    for seq_i in range(sequence_length):\n",
    "        context_input, context_output, query, output = dataset[seq_i]\n",
    "        context_inputs.append(context_input)\n",
    "        context_outputs.append(context_output)\n",
    "        queries.append(query)\n",
    "        outputs.append(output)\n",
    "    context_inputs = np.stack(context_inputs)\n",
    "    context_outputs = np.stack(context_outputs)\n",
    "    queries = np.stack(queries)\n",
    "    outputs = np.stack(outputs)\n",
    "\n",
    "    preds, _ = model.forward(\n",
    "        params[CONST_MODEL_DICT][CONST_MODEL],\n",
    "        queries,\n",
    "        {\n",
    "            CONST_CONTEXT_INPUT: context_inputs,\n",
    "            CONST_CONTEXT_OUTPUT: context_outputs,\n",
    "        },\n",
    "    )\n",
    "    return queries, preds, outputs, context_inputs, context_outputs"
   ]
  },
  {
   "cell_type": "code",
   "execution_count": 8,
   "metadata": {},
   "outputs": [],
   "source": [
    "def mse(preds, outputs):\n",
    "    return np.mean((preds - outputs) ** 2)"
   ]
  },
  {
   "cell_type": "code",
   "execution_count": 9,
   "metadata": {},
   "outputs": [
    {
     "name": "stdout",
     "output_type": "stream",
     "text": [
      "(80, 1, 1) (80, 1) (80, 1)\n"
     ]
    }
   ],
   "source": [
    "queries, preds, outputs, context_inputs, context_outputs = get_result(\n",
    "    test_dataset, sequence_length=sequence_len\n",
    ")\n",
    "loss = mse(preds, outputs)\n",
    "print(queries.shape, preds.shape, outputs.shape)"
   ]
  },
  {
   "cell_type": "code",
   "execution_count": 10,
   "metadata": {},
   "outputs": [
    {
     "data": {
      "text/plain": [
       "Array(0.06893671, dtype=float32)"
      ]
     },
     "execution_count": 10,
     "metadata": {},
     "output_type": "execute_result"
    }
   ],
   "source": [
    "loss"
   ]
  },
  {
   "cell_type": "markdown",
   "metadata": {},
   "source": [
    "# Basic Prediction Result"
   ]
  },
  {
   "cell_type": "code",
   "execution_count": 11,
   "metadata": {},
   "outputs": [],
   "source": [
    "import matplotlib.pyplot as plt"
   ]
  },
  {
   "cell_type": "code",
   "execution_count": 12,
   "metadata": {},
   "outputs": [
    {
     "data": {
      "text/plain": [
       "Text(0, 0.5, 'output')"
      ]
     },
     "execution_count": 12,
     "metadata": {},
     "output_type": "execute_result"
    },
    {
     "data": {
      "image/png": "[encoded data removed]",
      "text/plain": [
       "<Figure size 640x480 with 1 Axes>"
      ]
     },
     "metadata": {},
     "output_type": "display_data"
    }
   ],
   "source": [
    "context_len = config.learner_config.dataset_config.dataset_wrapper.kwargs.context_len\n",
    "plt.scatter(queries[context_len:], preds[context_len:], label=\"prediction\")\n",
    "plt.scatter(queries[context_len:], outputs[context_len:], label=\"ground truth\")\n",
    "plt.legend()\n",
    "plt.xlabel(\"input\")\n",
    "plt.ylabel(\"output\")"
   ]
  },
  {
   "cell_type": "code",
   "execution_count": 13,
   "metadata": {},
   "outputs": [],
   "source": [
    "def get_latent(dataset, sequence_length):\n",
    "    context_inputs, context_outputs, queries, outputs = [], [], [], []\n",
    "    for seq_i in range(sequence_length):\n",
    "        context_input, context_output, query, output = dataset[seq_i]\n",
    "        context_inputs.append(context_input)\n",
    "        context_outputs.append(context_output)\n",
    "        queries.append(query)\n",
    "        outputs.append(output)\n",
    "    context_inputs = np.stack(context_inputs)\n",
    "    context_outputs = np.stack(context_outputs)\n",
    "    queries = np.stack(queries)\n",
    "    outputs = np.stack(outputs)\n",
    "\n",
    "    latent, _ = model.get_latent(\n",
    "        params[CONST_MODEL_DICT][CONST_MODEL],\n",
    "        queries,\n",
    "        {\n",
    "            CONST_CONTEXT_INPUT: context_inputs,\n",
    "            CONST_CONTEXT_OUTPUT: context_outputs,\n",
    "        },\n",
    "    )\n",
    "    return queries, latent[:, -1]"
   ]
  },
  {
   "cell_type": "code",
   "execution_count": 14,
   "metadata": {},
   "outputs": [
    {
     "name": "stdout",
     "output_type": "stream",
     "text": [
      "(80, 1, 1) (80, 64)\n"
     ]
    }
   ],
   "source": [
    "queries, latents = get_latent(test_dataset, sequence_length=sequence_len)\n",
    "print(queries.shape, latents.shape)"
   ]
  },
  {
   "cell_type": "code",
   "execution_count": 15,
   "metadata": {},
   "outputs": [],
   "source": [
    "from jaxl.utils import l2_norm"
   ]
  },
  {
   "cell_type": "code",
   "execution_count": 16,
   "metadata": {},
   "outputs": [
    {
     "name": "stdout",
     "output_type": "stream",
     "text": [
      "[-8.70445251e+01 -4.92759466e+00 -1.86562119e+01 -5.30103259e-02\n",
      "  1.38190918e+01  3.70041966e-01 -1.41877575e+01 -6.86497345e+01\n",
      " -9.60862255e+00  3.27395976e-01 -2.21627206e-01  4.60476723e+01\n",
      "  3.24487686e-04 -8.30300293e+01 -6.01868858e+01 -2.06613045e+01\n",
      "  5.92973852e+00  1.43881168e+01  3.13285789e+01 -2.86045685e+01\n",
      "  5.33899355e+00 -4.43501631e-03 -1.74550724e+01  6.39002398e-02\n",
      " -6.70036972e-02 -1.10124121e+01 -6.41341114e+00 -4.70775070e+01\n",
      "  3.10451753e-04  2.57284279e+01 -6.34907532e+01 -2.36261985e-04\n",
      "  5.30854034e+01  3.52241492e+00 -6.84609473e-01 -4.80400229e+00\n",
      "  1.05822548e-01  3.65287552e+01  1.54533577e+01  2.20875168e+01\n",
      " -1.36101227e+01  1.73424572e-01  1.12566829e+00 -4.38309908e-02\n",
      "  1.78348083e+01 -3.60394168e+00  6.67270126e+01 -5.07296791e+01\n",
      " -2.37078934e+01 -3.20220669e-03 -2.96034317e+01  2.16853180e+01\n",
      "  3.46095390e+01 -6.05618019e+01 -9.58636589e-03  1.83653030e+01\n",
      " -1.16213818e+01  4.52449684e+01 -1.96898003e+01  3.48247923e-02\n",
      "  3.45666351e+01 -1.54455268e+00 -3.81142883e+01  8.18389359e+01]\n",
      "[-1.2774146  -0.38262463 -0.35359955 -2.3458953  -1.9340227  -3.1674645\n",
      " -3.1396348  -2.8057992  -2.4769418  -2.885169   -2.6367826  -2.5302906\n",
      " -2.5526726  -1.4672914  -2.7746906  -2.739866   -2.5985587  -3.4695399\n",
      " -3.0068202  -3.113517   -1.2416788  -3.4486692  -2.784584   -2.8161354\n",
      " -2.5306668  -1.1500101  -3.1321921  -3.2398367  -3.2083244  -2.986558\n",
      " -2.6725297  -3.1198523  -3.509296   -3.159885   -3.2763944  -3.441864\n",
      " -3.5515466  -3.370015   -2.721623   -3.0121276  -1.9842973  -2.6890812\n",
      " -2.5922992  -3.1490395  -2.5960162  -3.0401838  -3.1081061  -2.8005023\n",
      " -1.705127   -3.358307   -2.7550735  -2.4676285  -3.2748604  -2.8522885\n",
      " -2.7469563  -2.4343224  -2.748752   -1.9528303  -2.6905987  -1.4708488\n",
      " -2.8377457  -2.5578604  -2.6708965  -2.7254815  -2.480526   -2.4478874\n",
      " -0.9983566  -1.3995795  -2.6846306  -2.6322737  -1.7671051  -3.077404\n",
      " -0.7791848  -2.5614796  -1.5421557  -0.95299864 -2.4875302  -2.9169827\n",
      " -2.7579355  -2.625002  ]\n",
      "[[-1.1872857   0.18539365  0.23588823 ...  0.19802257 -1.0108957\n",
      "   0.64262706]\n",
      " [-1.1806214   0.20766401  0.04771093 ...  0.2762379  -0.9761778\n",
      "   0.6876269 ]\n",
      " [-1.0499513   0.21629214  0.15367803 ...  0.32319674 -1.0390708\n",
      "   0.56830955]\n",
      " ...\n",
      " [-1.2601755   0.08066306 -0.2574587  ...  0.29204753 -0.5996658\n",
      "   0.98116225]\n",
      " [-1.031949   -0.0672285  -0.3839126  ... -0.19126868 -0.17998719\n",
      "   1.3122729 ]\n",
      " [-1.2834493   0.09184968 -0.16524963 ...  0.30454645 -0.74045897\n",
      "   0.89274496]]\n"
     ]
    }
   ],
   "source": [
    "print(np.sum(latents, axis=0))\n",
    "print(np.sum(latents, axis=1))\n",
    "print(latents)"
   ]
  },
  {
   "cell_type": "code",
   "execution_count": 23,
   "metadata": {},
   "outputs": [
    {
     "data": {
      "text/plain": [
       "13"
      ]
     },
     "execution_count": 23,
     "metadata": {},
     "output_type": "execute_result"
    }
   ],
   "source": [
    "len(\n",
    "    np.where(\n",
    "        np.abs(params[\"model_dict\"][\"model\"][\"predictor\"][\"params\"][\"kernel\"]) < 1e-3\n",
    "    )[0]\n",
    ")"
   ]
  },
  {
   "cell_type": "code",
   "execution_count": 24,
   "metadata": {},
   "outputs": [
    {
     "data": {
      "text/plain": [
       "(64, 1)"
      ]
     },
     "execution_count": 24,
     "metadata": {},
     "output_type": "execute_result"
    }
   ],
   "source": [
    "params[\"model_dict\"][\"model\"][\"predictor\"][\"params\"][\"kernel\"].shape"
   ]
  },
  {
   "cell_type": "code",
   "execution_count": 25,
   "metadata": {},
   "outputs": [
    {
     "data": {
      "text/plain": [
       "64"
      ]
     },
     "execution_count": 25,
     "metadata": {},
     "output_type": "execute_result"
    }
   ],
   "source": [
    "model.embed_dim"
   ]
  },
  {
   "cell_type": "code",
   "execution_count": 26,
   "metadata": {},
   "outputs": [
    {
     "data": {
      "text/plain": [
       "20"
      ]
     },
     "execution_count": 26,
     "metadata": {},
     "output_type": "execute_result"
    }
   ],
   "source": [
    "context_len"
   ]
  },
  {
   "cell_type": "code",
   "execution_count": null,
   "metadata": {},
   "outputs": [],
   "source": []
  }
 ],
 "metadata": {
  "kernelspec": {
   "display_name": ".venv",
   "language": "python",
   "name": "python3"
  },
  "language_info": {
   "codemirror_mode": {
    "name": "ipython",
    "version": 3
   },
   "file_extension": ".py",
   "mimetype": "text/x-python",
   "name": "python",
   "nbconvert_exporter": "python",
   "pygments_lexer": "ipython3",
   "version": "3.9.17"
  },
  "orig_nbformat": 4
 },
 "nbformat": 4,
 "nbformat_minor": 2
}
