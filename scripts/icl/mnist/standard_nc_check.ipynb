{
 "cells": [
  {
   "cell_type": "markdown",
   "metadata": {},
   "source": [
    "# Check Neural Collapse in Standard Training"
   ]
  },
  {
   "cell_type": "code",
   "execution_count": null,
   "metadata": {},
   "outputs": [],
   "source": [
    "from jaxl.constants import *\n",
    "from jaxl.datasets.mnist import construct_mnist\n",
    "from jaxl.datasets.wrappers import StandardSupervisedDataset\n",
    "from jaxl.models import get_model\n",
    "from jaxl.models.common import get_activation\n",
    "from jaxl.models.modules import CNNModule, MLPModule\n",
    "from jaxl.plot_utils import set_size\n",
    "from jaxl.utils import parse_dict, get_device\n",
    "\n",
    "import _pickle as pickle\n",
    "import argparse\n",
    "import jax\n",
    "import jax.random as jrandom\n",
    "import json\n",
    "import matplotlib.pyplot as plt\n",
    "import numpy as np\n",
    "import os\n",
    "import torchvision.datasets as torch_datasets\n",
    "\n",
    "from collections import OrderedDict\n",
    "from functools import partial\n",
    "from orbax.checkpoint import PyTreeCheckpointer, CheckpointManager\n",
    "from torch.utils.data import DataLoader\n",
    "from types import SimpleNamespace"
   ]
  },
  {
   "cell_type": "code",
   "execution_count": null,
   "metadata": {},
   "outputs": [],
   "source": [
    "# device = \"cpu\"\n",
    "device = \"gpu:0\"\n",
    "get_device(device)"
   ]
  },
  {
   "cell_type": "code",
   "execution_count": null,
   "metadata": {},
   "outputs": [],
   "source": [
    "doc_width_pt = 750.0\n",
    "\n",
    "# learner_path = \"/Users/chanb/research/personal/jaxl/{}\".format(\n",
    "#     # \"jaxl/logs/nc-mnist/cnn-01-19-24_19_37_18-8c04f541-01bc-4346-be64-5581bceb4cc2\"\n",
    "#     # \"jaxl/logs/nc-mnist/cnn-01-20-24_13_07_31-33ace545-993f-4c19-880d-7b5160b37403\"\n",
    "#     # \"jaxl/logs/nc-mnist/cnn-01-20-24_16_22_52-7a22c1a3-7367-41aa-a9c6-80c545836bbd\"\n",
    "#     # \"jaxl/logs/nc-mnist/cnn-01-20-24_18_14_43-62e223df-3f90-4360-b4f6-a7324c0d214f\"\n",
    "#     \"jaxl/logs/nc-mnist/cnn-dim_2-deeper-01-21-24_19_23_29-709584d1-9fec-41dc-bd84-995acd69953a\"\n",
    "#     # \"jaxl/logs/nc-mnist/cnn-dim_10-01-21-24_19_19_07-86bb075d-6689-4244-b86b-f3dde0955be2\"\n",
    "# )\n",
    "\n",
    "base_path = \"/home/bryanpu1/projects/icl/jaxl/\"\n",
    "log_path = os.path.join(base_path, \"jaxl/logs\")\n",
    "project_name = \"mnist\"\n",
    "ablation_name = \"baselines\"\n",
    "run_name = (\n",
    "    \"cnn-03-03-24_10_15_33-7d44f7f8-e81d-4204-9433-f78523cddb11\"\n",
    ")\n",
    "\n",
    "learner_path = os.path.join(\n",
    "    log_path,\n",
    "    project_name,\n",
    "    ablation_name,\n",
    "    run_name,\n",
    ")\n",
    "\n",
    "exp_name = \"-\".join(learner_path.split(\"/\")[-1].split(\"-\")[:-8])"
   ]
  },
  {
   "cell_type": "code",
   "execution_count": null,
   "metadata": {},
   "outputs": [],
   "source": [
    "def load_model(learner_path: str):\n",
    "    config_path = os.path.join(learner_path, \"config.json\")\n",
    "    with open(config_path, \"r\") as f:\n",
    "        config_dict = json.load(f)\n",
    "        config = parse_dict(config_dict)\n",
    "\n",
    "    model = get_model((1, 28, 28), (10,), config.model_config)\n",
    "\n",
    "    checkpoint_manager = CheckpointManager(\n",
    "        os.path.join(learner_path, \"models\"),\n",
    "        PyTreeCheckpointer(),\n",
    "    )\n",
    "\n",
    "    params = checkpoint_manager.restore(checkpoint_manager.latest_step())\n",
    "    # all_params = [\n",
    "    #     (step, checkpoint_manager.restore(step))\n",
    "    #     for step in checkpoint_manager.all_steps()\n",
    "    # ]\n",
    "    all_params = None\n",
    "    return params, model, config, all_params"
   ]
  },
  {
   "cell_type": "code",
   "execution_count": null,
   "metadata": {},
   "outputs": [],
   "source": [
    "params, model, config, all_params = load_model(learner_path)"
   ]
  },
  {
   "cell_type": "code",
   "execution_count": null,
   "metadata": {},
   "outputs": [],
   "source": [
    "config"
   ]
  },
  {
   "cell_type": "code",
   "execution_count": null,
   "metadata": {},
   "outputs": [],
   "source": [
    "mnist_path = \"/home/bryanpu1/projects/jaxl/\"\n",
    "train_dataset = StandardSupervisedDataset(\n",
    "    construct_mnist(\n",
    "        mnist_path,\n",
    "        train=True,\n",
    "    )\n",
    ")\n",
    "\n",
    "test_dataset = StandardSupervisedDataset(\n",
    "    construct_mnist(\n",
    "        mnist_path,\n",
    "        train=False,\n",
    "    )\n",
    ")"
   ]
  },
  {
   "cell_type": "markdown",
   "metadata": {},
   "source": [
    "# Test Performance"
   ]
  },
  {
   "cell_type": "code",
   "execution_count": null,
   "metadata": {},
   "outputs": [],
   "source": [
    "test_dataloader = DataLoader(\n",
    "    test_dataset,\n",
    "    batch_size=32,\n",
    "    shuffle=False,\n",
    "    drop_last=False,\n",
    ")"
   ]
  },
  {
   "cell_type": "code",
   "execution_count": null,
   "metadata": {},
   "outputs": [],
   "source": [
    "errors = []\n",
    "for batch_i, (inputs, _, labels, _) in enumerate(test_dataloader):\n",
    "    inputs = inputs.numpy()\n",
    "    labels = labels.numpy()\n",
    "    preds, _, _ = model.forward(\n",
    "        params[CONST_MODEL_DICT][CONST_MODEL],\n",
    "        inputs,\n",
    "        None,\n",
    "        eval=True,\n",
    "    )\n",
    "    output_preds = np.argmax(preds, axis=-1)\n",
    "    errors.append(output_preds != labels)\n",
    "errors = np.concatenate(errors)\n",
    "print(\"Test Accuracy: {}%\".format((1 - np.mean(errors)) * 100))\n",
    "\n",
    "pickle.dump(\n",
    "    errors, open(\"{}-standard_mnist-test-baseline-errors.pkl\".format(exp_name), \"wb\")\n",
    ")"
   ]
  },
  {
   "cell_type": "code",
   "execution_count": null,
   "metadata": {},
   "outputs": [],
   "source": [
    "print(model)"
   ]
  },
  {
   "cell_type": "markdown",
   "metadata": {},
   "source": [
    "# Get Latents"
   ]
  },
  {
   "cell_type": "code",
   "execution_count": null,
   "metadata": {},
   "outputs": [],
   "source": [
    "def get_latent(params, inputs, carries):\n",
    "    cnn_outs, cnn_states = CNNModule(\n",
    "        config.model_config.features,\n",
    "        config.model_config.kernel_sizes,\n",
    "        get_activation(CONST_RELU),\n",
    "    ).apply(\n",
    "        {\"params\": params[CONST_MODEL_DICT][CONST_MODEL][CONST_CNN][CONST_PARAMS]},\n",
    "        inputs,\n",
    "        capture_intermediates=True,\n",
    "        mutable=[\"cnn_latents\"],\n",
    "    )\n",
    "\n",
    "    cnn_outs = cnn_outs.reshape((len(cnn_outs), -1))\n",
    "\n",
    "    _, mlp_states = MLPModule(\n",
    "        config.model_config.layers,\n",
    "        get_activation(CONST_RELU),\n",
    "        get_activation(CONST_IDENTITY),\n",
    "    ).apply(\n",
    "        {\"params\": params[CONST_MODEL_DICT][CONST_MODEL][CONST_MLP][CONST_PARAMS]},\n",
    "        cnn_outs,\n",
    "        capture_intermediates=True,\n",
    "        mutable=[\"mlp_latents\"],\n",
    "    )\n",
    "\n",
    "    latents = OrderedDict()\n",
    "    for states, key in [\n",
    "        (cnn_states, \"cnn_latents\"),\n",
    "        (mlp_states, \"mlp_latents\"),\n",
    "    ]:\n",
    "        for state, state_val in states[key].items():\n",
    "            latents[state] = state_val\n",
    "    return latents"
   ]
  },
  {
   "cell_type": "code",
   "execution_count": null,
   "metadata": {},
   "outputs": [],
   "source": [
    "def plot(mlp_1_latents, labels, step):\n",
    "    os.makedirs(\"./imgs/{}\".format(exp_name), exist_ok=True)\n",
    "    nrows = 1\n",
    "    ncols = 2\n",
    "    fig, axes = plt.subplots(\n",
    "        nrows,\n",
    "        ncols,\n",
    "        figsize=set_size(doc_width_pt, 0.95, (nrows, ncols), False),\n",
    "        layout=\"constrained\",\n",
    "    )\n",
    "\n",
    "    unique_classes = np.unique(labels[\"train\"])\n",
    "\n",
    "    for ax_i, key in enumerate((\"train\", \"test\")):\n",
    "        for class_i in unique_classes:\n",
    "            class_idxes = np.where(labels[key] == class_i)[0]\n",
    "            axes[ax_i].scatter(\n",
    "                mlp_1_latents[key][class_idxes, 0],\n",
    "                mlp_1_latents[key][class_idxes, 1],\n",
    "                label=\"Class {}\".format(class_i) if ax_i == 0 else \"\",\n",
    "                alpha=0.5,\n",
    "                s=1,\n",
    "            )\n",
    "        axes[ax_i].set_title(key)\n",
    "    fig.legend()\n",
    "    fig.suptitle(\"Model @ epoch {}\".format(step))\n",
    "    fig.tight_layout()\n",
    "    plt.savefig(\n",
    "        \"./imgs/{}/nc-step_{:08d}.png\".format(exp_name, step),\n",
    "        format=\"png\",\n",
    "        bbox_inches=\"tight\",\n",
    "        dpi=600,\n",
    "    )\n",
    "    plt.close()"
   ]
  },
  {
   "cell_type": "code",
   "execution_count": null,
   "metadata": {},
   "outputs": [],
   "source": [
    "batch_size = 300\n",
    "train_dataloader = DataLoader(\n",
    "    train_dataset,\n",
    "    batch_size=batch_size,\n",
    "    shuffle=False,\n",
    "    drop_last=True,\n",
    ")\n",
    "\n",
    "test_dataloader = DataLoader(\n",
    "    test_dataset,\n",
    "    batch_size=batch_size,\n",
    "    shuffle=False,\n",
    "    drop_last=True,\n",
    ")"
   ]
  },
  {
   "cell_type": "code",
   "execution_count": null,
   "metadata": {},
   "outputs": [],
   "source": [
    "results = {}\n",
    "for step, params in all_params:\n",
    "    mlp_1_latents = {\n",
    "        \"train\": [],\n",
    "        \"test\": [],\n",
    "    }\n",
    "    labels = {\n",
    "        \"train\": [],\n",
    "        \"test\": [],\n",
    "    }\n",
    "    all_latents = {\"train\": {}, \"test\": {}}\n",
    "\n",
    "    for key, dataloader in ((\"train\", train_dataloader), (\"test\", test_dataloader)):\n",
    "        for batch_i, (inputs, carries, outputs, _) in enumerate(iter(dataloader)):\n",
    "            latents = get_latent(params, inputs, carries)\n",
    "            mlp_1_latents[key].append(\n",
    "                latents[\"mlp_{}\".format(len(config.model_config.layers) - 1)][0]\n",
    "            )\n",
    "            labels[key].append(outputs)\n",
    "            for k in latents:\n",
    "                all_latents[key].setdefault(k, [])\n",
    "                all_latents[key][k].append(latents[k][0])\n",
    "\n",
    "        mlp_1_latents[key] = np.concatenate(mlp_1_latents[key], axis=0)\n",
    "        labels[key] = np.concatenate(labels[key], axis=0)\n",
    "        all_latents[key] = {\n",
    "            k: np.concatenate(all_latents[key][k]) for k in all_latents[key]\n",
    "        }\n",
    "    plot(mlp_1_latents, labels, step)\n",
    "    results[step] = {\n",
    "        \"latents\": all_latents,\n",
    "        \"labels\": labels,\n",
    "    }"
   ]
  },
  {
   "cell_type": "code",
   "execution_count": null,
   "metadata": {},
   "outputs": [],
   "source": [
    "import imageio\n",
    "\n",
    "with imageio.get_writer(\n",
    "    \"./nc-{}.gif\".format(exp_name), mode=\"I\", duration=100\n",
    ") as writer:\n",
    "    img_dir = \"./imgs/{}\".format(exp_name)\n",
    "    for filename in sorted(os.listdir(img_dir)):\n",
    "        if not filename.startswith(\"nc-step\"):\n",
    "            continue\n",
    "        image = imageio.imread(os.path.join(img_dir, filename))\n",
    "        writer.append_data(image)"
   ]
  },
  {
   "cell_type": "markdown",
   "metadata": {},
   "source": [
    "# Check Neural Collapse Properties"
   ]
  },
  {
   "cell_type": "code",
   "execution_count": null,
   "metadata": {},
   "outputs": [],
   "source": [
    "nc_results = {}\n",
    "for step, step_res in results.items():\n",
    "    valid_classes = np.unique(step_res[\"labels\"][\"train\"])\n",
    "    nc_results.setdefault(step, {})\n",
    "    # for phase, phase_latents in step_res[\"latents\"].items():\n",
    "    for phase in [\"train\"]:\n",
    "        phase_latents = step_res[\"latents\"][phase]\n",
    "        for layer, curr_latents in phase_latents.items():\n",
    "            if layer.startswith(\"cnn\"):\n",
    "                continue\n",
    "            nc_results[step].setdefault(layer, {})\n",
    "            nc_results[step][layer][\"global_means\"] = np.mean(curr_latents, axis=0)\n",
    "            offset = (curr_latents - nc_results[step][layer][\"global_means\"][None])[\n",
    "                ..., None\n",
    "            ]\n",
    "            nc_results[step][layer][\"train_total_cov\"] = np.mean(\n",
    "                offset @ np.transpose(offset, (0, 2, 1)), axis=0\n",
    "            )\n",
    "\n",
    "            nc_results[step][layer][\"class_means\"] = {}\n",
    "            for class_i in valid_classes:\n",
    "                class_idxes = np.where(step_res[\"labels\"][phase] == class_i)[0]\n",
    "                nc_results[step][layer][\"class_means\"][class_i] = np.mean(\n",
    "                    curr_latents[class_idxes], axis=0\n",
    "                )\n",
    "            between_class_offset = np.vstack(\n",
    "                [\n",
    "                    nc_results[step][layer][\"class_means\"][class_i]\n",
    "                    - nc_results[step][layer][\"global_means\"]\n",
    "                    for class_i in valid_classes\n",
    "                ]\n",
    "            )[..., None]\n",
    "            nc_results[step][layer][\"between_class_cov\"] = np.mean(\n",
    "                between_class_offset @ np.transpose(between_class_offset, (0, 2, 1)),\n",
    "                axis=0,\n",
    "            )\n",
    "            nc_results[step][layer][\"within_class_cov\"] = np.mean(\n",
    "                np.concatenate(\n",
    "                    [\n",
    "                        curr_latents[np.where(step_res[\"labels\"][phase] == class_i)[0]]\n",
    "                        - nc_results[step][layer][\"class_means\"][class_i][None]\n",
    "                        for class_i in valid_classes\n",
    "                    ],\n",
    "                    axis=0,\n",
    "                ),\n",
    "                axis=0,\n",
    "            )"
   ]
  },
  {
   "cell_type": "code",
   "execution_count": null,
   "metadata": {},
   "outputs": [],
   "source": [
    "jax.tree_map(lambda x: x.shape, nc_results[step])"
   ]
  },
  {
   "cell_type": "markdown",
   "metadata": {},
   "source": [
    "## NC1"
   ]
  },
  {
   "cell_type": "code",
   "execution_count": null,
   "metadata": {},
   "outputs": [],
   "source": [
    "nrows = len(nc_results[1])\n",
    "ncols = 1\n",
    "fig, axes = plt.subplots(\n",
    "    nrows,\n",
    "    ncols,\n",
    "    figsize=set_size(doc_width_pt, 0.95, (nrows, ncols), False),\n",
    "    layout=\"constrained\",\n",
    ")\n",
    "\n",
    "\n",
    "for ax_i, layer in enumerate(nc_results[1]):\n",
    "    within_class_cov = np.array(\n",
    "        [nc_results[step][layer][\"within_class_cov\"] for step in nc_results]\n",
    "    )\n",
    "    for dim_i in range(within_class_cov.shape[1]):\n",
    "        axes[ax_i].plot(\n",
    "            nc_results.keys(), within_class_cov[:, dim_i], label=\"dim. {}\".format(dim_i)\n",
    "        )\n",
    "    axes[ax_i].set_title(layer)\n",
    "    axes[ax_i].legend()\n",
    "fig.suptitle(\"NC 1 Condition\")\n",
    "plt.show()\n",
    "plt.close()"
   ]
  },
  {
   "cell_type": "code",
   "execution_count": null,
   "metadata": {},
   "outputs": [],
   "source": []
  }
 ],
 "metadata": {
  "kernelspec": {
   "display_name": ".venv",
   "language": "python",
   "name": "python3"
  },
  "language_info": {
   "codemirror_mode": {
    "name": "ipython",
    "version": 3
   },
   "file_extension": ".py",
   "mimetype": "text/x-python",
   "name": "python",
   "nbconvert_exporter": "python",
   "pygments_lexer": "ipython3",
   "version": "3.9.18"
  }
 },
 "nbformat": 4,
 "nbformat_minor": 2
}
