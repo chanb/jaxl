{
 "cells": [
  {
   "cell_type": "code",
   "execution_count": null,
   "metadata": {},
   "outputs": [],
   "source": [
    "import jax\n",
    "import jax.numpy as jnp\n",
    "import jax.random as jrandom\n",
    "import numpy as np\n",
    "import os\n",
    "\n",
    "from penzai import pz\n",
    "from tqdm.notebook import tqdm\n",
    "\n",
    "from jaxl.constants import *\n",
    "from jaxl.models.utils import get_model, load_config, load_params, get_wsrl_model\n",
    "from jaxl.models.policies import get_policy, policy_output_dim\n",
    "from jaxl.buffers import get_buffer\n",
    "from jaxl.utils import get_device, parse_dict\n",
    "\n",
    "import IPython\n",
    "\n",
    "pz.ts.register_as_default()\n",
    "\n",
    "# Optional automatic array visualization extras:\n",
    "pz.ts.register_autovisualize_magic()\n",
    "pz.enable_interactive_context()\n",
    "pz.ts.active_autovisualizer.set_interactive(pz.ts.ArrayAutovisualizer())\n",
    "\n",
    "get_device(\"gpu:0\")"
   ]
  },
  {
   "cell_type": "code",
   "execution_count": null,
   "metadata": {},
   "outputs": [],
   "source": [
    "result_dir = \"/home/bryan/research/jaxl/logs/manipulator_learning\"\n",
    "\n",
    "ablation_name = \"stack\"\n",
    "learner_name = \"bc-10k_steps-06-04-24_10_06_35-333b32a8-c019-4fed-9b8f-1ce59166bb2b\"\n",
    "\n",
    "learner_path = os.path.join(result_dir, ablation_name, learner_name)"
   ]
  },
  {
   "cell_type": "code",
   "execution_count": null,
   "metadata": {},
   "outputs": [],
   "source": [
    "_, config = load_config(learner_path)\n",
    "config"
   ]
  },
  {
   "cell_type": "code",
   "execution_count": null,
   "metadata": {},
   "outputs": [],
   "source": [
    "buffer_config = parse_dict(dict(\n",
    "    load_buffer='/home/bryan/research/lfgp/lfgp_data/custom_expert_data/stack/1000000_steps_no_extra_final/int_0.gz',\n",
    "    buffer_type='default',\n",
    "    set_size=False,\n",
    "))"
   ]
  },
  {
   "cell_type": "code",
   "execution_count": null,
   "metadata": {},
   "outputs": [],
   "source": [
    "buffer = get_buffer(buffer_config)"
   ]
  },
  {
   "cell_type": "code",
   "execution_count": null,
   "metadata": {},
   "outputs": [],
   "source": [
    "model_out_dim = policy_output_dim(buffer.act_dim, config.learner_config)\n",
    "\n",
    "if config.learner_config.learner == CONST_BC:\n",
    "    model = get_model(\n",
    "        int(np.prod(buffer.input_dim)),\n",
    "        buffer.act_dim,\n",
    "        config.model_config\n",
    "    )\n",
    "    include_absorbing_state = True\n",
    "elif config.learner_config.task == CONST_WSRL:\n",
    "    model = get_wsrl_model(\n",
    "        int(np.prod(buffer.input_dim)),\n",
    "        model_out_dim,\n",
    "        config.model_config.policy\n",
    "    )\n",
    "    include_absorbing_state = True\n",
    "else:\n",
    "    model = get_model(\n",
    "        int(np.prod(buffer.input_dim)) - 1,\n",
    "        model_out_dim,\n",
    "        config.model_config.policy\n",
    "    )\n",
    "    include_absorbing_state = False\n",
    "params = load_params(f\"{learner_path}:latest\")"
   ]
  },
  {
   "cell_type": "markdown",
   "metadata": {},
   "source": [
    "## Visualize Parameters"
   ]
  },
  {
   "cell_type": "code",
   "execution_count": null,
   "metadata": {},
   "outputs": [],
   "source": [
    "import IPython\n",
    "\n",
    "pz.ts.register_as_default()\n",
    "\n",
    "# Optional automatic array visualization extras:\n",
    "pz.ts.register_autovisualize_magic()\n",
    "pz.enable_interactive_context()\n",
    "pz.ts.active_autovisualizer.set_interactive(pz.ts.ArrayAutovisualizer())\n",
    "\n",
    "def my_continuous_autovisualizer(\n",
    "    value,\n",
    "    path,\n",
    "):\n",
    "  if isinstance(value, (np.ndarray, pz.nx.NamedArray)):\n",
    "    return pz.ts.IPythonVisualization(\n",
    "        pz.ts.render_array(value, continuous=True, around_zero=False))\n",
    "  \n",
    "with pz.ts.active_autovisualizer.set_scoped(\n",
    "    my_continuous_autovisualizer\n",
    "):\n",
    "  IPython.display.display({\n",
    "    \"/\".join([curr_kp.key for curr_kp in kp]): pz.nx.wrap(val) for (kp, val) in jax.tree_util.tree_flatten_with_path(params[\"model_dict\"][\"model\"][\"policy\"])[0]\n",
    "})"
   ]
  },
  {
   "cell_type": "markdown",
   "metadata": {},
   "source": [
    "## Check Dormant"
   ]
  },
  {
   "cell_type": "code",
   "execution_count": null,
   "metadata": {},
   "outputs": [],
   "source": [
    "obss = buffer.sample(256)[0]"
   ]
  },
  {
   "cell_type": "code",
   "execution_count": null,
   "metadata": {},
   "outputs": [],
   "source": [
    "out, state = model.model.apply(params[CONST_MODEL_DICT][CONST_MODEL][CONST_POLICY], obss, capture_intermediates=True, mutable=[\"intermediates\"], eval=True)"
   ]
  },
  {
   "cell_type": "code",
   "execution_count": null,
   "metadata": {},
   "outputs": [],
   "source": [
    "res = dict()\n",
    "for (kp, val) in jax.tree_util.tree_flatten_with_path(state[\"intermediates\"])[0]:\n",
    "    per_neuron_score = jnp.mean(jnp.abs(val), axis=0)\n",
    "    res[\"/\".join([curr_kp.key if hasattr(curr_kp, \"key\") else str(curr_kp.idx) for curr_kp in kp])] = (per_neuron_score / jnp.mean(per_neuron_score, axis=-1)).reshape((4, -1))\n",
    "    print(jnp.min(res[\"/\".join([curr_kp.key if hasattr(curr_kp, \"key\") else str(curr_kp.idx) for curr_kp in kp])]))"
   ]
  },
  {
   "cell_type": "code",
   "execution_count": null,
   "metadata": {},
   "outputs": [],
   "source": [
    "res"
   ]
  },
  {
   "cell_type": "code",
   "execution_count": null,
   "metadata": {},
   "outputs": [],
   "source": []
  }
 ],
 "metadata": {
  "kernelspec": {
   "display_name": "Python 3 (ipykernel)",
   "language": "python",
   "name": "python3"
  },
  "language_info": {
   "codemirror_mode": {
    "name": "ipython",
    "version": 3
   },
   "file_extension": ".py",
   "mimetype": "text/x-python",
   "name": "python",
   "nbconvert_exporter": "python",
   "pygments_lexer": "ipython3",
   "version": "3.10.12"
  }
 },
 "nbformat": 4,
 "nbformat_minor": 4
}
