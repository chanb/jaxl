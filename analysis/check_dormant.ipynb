{
 "cells": [
  {
   "cell_type": "code",
   "execution_count": null,
   "metadata": {},
   "outputs": [],
   "source": [
    "import jax\n",
    "import jax.numpy as jnp\n",
    "import jax.random as jrandom\n",
    "import numpy as np\n",
    "import os\n",
    "\n",
    "from penzai import pz\n",
    "from tqdm.notebook import tqdm\n",
    "\n",
    "from jaxl.constants import *\n",
    "from jaxl.models.utils import get_model, load_config, load_params, get_wsrl_model\n",
    "from jaxl.models.policies import get_policy, policy_output_dim\n",
    "from jaxl.buffers import get_buffer\n",
    "from jaxl.utils import get_device, parse_dict\n",
    "\n",
    "import IPython\n",
    "\n",
    "pz.ts.register_as_default()\n",
    "\n",
    "# Optional automatic array visualization extras:\n",
    "pz.ts.register_autovisualize_magic()\n",
    "pz.enable_interactive_context()\n",
    "pz.ts.active_autovisualizer.set_interactive(pz.ts.ArrayAutovisualizer())\n",
    "\n",
    "get_device(\"gpu:0\")"
   ]
  },
  {
   "cell_type": "code",
   "execution_count": null,
   "metadata": {},
   "outputs": [],
   "source": [
    "result_dir = \"/home/bryan/research/jaxl/logs/manipulator_learning\"\n",
    "\n",
    "ablation_name = \"stack\"\n",
    "# learner_name = \"bc-10k_steps-06-04-24_10_06_35-333b32a8-c019-4fed-9b8f-1ce59166bb2b\"\n",
    "learner_name = \"warm_start_policy_evaluation-06-05-24_10_50_37-f9950c16-2b62-4078-85fd-2e43f5e6d1ed\"\n",
    "\n",
    "learner_path = os.path.join(result_dir, ablation_name, learner_name)"
   ]
  },
  {
   "cell_type": "code",
   "execution_count": null,
   "metadata": {},
   "outputs": [],
   "source": [
    "_, config = load_config(learner_path)\n",
    "config"
   ]
  },
  {
   "cell_type": "code",
   "execution_count": null,
   "metadata": {},
   "outputs": [],
   "source": [
    "buffer_config = parse_dict(dict(\n",
    "    load_buffer='/home/bryan/research/lfgp/lfgp_data/custom_expert_data/stack/1000000_steps_no_extra_final/int_0.gz',\n",
    "    buffer_type='default',\n",
    "    set_size=False,\n",
    "))"
   ]
  },
  {
   "cell_type": "code",
   "execution_count": null,
   "metadata": {},
   "outputs": [],
   "source": [
    "buffer = get_buffer(buffer_config)"
   ]
  },
  {
   "cell_type": "code",
   "execution_count": null,
   "metadata": {},
   "outputs": [],
   "source": [
    "model_out_dim = policy_output_dim(buffer.act_dim, config.learner_config)\n",
    "\n",
    "param_key = CONST_POLICY\n",
    "if config.learner_config.learner == CONST_BC:\n",
    "    model = get_model(\n",
    "        int(np.prod(buffer.input_dim)),\n",
    "        buffer.act_dim,\n",
    "        config.model_config\n",
    "    )\n",
    "    include_absorbing_state = True\n",
    "elif config.learner_config.task == CONST_WSRL:\n",
    "    if config.learner_config.learner == CONST_POLICY_EVALUATION:\n",
    "        model = get_model(\n",
    "            int(np.prod(buffer.input_dim)),\n",
    "            (1,),\n",
    "            config.model_config.vf\n",
    "        )\n",
    "        include_absorbing_state = True\n",
    "        param_key = CONST_VF\n",
    "    else:\n",
    "        model = get_wsrl_model(\n",
    "            int(np.prod(buffer.input_dim)),\n",
    "            model_out_dim,\n",
    "            config.model_config.policy\n",
    "        )\n",
    "        include_absorbing_state = True\n",
    "else:\n",
    "    model = get_model(\n",
    "        int(np.prod(buffer.input_dim)) - 1,\n",
    "        model_out_dim,\n",
    "        config.model_config.policy\n",
    "    )\n",
    "    include_absorbing_state = False\n",
    "\n",
    "params = load_params(f\"{learner_path}:latest\")"
   ]
  },
  {
   "cell_type": "markdown",
   "metadata": {},
   "source": [
    "## Check Dormant"
   ]
  },
  {
   "cell_type": "code",
   "execution_count": null,
   "metadata": {},
   "outputs": [],
   "source": [
    "obss = buffer.sample(256)[0]\n",
    "\n",
    "if not include_absorbing_state:\n",
    "    obss = obss[..., :-1]\n",
    "\n",
    "print(obss.shape)"
   ]
  },
  {
   "cell_type": "code",
   "execution_count": null,
   "metadata": {},
   "outputs": [],
   "source": [
    "out, state = model.model.apply(params[CONST_MODEL_DICT][CONST_MODEL][CONST_VF], obss, capture_intermediates=True, mutable=[\"intermediates\"], eval=True)"
   ]
  },
  {
   "cell_type": "code",
   "execution_count": null,
   "metadata": {},
   "outputs": [],
   "source": [
    "res = dict()\n",
    "for (kp, val) in jax.tree_util.tree_flatten_with_path(state[\"intermediates\"])[0]:\n",
    "    if getattr(kp[0], \"key\", False) == \"__call__\":\n",
    "        continue\n",
    "    per_neuron_score = jnp.mean(jnp.abs(val), axis=0)\n",
    "    curr_key = \"/\".join([curr_kp.key if hasattr(curr_kp, \"key\") else str(curr_kp.idx) for curr_kp in kp][:-2])\n",
    "    res[curr_key] = (per_neuron_score / jnp.mean(per_neuron_score, axis=-1))\n",
    "    if np.prod(res[curr_key].shape) % 4 == 0:\n",
    "        res[curr_key] = res[curr_key].reshape((4, -1))\n"
   ]
  },
  {
   "cell_type": "code",
   "execution_count": null,
   "metadata": {},
   "outputs": [],
   "source": [
    "res"
   ]
  },
  {
   "cell_type": "code",
   "execution_count": null,
   "metadata": {},
   "outputs": [],
   "source": [
    "np.mean(out)"
   ]
  },
  {
   "cell_type": "code",
   "execution_count": null,
   "metadata": {},
   "outputs": [],
   "source": [
    "\n",
    "for (kp, val) in jax.tree_util.tree_flatten_with_path(params[CONST_MODEL_DICT][CONST_MODEL][CONST_POLICY])[0]:\n",
    "    print(kp, val.shape)\n",
    "    "
   ]
  },
  {
   "cell_type": "markdown",
   "metadata": {},
   "source": [
    "## Visualize Parameters"
   ]
  },
  {
   "cell_type": "code",
   "execution_count": null,
   "metadata": {},
   "outputs": [],
   "source": [
    "{\n",
    "    \"/\".join([curr_kp.key for curr_kp in kp]): pz.nx.wrap(val) for (kp, val) in jax.tree_util.tree_flatten_with_path(params[\"model_dict\"][\"model\"][\"policy\"])[0]\n",
    "}"
   ]
  }
 ],
 "metadata": {
  "kernelspec": {
   "display_name": "Python 3 (ipykernel)",
   "language": "python",
   "name": "python3"
  },
  "language_info": {
   "codemirror_mode": {
    "name": "ipython",
    "version": 3
   },
   "file_extension": ".py",
   "mimetype": "text/x-python",
   "name": "python",
   "nbconvert_exporter": "python",
   "pygments_lexer": "ipython3",
   "version": "3.10.12"
  }
 },
 "nbformat": 4,
 "nbformat_minor": 4
}
