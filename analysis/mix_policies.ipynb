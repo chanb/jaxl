{
 "cells": [
  {
   "cell_type": "code",
   "execution_count": 1,
   "metadata": {},
   "outputs": [],
   "source": [
    "import jax.random as jrandom\n",
    "import numpy as np\n",
    "import os\n",
    "\n",
    "from tqdm.notebook import tqdm\n",
    "\n",
    "from jaxl.constants import *\n",
    "from jaxl.models.utils import get_model, load_config, load_params, get_wsrl_model, iterate_params, get_policy, policy_output_dim\n",
    "from jaxl.models.policies import Policy\n",
    "from jaxl.envs import get_environment\n",
    "from jaxl.envs.rollouts import EvaluationRollout\n",
    "from jaxl.utils import get_device, parse_dict\n",
    "\n",
    "get_device(\"gpu:0\")"
   ]
  },
  {
   "cell_type": "code",
   "execution_count": 2,
   "metadata": {},
   "outputs": [
    {
     "name": "stderr",
     "output_type": "stream",
     "text": [
      "pybullet build time: Nov 28 2023 23:45:17\n",
      "EGL device choice: -1 of 4.\n"
     ]
    },
    {
     "name": "stdout",
     "output_type": "stream",
     "text": [
      "Loaded EGL 1.5 after reload.\n",
      "GL_VENDOR=NVIDIA Corporation\n",
      "GL_RENDERER=Quadro RTX 5000 with Max-Q Design/PCIe/SSE2\n",
      "GL_VERSION=3.3.0 NVIDIA 535.171.04\n",
      "GL_SHADING_LANGUAGE_VERSION=3.30 NVIDIA via Cg compiler\n",
      "Version = 3.3.0 NVIDIA 535.171.04\n",
      "Vendor = NVIDIA Corporation\n",
      "Renderer = Quadro RTX 5000 with Max-Q Design/PCIe/SSE2\n"
     ]
    }
   ],
   "source": [
    "env_config = {\n",
    "    \"env_type\": \"manipulator_learning\",\n",
    "    \"env_name\": \"PandaPlayInsertTrayXYZState\",\n",
    "    \"env_kwargs\": {\n",
    "        \"main_task\": \"stack\",\n",
    "        \"dense_reward\": False\n",
    "    }\n",
    "}\n",
    "env = get_environment(parse_dict(env_config))"
   ]
  },
  {
   "cell_type": "code",
   "execution_count": 3,
   "metadata": {},
   "outputs": [],
   "source": [
    "def load_pretrained(learner_path: str, env):\n",
    "    _, config = load_config(learner_path)\n",
    "    model_out_dim = policy_output_dim(env.act_dim, config.learner_config)\n",
    "\n",
    "    if config.learner_config.learner == CONST_BC:\n",
    "        model = get_model(\n",
    "            int(np.prod(env.observation_space.shape)) + 1,\n",
    "            env.act_dim,\n",
    "            config.model_config\n",
    "        )\n",
    "        include_absorbing_state = True\n",
    "    elif config.learner_config.task == CONST_WSRL:\n",
    "        model = get_wsrl_model(\n",
    "            env.observation_space.shape,\n",
    "            model_out_dim,\n",
    "            config.model_config.policy\n",
    "        )\n",
    "        include_absorbing_state = True\n",
    "    else:\n",
    "        model = get_model(\n",
    "            env.observation_space.shape,\n",
    "            model_out_dim,\n",
    "            config.model_config.policy\n",
    "        )\n",
    "        include_absorbing_state = False\n",
    "    params = load_params(f\"{learner_path}:latest\")\n",
    "\n",
    "    policy = get_policy(model, config.learner_config)\n",
    "\n",
    "    return {\n",
    "        CONST_POLICY: policy,\n",
    "        CONST_PARAMS: params[CONST_MODEL_DICT][CONST_MODEL][CONST_POLICY],\n",
    "        \"include_absorbing_state\": include_absorbing_state\n",
    "    }\n"
   ]
  },
  {
   "cell_type": "code",
   "execution_count": 4,
   "metadata": {},
   "outputs": [],
   "source": [
    "result_dir = \"/home/bryan/research/jaxl/logs/manipulator_learning\"\n",
    "\n",
    "ablation_name = \"stack\"\n",
    "learner_names = [\n",
    "    \"bc-100k_steps-06-04-24_09_57_35-e8bd5a54-9148-41a9-ace8-f33c5cfbab9f\",\n",
    "    \"bc-10k_steps-06-04-24_10_06_35-333b32a8-c019-4fed-9b8f-1ce59166bb2b\"\n",
    "]\n",
    "\n",
    "pretrained_policies = dict()\n",
    "for learner_name in learner_names:\n",
    "    learner_path = os.path.join(result_dir, ablation_name, learner_name)\n",
    "    pretrained_policies[learner_name] = load_pretrained(learner_path, env)"
   ]
  },
  {
   "cell_type": "code",
   "execution_count": 5,
   "metadata": {},
   "outputs": [],
   "source": [
    "import chex\n",
    "import jax.numpy as jnp\n",
    "import optax\n",
    "\n",
    "from typing import Any, Dict, Callable, Tuple, Union, Sequence\n",
    "\n",
    "from jaxl.models.common import Model\n",
    "\n",
    "\n",
    "class PolicySelector(Policy):\n",
    "    def __init__(self, models: Sequence[Policy], policy_keys: Sequence[str], p_0: float = 0.5):\n",
    "        self.policy_keys = policy_keys\n",
    "        assert len(self.policy_keys) == 2\n",
    "        self.p_policy = jnp.array([p_0, 1 - p_0])\n",
    "\n",
    "        self.deterministic_action = self.make_deterministic_action(models)\n",
    "        self.reset = self.make_reset(models)\n",
    "\n",
    "    def make_deterministic_action(self, models: Sequence[Policy]) -> Callable:\n",
    "        def deterministic_action(\n",
    "            params: Union[optax.Params, Dict[str, Any]],\n",
    "            obs: chex.Array,\n",
    "            h_state: chex.Array,\n",
    "            **kwargs,\n",
    "        ) -> Tuple[chex.Array, chex.Array]:\n",
    "            obs_with_abs_state = jnp.concatenate((obs, jnp.array([[0]])), axis=-1)\n",
    "\n",
    "            acts = []\n",
    "            for policy_key in self.policy_keys:\n",
    "                curr_obs = obs\n",
    "                if models[policy_key][\"include_absorbing_state\"]:\n",
    "                    curr_obs = obs_with_abs_state\n",
    "\n",
    "                act, _ = models[policy_key][CONST_POLICY].deterministic_action(\n",
    "                    params[policy_key],\n",
    "                    curr_obs,\n",
    "                    h_state[0][policy_key],\n",
    "                    **kwargs\n",
    "                )\n",
    "                acts.append(act)\n",
    "            acts = np.array(acts)\n",
    "\n",
    "            return np.sum(acts * self.p_policy[:, None, None], axis=0), h_state\n",
    "\n",
    "        return deterministic_action\n",
    "\n",
    "    def make_reset(self, models: Sequence[Policy]) -> Callable[..., chex.Array]:\n",
    "        def _reset() -> chex.Array:\n",
    "            return {learner_name: models[learner_name][CONST_POLICY].reset() for learner_name in self.policy_keys}\n",
    "\n",
    "        return _reset"
   ]
  },
  {
   "cell_type": "code",
   "execution_count": 6,
   "metadata": {},
   "outputs": [],
   "source": [
    "total_episodes = 100\n",
    "eval_seed = 42\n",
    "render = False\n",
    "random = False"
   ]
  },
  {
   "cell_type": "code",
   "execution_count": 7,
   "metadata": {},
   "outputs": [],
   "source": [
    "policy_keys = list(pretrained_policies.keys())\n",
    "p_0s = np.arange(0.0, 1.05, 0.05)"
   ]
  },
  {
   "cell_type": "code",
   "execution_count": 8,
   "metadata": {},
   "outputs": [
    {
     "name": "stdout",
     "output_type": "stream",
     "text": [
      "['bc-100k_steps-06-04-24_09_57_35-e8bd5a54-9148-41a9-ace8-f33c5cfbab9f', 'bc-10k_steps-06-04-24_10_06_35-333b32a8-c019-4fed-9b8f-1ce59166bb2b']\n",
      "Loaded EGL 1.5 after reload.\n",
      "GL_VENDOR=NVIDIA Corporation\n",
      "GL_RENDERER=Quadro RTX 5000 with Max-Q Design/PCIe/SSE2\n",
      "GL_VERSION=3.3.0 NVIDIA 535.171.04\n",
      "GL_SHADING_LANGUAGE_VERSION=3.30 NVIDIA via Cg compiler\n",
      "Version = 3.3.0 NVIDIA 535.171.04\n",
      "Vendor = NVIDIA Corporation\n",
      "Renderer = Quadro RTX 5000 with Max-Q Design/PCIe/SSE2\n",
      "Destroy EGL OpenGL window.\n"
     ]
    },
    {
     "name": "stderr",
     "output_type": "stream",
     "text": [
      "EGL device choice: -1 of 4.\n",
      "2024-06-05 09:03:32.644851: W external/xla/xla/service/gpu/nvptx_compiler.cc:760] The NVIDIA driver's CUDA version is 12.2 which is older than the ptxas CUDA version (12.5.40). Because the driver is older than the ptxas version, XLA is disabling parallel compilation, which may slow down compilation. You should update your NVIDIA driver or use the NVIDIA-provided CUDA forward compatibility packages.\n",
      "100%|██████████| 100/100 [04:48<00:00,  2.89s/it]\n",
      "EGL device choice: -1 of 4.\n"
     ]
    },
    {
     "name": "stdout",
     "output_type": "stream",
     "text": [
      "Loaded EGL 1.5 after reload.\n",
      "GL_VENDOR=NVIDIA Corporation\n",
      "GL_RENDERER=Quadro RTX 5000 with Max-Q Design/PCIe/SSE2\n",
      "GL_VERSION=3.3.0 NVIDIA 535.171.04\n",
      "GL_SHADING_LANGUAGE_VERSION=3.30 NVIDIA via Cg compiler\n",
      "Version = 3.3.0 NVIDIA 535.171.04\n",
      "Vendor = NVIDIA Corporation\n",
      "Renderer = Quadro RTX 5000 with Max-Q Design/PCIe/SSE2\n",
      "Destroy EGL OpenGL window.\n"
     ]
    },
    {
     "name": "stderr",
     "output_type": "stream",
     "text": [
      "100%|██████████| 100/100 [04:39<00:00,  2.80s/it]\n",
      "EGL device choice: -1 of 4.\n"
     ]
    },
    {
     "name": "stdout",
     "output_type": "stream",
     "text": [
      "Loaded EGL 1.5 after reload.\n",
      "GL_VENDOR=NVIDIA Corporation\n",
      "GL_RENDERER=Quadro RTX 5000 with Max-Q Design/PCIe/SSE2\n",
      "GL_VERSION=3.3.0 NVIDIA 535.171.04\n",
      "GL_SHADING_LANGUAGE_VERSION=3.30 NVIDIA via Cg compiler\n",
      "Version = 3.3.0 NVIDIA 535.171.04\n",
      "Vendor = NVIDIA Corporation\n",
      "Renderer = Quadro RTX 5000 with Max-Q Design/PCIe/SSE2\n",
      "Destroy EGL OpenGL window.\n"
     ]
    },
    {
     "name": "stderr",
     "output_type": "stream",
     "text": [
      "100%|██████████| 100/100 [04:38<00:00,  2.79s/it]\n",
      "EGL device choice: -1 of 4.\n"
     ]
    },
    {
     "name": "stdout",
     "output_type": "stream",
     "text": [
      "Loaded EGL 1.5 after reload.\n",
      "GL_VENDOR=NVIDIA Corporation\n",
      "GL_RENDERER=Quadro RTX 5000 with Max-Q Design/PCIe/SSE2\n",
      "GL_VERSION=3.3.0 NVIDIA 535.171.04\n",
      "GL_SHADING_LANGUAGE_VERSION=3.30 NVIDIA via Cg compiler\n",
      "Version = 3.3.0 NVIDIA 535.171.04\n",
      "Vendor = NVIDIA Corporation\n",
      "Renderer = Quadro RTX 5000 with Max-Q Design/PCIe/SSE2\n",
      "Destroy EGL OpenGL window.\n"
     ]
    },
    {
     "name": "stderr",
     "output_type": "stream",
     "text": [
      "100%|██████████| 100/100 [04:15<00:00,  2.56s/it]\n",
      "EGL device choice: -1 of 4.\n"
     ]
    },
    {
     "name": "stdout",
     "output_type": "stream",
     "text": [
      "Loaded EGL 1.5 after reload.\n",
      "GL_VENDOR=NVIDIA Corporation\n",
      "GL_RENDERER=Quadro RTX 5000 with Max-Q Design/PCIe/SSE2\n",
      "GL_VERSION=3.3.0 NVIDIA 535.171.04\n",
      "GL_SHADING_LANGUAGE_VERSION=3.30 NVIDIA via Cg compiler\n",
      "Version = 3.3.0 NVIDIA 535.171.04\n",
      "Vendor = NVIDIA Corporation\n",
      "Renderer = Quadro RTX 5000 with Max-Q Design/PCIe/SSE2\n",
      "Destroy EGL OpenGL window.\n"
     ]
    },
    {
     "name": "stderr",
     "output_type": "stream",
     "text": [
      "100%|██████████| 100/100 [04:11<00:00,  2.52s/it]\n",
      "EGL device choice: -1 of 4.\n"
     ]
    },
    {
     "name": "stdout",
     "output_type": "stream",
     "text": [
      "Loaded EGL 1.5 after reload.\n",
      "GL_VENDOR=NVIDIA Corporation\n",
      "GL_RENDERER=Quadro RTX 5000 with Max-Q Design/PCIe/SSE2\n",
      "GL_VERSION=3.3.0 NVIDIA 535.171.04\n",
      "GL_SHADING_LANGUAGE_VERSION=3.30 NVIDIA via Cg compiler\n",
      "Version = 3.3.0 NVIDIA 535.171.04\n",
      "Vendor = NVIDIA Corporation\n",
      "Renderer = Quadro RTX 5000 with Max-Q Design/PCIe/SSE2\n",
      "Destroy EGL OpenGL window.\n"
     ]
    },
    {
     "name": "stderr",
     "output_type": "stream",
     "text": [
      "100%|██████████| 100/100 [04:15<00:00,  2.55s/it]\n",
      "EGL device choice: -1 of 4.\n"
     ]
    },
    {
     "name": "stdout",
     "output_type": "stream",
     "text": [
      "Loaded EGL 1.5 after reload.\n",
      "GL_VENDOR=NVIDIA Corporation\n",
      "GL_RENDERER=Quadro RTX 5000 with Max-Q Design/PCIe/SSE2\n",
      "GL_VERSION=3.3.0 NVIDIA 535.171.04\n",
      "GL_SHADING_LANGUAGE_VERSION=3.30 NVIDIA via Cg compiler\n",
      "Version = 3.3.0 NVIDIA 535.171.04\n",
      "Vendor = NVIDIA Corporation\n",
      "Renderer = Quadro RTX 5000 with Max-Q Design/PCIe/SSE2\n",
      "Destroy EGL OpenGL window.\n"
     ]
    },
    {
     "name": "stderr",
     "output_type": "stream",
     "text": [
      "100%|██████████| 100/100 [04:22<00:00,  2.63s/it]\n",
      "EGL device choice: -1 of 4.\n"
     ]
    },
    {
     "name": "stdout",
     "output_type": "stream",
     "text": [
      "Loaded EGL 1.5 after reload.\n",
      "GL_VENDOR=NVIDIA Corporation\n",
      "GL_RENDERER=Quadro RTX 5000 with Max-Q Design/PCIe/SSE2\n",
      "GL_VERSION=3.3.0 NVIDIA 535.171.04\n",
      "GL_SHADING_LANGUAGE_VERSION=3.30 NVIDIA via Cg compiler\n",
      "Version = 3.3.0 NVIDIA 535.171.04\n",
      "Vendor = NVIDIA Corporation\n",
      "Renderer = Quadro RTX 5000 with Max-Q Design/PCIe/SSE2\n",
      "Destroy EGL OpenGL window.\n"
     ]
    },
    {
     "name": "stderr",
     "output_type": "stream",
     "text": [
      "100%|██████████| 100/100 [04:19<00:00,  2.60s/it]\n",
      "EGL device choice: -1 of 4.\n"
     ]
    },
    {
     "name": "stdout",
     "output_type": "stream",
     "text": [
      "Loaded EGL 1.5 after reload.\n",
      "GL_VENDOR=NVIDIA Corporation\n",
      "GL_RENDERER=Quadro RTX 5000 with Max-Q Design/PCIe/SSE2\n",
      "GL_VERSION=3.3.0 NVIDIA 535.171.04\n",
      "GL_SHADING_LANGUAGE_VERSION=3.30 NVIDIA via Cg compiler\n",
      "Version = 3.3.0 NVIDIA 535.171.04\n",
      "Vendor = NVIDIA Corporation\n",
      "Renderer = Quadro RTX 5000 with Max-Q Design/PCIe/SSE2\n",
      "Destroy EGL OpenGL window.\n"
     ]
    },
    {
     "name": "stderr",
     "output_type": "stream",
     "text": [
      "100%|██████████| 100/100 [04:01<00:00,  2.41s/it]\n",
      "EGL device choice: -1 of 4.\n"
     ]
    },
    {
     "name": "stdout",
     "output_type": "stream",
     "text": [
      "Loaded EGL 1.5 after reload.\n",
      "GL_VENDOR=NVIDIA Corporation\n",
      "GL_RENDERER=Quadro RTX 5000 with Max-Q Design/PCIe/SSE2\n",
      "GL_VERSION=3.3.0 NVIDIA 535.171.04\n",
      "GL_SHADING_LANGUAGE_VERSION=3.30 NVIDIA via Cg compiler\n",
      "Version = 3.3.0 NVIDIA 535.171.04\n",
      "Vendor = NVIDIA Corporation\n",
      "Renderer = Quadro RTX 5000 with Max-Q Design/PCIe/SSE2\n",
      "Destroy EGL OpenGL window.\n"
     ]
    },
    {
     "name": "stderr",
     "output_type": "stream",
     "text": [
      "100%|██████████| 100/100 [04:00<00:00,  2.40s/it]\n",
      "EGL device choice: -1 of 4.\n"
     ]
    },
    {
     "name": "stdout",
     "output_type": "stream",
     "text": [
      "Loaded EGL 1.5 after reload.\n",
      "GL_VENDOR=NVIDIA Corporation\n",
      "GL_RENDERER=Quadro RTX 5000 with Max-Q Design/PCIe/SSE2\n",
      "GL_VERSION=3.3.0 NVIDIA 535.171.04\n",
      "GL_SHADING_LANGUAGE_VERSION=3.30 NVIDIA via Cg compiler\n",
      "Version = 3.3.0 NVIDIA 535.171.04\n",
      "Vendor = NVIDIA Corporation\n",
      "Renderer = Quadro RTX 5000 with Max-Q Design/PCIe/SSE2\n",
      "Destroy EGL OpenGL window.\n"
     ]
    },
    {
     "name": "stderr",
     "output_type": "stream",
     "text": [
      "100%|██████████| 100/100 [03:51<00:00,  2.32s/it]\n",
      "EGL device choice: -1 of 4.\n"
     ]
    },
    {
     "name": "stdout",
     "output_type": "stream",
     "text": [
      "Loaded EGL 1.5 after reload.\n",
      "GL_VENDOR=NVIDIA Corporation\n",
      "GL_RENDERER=Quadro RTX 5000 with Max-Q Design/PCIe/SSE2\n",
      "GL_VERSION=3.3.0 NVIDIA 535.171.04\n",
      "GL_SHADING_LANGUAGE_VERSION=3.30 NVIDIA via Cg compiler\n",
      "Version = 3.3.0 NVIDIA 535.171.04\n",
      "Vendor = NVIDIA Corporation\n",
      "Renderer = Quadro RTX 5000 with Max-Q Design/PCIe/SSE2\n",
      "Destroy EGL OpenGL window.\n"
     ]
    },
    {
     "name": "stderr",
     "output_type": "stream",
     "text": [
      "100%|██████████| 100/100 [03:53<00:00,  2.33s/it]\n",
      "EGL device choice: -1 of 4.\n"
     ]
    },
    {
     "name": "stdout",
     "output_type": "stream",
     "text": [
      "Loaded EGL 1.5 after reload.\n",
      "GL_VENDOR=NVIDIA Corporation\n",
      "GL_RENDERER=Quadro RTX 5000 with Max-Q Design/PCIe/SSE2\n",
      "GL_VERSION=3.3.0 NVIDIA 535.171.04\n",
      "GL_SHADING_LANGUAGE_VERSION=3.30 NVIDIA via Cg compiler\n",
      "Version = 3.3.0 NVIDIA 535.171.04\n",
      "Vendor = NVIDIA Corporation\n",
      "Renderer = Quadro RTX 5000 with Max-Q Design/PCIe/SSE2\n",
      "Destroy EGL OpenGL window.\n"
     ]
    },
    {
     "name": "stderr",
     "output_type": "stream",
     "text": [
      "100%|██████████| 100/100 [03:51<00:00,  2.31s/it]\n",
      "EGL device choice: -1 of 4.\n"
     ]
    },
    {
     "name": "stdout",
     "output_type": "stream",
     "text": [
      "Loaded EGL 1.5 after reload.\n",
      "GL_VENDOR=NVIDIA Corporation\n",
      "GL_RENDERER=Quadro RTX 5000 with Max-Q Design/PCIe/SSE2\n",
      "GL_VERSION=3.3.0 NVIDIA 535.171.04\n",
      "GL_SHADING_LANGUAGE_VERSION=3.30 NVIDIA via Cg compiler\n",
      "Version = 3.3.0 NVIDIA 535.171.04\n",
      "Vendor = NVIDIA Corporation\n",
      "Renderer = Quadro RTX 5000 with Max-Q Design/PCIe/SSE2\n",
      "Destroy EGL OpenGL window.\n"
     ]
    },
    {
     "name": "stderr",
     "output_type": "stream",
     "text": [
      "100%|██████████| 100/100 [03:51<00:00,  2.32s/it]\n",
      "EGL device choice: -1 of 4.\n"
     ]
    },
    {
     "name": "stdout",
     "output_type": "stream",
     "text": [
      "Loaded EGL 1.5 after reload.\n",
      "GL_VENDOR=NVIDIA Corporation\n",
      "GL_RENDERER=Quadro RTX 5000 with Max-Q Design/PCIe/SSE2\n",
      "GL_VERSION=3.3.0 NVIDIA 535.171.04\n",
      "GL_SHADING_LANGUAGE_VERSION=3.30 NVIDIA via Cg compiler\n",
      "Version = 3.3.0 NVIDIA 535.171.04\n",
      "Vendor = NVIDIA Corporation\n",
      "Renderer = Quadro RTX 5000 with Max-Q Design/PCIe/SSE2\n",
      "Destroy EGL OpenGL window.\n"
     ]
    },
    {
     "name": "stderr",
     "output_type": "stream",
     "text": [
      "100%|██████████| 100/100 [05:02<00:00,  3.02s/it]\n",
      "EGL device choice: -1 of 4.\n"
     ]
    },
    {
     "name": "stdout",
     "output_type": "stream",
     "text": [
      "Loaded EGL 1.5 after reload.\n",
      "GL_VENDOR=NVIDIA Corporation\n",
      "GL_RENDERER=Quadro RTX 5000 with Max-Q Design/PCIe/SSE2\n",
      "GL_VERSION=3.3.0 NVIDIA 535.171.04\n",
      "GL_SHADING_LANGUAGE_VERSION=3.30 NVIDIA via Cg compiler\n",
      "Version = 3.3.0 NVIDIA 535.171.04\n",
      "Vendor = NVIDIA Corporation\n",
      "Renderer = Quadro RTX 5000 with Max-Q Design/PCIe/SSE2\n",
      "Destroy EGL OpenGL window.\n"
     ]
    },
    {
     "name": "stderr",
     "output_type": "stream",
     "text": [
      "100%|██████████| 100/100 [05:12<00:00,  3.13s/it]\n",
      "EGL device choice: -1 of 4.\n"
     ]
    },
    {
     "name": "stdout",
     "output_type": "stream",
     "text": [
      "Loaded EGL 1.5 after reload.\n",
      "GL_VENDOR=NVIDIA Corporation\n",
      "GL_RENDERER=Quadro RTX 5000 with Max-Q Design/PCIe/SSE2\n",
      "GL_VERSION=3.3.0 NVIDIA 535.171.04\n",
      "GL_SHADING_LANGUAGE_VERSION=3.30 NVIDIA via Cg compiler\n",
      "Version = 3.3.0 NVIDIA 535.171.04\n",
      "Vendor = NVIDIA Corporation\n",
      "Renderer = Quadro RTX 5000 with Max-Q Design/PCIe/SSE2\n",
      "Destroy EGL OpenGL window.\n"
     ]
    },
    {
     "name": "stderr",
     "output_type": "stream",
     "text": [
      "100%|██████████| 100/100 [05:08<00:00,  3.09s/it]\n",
      "EGL device choice: -1 of 4.\n"
     ]
    },
    {
     "name": "stdout",
     "output_type": "stream",
     "text": [
      "Loaded EGL 1.5 after reload.\n",
      "GL_VENDOR=NVIDIA Corporation\n",
      "GL_RENDERER=Quadro RTX 5000 with Max-Q Design/PCIe/SSE2\n",
      "GL_VERSION=3.3.0 NVIDIA 535.171.04\n",
      "GL_SHADING_LANGUAGE_VERSION=3.30 NVIDIA via Cg compiler\n",
      "Version = 3.3.0 NVIDIA 535.171.04\n",
      "Vendor = NVIDIA Corporation\n",
      "Renderer = Quadro RTX 5000 with Max-Q Design/PCIe/SSE2\n",
      "Destroy EGL OpenGL window.\n"
     ]
    },
    {
     "name": "stderr",
     "output_type": "stream",
     "text": [
      "100%|██████████| 100/100 [05:09<00:00,  3.09s/it]\n",
      "EGL device choice: -1 of 4.\n"
     ]
    },
    {
     "name": "stdout",
     "output_type": "stream",
     "text": [
      "Loaded EGL 1.5 after reload.\n",
      "GL_VENDOR=NVIDIA Corporation\n",
      "GL_RENDERER=Quadro RTX 5000 with Max-Q Design/PCIe/SSE2\n",
      "GL_VERSION=3.3.0 NVIDIA 535.171.04\n",
      "GL_SHADING_LANGUAGE_VERSION=3.30 NVIDIA via Cg compiler\n",
      "Version = 3.3.0 NVIDIA 535.171.04\n",
      "Vendor = NVIDIA Corporation\n",
      "Renderer = Quadro RTX 5000 with Max-Q Design/PCIe/SSE2\n",
      "Destroy EGL OpenGL window.\n"
     ]
    },
    {
     "name": "stderr",
     "output_type": "stream",
     "text": [
      "100%|██████████| 100/100 [05:15<00:00,  3.15s/it]\n",
      "EGL device choice: -1 of 4.\n"
     ]
    },
    {
     "name": "stdout",
     "output_type": "stream",
     "text": [
      "Loaded EGL 1.5 after reload.\n",
      "GL_VENDOR=NVIDIA Corporation\n",
      "GL_RENDERER=Quadro RTX 5000 with Max-Q Design/PCIe/SSE2\n",
      "GL_VERSION=3.3.0 NVIDIA 535.171.04\n",
      "GL_SHADING_LANGUAGE_VERSION=3.30 NVIDIA via Cg compiler\n",
      "Version = 3.3.0 NVIDIA 535.171.04\n",
      "Vendor = NVIDIA Corporation\n",
      "Renderer = Quadro RTX 5000 with Max-Q Design/PCIe/SSE2\n",
      "Destroy EGL OpenGL window.\n"
     ]
    },
    {
     "name": "stderr",
     "output_type": "stream",
     "text": [
      "100%|██████████| 100/100 [05:09<00:00,  3.10s/it]\n",
      "EGL device choice: -1 of 4.\n"
     ]
    },
    {
     "name": "stdout",
     "output_type": "stream",
     "text": [
      "Loaded EGL 1.5 after reload.\n",
      "GL_VENDOR=NVIDIA Corporation\n",
      "GL_RENDERER=Quadro RTX 5000 with Max-Q Design/PCIe/SSE2\n",
      "GL_VERSION=3.3.0 NVIDIA 535.171.04\n",
      "GL_SHADING_LANGUAGE_VERSION=3.30 NVIDIA via Cg compiler\n",
      "Version = 3.3.0 NVIDIA 535.171.04\n",
      "Vendor = NVIDIA Corporation\n",
      "Renderer = Quadro RTX 5000 with Max-Q Design/PCIe/SSE2\n",
      "Destroy EGL OpenGL window.\n"
     ]
    },
    {
     "name": "stderr",
     "output_type": "stream",
     "text": [
      "100%|██████████| 100/100 [05:01<00:00,  3.01s/it]\n"
     ]
    }
   ],
   "source": [
    "print(policy_keys)\n",
    "\n",
    "results = []\n",
    "for p_0 in p_0s:\n",
    "    env = get_environment(parse_dict(env_config))\n",
    "    rollout = EvaluationRollout(env, eval_seed)\n",
    "    policy = PolicySelector(pretrained_policies, policy_keys, p_0)\n",
    "    rollout.rollout(\n",
    "        {learner_name: pretrained_policy[CONST_PARAMS] for learner_name, pretrained_policy in pretrained_policies.items()},\n",
    "        policy,\n",
    "        False,\n",
    "        total_episodes,\n",
    "        random=random,\n",
    "        render=render,\n",
    "        include_absorbing_state=False,\n",
    "    )\n",
    "    results.append((p_0, np.mean(rollout.episodic_returns), np.std(rollout.episodic_returns)))\n"
   ]
  },
  {
   "cell_type": "code",
   "execution_count": 9,
   "metadata": {},
   "outputs": [
    {
     "name": "stdout",
     "output_type": "stream",
     "text": [
      "p_0: 0.0 - avg return: 176.0 +/- 149.26144847213564\n",
      "p_0: 0.05 - avg return: 197.08 +/- 146.65917496017767\n",
      "p_0: 0.1 - avg return: 209.1 +/- 142.6280827887692\n",
      "p_0: 0.15000000000000002 - avg return: 219.75 +/- 140.37595057558826\n",
      "p_0: 0.2 - avg return: 220.34 +/- 142.13178532615427\n",
      "p_0: 0.25 - avg return: 235.68 +/- 136.31330676056538\n",
      "p_0: 0.30000000000000004 - avg return: 230.03 +/- 137.89782123006876\n",
      "p_0: 0.35000000000000003 - avg return: 251.33 +/- 126.60490156388101\n",
      "p_0: 0.4 - avg return: 243.98 +/- 131.79165223943434\n",
      "p_0: 0.45 - avg return: 242.44 +/- 131.40527538877578\n",
      "p_0: 0.5 - avg return: 254.06 +/- 123.59043814146789\n",
      "p_0: 0.55 - avg return: 268.28 +/- 113.03062239941883\n",
      "p_0: 0.6000000000000001 - avg return: 271.28 +/- 109.88913322071478\n",
      "p_0: 0.65 - avg return: 252.94 +/- 125.41051152116395\n",
      "p_0: 0.7000000000000001 - avg return: 250.46 +/- 125.8141025481643\n",
      "p_0: 0.75 - avg return: 274.9 +/- 106.59038418168875\n",
      "p_0: 0.8 - avg return: 249.95 +/- 128.47057055995356\n",
      "p_0: 0.8500000000000001 - avg return: 259.03 +/- 121.73803473031755\n",
      "p_0: 0.9 - avg return: 270.11 +/- 109.97380551749585\n",
      "p_0: 0.9500000000000001 - avg return: 258.36 +/- 121.52444363172373\n",
      "p_0: 1.0 - avg return: 265.53 +/- 115.9508046543878\n"
     ]
    }
   ],
   "source": [
    "for (p_0, mean_ret, std_ret) in results:\n",
    "    print(\"p_0: {} - avg return: {} +/- {}\".format(\n",
    "        p_0,\n",
    "        mean_ret,\n",
    "        std_ret\n",
    "    ))"
   ]
  },
  {
   "cell_type": "code",
   "execution_count": 10,
   "metadata": {},
   "outputs": [],
   "source": [
    "import matplotlib.pyplot as plt\n",
    "import seaborn as sns\n",
    "sns.set_style(\"darkgrid\")\n",
    "sns.set_palette(\"colorblind\")"
   ]
  },
  {
   "cell_type": "code",
   "execution_count": 11,
   "metadata": {},
   "outputs": [
    {
     "data": {
      "image/png": "[encoded data removed]",
      "text/plain": [
       "<Figure size 640x480 with 1 Axes>"
      ]
     },
     "metadata": {},
     "output_type": "display_data"
    }
   ],
   "source": [
    "results = np.array(results)\n",
    "\n",
    "plt.plot(results[:, 0], results[:, 1])\n",
    "plt.fill_between(results[:, 0], results[:, 1] + results[:, 2], results[:, 1] - results[:, 2], alpha=0.3)\n",
    "plt.xlabel(\"$\\lambda$\")\n",
    "plt.ylabel(\"Average return\")\n",
    "plt.savefig(\"/home/bryan/research/opex_rl/paper/figures/convex_comb_policies.pdf\", format=\"pdf\", dpi=400)"
   ]
  },
  {
   "cell_type": "markdown",
   "metadata": {},
   "source": [
    "10k: (203.98, 147.88853775732588)  \n",
    "100k: (253.7, 127.34115595517422)  \n",
    "1M: (215.96, 148.52123888521803)"
   ]
  },
  {
   "cell_type": "markdown",
   "metadata": {},
   "source": [
    "```\n",
    "['bc-100k_steps-06-04-24_09_57_35-e8bd5a54-9148-41a9-ace8-f33c5cfbab9f', 'bc-10k_steps-06-04-24_10_06_35-333b32a8-c019-4fed-9b8f-1ce59166bb2b']\n",
    "2024-06-04 15:40:00.978062: W external/xla/xla/service/gpu/nvptx_compiler.cc:760] The NVIDIA driver's CUDA version is 12.2 which is older than the ptxas CUDA version (12.5.40). Because the driver is older than the ptxas version, XLA is disabling parallel compilation, which may slow down compilation. You should update your NVIDIA driver or use the NVIDIA-provided CUDA forward compatibility packages.\n",
    "  0%|          | 0/50 [00:00<?, ?it/s]\n",
    "ven = NVIDIA Corporation\n",
    "ven = NVIDIA Corporation\n",
    "100%|██████████| 50/50 [08:10<00:00,  9.81s/it]\n",
    "p_0: 0.0 - avg return: 186.36 +/- 147.89804055497152\n",
    "100%|██████████| 50/50 [09:46<00:00, 11.72s/it]\n",
    "p_0: 0.1 - avg return: 228.94 +/- 133.00066315624144\n",
    "100%|██████████| 50/50 [11:38<00:00, 13.97s/it]\n",
    "p_0: 0.2 - avg return: 234.7 +/- 134.43812703247542\n",
    " 76%|███████▌  | 38/50 [09:40<03:37, 18.15s/it]\n",
    " ```"
   ]
  },
  {
   "cell_type": "markdown",
   "metadata": {},
   "source": []
  }
 ],
 "metadata": {
  "kernelspec": {
   "display_name": ".venv",
   "language": "python",
   "name": "python3"
  },
  "language_info": {
   "codemirror_mode": {
    "name": "ipython",
    "version": 3
   },
   "file_extension": ".py",
   "mimetype": "text/x-python",
   "name": "python",
   "nbconvert_exporter": "python",
   "pygments_lexer": "ipython3",
   "version": "3.10.12"
  }
 },
 "nbformat": 4,
 "nbformat_minor": 2
}
