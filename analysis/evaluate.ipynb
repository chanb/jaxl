{
 "cells": [
  {
   "cell_type": "code",
   "execution_count": null,
   "metadata": {},
   "outputs": [],
   "source": [
    "import jax.random as jrandom\n",
    "import numpy as np\n",
    "import os\n",
    "\n",
    "from tqdm.notebook import tqdm\n",
    "\n",
    "from jaxl.constants import *\n",
    "from jaxl.models.utils import get_model, load_config, load_params, get_wsrl_model, iterate_params, get_policy, policy_output_dim\n",
    "from jaxl.envs import get_environment\n",
    "from jaxl.envs.rollouts import EvaluationRollout\n",
    "from jaxl.utils import get_device, parse_dict\n",
    "\n",
    "# get_device(\"gpu:0\")\n",
    "get_device(\"cpu\")"
   ]
  },
  {
   "cell_type": "code",
   "execution_count": null,
   "metadata": {},
   "outputs": [],
   "source": [
    "result_dir = \"/home/bryan/research/jaxl/logs/manipulator_learning\"\n",
    "\n",
    "ablation_name = \"stack\"\n",
    "learner_name = \"cross_q-sac-06-03-24_16_53_41-9dd96b95-aefd-44fd-8894-4854c9c08abf\"\n",
    "learner_name = \"bc-06-04-24_09_43_02-a09b01c4-e33d-4e88-9eda-d7d36a68cdb8\"\n",
    "# learner_name = \"bc-100k_steps-06-04-24_09_57_35-e8bd5a54-9148-41a9-ace8-f33c5cfbab9f\"\n",
    "# learner_name = \"bc-10k_steps-06-04-24_10_06_35-333b32a8-c019-4fed-9b8f-1ce59166bb2b\"\n",
    "# learner_name = \"warm_start_reinforce-06-04-24_13_28_32-b356a022-d53a-4b11-9726-ccfe4dca0777\"\n",
    "learner_name = \"rlpd-sac-06-05-24_16_15_56-c5ad96da-4ac4-466b-a221-74cfea71bd19\"\n",
    "\n",
    "learner_path = os.path.join(result_dir, ablation_name, learner_name)"
   ]
  },
  {
   "cell_type": "code",
   "execution_count": null,
   "metadata": {},
   "outputs": [],
   "source": [
    "_, config = load_config(learner_path)\n",
    "config"
   ]
  },
  {
   "cell_type": "code",
   "execution_count": null,
   "metadata": {},
   "outputs": [],
   "source": [
    "env_config = {\n",
    "    \"env_type\": \"manipulator_learning\",\n",
    "    \"env_name\": \"PandaPlayInsertTrayXYZState\",\n",
    "    \"env_kwargs\": {\n",
    "        \"main_task\": \"stack\",\n",
    "        \"dense_reward\": False\n",
    "    }\n",
    "}\n",
    "env = get_environment(parse_dict(env_config))"
   ]
  },
  {
   "cell_type": "code",
   "execution_count": null,
   "metadata": {},
   "outputs": [],
   "source": [
    "model_out_dim = policy_output_dim(env.act_dim, config.learner_config)\n",
    "\n",
    "if config.learner_config.learner == CONST_BC:\n",
    "    model = get_model(\n",
    "        int(np.prod(env.observation_space.shape)) + 1,\n",
    "        env.act_dim,\n",
    "        config.model_config\n",
    "    )\n",
    "    include_absorbing_state = True\n",
    "elif config.learner_config.task == CONST_WSRL:\n",
    "    model = get_wsrl_model(\n",
    "        env.observation_space.shape,\n",
    "        model_out_dim,\n",
    "        config.model_config.policy\n",
    "    )\n",
    "    include_absorbing_state = True\n",
    "else:\n",
    "    model = get_model(\n",
    "        env.observation_space.shape,\n",
    "        model_out_dim,\n",
    "        config.model_config.policy\n",
    "    )\n",
    "    include_absorbing_state = False\n",
    "params = load_params(f\"{learner_path}:latest\")\n",
    "\n",
    "policy = get_policy(model, config.learner_config)"
   ]
  },
  {
   "cell_type": "code",
   "execution_count": null,
   "metadata": {},
   "outputs": [],
   "source": [
    "total_episodes = 50\n",
    "eval_seed = 42\n",
    "render = True\n",
    "random = True"
   ]
  },
  {
   "cell_type": "code",
   "execution_count": null,
   "metadata": {},
   "outputs": [],
   "source": [
    "rollout = EvaluationRollout(env, eval_seed)"
   ]
  },
  {
   "cell_type": "code",
   "execution_count": 8,
   "metadata": {},
   "outputs": [],
   "source": [
    "rollout.rollout(\n",
    "    params[CONST_MODEL_DICT][CONST_MODEL][CONST_POLICY],\n",
    "    policy,\n",
    "    False,\n",
    "    total_episodes,\n",
    "    random=random,\n",
    "    render=render,\n",
    "    include_absorbing_state=include_absorbing_state,\n",
    ")"
   ]
  },
  {
   "cell_type": "code",
   "execution_count": null,
   "metadata": {},
   "outputs": [],
   "source": [
    "np.mean(rollout.episodic_returns), np.std(rollout.episodic_returns)"
   ]
  },
  {
   "cell_type": "markdown",
   "metadata": {},
   "source": [
    "10k: (203.98, 147.88853775732588)  \n",
    "100k: (253.7, 127.34115595517422)  \n",
    "1M: (215.96, 148.52123888521803)"
   ]
  },
  {
   "cell_type": "markdown",
   "metadata": {},
   "source": []
  },
  {
   "cell_type": "markdown",
   "metadata": {},
   "source": []
  }
 ],
 "metadata": {
  "kernelspec": {
   "display_name": ".venv",
   "language": "python",
   "name": "python3"
  },
  "language_info": {
   "codemirror_mode": {
    "name": "ipython",
    "version": 3
   },
   "file_extension": ".py",
   "mimetype": "text/x-python",
   "name": "python",
   "nbconvert_exporter": "python",
   "pygments_lexer": "ipython3",
   "version": "3.10.12"
  }
 },
 "nbformat": 4,
 "nbformat_minor": 2
}
